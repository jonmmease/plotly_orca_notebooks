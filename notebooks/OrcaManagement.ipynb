{
 "cells": [
  {
   "cell_type": "markdown",
   "metadata": {},
   "source": [
    "# Orca Management\n",
    "This section covers the lower-level details of how plotly.py uses orca to perform static image generation. Please refer to the [Static Image Generation](StaticImageGeneration.ipynb) section for general information on creating static images of plotly.py figures.\n",
    "\n",
    "# What is orca?\n",
    "Orca is an [Electron](https://electronjs.org/) application that inputs plotly figure specifications and converts them into static images.  Orca can run as a command-line utility or as a long-running server process. In order to provide the fastest possible image export experience, plotly.py launches orca in server mode, and communicates with it over a local port.\n",
    "\n",
    "By default, plotly.py launches the orca server process the fist time an image export operation is performed, and then leaves it running until the main Python process exits. Because of this, the first image export operation in an interactive session will typically take a couple of seconds, but then all subsequent export operations will be significantly faster, since the server is already running."
   ]
  },
  {
   "cell_type": "markdown",
   "metadata": {},
   "source": [
    "## Create sample figure\n",
    "Now let's create a simple scatter plot with 100 random points of variying color and size."
   ]
  },
  {
   "cell_type": "code",
   "execution_count": 1,
   "metadata": {},
   "outputs": [
    {
     "data": {
      "application/vnd.jupyter.widget-view+json": {
       "model_id": "66805d7f4f48478389af7444a3dc2aa7",
       "version_major": 2,
       "version_minor": 0
      },
      "text/plain": [
       "FigureWidget({\n",
       "    'data': [{'marker': {'color': array([0.03154816, 0.86113594, 0.11896052, 0.92585158, 0.1720…"
      ]
     },
     "metadata": {},
     "output_type": "display_data"
    }
   ],
   "source": [
    "import plotly.graph_objs as go\n",
    "import plotly.io as pio\n",
    "import os\n",
    "import numpy as np\n",
    "\n",
    "N = 100\n",
    "x = np.random.rand(N)\n",
    "y = np.random.rand(N)\n",
    "colors = np.random.rand(N)\n",
    "sz = np.random.rand(N)*30\n",
    "\n",
    "fig = go.FigureWidget()\n",
    "fig.add_scatter(x=x,\n",
    "                y=y,\n",
    "                mode='markers',\n",
    "                marker={'size': sz,\n",
    "                        'color': colors,\n",
    "                        'opacity': 0.6,\n",
    "                        'colorscale': 'Viridis'\n",
    "                       });\n",
    "fig"
   ]
  },
  {
   "cell_type": "markdown",
   "metadata": {},
   "source": [
    "### config\n",
    "You can use the `plotly.io.orca.config` object to view the current orca configuration settings."
   ]
  },
  {
   "cell_type": "code",
   "execution_count": 2,
   "metadata": {},
   "outputs": [
    {
     "data": {
      "text/plain": [
       "orca configuration\n",
       "------------------\n",
       "    executable: orca\n",
       "    port: None\n",
       "    timeout: None\n",
       "    default_width: None\n",
       "    default_height: None\n",
       "    default_scale: 1\n",
       "    default_format: png\n",
       "    mathjax: https://cdnjs.cloudflare.com/ajax/libs/mathjax/2.7.5/MathJax.js\n",
       "    topojson: None\n",
       "    mapbox_access_token: None\n",
       "\n",
       "constants\n",
       "---------\n",
       "    plotlyjs: /anaconda3/envs/plotly_conda37/lib/python3.7/site-packages/plotly/package_data/plotly.min.js \n",
       "    config_file: /Users/jmmease/.plotly/.orca\n"
      ]
     },
     "execution_count": 2,
     "metadata": {},
     "output_type": "execute_result"
    }
   ],
   "source": [
    "pio.orca.config"
   ]
  },
  {
   "cell_type": "markdown",
   "metadata": {},
   "source": [
    "### status\n",
    "You can use the `plotly.io.orca.status` object to see the current status of the orca server"
   ]
  },
  {
   "cell_type": "code",
   "execution_count": 3,
   "metadata": {},
   "outputs": [
    {
     "data": {
      "text/plain": [
       "orca status\n",
       "-----------\n",
       "    state: unvalidated\n",
       "    executable: None\n",
       "    version: None\n",
       "    port: None\n",
       "    pid: None\n",
       "    command: None\n",
       "    "
      ]
     },
     "execution_count": 3,
     "metadata": {},
     "output_type": "execute_result"
    }
   ],
   "source": [
    "pio.orca.status"
   ]
  },
  {
   "cell_type": "markdown",
   "metadata": {},
   "source": [
    "Since no image export operations have been performed yet, the orca server is not yet running.\n",
    "\n",
    "Let's export this figure as an SVG image, and record the runtime."
   ]
  },
  {
   "cell_type": "code",
   "execution_count": 4,
   "metadata": {},
   "outputs": [
    {
     "data": {
      "image/svg+xml": [
       "<svg class=\"main-svg\" height=\"500\" viewBox=\"0 0 700 500\" width=\"700\" xmlns=\"http://www.w3.org/2000/svg\" xmlns:xlink=\"http://www.w3.org/1999/xlink\"><rect height=\"500\" style=\"fill: rgb(255, 255, 255); fill-opacity: 1;\" width=\"700\" x=\"0\" y=\"0\"/><defs id=\"defs-d02049\"><g class=\"clips\"><clipPath class=\"plotclip\" id=\"clipd02049xyplot\"><rect height=\"320\" width=\"540\"/></clipPath><clipPath class=\"axesclip\" id=\"clipd02049x\"><rect height=\"500\" width=\"540\" x=\"80\" y=\"0\"/></clipPath><clipPath class=\"axesclip\" id=\"clipd02049y\"><rect height=\"320\" width=\"700\" x=\"0\" y=\"100\"/></clipPath><clipPath class=\"axesclip\" id=\"clipd02049xy\"><rect height=\"320\" width=\"540\" x=\"80\" y=\"100\"/></clipPath></g><g class=\"gradients\"/></defs><g class=\"bglayer\"><rect class=\"bg\" height=\"320\" style=\"fill: rgb(255, 255, 255); fill-opacity: 1; stroke-width: 0;\" width=\"540\" x=\"80\" y=\"100\"/></g><g class=\"layer-below\"><g class=\"imagelayer\"/><g class=\"shapelayer\"/></g><g class=\"cartesianlayer\"><g class=\"subplot xy\"><g class=\"layer-subplot\"><g class=\"shapelayer\"/><g class=\"imagelayer\"/></g><g class=\"gridlayer\"><g class=\"x\"><path class=\"xgrid crisp\" d=\"M0,100v320\" style=\"stroke: rgb(238, 238, 238); stroke-opacity: 1; stroke-width: 1px;\" transform=\"translate(204.13,0)\"/><path class=\"xgrid crisp\" d=\"M0,100v320\" style=\"stroke: rgb(238, 238, 238); stroke-opacity: 1; stroke-width: 1px;\" transform=\"translate(300.59000000000003,0)\"/><path class=\"xgrid crisp\" d=\"M0,100v320\" style=\"stroke: rgb(238, 238, 238); stroke-opacity: 1; stroke-width: 1px;\" transform=\"translate(397.05,0)\"/><path class=\"xgrid crisp\" d=\"M0,100v320\" style=\"stroke: rgb(238, 238, 238); stroke-opacity: 1; stroke-width: 1px;\" transform=\"translate(493.5,0)\"/><path class=\"xgrid crisp\" d=\"M0,100v320\" style=\"stroke: rgb(238, 238, 238); stroke-opacity: 1; stroke-width: 1px;\" transform=\"translate(589.96,0)\"/></g><g class=\"y\"><path class=\"ygrid crisp\" d=\"M80,0h540\" style=\"stroke: rgb(238, 238, 238); stroke-opacity: 1; stroke-width: 1px;\" transform=\"translate(0,337.8)\"/><path class=\"ygrid crisp\" d=\"M80,0h540\" style=\"stroke: rgb(238, 238, 238); stroke-opacity: 1; stroke-width: 1px;\" transform=\"translate(0,286.78999999999996)\"/><path class=\"ygrid crisp\" d=\"M80,0h540\" style=\"stroke: rgb(238, 238, 238); stroke-opacity: 1; stroke-width: 1px;\" transform=\"translate(0,235.77)\"/><path class=\"ygrid crisp\" d=\"M80,0h540\" style=\"stroke: rgb(238, 238, 238); stroke-opacity: 1; stroke-width: 1px;\" transform=\"translate(0,184.76)\"/><path class=\"ygrid crisp\" d=\"M80,0h540\" style=\"stroke: rgb(238, 238, 238); stroke-opacity: 1; stroke-width: 1px;\" transform=\"translate(0,133.75)\"/></g></g><g class=\"zerolinelayer\"><path class=\"xzl zl crisp\" d=\"M0,100v320\" style=\"stroke: rgb(68, 68, 68); stroke-opacity: 1; stroke-width: 1px;\" transform=\"translate(107.67,0)\"/><path class=\"yzl zl crisp\" d=\"M80,0h540\" style=\"stroke: rgb(68, 68, 68); stroke-opacity: 1; stroke-width: 1px;\" transform=\"translate(0,388.81)\"/></g><path class=\"xlines-below\"/><path class=\"ylines-below\"/><g class=\"overlines-below\"/><g class=\"xaxislayer-below\"/><g class=\"yaxislayer-below\"/><g class=\"overaxes-below\"/><g class=\"plot\" clip-path=\"url(#clipd02049xyplot)\" transform=\"translate(80, 100)\"><g class=\"scatterlayer mlayer\"><g class=\"trace scatter trace1e811ca0-b07c-11e8-aa17-645aede86e5b\" style=\"stroke-miterlimit: 2; opacity: 1;\"><g class=\"points\"><path class=\"point\" d=\"M12.31,0A12.31,12.31 0 1,1 0,-12.31A12.31,12.31 0 0,1 12.31,0Z\" style=\"opacity: 0.6; stroke-width: 1px; fill: rgb(70, 12, 94); fill-opacity: 1; stroke: rgb(255, 255, 255); stroke-opacity: 1;\" transform=\"translate(260.44,194.83)\"/><path class=\"point\" d=\"M12.03,0A12.03,12.03 0 1,1 0,-12.03A12.03,12.03 0 0,1 12.03,0Z\" style=\"opacity: 0.6; stroke-width: 1px; fill: rgb(163, 218, 55); fill-opacity: 1; stroke: rgb(255, 255, 255); stroke-opacity: 1;\" transform=\"translate(87.31,160.76)\"/><path class=\"point\" d=\"M9.77,0A9.77,9.77 0 1,1 0,-9.77A9.77,9.77 0 0,1 9.77,0Z\" style=\"opacity: 0.6; stroke-width: 1px; fill: rgb(71, 42, 121); fill-opacity: 1; stroke: rgb(255, 255, 255); stroke-opacity: 1;\" transform=\"translate(39.21,42.04)\"/><path class=\"point\" d=\"M6.98,0A6.98,6.98 0 1,1 0,-6.98A6.98,6.98 0 0,1 6.98,0Z\" style=\"opacity: 0.6; stroke-width: 1px; fill: rgb(207, 225, 30); fill-opacity: 1; stroke: rgb(255, 255, 255); stroke-opacity: 1;\" transform=\"translate(479.09,35.56)\"/><path class=\"point\" d=\"M13.27,0A13.27,13.27 0 1,1 0,-13.27A13.27,13.27 0 0,1 13.27,0Z\" style=\"opacity: 0.6; stroke-width: 1px; fill: rgb(67, 59, 131); fill-opacity: 1; stroke: rgb(255, 255, 255); stroke-opacity: 1;\" transform=\"translate(396.34,126.78)\"/><path class=\"point\" d=\"M6.09,0A6.09,6.09 0 1,1 0,-6.09A6.09,6.09 0 0,1 6.09,0Z\" style=\"opacity: 0.6; stroke-width: 1px; fill: rgb(33, 163, 134); fill-opacity: 1; stroke: rgb(255, 255, 255); stroke-opacity: 1;\" transform=\"translate(133.95,75.45)\"/><path class=\"point\" d=\"M10.77,0A10.77,10.77 0 1,1 0,-10.77A10.77,10.77 0 0,1 10.77,0Z\" style=\"opacity: 0.6; stroke-width: 1px; fill: rgb(43, 117, 142); fill-opacity: 1; stroke: rgb(255, 255, 255); stroke-opacity: 1;\" transform=\"translate(80.94,211.16)\"/><path class=\"point\" d=\"M0.46,0A0.46,0.46 0 1,1 0,-0.46A0.46,0.46 0 0,1 0.46,0Z\" style=\"opacity: 0.6; stroke-width: 1px; fill: rgb(33, 163, 134); fill-opacity: 1; stroke: rgb(255, 255, 255); stroke-opacity: 1;\" transform=\"translate(73.24,275.18)\"/><path class=\"point\" d=\"M13.39,0A13.39,13.39 0 1,1 0,-13.39A13.39,13.39 0 0,1 13.39,0Z\" style=\"opacity: 0.6; stroke-width: 1px; fill: rgb(33, 148, 139); fill-opacity: 1; stroke: rgb(255, 255, 255); stroke-opacity: 1;\" transform=\"translate(408.04,194.49)\"/><path class=\"point\" d=\"M0.81,0A0.81,0.81 0 1,1 0,-0.81A0.81,0.81 0 0,1 0.81,0Z\" style=\"opacity: 0.6; stroke-width: 1px; fill: rgb(105, 204, 91); fill-opacity: 1; stroke: rgb(255, 255, 255); stroke-opacity: 1;\" transform=\"translate(377.26,205.88)\"/><path class=\"point\" d=\"M10.15,0A10.15,10.15 0 1,1 0,-10.15A10.15,10.15 0 0,1 10.15,0Z\" style=\"opacity: 0.6; stroke-width: 1px; fill: rgb(205, 224, 31); fill-opacity: 1; stroke: rgb(255, 255, 255); stroke-opacity: 1;\" transform=\"translate(306.34,275.82)\"/><path class=\"point\" d=\"M1.05,0A1.05,1.05 0 1,1 0,-1.05A1.05,1.05 0 0,1 1.05,0Z\" style=\"opacity: 0.6; stroke-width: 1px; fill: rgb(39, 172, 129); fill-opacity: 1; stroke: rgb(255, 255, 255); stroke-opacity: 1;\" transform=\"translate(278.97,134.21)\"/><path class=\"point\" d=\"M8.59,0A8.59,8.59 0 1,1 0,-8.59A8.59,8.59 0 0,1 8.59,0Z\" style=\"opacity: 0.6; stroke-width: 1px; fill: rgb(96, 202, 97); fill-opacity: 1; stroke: rgb(255, 255, 255); stroke-opacity: 1;\" transform=\"translate(333.17,270.47)\"/><path class=\"point\" d=\"M9.11,0A9.11,9.11 0 1,1 0,-9.11A9.11,9.11 0 0,1 9.11,0Z\" style=\"opacity: 0.6; stroke-width: 1px; fill: rgb(64, 68, 135); fill-opacity: 1; stroke: rgb(255, 255, 255); stroke-opacity: 1;\" transform=\"translate(301.72,81.08)\"/><path class=\"point\" d=\"M6.29,0A6.29,6.29 0 1,1 0,-6.29A6.29,6.29 0 0,1 6.29,0Z\" style=\"opacity: 0.6; stroke-width: 1px; fill: rgb(45, 112, 142); fill-opacity: 1; stroke: rgb(255, 255, 255); stroke-opacity: 1;\" transform=\"translate(269.09,108.29)\"/><path class=\"point\" d=\"M14.6,0A14.6,14.6 0 1,1 0,-14.6A14.6,14.6 0 0,1 14.6,0Z\" style=\"opacity: 0.6; stroke-width: 1px; fill: rgb(59, 186, 117); fill-opacity: 1; stroke: rgb(255, 255, 255); stroke-opacity: 1;\" transform=\"translate(402.78,34.25)\"/><path class=\"point\" d=\"M12.18,0A12.18,12.18 0 1,1 0,-12.18A12.18,12.18 0 0,1 12.18,0Z\" style=\"opacity: 0.6; stroke-width: 1px; fill: rgb(33, 148, 139); fill-opacity: 1; stroke: rgb(255, 255, 255); stroke-opacity: 1;\" transform=\"translate(376.53,234.46)\"/><path class=\"point\" d=\"M2.57,0A2.57,2.57 0 1,1 0,-2.57A2.57,2.57 0 0,1 2.57,0Z\" style=\"opacity: 0.6; stroke-width: 1px; fill: rgb(37, 170, 130); fill-opacity: 1; stroke: rgb(255, 255, 255); stroke-opacity: 1;\" transform=\"translate(401.44,117.18)\"/><path class=\"point\" d=\"M14.26,0A14.26,14.26 0 1,1 0,-14.26A14.26,14.26 0 0,1 14.26,0Z\" style=\"opacity: 0.6; stroke-width: 1px; fill: rgb(45, 177, 125); fill-opacity: 1; stroke: rgb(255, 255, 255); stroke-opacity: 1;\" transform=\"translate(164.18,267.27)\"/><path class=\"point\" d=\"M12.17,0A12.17,12.17 0 1,1 0,-12.17A12.17,12.17 0 0,1 12.17,0Z\" style=\"opacity: 0.6; stroke-width: 1px; fill: rgb(40, 124, 142); fill-opacity: 1; stroke: rgb(255, 255, 255); stroke-opacity: 1;\" transform=\"translate(324.48,287.21)\"/><path class=\"point\" d=\"M0.56,0A0.56,0.56 0 1,1 0,-0.56A0.56,0.56 0 0,1 0.56,0Z\" style=\"opacity: 0.6; stroke-width: 1px; fill: rgb(39, 129, 142); fill-opacity: 1; stroke: rgb(255, 255, 255); stroke-opacity: 1;\" transform=\"translate(188.52,184.12)\"/><path class=\"point\" d=\"M5.02,0A5.02,5.02 0 1,1 0,-5.02A5.02,5.02 0 0,1 5.02,0Z\" style=\"opacity: 0.6; stroke-width: 1px; fill: rgb(245, 230, 35); fill-opacity: 1; stroke: rgb(255, 255, 255); stroke-opacity: 1;\" transform=\"translate(152.86,80.62)\"/><path class=\"point\" d=\"M14.44,0A14.44,14.44 0 1,1 0,-14.44A14.44,14.44 0 0,1 14.44,0Z\" style=\"opacity: 0.6; stroke-width: 1px; fill: rgb(35, 138, 141); fill-opacity: 1; stroke: rgb(255, 255, 255); stroke-opacity: 1;\" transform=\"translate(134.86,176.46)\"/><path class=\"point\" d=\"M3.5,0A3.5,3.5 0 1,1 0,-3.5A3.5,3.5 0 0,1 3.5,0Z\" style=\"opacity: 0.6; stroke-width: 1px; fill: rgb(32, 154, 138); fill-opacity: 1; stroke: rgb(255, 255, 255); stroke-opacity: 1;\" transform=\"translate(492.29,126.3)\"/><path class=\"point\" d=\"M0.76,0A0.76,0.76 0 1,1 0,-0.76A0.76,0.76 0 0,1 0.76,0Z\" style=\"opacity: 0.6; stroke-width: 1px; fill: rgb(91, 200, 99); fill-opacity: 1; stroke: rgb(255, 255, 255); stroke-opacity: 1;\" transform=\"translate(485.1,189.16)\"/><path class=\"point\" d=\"M5.05,0A5.05,5.05 0 1,1 0,-5.05A5.05,5.05 0 0,1 5.05,0Z\" style=\"opacity: 0.6; stroke-width: 1px; fill: rgb(52, 96, 141); fill-opacity: 1; stroke: rgb(255, 255, 255); stroke-opacity: 1;\" transform=\"translate(116.48,174.46)\"/><path class=\"point\" d=\"M9.18,0A9.18,9.18 0 1,1 0,-9.18A9.18,9.18 0 0,1 9.18,0Z\" style=\"opacity: 0.6; stroke-width: 1px; fill: rgb(55, 183, 119); fill-opacity: 1; stroke: rgb(255, 255, 255); stroke-opacity: 1;\" transform=\"translate(477.72,147.66)\"/><path class=\"point\" d=\"M4.53,0A4.53,4.53 0 1,1 0,-4.53A4.53,4.53 0 0,1 4.53,0Z\" style=\"opacity: 0.6; stroke-width: 1px; fill: rgb(70, 13, 95); fill-opacity: 1; stroke: rgb(255, 255, 255); stroke-opacity: 1;\" transform=\"translate(102.02,69.64)\"/><path class=\"point\" d=\"M0.91,0A0.91,0.91 0 1,1 0,-0.91A0.91,0.91 0 0,1 0.91,0Z\" style=\"opacity: 0.6; stroke-width: 1px; fill: rgb(68, 57, 130); fill-opacity: 1; stroke: rgb(255, 255, 255); stroke-opacity: 1;\" transform=\"translate(467.24,246.12)\"/><path class=\"point\" d=\"M3.2,0A3.2,3.2 0 1,1 0,-3.2A3.2,3.2 0 0,1 3.2,0Z\" style=\"opacity: 0.6; stroke-width: 1px; fill: rgb(43, 116, 142); fill-opacity: 1; stroke: rgb(255, 255, 255); stroke-opacity: 1;\" transform=\"translate(41.85,118.88)\"/><path class=\"point\" d=\"M10.87,0A10.87,10.87 0 1,1 0,-10.87A10.87,10.87 0 0,1 10.87,0Z\" style=\"opacity: 0.6; stroke-width: 1px; fill: rgb(57, 185, 118); fill-opacity: 1; stroke: rgb(255, 255, 255); stroke-opacity: 1;\" transform=\"translate(273.35,216.52)\"/><path class=\"point\" d=\"M2.8,0A2.8,2.8 0 1,1 0,-2.8A2.8,2.8 0 0,1 2.8,0Z\" style=\"opacity: 0.6; stroke-width: 1px; fill: rgb(57, 86, 139); fill-opacity: 1; stroke: rgb(255, 255, 255); stroke-opacity: 1;\" transform=\"translate(89.64,122.03)\"/><path class=\"point\" d=\"M5.45,0A5.45,5.45 0 1,1 0,-5.45A5.45,5.45 0 0,1 5.45,0Z\" style=\"opacity: 0.6; stroke-width: 1px; fill: rgb(146, 215, 66); fill-opacity: 1; stroke: rgb(255, 255, 255); stroke-opacity: 1;\" transform=\"translate(148.71,56.97)\"/><path class=\"point\" d=\"M7.09,0A7.09,7.09 0 1,1 0,-7.09A7.09,7.09 0 0,1 7.09,0Z\" style=\"opacity: 0.6; stroke-width: 1px; fill: rgb(71, 42, 120); fill-opacity: 1; stroke: rgb(255, 255, 255); stroke-opacity: 1;\" transform=\"translate(424.96,123.04)\"/><path class=\"point\" d=\"M8.28,0A8.28,8.28 0 1,1 0,-8.28A8.28,8.28 0 0,1 8.28,0Z\" style=\"opacity: 0.6; stroke-width: 1px; fill: rgb(60, 80, 138); fill-opacity: 1; stroke: rgb(255, 255, 255); stroke-opacity: 1;\" transform=\"translate(433.97,261.17)\"/><path class=\"point\" d=\"M0.21,0A0.21,0.21 0 1,1 0,-0.21A0.21,0.21 0 0,1 0.21,0Z\" style=\"opacity: 0.6; stroke-width: 1px; fill: rgb(196, 223, 36); fill-opacity: 1; stroke: rgb(255, 255, 255); stroke-opacity: 1;\" transform=\"translate(374.37,178.47)\"/><path class=\"point\" d=\"M11.81,0A11.81,11.81 0 1,1 0,-11.81A11.81,11.81 0 0,1 11.81,0Z\" style=\"opacity: 0.6; stroke-width: 1px; fill: rgb(69, 5, 88); fill-opacity: 1; stroke: rgb(255, 255, 255); stroke-opacity: 1;\" transform=\"translate(408.59,228.84)\"/><path class=\"point\" d=\"M3.91,0A3.91,3.91 0 1,1 0,-3.91A3.91,3.91 0 0,1 3.91,0Z\" style=\"opacity: 0.6; stroke-width: 1px; fill: rgb(33, 148, 139); fill-opacity: 1; stroke: rgb(255, 255, 255); stroke-opacity: 1;\" transform=\"translate(231.35,42.61)\"/><path class=\"point\" d=\"M10.94,0A10.94,10.94 0 1,1 0,-10.94A10.94,10.94 0 0,1 10.94,0Z\" style=\"opacity: 0.6; stroke-width: 1px; fill: rgb(70, 10, 93); fill-opacity: 1; stroke: rgb(255, 255, 255); stroke-opacity: 1;\" transform=\"translate(320.07,129.91)\"/><path class=\"point\" d=\"M2.42,0A2.42,2.42 0 1,1 0,-2.42A2.42,2.42 0 0,1 2.42,0Z\" style=\"opacity: 0.6; stroke-width: 1px; fill: rgb(33, 163, 134); fill-opacity: 1; stroke: rgb(255, 255, 255); stroke-opacity: 1;\" transform=\"translate(336.3,78.23)\"/><path class=\"point\" d=\"M11.28,0A11.28,11.28 0 1,1 0,-11.28A11.28,11.28 0 0,1 11.28,0Z\" style=\"opacity: 0.6; stroke-width: 1px; fill: rgb(32, 161, 135); fill-opacity: 1; stroke: rgb(255, 255, 255); stroke-opacity: 1;\" transform=\"translate(476.27,215.71)\"/><path class=\"point\" d=\"M1.12,0A1.12,1.12 0 1,1 0,-1.12A1.12,1.12 0 0,1 1.12,0Z\" style=\"opacity: 0.6; stroke-width: 1px; fill: rgb(210, 225, 28); fill-opacity: 1; stroke: rgb(255, 255, 255); stroke-opacity: 1;\" transform=\"translate(237.25,57.41)\"/><path class=\"point\" d=\"M4.69,0A4.69,4.69 0 1,1 0,-4.69A4.69,4.69 0 0,1 4.69,0Z\" style=\"opacity: 0.6; stroke-width: 1px; fill: rgb(69, 9, 91); fill-opacity: 1; stroke: rgb(255, 255, 255); stroke-opacity: 1;\" transform=\"translate(228.02,275.81)\"/><path class=\"point\" d=\"M10.03,0A10.03,10.03 0 1,1 0,-10.03A10.03,10.03 0 0,1 10.03,0Z\" style=\"opacity: 0.6; stroke-width: 1px; fill: rgb(49, 103, 141); fill-opacity: 1; stroke: rgb(255, 255, 255); stroke-opacity: 1;\" transform=\"translate(317.24,49.69)\"/><path class=\"point\" d=\"M5.32,0A5.32,5.32 0 1,1 0,-5.32A5.32,5.32 0 0,1 5.32,0Z\" style=\"opacity: 0.6; stroke-width: 1px; fill: rgb(102, 203, 93); fill-opacity: 1; stroke: rgb(255, 255, 255); stroke-opacity: 1;\" transform=\"translate(246.27,206.34)\"/><path class=\"point\" d=\"M8.79,0A8.79,8.79 0 1,1 0,-8.79A8.79,8.79 0 0,1 8.79,0Z\" style=\"opacity: 0.6; stroke-width: 1px; fill: rgb(105, 204, 91); fill-opacity: 1; stroke: rgb(255, 255, 255); stroke-opacity: 1;\" transform=\"translate(220.4,132.85)\"/><path class=\"point\" d=\"M2.89,0A2.89,2.89 0 1,1 0,-2.89A2.89,2.89 0 0,1 2.89,0Z\" style=\"opacity: 0.6; stroke-width: 1px; fill: rgb(52, 97, 141); fill-opacity: 1; stroke: rgb(255, 255, 255); stroke-opacity: 1;\" transform=\"translate(326.96,284.68)\"/><path class=\"point\" d=\"M14.27,0A14.27,14.27 0 1,1 0,-14.27A14.27,14.27 0 0,1 14.27,0Z\" style=\"opacity: 0.6; stroke-width: 1px; fill: rgb(53, 182, 121); fill-opacity: 1; stroke: rgb(255, 255, 255); stroke-opacity: 1;\" transform=\"translate(63.07,82.87)\"/><path class=\"point\" d=\"M13.04,0A13.04,13.04 0 1,1 0,-13.04A13.04,13.04 0 0,1 13.04,0Z\" style=\"opacity: 0.6; stroke-width: 1px; fill: rgb(70, 49, 125); fill-opacity: 1; stroke: rgb(255, 255, 255); stroke-opacity: 1;\" transform=\"translate(241.04,130.74)\"/><path class=\"point\" d=\"M11.66,0A11.66,11.66 0 1,1 0,-11.66A11.66,11.66 0 0,1 11.66,0Z\" style=\"opacity: 0.6; stroke-width: 1px; fill: rgb(229, 228, 29); fill-opacity: 1; stroke: rgb(255, 255, 255); stroke-opacity: 1;\" transform=\"translate(173,67.63)\"/><path class=\"point\" d=\"M6.8,0A6.8,6.8 0 1,1 0,-6.8A6.8,6.8 0 0,1 6.8,0Z\" style=\"opacity: 0.6; stroke-width: 1px; fill: rgb(66, 63, 133); fill-opacity: 1; stroke: rgb(255, 255, 255); stroke-opacity: 1;\" transform=\"translate(415.3,80.2)\"/><path class=\"point\" d=\"M11.49,0A11.49,11.49 0 1,1 0,-11.49A11.49,11.49 0 0,1 11.49,0Z\" style=\"opacity: 0.6; stroke-width: 1px; fill: rgb(131, 212, 76); fill-opacity: 1; stroke: rgb(255, 255, 255); stroke-opacity: 1;\" transform=\"translate(401.2,186.17)\"/><path class=\"point\" d=\"M6.63,0A6.63,6.63 0 1,1 0,-6.63A6.63,6.63 0 0,1 6.63,0Z\" style=\"opacity: 0.6; stroke-width: 1px; fill: rgb(236, 229, 32); fill-opacity: 1; stroke: rgb(255, 255, 255); stroke-opacity: 1;\" transform=\"translate(213.65,145.35)\"/><path class=\"point\" d=\"M11.74,0A11.74,11.74 0 1,1 0,-11.74A11.74,11.74 0 0,1 11.74,0Z\" style=\"opacity: 0.6; stroke-width: 1px; fill: rgb(104, 204, 92); fill-opacity: 1; stroke: rgb(255, 255, 255); stroke-opacity: 1;\" transform=\"translate(402.04,82.26)\"/><path class=\"point\" d=\"M7.93,0A7.93,7.93 0 1,1 0,-7.93A7.93,7.93 0 0,1 7.93,0Z\" style=\"opacity: 0.6; stroke-width: 1px; fill: rgb(36, 167, 132); fill-opacity: 1; stroke: rgb(255, 255, 255); stroke-opacity: 1;\" transform=\"translate(299.63,36.16)\"/><path class=\"point\" d=\"M14.14,0A14.14,14.14 0 1,1 0,-14.14A14.14,14.14 0 0,1 14.14,0Z\" style=\"opacity: 0.6; stroke-width: 1px; fill: rgb(39, 128, 142); fill-opacity: 1; stroke: rgb(255, 255, 255); stroke-opacity: 1;\" transform=\"translate(325.15,202.96)\"/><path class=\"point\" d=\"M4.5,0A4.5,4.5 0 1,1 0,-4.5A4.5,4.5 0 0,1 4.5,0Z\" style=\"opacity: 0.6; stroke-width: 1px; fill: rgb(240, 229, 33); fill-opacity: 1; stroke: rgb(255, 255, 255); stroke-opacity: 1;\" transform=\"translate(298.54,218.86)\"/><path class=\"point\" d=\"M9.53,0A9.53,9.53 0 1,1 0,-9.53A9.53,9.53 0 0,1 9.53,0Z\" style=\"opacity: 0.6; stroke-width: 1px; fill: rgb(68, 1, 84); fill-opacity: 1; stroke: rgb(255, 255, 255); stroke-opacity: 1;\" transform=\"translate(413.71,45.13)\"/><path class=\"point\" d=\"M8.26,0A8.26,8.26 0 1,1 0,-8.26A8.26,8.26 0 0,1 8.26,0Z\" style=\"opacity: 0.6; stroke-width: 1px; fill: rgb(178, 221, 45); fill-opacity: 1; stroke: rgb(255, 255, 255); stroke-opacity: 1;\" transform=\"translate(197.98,271.2)\"/><path class=\"point\" d=\"M3.24,0A3.24,3.24 0 1,1 0,-3.24A3.24,3.24 0 0,1 3.24,0Z\" style=\"opacity: 0.6; stroke-width: 1px; fill: rgb(61, 76, 137); fill-opacity: 1; stroke: rgb(255, 255, 255); stroke-opacity: 1;\" transform=\"translate(336.6,156.23)\"/><path class=\"point\" d=\"M9.14,0A9.14,9.14 0 1,1 0,-9.14A9.14,9.14 0 0,1 9.14,0Z\" style=\"opacity: 0.6; stroke-width: 1px; fill: rgb(41, 174, 128); fill-opacity: 1; stroke: rgb(255, 255, 255); stroke-opacity: 1;\" transform=\"translate(388.71,121.86)\"/><path class=\"point\" d=\"M9.68,0A9.68,9.68 0 1,1 0,-9.68A9.68,9.68 0 0,1 9.68,0Z\" style=\"opacity: 0.6; stroke-width: 1px; fill: rgb(62, 74, 137); fill-opacity: 1; stroke: rgb(255, 255, 255); stroke-opacity: 1;\" transform=\"translate(117.14,162.06)\"/><path class=\"point\" d=\"M14.36,0A14.36,14.36 0 1,1 0,-14.36A14.36,14.36 0 0,1 14.36,0Z\" style=\"opacity: 0.6; stroke-width: 1px; fill: rgb(198, 223, 35); fill-opacity: 1; stroke: rgb(255, 255, 255); stroke-opacity: 1;\" transform=\"translate(324.53,237.87)\"/><path class=\"point\" d=\"M7.22,0A7.22,7.22 0 1,1 0,-7.22A7.22,7.22 0 0,1 7.22,0Z\" style=\"opacity: 0.6; stroke-width: 1px; fill: rgb(66, 64, 134); fill-opacity: 1; stroke: rgb(255, 255, 255); stroke-opacity: 1;\" transform=\"translate(477.1,254.16)\"/><path class=\"point\" d=\"M12.67,0A12.67,12.67 0 1,1 0,-12.67A12.67,12.67 0 0,1 12.67,0Z\" style=\"opacity: 0.6; stroke-width: 1px; fill: rgb(32, 150, 139); fill-opacity: 1; stroke: rgb(255, 255, 255); stroke-opacity: 1;\" transform=\"translate(123.86,271.73)\"/><path class=\"point\" d=\"M7.53,0A7.53,7.53 0 1,1 0,-7.53A7.53,7.53 0 0,1 7.53,0Z\" style=\"opacity: 0.6; stroke-width: 1px; fill: rgb(192, 223, 38); fill-opacity: 1; stroke: rgb(255, 255, 255); stroke-opacity: 1;\" transform=\"translate(280.7,114.5)\"/><path class=\"point\" d=\"M5.51,0A5.51,5.51 0 1,1 0,-5.51A5.51,5.51 0 0,1 5.51,0Z\" style=\"opacity: 0.6; stroke-width: 1px; fill: rgb(60, 78, 138); fill-opacity: 1; stroke: rgb(255, 255, 255); stroke-opacity: 1;\" transform=\"translate(308.5,43.81)\"/><path class=\"point\" d=\"M1.71,0A1.71,1.71 0 1,1 0,-1.71A1.71,1.71 0 0,1 1.71,0Z\" style=\"opacity: 0.6; stroke-width: 1px; fill: rgb(61, 187, 116); fill-opacity: 1; stroke: rgb(255, 255, 255); stroke-opacity: 1;\" transform=\"translate(114.28,270.96)\"/><path class=\"point\" d=\"M3.25,0A3.25,3.25 0 1,1 0,-3.25A3.25,3.25 0 0,1 3.25,0Z\" style=\"opacity: 0.6; stroke-width: 1px; fill: rgb(103, 204, 93); fill-opacity: 1; stroke: rgb(255, 255, 255); stroke-opacity: 1;\" transform=\"translate(251.31,104.75)\"/><path class=\"point\" d=\"M0.57,0A0.57,0.57 0 1,1 0,-0.57A0.57,0.57 0 0,1 0.57,0Z\" style=\"opacity: 0.6; stroke-width: 1px; fill: rgb(43, 116, 142); fill-opacity: 1; stroke: rgb(255, 255, 255); stroke-opacity: 1;\" transform=\"translate(479.3,244.44)\"/><path class=\"point\" d=\"M9.55,0A9.55,9.55 0 1,1 0,-9.55A9.55,9.55 0 0,1 9.55,0Z\" style=\"opacity: 0.6; stroke-width: 1px; fill: rgb(108, 205, 89); fill-opacity: 1; stroke: rgb(255, 255, 255); stroke-opacity: 1;\" transform=\"translate(501.07,134.2)\"/><path class=\"point\" d=\"M8.02,0A8.02,8.02 0 1,1 0,-8.02A8.02,8.02 0 0,1 8.02,0Z\" style=\"opacity: 0.6; stroke-width: 1px; fill: rgb(253, 231, 37); fill-opacity: 1; stroke: rgb(255, 255, 255); stroke-opacity: 1;\" transform=\"translate(188.52,267.72)\"/><path class=\"point\" d=\"M8.52,0A8.52,8.52 0 1,1 0,-8.52A8.52,8.52 0 0,1 8.52,0Z\" style=\"opacity: 0.6; stroke-width: 1px; fill: rgb(141, 214, 69); fill-opacity: 1; stroke: rgb(255, 255, 255); stroke-opacity: 1;\" transform=\"translate(343.21,159.86)\"/><path class=\"point\" d=\"M9.99,0A9.99,9.99 0 1,1 0,-9.99A9.99,9.99 0 0,1 9.99,0Z\" style=\"opacity: 0.6; stroke-width: 1px; fill: rgb(55, 89, 140); fill-opacity: 1; stroke: rgb(255, 255, 255); stroke-opacity: 1;\" transform=\"translate(280,157.13)\"/><path class=\"point\" d=\"M12.27,0A12.27,12.27 0 1,1 0,-12.27A12.27,12.27 0 0,1 12.27,0Z\" style=\"opacity: 0.6; stroke-width: 1px; fill: rgb(42, 175, 127); fill-opacity: 1; stroke: rgb(255, 255, 255); stroke-opacity: 1;\" transform=\"translate(491.34,271.33)\"/><path class=\"point\" d=\"M6.11,0A6.11,6.11 0 1,1 0,-6.11A6.11,6.11 0 0,1 6.11,0Z\" style=\"opacity: 0.6; stroke-width: 1px; fill: rgb(41, 122, 142); fill-opacity: 1; stroke: rgb(255, 255, 255); stroke-opacity: 1;\" transform=\"translate(73.6,82.03)\"/><path class=\"point\" d=\"M13.76,0A13.76,13.76 0 1,1 0,-13.76A13.76,13.76 0 0,1 13.76,0Z\" style=\"opacity: 0.6; stroke-width: 1px; fill: rgb(209, 225, 29); fill-opacity: 1; stroke: rgb(255, 255, 255); stroke-opacity: 1;\" transform=\"translate(342.06,286.8)\"/><path class=\"point\" d=\"M12.72,0A12.72,12.72 0 1,1 0,-12.72A12.72,12.72 0 0,1 12.72,0Z\" style=\"opacity: 0.6; stroke-width: 1px; fill: rgb(41, 123, 142); fill-opacity: 1; stroke: rgb(255, 255, 255); stroke-opacity: 1;\" transform=\"translate(300.26,226.77)\"/><path class=\"point\" d=\"M5.35,0A5.35,5.35 0 1,1 0,-5.35A5.35,5.35 0 0,1 5.35,0Z\" style=\"opacity: 0.6; stroke-width: 1px; fill: rgb(67, 190, 113); fill-opacity: 1; stroke: rgb(255, 255, 255); stroke-opacity: 1;\" transform=\"translate(88.91,117.26)\"/><path class=\"point\" d=\"M13.39,0A13.39,13.39 0 1,1 0,-13.39A13.39,13.39 0 0,1 13.39,0Z\" style=\"opacity: 0.6; stroke-width: 1px; fill: rgb(84, 197, 103); fill-opacity: 1; stroke: rgb(255, 255, 255); stroke-opacity: 1;\" transform=\"translate(331.44,170.55)\"/><path class=\"point\" d=\"M2.07,0A2.07,2.07 0 1,1 0,-2.07A2.07,2.07 0 0,1 2.07,0Z\" style=\"opacity: 0.6; stroke-width: 1px; fill: rgb(49, 103, 141); fill-opacity: 1; stroke: rgb(255, 255, 255); stroke-opacity: 1;\" transform=\"translate(217.13,172.5)\"/><path class=\"point\" d=\"M12.62,0A12.62,12.62 0 1,1 0,-12.62A12.62,12.62 0 0,1 12.62,0Z\" style=\"opacity: 0.6; stroke-width: 1px; fill: rgb(71, 19, 102); fill-opacity: 1; stroke: rgb(255, 255, 255); stroke-opacity: 1;\" transform=\"translate(234.86,91.53)\"/><path class=\"point\" d=\"M12.13,0A12.13,12.13 0 1,1 0,-12.13A12.13,12.13 0 0,1 12.13,0Z\" style=\"opacity: 0.6; stroke-width: 1px; fill: rgb(32, 154, 138); fill-opacity: 1; stroke: rgb(255, 255, 255); stroke-opacity: 1;\" transform=\"translate(52.99,228.14)\"/><path class=\"point\" d=\"M14.52,0A14.52,14.52 0 1,1 0,-14.52A14.52,14.52 0 0,1 14.52,0Z\" style=\"opacity: 0.6; stroke-width: 1px; fill: rgb(221, 227, 27); fill-opacity: 1; stroke: rgb(255, 255, 255); stroke-opacity: 1;\" transform=\"translate(346.12,174.28)\"/><path class=\"point\" d=\"M1.25,0A1.25,1.25 0 1,1 0,-1.25A1.25,1.25 0 0,1 1.25,0Z\" style=\"opacity: 0.6; stroke-width: 1px; fill: rgb(163, 218, 55); fill-opacity: 1; stroke: rgb(255, 255, 255); stroke-opacity: 1;\" transform=\"translate(81.01,145.53)\"/><path class=\"point\" d=\"M13.28,0A13.28,13.28 0 1,1 0,-13.28A13.28,13.28 0 0,1 13.28,0Z\" style=\"opacity: 0.6; stroke-width: 1px; fill: rgb(57, 86, 139); fill-opacity: 1; stroke: rgb(255, 255, 255); stroke-opacity: 1;\" transform=\"translate(171.39,270.39)\"/><path class=\"point\" d=\"M9.63,0A9.63,9.63 0 1,1 0,-9.63A9.63,9.63 0 0,1 9.63,0Z\" style=\"opacity: 0.6; stroke-width: 1px; fill: rgb(71, 40, 119); fill-opacity: 1; stroke: rgb(255, 255, 255); stroke-opacity: 1;\" transform=\"translate(100.47,34.82)\"/><path class=\"point\" d=\"M1.41,0A1.41,1.41 0 1,1 0,-1.41A1.41,1.41 0 0,1 1.41,0Z\" style=\"opacity: 0.6; stroke-width: 1px; fill: rgb(33, 146, 140); fill-opacity: 1; stroke: rgb(255, 255, 255); stroke-opacity: 1;\" transform=\"translate(317.84,222.85)\"/><path class=\"point\" d=\"M10.75,0A10.75,10.75 0 1,1 0,-10.75A10.75,10.75 0 0,1 10.75,0Z\" style=\"opacity: 0.6; stroke-width: 1px; fill: rgb(85, 197, 103); fill-opacity: 1; stroke: rgb(255, 255, 255); stroke-opacity: 1;\" transform=\"translate(69.86,64.35)\"/><path class=\"point\" d=\"M7.75,0A7.75,7.75 0 1,1 0,-7.75A7.75,7.75 0 0,1 7.75,0Z\" style=\"opacity: 0.6; stroke-width: 1px; fill: rgb(65, 67, 135); fill-opacity: 1; stroke: rgb(255, 255, 255); stroke-opacity: 1;\" transform=\"translate(57.35,118.32)\"/><path class=\"point\" d=\"M14.74,0A14.74,14.74 0 1,1 0,-14.74A14.74,14.74 0 0,1 14.74,0Z\" style=\"opacity: 0.6; stroke-width: 1px; fill: rgb(68, 190, 112); fill-opacity: 1; stroke: rgb(255, 255, 255); stroke-opacity: 1;\" transform=\"translate(122.31,278.25)\"/><path class=\"point\" d=\"M13.04,0A13.04,13.04 0 1,1 0,-13.04A13.04,13.04 0 0,1 13.04,0Z\" style=\"opacity: 0.6; stroke-width: 1px; fill: rgb(148, 215, 65); fill-opacity: 1; stroke: rgb(255, 255, 255); stroke-opacity: 1;\" transform=\"translate(167.94,243.68)\"/><path class=\"point\" d=\"M1.43,0A1.43,1.43 0 1,1 0,-1.43A1.43,1.43 0 0,1 1.43,0Z\" style=\"opacity: 0.6; stroke-width: 1px; fill: rgb(70, 12, 94); fill-opacity: 1; stroke: rgb(255, 255, 255); stroke-opacity: 1;\" transform=\"translate(219.73,149.91)\"/><path class=\"point\" d=\"M5.29,0A5.29,5.29 0 1,1 0,-5.29A5.29,5.29 0 0,1 5.29,0Z\" style=\"opacity: 0.6; stroke-width: 1px; fill: rgb(38, 131, 142); fill-opacity: 1; stroke: rgb(255, 255, 255); stroke-opacity: 1;\" transform=\"translate(171.05,175.83)\"/><path class=\"point\" d=\"M5.88,0A5.88,5.88 0 1,1 0,-5.88A5.88,5.88 0 0,1 5.88,0Z\" style=\"opacity: 0.6; stroke-width: 1px; fill: rgb(142, 214, 68); fill-opacity: 1; stroke: rgb(255, 255, 255); stroke-opacity: 1;\" transform=\"translate(323.48,197.22)\"/><path class=\"point\" d=\"M4.53,0A4.53,4.53 0 1,1 0,-4.53A4.53,4.53 0 0,1 4.53,0Z\" style=\"opacity: 0.6; stroke-width: 1px; fill: rgb(138, 213, 71); fill-opacity: 1; stroke: rgb(255, 255, 255); stroke-opacity: 1;\" transform=\"translate(131.85,49.3)\"/><path class=\"point\" d=\"M6.25,0A6.25,6.25 0 1,1 0,-6.25A6.25,6.25 0 0,1 6.25,0Z\" style=\"opacity: 0.6; stroke-width: 1px; fill: rgb(65, 67, 135); fill-opacity: 1; stroke: rgb(255, 255, 255); stroke-opacity: 1;\" transform=\"translate(136.46,200.49)\"/><path class=\"point\" d=\"M5.44,0A5.44,5.44 0 1,1 0,-5.44A5.44,5.44 0 0,1 5.44,0Z\" style=\"opacity: 0.6; stroke-width: 1px; fill: rgb(132, 212, 75); fill-opacity: 1; stroke: rgb(255, 255, 255); stroke-opacity: 1;\" transform=\"translate(479.71,66.19)\"/><path class=\"point\" d=\"M13.35,0A13.35,13.35 0 1,1 0,-13.35A13.35,13.35 0 0,1 13.35,0Z\" style=\"opacity: 0.6; stroke-width: 1px; fill: rgb(39, 173, 129); fill-opacity: 1; stroke: rgb(255, 255, 255); stroke-opacity: 1;\" transform=\"translate(303.51,211.1)\"/><path class=\"point\" d=\"M13.63,0A13.63,13.63 0 1,1 0,-13.63A13.63,13.63 0 0,1 13.63,0Z\" style=\"opacity: 0.6; stroke-width: 1px; fill: rgb(153, 216, 61); fill-opacity: 1; stroke: rgb(255, 255, 255); stroke-opacity: 1;\" transform=\"translate(235.91,257.56)\"/></g></g></g></g><g class=\"overplot\"/><path class=\"xlines-above crisp\" d=\"M0,0\" style=\"fill: none;\"/><path class=\"ylines-above crisp\" d=\"M0,0\" style=\"fill: none;\"/><g class=\"overlines-above\"/><g class=\"xaxislayer-above\"><g class=\"xtick\"><text style=\"font-family: 'Open Sans', verdana, arial, sans-serif; font-size: 12px; fill: rgb(68, 68, 68); fill-opacity: 1; white-space: pre;\" text-anchor=\"middle\" transform=\"translate(107.67,0)\" x=\"0\" y=\"433\">0</text></g><g class=\"xtick\"><text style=\"font-family: 'Open Sans', verdana, arial, sans-serif; font-size: 12px; fill: rgb(68, 68, 68); fill-opacity: 1; white-space: pre;\" text-anchor=\"middle\" transform=\"translate(204.13,0)\" x=\"0\" y=\"433\">0.2</text></g><g class=\"xtick\"><text style=\"font-family: 'Open Sans', verdana, arial, sans-serif; font-size: 12px; fill: rgb(68, 68, 68); fill-opacity: 1; white-space: pre;\" text-anchor=\"middle\" transform=\"translate(300.59000000000003,0)\" x=\"0\" y=\"433\">0.4</text></g><g class=\"xtick\"><text style=\"font-family: 'Open Sans', verdana, arial, sans-serif; font-size: 12px; fill: rgb(68, 68, 68); fill-opacity: 1; white-space: pre;\" text-anchor=\"middle\" transform=\"translate(397.05,0)\" x=\"0\" y=\"433\">0.6</text></g><g class=\"xtick\"><text style=\"font-family: 'Open Sans', verdana, arial, sans-serif; font-size: 12px; fill: rgb(68, 68, 68); fill-opacity: 1; white-space: pre;\" text-anchor=\"middle\" transform=\"translate(493.5,0)\" x=\"0\" y=\"433\">0.8</text></g><g class=\"xtick\"><text style=\"font-family: 'Open Sans', verdana, arial, sans-serif; font-size: 12px; fill: rgb(68, 68, 68); fill-opacity: 1; white-space: pre;\" text-anchor=\"middle\" transform=\"translate(589.96,0)\" x=\"0\" y=\"433\">1</text></g></g><g class=\"yaxislayer-above\"><g class=\"ytick\"><text style=\"font-family: 'Open Sans', verdana, arial, sans-serif; font-size: 12px; fill: rgb(68, 68, 68); fill-opacity: 1; white-space: pre;\" text-anchor=\"end\" transform=\"translate(0,388.81)\" x=\"79\" y=\"4.199999999999999\">0</text></g><g class=\"ytick\"><text style=\"font-family: 'Open Sans', verdana, arial, sans-serif; font-size: 12px; fill: rgb(68, 68, 68); fill-opacity: 1; white-space: pre;\" text-anchor=\"end\" transform=\"translate(0,337.8)\" x=\"79\" y=\"4.199999999999999\">0.2</text></g><g class=\"ytick\"><text style=\"font-family: 'Open Sans', verdana, arial, sans-serif; font-size: 12px; fill: rgb(68, 68, 68); fill-opacity: 1; white-space: pre;\" text-anchor=\"end\" transform=\"translate(0,286.78999999999996)\" x=\"79\" y=\"4.199999999999999\">0.4</text></g><g class=\"ytick\"><text style=\"font-family: 'Open Sans', verdana, arial, sans-serif; font-size: 12px; fill: rgb(68, 68, 68); fill-opacity: 1; white-space: pre;\" text-anchor=\"end\" transform=\"translate(0,235.77)\" x=\"79\" y=\"4.199999999999999\">0.6</text></g><g class=\"ytick\"><text style=\"font-family: 'Open Sans', verdana, arial, sans-serif; font-size: 12px; fill: rgb(68, 68, 68); fill-opacity: 1; white-space: pre;\" text-anchor=\"end\" transform=\"translate(0,184.76)\" x=\"79\" y=\"4.199999999999999\">0.8</text></g><g class=\"ytick\"><text style=\"font-family: 'Open Sans', verdana, arial, sans-serif; font-size: 12px; fill: rgb(68, 68, 68); fill-opacity: 1; white-space: pre;\" text-anchor=\"end\" transform=\"translate(0,133.75)\" x=\"79\" y=\"4.199999999999999\">1</text></g></g><g class=\"overaxes-above\"/></g></g><g class=\"polarlayer\"/><g class=\"ternarylayer\"/><g class=\"geolayer\"/><g class=\"pielayer\"/><g class=\"glimages\"/><defs id=\"topdefs-d02049\"><g class=\"clips\"/></defs><g class=\"layer-above\"><g class=\"imagelayer\"/><g class=\"shapelayer\"/></g><g class=\"infolayer\"><g class=\"g-gtitle\"/><g class=\"g-xtitle\"/><g class=\"g-ytitle\"/></g></svg>"
      ],
      "text/plain": [
       "<IPython.core.display.SVG object>"
      ]
     },
     "metadata": {},
     "output_type": "display_data"
    },
    {
     "name": "stdout",
     "output_type": "stream",
     "text": [
      "CPU times: user 355 ms, sys: 67 ms, total: 422 ms\n",
      "Wall time: 2.01 s\n"
     ]
    }
   ],
   "source": [
    "%%time\n",
    "img_bytes = pio.to_image(fig, format='svg')\n",
    "from IPython.display import SVG, display\n",
    "display(SVG(img_bytes))"
   ]
  },
  {
   "cell_type": "markdown",
   "metadata": {},
   "source": [
    "By checking the `status` object again, we see that the orca server is now running"
   ]
  },
  {
   "cell_type": "code",
   "execution_count": 5,
   "metadata": {},
   "outputs": [
    {
     "data": {
      "text/plain": [
       "orca status\n",
       "-----------\n",
       "    state: running\n",
       "    executable: /anaconda3/envs/plotly_conda37/bin/orca\n",
       "    version: 1.1.1\n",
       "    port: 57117\n",
       "    pid: 84824\n",
       "    command: ['/anaconda3/envs/plotly_conda37/bin/orca', 'serve', '-p', '57117', '--plotly', '/anaconda3/envs/plotly_conda37/lib/python3.7/site-packages/plotly/package_data/plotly.min.js', '--graph-only', '--mathjax', 'https://cdnjs.cloudflare.com/ajax/libs/mathjax/2.7.5/MathJax.js']\n",
       "    "
      ]
     },
     "execution_count": 5,
     "metadata": {},
     "output_type": "execute_result"
    }
   ],
   "source": [
    "pio.orca.status"
   ]
  },
  {
   "cell_type": "markdown",
   "metadata": {},
   "source": [
    "Let's perform this same export operation again, now that the server is already running."
   ]
  },
  {
   "cell_type": "code",
   "execution_count": 6,
   "metadata": {},
   "outputs": [
    {
     "data": {
      "image/svg+xml": [
       "<svg class=\"main-svg\" height=\"500\" viewBox=\"0 0 700 500\" width=\"700\" xmlns=\"http://www.w3.org/2000/svg\" xmlns:xlink=\"http://www.w3.org/1999/xlink\"><rect height=\"500\" style=\"fill: rgb(255, 255, 255); fill-opacity: 1;\" width=\"700\" x=\"0\" y=\"0\"/><defs id=\"defs-0d9aad\"><g class=\"clips\"><clipPath class=\"plotclip\" id=\"clip0d9aadxyplot\"><rect height=\"320\" width=\"540\"/></clipPath><clipPath class=\"axesclip\" id=\"clip0d9aadx\"><rect height=\"500\" width=\"540\" x=\"80\" y=\"0\"/></clipPath><clipPath class=\"axesclip\" id=\"clip0d9aady\"><rect height=\"320\" width=\"700\" x=\"0\" y=\"100\"/></clipPath><clipPath class=\"axesclip\" id=\"clip0d9aadxy\"><rect height=\"320\" width=\"540\" x=\"80\" y=\"100\"/></clipPath></g><g class=\"gradients\"/></defs><g class=\"bglayer\"><rect class=\"bg\" height=\"320\" style=\"fill: rgb(255, 255, 255); fill-opacity: 1; stroke-width: 0;\" width=\"540\" x=\"80\" y=\"100\"/></g><g class=\"layer-below\"><g class=\"imagelayer\"/><g class=\"shapelayer\"/></g><g class=\"cartesianlayer\"><g class=\"subplot xy\"><g class=\"layer-subplot\"><g class=\"shapelayer\"/><g class=\"imagelayer\"/></g><g class=\"gridlayer\"><g class=\"x\"><path class=\"xgrid crisp\" d=\"M0,100v320\" style=\"stroke: rgb(238, 238, 238); stroke-opacity: 1; stroke-width: 1px;\" transform=\"translate(204.13,0)\"/><path class=\"xgrid crisp\" d=\"M0,100v320\" style=\"stroke: rgb(238, 238, 238); stroke-opacity: 1; stroke-width: 1px;\" transform=\"translate(300.59000000000003,0)\"/><path class=\"xgrid crisp\" d=\"M0,100v320\" style=\"stroke: rgb(238, 238, 238); stroke-opacity: 1; stroke-width: 1px;\" transform=\"translate(397.05,0)\"/><path class=\"xgrid crisp\" d=\"M0,100v320\" style=\"stroke: rgb(238, 238, 238); stroke-opacity: 1; stroke-width: 1px;\" transform=\"translate(493.5,0)\"/><path class=\"xgrid crisp\" d=\"M0,100v320\" style=\"stroke: rgb(238, 238, 238); stroke-opacity: 1; stroke-width: 1px;\" transform=\"translate(589.96,0)\"/></g><g class=\"y\"><path class=\"ygrid crisp\" d=\"M80,0h540\" style=\"stroke: rgb(238, 238, 238); stroke-opacity: 1; stroke-width: 1px;\" transform=\"translate(0,337.8)\"/><path class=\"ygrid crisp\" d=\"M80,0h540\" style=\"stroke: rgb(238, 238, 238); stroke-opacity: 1; stroke-width: 1px;\" transform=\"translate(0,286.78999999999996)\"/><path class=\"ygrid crisp\" d=\"M80,0h540\" style=\"stroke: rgb(238, 238, 238); stroke-opacity: 1; stroke-width: 1px;\" transform=\"translate(0,235.77)\"/><path class=\"ygrid crisp\" d=\"M80,0h540\" style=\"stroke: rgb(238, 238, 238); stroke-opacity: 1; stroke-width: 1px;\" transform=\"translate(0,184.76)\"/><path class=\"ygrid crisp\" d=\"M80,0h540\" style=\"stroke: rgb(238, 238, 238); stroke-opacity: 1; stroke-width: 1px;\" transform=\"translate(0,133.75)\"/></g></g><g class=\"zerolinelayer\"><path class=\"xzl zl crisp\" d=\"M0,100v320\" style=\"stroke: rgb(68, 68, 68); stroke-opacity: 1; stroke-width: 1px;\" transform=\"translate(107.67,0)\"/><path class=\"yzl zl crisp\" d=\"M80,0h540\" style=\"stroke: rgb(68, 68, 68); stroke-opacity: 1; stroke-width: 1px;\" transform=\"translate(0,388.81)\"/></g><path class=\"xlines-below\"/><path class=\"ylines-below\"/><g class=\"overlines-below\"/><g class=\"xaxislayer-below\"/><g class=\"yaxislayer-below\"/><g class=\"overaxes-below\"/><g class=\"plot\" clip-path=\"url(#clip0d9aadxyplot)\" transform=\"translate(80, 100)\"><g class=\"scatterlayer mlayer\"><g class=\"trace scatter trace1e811ca0-b07c-11e8-aa17-645aede86e5b\" style=\"stroke-miterlimit: 2; opacity: 1;\"><g class=\"points\"><path class=\"point\" d=\"M12.31,0A12.31,12.31 0 1,1 0,-12.31A12.31,12.31 0 0,1 12.31,0Z\" style=\"opacity: 0.6; stroke-width: 1px; fill: rgb(70, 12, 94); fill-opacity: 1; stroke: rgb(255, 255, 255); stroke-opacity: 1;\" transform=\"translate(260.44,194.83)\"/><path class=\"point\" d=\"M12.03,0A12.03,12.03 0 1,1 0,-12.03A12.03,12.03 0 0,1 12.03,0Z\" style=\"opacity: 0.6; stroke-width: 1px; fill: rgb(163, 218, 55); fill-opacity: 1; stroke: rgb(255, 255, 255); stroke-opacity: 1;\" transform=\"translate(87.31,160.76)\"/><path class=\"point\" d=\"M9.77,0A9.77,9.77 0 1,1 0,-9.77A9.77,9.77 0 0,1 9.77,0Z\" style=\"opacity: 0.6; stroke-width: 1px; fill: rgb(71, 42, 121); fill-opacity: 1; stroke: rgb(255, 255, 255); stroke-opacity: 1;\" transform=\"translate(39.21,42.04)\"/><path class=\"point\" d=\"M6.98,0A6.98,6.98 0 1,1 0,-6.98A6.98,6.98 0 0,1 6.98,0Z\" style=\"opacity: 0.6; stroke-width: 1px; fill: rgb(207, 225, 30); fill-opacity: 1; stroke: rgb(255, 255, 255); stroke-opacity: 1;\" transform=\"translate(479.09,35.56)\"/><path class=\"point\" d=\"M13.27,0A13.27,13.27 0 1,1 0,-13.27A13.27,13.27 0 0,1 13.27,0Z\" style=\"opacity: 0.6; stroke-width: 1px; fill: rgb(67, 59, 131); fill-opacity: 1; stroke: rgb(255, 255, 255); stroke-opacity: 1;\" transform=\"translate(396.34,126.78)\"/><path class=\"point\" d=\"M6.09,0A6.09,6.09 0 1,1 0,-6.09A6.09,6.09 0 0,1 6.09,0Z\" style=\"opacity: 0.6; stroke-width: 1px; fill: rgb(33, 163, 134); fill-opacity: 1; stroke: rgb(255, 255, 255); stroke-opacity: 1;\" transform=\"translate(133.95,75.45)\"/><path class=\"point\" d=\"M10.77,0A10.77,10.77 0 1,1 0,-10.77A10.77,10.77 0 0,1 10.77,0Z\" style=\"opacity: 0.6; stroke-width: 1px; fill: rgb(43, 117, 142); fill-opacity: 1; stroke: rgb(255, 255, 255); stroke-opacity: 1;\" transform=\"translate(80.94,211.16)\"/><path class=\"point\" d=\"M0.46,0A0.46,0.46 0 1,1 0,-0.46A0.46,0.46 0 0,1 0.46,0Z\" style=\"opacity: 0.6; stroke-width: 1px; fill: rgb(33, 163, 134); fill-opacity: 1; stroke: rgb(255, 255, 255); stroke-opacity: 1;\" transform=\"translate(73.24,275.18)\"/><path class=\"point\" d=\"M13.39,0A13.39,13.39 0 1,1 0,-13.39A13.39,13.39 0 0,1 13.39,0Z\" style=\"opacity: 0.6; stroke-width: 1px; fill: rgb(33, 148, 139); fill-opacity: 1; stroke: rgb(255, 255, 255); stroke-opacity: 1;\" transform=\"translate(408.04,194.49)\"/><path class=\"point\" d=\"M0.81,0A0.81,0.81 0 1,1 0,-0.81A0.81,0.81 0 0,1 0.81,0Z\" style=\"opacity: 0.6; stroke-width: 1px; fill: rgb(105, 204, 91); fill-opacity: 1; stroke: rgb(255, 255, 255); stroke-opacity: 1;\" transform=\"translate(377.26,205.88)\"/><path class=\"point\" d=\"M10.15,0A10.15,10.15 0 1,1 0,-10.15A10.15,10.15 0 0,1 10.15,0Z\" style=\"opacity: 0.6; stroke-width: 1px; fill: rgb(205, 224, 31); fill-opacity: 1; stroke: rgb(255, 255, 255); stroke-opacity: 1;\" transform=\"translate(306.34,275.82)\"/><path class=\"point\" d=\"M1.05,0A1.05,1.05 0 1,1 0,-1.05A1.05,1.05 0 0,1 1.05,0Z\" style=\"opacity: 0.6; stroke-width: 1px; fill: rgb(39, 172, 129); fill-opacity: 1; stroke: rgb(255, 255, 255); stroke-opacity: 1;\" transform=\"translate(278.97,134.21)\"/><path class=\"point\" d=\"M8.59,0A8.59,8.59 0 1,1 0,-8.59A8.59,8.59 0 0,1 8.59,0Z\" style=\"opacity: 0.6; stroke-width: 1px; fill: rgb(96, 202, 97); fill-opacity: 1; stroke: rgb(255, 255, 255); stroke-opacity: 1;\" transform=\"translate(333.17,270.47)\"/><path class=\"point\" d=\"M9.11,0A9.11,9.11 0 1,1 0,-9.11A9.11,9.11 0 0,1 9.11,0Z\" style=\"opacity: 0.6; stroke-width: 1px; fill: rgb(64, 68, 135); fill-opacity: 1; stroke: rgb(255, 255, 255); stroke-opacity: 1;\" transform=\"translate(301.72,81.08)\"/><path class=\"point\" d=\"M6.29,0A6.29,6.29 0 1,1 0,-6.29A6.29,6.29 0 0,1 6.29,0Z\" style=\"opacity: 0.6; stroke-width: 1px; fill: rgb(45, 112, 142); fill-opacity: 1; stroke: rgb(255, 255, 255); stroke-opacity: 1;\" transform=\"translate(269.09,108.29)\"/><path class=\"point\" d=\"M14.6,0A14.6,14.6 0 1,1 0,-14.6A14.6,14.6 0 0,1 14.6,0Z\" style=\"opacity: 0.6; stroke-width: 1px; fill: rgb(59, 186, 117); fill-opacity: 1; stroke: rgb(255, 255, 255); stroke-opacity: 1;\" transform=\"translate(402.78,34.25)\"/><path class=\"point\" d=\"M12.18,0A12.18,12.18 0 1,1 0,-12.18A12.18,12.18 0 0,1 12.18,0Z\" style=\"opacity: 0.6; stroke-width: 1px; fill: rgb(33, 148, 139); fill-opacity: 1; stroke: rgb(255, 255, 255); stroke-opacity: 1;\" transform=\"translate(376.53,234.46)\"/><path class=\"point\" d=\"M2.57,0A2.57,2.57 0 1,1 0,-2.57A2.57,2.57 0 0,1 2.57,0Z\" style=\"opacity: 0.6; stroke-width: 1px; fill: rgb(37, 170, 130); fill-opacity: 1; stroke: rgb(255, 255, 255); stroke-opacity: 1;\" transform=\"translate(401.44,117.18)\"/><path class=\"point\" d=\"M14.26,0A14.26,14.26 0 1,1 0,-14.26A14.26,14.26 0 0,1 14.26,0Z\" style=\"opacity: 0.6; stroke-width: 1px; fill: rgb(45, 177, 125); fill-opacity: 1; stroke: rgb(255, 255, 255); stroke-opacity: 1;\" transform=\"translate(164.18,267.27)\"/><path class=\"point\" d=\"M12.17,0A12.17,12.17 0 1,1 0,-12.17A12.17,12.17 0 0,1 12.17,0Z\" style=\"opacity: 0.6; stroke-width: 1px; fill: rgb(40, 124, 142); fill-opacity: 1; stroke: rgb(255, 255, 255); stroke-opacity: 1;\" transform=\"translate(324.48,287.21)\"/><path class=\"point\" d=\"M0.56,0A0.56,0.56 0 1,1 0,-0.56A0.56,0.56 0 0,1 0.56,0Z\" style=\"opacity: 0.6; stroke-width: 1px; fill: rgb(39, 129, 142); fill-opacity: 1; stroke: rgb(255, 255, 255); stroke-opacity: 1;\" transform=\"translate(188.52,184.12)\"/><path class=\"point\" d=\"M5.02,0A5.02,5.02 0 1,1 0,-5.02A5.02,5.02 0 0,1 5.02,0Z\" style=\"opacity: 0.6; stroke-width: 1px; fill: rgb(245, 230, 35); fill-opacity: 1; stroke: rgb(255, 255, 255); stroke-opacity: 1;\" transform=\"translate(152.86,80.62)\"/><path class=\"point\" d=\"M14.44,0A14.44,14.44 0 1,1 0,-14.44A14.44,14.44 0 0,1 14.44,0Z\" style=\"opacity: 0.6; stroke-width: 1px; fill: rgb(35, 138, 141); fill-opacity: 1; stroke: rgb(255, 255, 255); stroke-opacity: 1;\" transform=\"translate(134.86,176.46)\"/><path class=\"point\" d=\"M3.5,0A3.5,3.5 0 1,1 0,-3.5A3.5,3.5 0 0,1 3.5,0Z\" style=\"opacity: 0.6; stroke-width: 1px; fill: rgb(32, 154, 138); fill-opacity: 1; stroke: rgb(255, 255, 255); stroke-opacity: 1;\" transform=\"translate(492.29,126.3)\"/><path class=\"point\" d=\"M0.76,0A0.76,0.76 0 1,1 0,-0.76A0.76,0.76 0 0,1 0.76,0Z\" style=\"opacity: 0.6; stroke-width: 1px; fill: rgb(91, 200, 99); fill-opacity: 1; stroke: rgb(255, 255, 255); stroke-opacity: 1;\" transform=\"translate(485.1,189.16)\"/><path class=\"point\" d=\"M5.05,0A5.05,5.05 0 1,1 0,-5.05A5.05,5.05 0 0,1 5.05,0Z\" style=\"opacity: 0.6; stroke-width: 1px; fill: rgb(52, 96, 141); fill-opacity: 1; stroke: rgb(255, 255, 255); stroke-opacity: 1;\" transform=\"translate(116.48,174.46)\"/><path class=\"point\" d=\"M9.18,0A9.18,9.18 0 1,1 0,-9.18A9.18,9.18 0 0,1 9.18,0Z\" style=\"opacity: 0.6; stroke-width: 1px; fill: rgb(55, 183, 119); fill-opacity: 1; stroke: rgb(255, 255, 255); stroke-opacity: 1;\" transform=\"translate(477.72,147.66)\"/><path class=\"point\" d=\"M4.53,0A4.53,4.53 0 1,1 0,-4.53A4.53,4.53 0 0,1 4.53,0Z\" style=\"opacity: 0.6; stroke-width: 1px; fill: rgb(70, 13, 95); fill-opacity: 1; stroke: rgb(255, 255, 255); stroke-opacity: 1;\" transform=\"translate(102.02,69.64)\"/><path class=\"point\" d=\"M0.91,0A0.91,0.91 0 1,1 0,-0.91A0.91,0.91 0 0,1 0.91,0Z\" style=\"opacity: 0.6; stroke-width: 1px; fill: rgb(68, 57, 130); fill-opacity: 1; stroke: rgb(255, 255, 255); stroke-opacity: 1;\" transform=\"translate(467.24,246.12)\"/><path class=\"point\" d=\"M3.2,0A3.2,3.2 0 1,1 0,-3.2A3.2,3.2 0 0,1 3.2,0Z\" style=\"opacity: 0.6; stroke-width: 1px; fill: rgb(43, 116, 142); fill-opacity: 1; stroke: rgb(255, 255, 255); stroke-opacity: 1;\" transform=\"translate(41.85,118.88)\"/><path class=\"point\" d=\"M10.87,0A10.87,10.87 0 1,1 0,-10.87A10.87,10.87 0 0,1 10.87,0Z\" style=\"opacity: 0.6; stroke-width: 1px; fill: rgb(57, 185, 118); fill-opacity: 1; stroke: rgb(255, 255, 255); stroke-opacity: 1;\" transform=\"translate(273.35,216.52)\"/><path class=\"point\" d=\"M2.8,0A2.8,2.8 0 1,1 0,-2.8A2.8,2.8 0 0,1 2.8,0Z\" style=\"opacity: 0.6; stroke-width: 1px; fill: rgb(57, 86, 139); fill-opacity: 1; stroke: rgb(255, 255, 255); stroke-opacity: 1;\" transform=\"translate(89.64,122.03)\"/><path class=\"point\" d=\"M5.45,0A5.45,5.45 0 1,1 0,-5.45A5.45,5.45 0 0,1 5.45,0Z\" style=\"opacity: 0.6; stroke-width: 1px; fill: rgb(146, 215, 66); fill-opacity: 1; stroke: rgb(255, 255, 255); stroke-opacity: 1;\" transform=\"translate(148.71,56.97)\"/><path class=\"point\" d=\"M7.09,0A7.09,7.09 0 1,1 0,-7.09A7.09,7.09 0 0,1 7.09,0Z\" style=\"opacity: 0.6; stroke-width: 1px; fill: rgb(71, 42, 120); fill-opacity: 1; stroke: rgb(255, 255, 255); stroke-opacity: 1;\" transform=\"translate(424.96,123.04)\"/><path class=\"point\" d=\"M8.28,0A8.28,8.28 0 1,1 0,-8.28A8.28,8.28 0 0,1 8.28,0Z\" style=\"opacity: 0.6; stroke-width: 1px; fill: rgb(60, 80, 138); fill-opacity: 1; stroke: rgb(255, 255, 255); stroke-opacity: 1;\" transform=\"translate(433.97,261.17)\"/><path class=\"point\" d=\"M0.21,0A0.21,0.21 0 1,1 0,-0.21A0.21,0.21 0 0,1 0.21,0Z\" style=\"opacity: 0.6; stroke-width: 1px; fill: rgb(196, 223, 36); fill-opacity: 1; stroke: rgb(255, 255, 255); stroke-opacity: 1;\" transform=\"translate(374.37,178.47)\"/><path class=\"point\" d=\"M11.81,0A11.81,11.81 0 1,1 0,-11.81A11.81,11.81 0 0,1 11.81,0Z\" style=\"opacity: 0.6; stroke-width: 1px; fill: rgb(69, 5, 88); fill-opacity: 1; stroke: rgb(255, 255, 255); stroke-opacity: 1;\" transform=\"translate(408.59,228.84)\"/><path class=\"point\" d=\"M3.91,0A3.91,3.91 0 1,1 0,-3.91A3.91,3.91 0 0,1 3.91,0Z\" style=\"opacity: 0.6; stroke-width: 1px; fill: rgb(33, 148, 139); fill-opacity: 1; stroke: rgb(255, 255, 255); stroke-opacity: 1;\" transform=\"translate(231.35,42.61)\"/><path class=\"point\" d=\"M10.94,0A10.94,10.94 0 1,1 0,-10.94A10.94,10.94 0 0,1 10.94,0Z\" style=\"opacity: 0.6; stroke-width: 1px; fill: rgb(70, 10, 93); fill-opacity: 1; stroke: rgb(255, 255, 255); stroke-opacity: 1;\" transform=\"translate(320.07,129.91)\"/><path class=\"point\" d=\"M2.42,0A2.42,2.42 0 1,1 0,-2.42A2.42,2.42 0 0,1 2.42,0Z\" style=\"opacity: 0.6; stroke-width: 1px; fill: rgb(33, 163, 134); fill-opacity: 1; stroke: rgb(255, 255, 255); stroke-opacity: 1;\" transform=\"translate(336.3,78.23)\"/><path class=\"point\" d=\"M11.28,0A11.28,11.28 0 1,1 0,-11.28A11.28,11.28 0 0,1 11.28,0Z\" style=\"opacity: 0.6; stroke-width: 1px; fill: rgb(32, 161, 135); fill-opacity: 1; stroke: rgb(255, 255, 255); stroke-opacity: 1;\" transform=\"translate(476.27,215.71)\"/><path class=\"point\" d=\"M1.12,0A1.12,1.12 0 1,1 0,-1.12A1.12,1.12 0 0,1 1.12,0Z\" style=\"opacity: 0.6; stroke-width: 1px; fill: rgb(210, 225, 28); fill-opacity: 1; stroke: rgb(255, 255, 255); stroke-opacity: 1;\" transform=\"translate(237.25,57.41)\"/><path class=\"point\" d=\"M4.69,0A4.69,4.69 0 1,1 0,-4.69A4.69,4.69 0 0,1 4.69,0Z\" style=\"opacity: 0.6; stroke-width: 1px; fill: rgb(69, 9, 91); fill-opacity: 1; stroke: rgb(255, 255, 255); stroke-opacity: 1;\" transform=\"translate(228.02,275.81)\"/><path class=\"point\" d=\"M10.03,0A10.03,10.03 0 1,1 0,-10.03A10.03,10.03 0 0,1 10.03,0Z\" style=\"opacity: 0.6; stroke-width: 1px; fill: rgb(49, 103, 141); fill-opacity: 1; stroke: rgb(255, 255, 255); stroke-opacity: 1;\" transform=\"translate(317.24,49.69)\"/><path class=\"point\" d=\"M5.32,0A5.32,5.32 0 1,1 0,-5.32A5.32,5.32 0 0,1 5.32,0Z\" style=\"opacity: 0.6; stroke-width: 1px; fill: rgb(102, 203, 93); fill-opacity: 1; stroke: rgb(255, 255, 255); stroke-opacity: 1;\" transform=\"translate(246.27,206.34)\"/><path class=\"point\" d=\"M8.79,0A8.79,8.79 0 1,1 0,-8.79A8.79,8.79 0 0,1 8.79,0Z\" style=\"opacity: 0.6; stroke-width: 1px; fill: rgb(105, 204, 91); fill-opacity: 1; stroke: rgb(255, 255, 255); stroke-opacity: 1;\" transform=\"translate(220.4,132.85)\"/><path class=\"point\" d=\"M2.89,0A2.89,2.89 0 1,1 0,-2.89A2.89,2.89 0 0,1 2.89,0Z\" style=\"opacity: 0.6; stroke-width: 1px; fill: rgb(52, 97, 141); fill-opacity: 1; stroke: rgb(255, 255, 255); stroke-opacity: 1;\" transform=\"translate(326.96,284.68)\"/><path class=\"point\" d=\"M14.27,0A14.27,14.27 0 1,1 0,-14.27A14.27,14.27 0 0,1 14.27,0Z\" style=\"opacity: 0.6; stroke-width: 1px; fill: rgb(53, 182, 121); fill-opacity: 1; stroke: rgb(255, 255, 255); stroke-opacity: 1;\" transform=\"translate(63.07,82.87)\"/><path class=\"point\" d=\"M13.04,0A13.04,13.04 0 1,1 0,-13.04A13.04,13.04 0 0,1 13.04,0Z\" style=\"opacity: 0.6; stroke-width: 1px; fill: rgb(70, 49, 125); fill-opacity: 1; stroke: rgb(255, 255, 255); stroke-opacity: 1;\" transform=\"translate(241.04,130.74)\"/><path class=\"point\" d=\"M11.66,0A11.66,11.66 0 1,1 0,-11.66A11.66,11.66 0 0,1 11.66,0Z\" style=\"opacity: 0.6; stroke-width: 1px; fill: rgb(229, 228, 29); fill-opacity: 1; stroke: rgb(255, 255, 255); stroke-opacity: 1;\" transform=\"translate(173,67.63)\"/><path class=\"point\" d=\"M6.8,0A6.8,6.8 0 1,1 0,-6.8A6.8,6.8 0 0,1 6.8,0Z\" style=\"opacity: 0.6; stroke-width: 1px; fill: rgb(66, 63, 133); fill-opacity: 1; stroke: rgb(255, 255, 255); stroke-opacity: 1;\" transform=\"translate(415.3,80.2)\"/><path class=\"point\" d=\"M11.49,0A11.49,11.49 0 1,1 0,-11.49A11.49,11.49 0 0,1 11.49,0Z\" style=\"opacity: 0.6; stroke-width: 1px; fill: rgb(131, 212, 76); fill-opacity: 1; stroke: rgb(255, 255, 255); stroke-opacity: 1;\" transform=\"translate(401.2,186.17)\"/><path class=\"point\" d=\"M6.63,0A6.63,6.63 0 1,1 0,-6.63A6.63,6.63 0 0,1 6.63,0Z\" style=\"opacity: 0.6; stroke-width: 1px; fill: rgb(236, 229, 32); fill-opacity: 1; stroke: rgb(255, 255, 255); stroke-opacity: 1;\" transform=\"translate(213.65,145.35)\"/><path class=\"point\" d=\"M11.74,0A11.74,11.74 0 1,1 0,-11.74A11.74,11.74 0 0,1 11.74,0Z\" style=\"opacity: 0.6; stroke-width: 1px; fill: rgb(104, 204, 92); fill-opacity: 1; stroke: rgb(255, 255, 255); stroke-opacity: 1;\" transform=\"translate(402.04,82.26)\"/><path class=\"point\" d=\"M7.93,0A7.93,7.93 0 1,1 0,-7.93A7.93,7.93 0 0,1 7.93,0Z\" style=\"opacity: 0.6; stroke-width: 1px; fill: rgb(36, 167, 132); fill-opacity: 1; stroke: rgb(255, 255, 255); stroke-opacity: 1;\" transform=\"translate(299.63,36.16)\"/><path class=\"point\" d=\"M14.14,0A14.14,14.14 0 1,1 0,-14.14A14.14,14.14 0 0,1 14.14,0Z\" style=\"opacity: 0.6; stroke-width: 1px; fill: rgb(39, 128, 142); fill-opacity: 1; stroke: rgb(255, 255, 255); stroke-opacity: 1;\" transform=\"translate(325.15,202.96)\"/><path class=\"point\" d=\"M4.5,0A4.5,4.5 0 1,1 0,-4.5A4.5,4.5 0 0,1 4.5,0Z\" style=\"opacity: 0.6; stroke-width: 1px; fill: rgb(240, 229, 33); fill-opacity: 1; stroke: rgb(255, 255, 255); stroke-opacity: 1;\" transform=\"translate(298.54,218.86)\"/><path class=\"point\" d=\"M9.53,0A9.53,9.53 0 1,1 0,-9.53A9.53,9.53 0 0,1 9.53,0Z\" style=\"opacity: 0.6; stroke-width: 1px; fill: rgb(68, 1, 84); fill-opacity: 1; stroke: rgb(255, 255, 255); stroke-opacity: 1;\" transform=\"translate(413.71,45.13)\"/><path class=\"point\" d=\"M8.26,0A8.26,8.26 0 1,1 0,-8.26A8.26,8.26 0 0,1 8.26,0Z\" style=\"opacity: 0.6; stroke-width: 1px; fill: rgb(178, 221, 45); fill-opacity: 1; stroke: rgb(255, 255, 255); stroke-opacity: 1;\" transform=\"translate(197.98,271.2)\"/><path class=\"point\" d=\"M3.24,0A3.24,3.24 0 1,1 0,-3.24A3.24,3.24 0 0,1 3.24,0Z\" style=\"opacity: 0.6; stroke-width: 1px; fill: rgb(61, 76, 137); fill-opacity: 1; stroke: rgb(255, 255, 255); stroke-opacity: 1;\" transform=\"translate(336.6,156.23)\"/><path class=\"point\" d=\"M9.14,0A9.14,9.14 0 1,1 0,-9.14A9.14,9.14 0 0,1 9.14,0Z\" style=\"opacity: 0.6; stroke-width: 1px; fill: rgb(41, 174, 128); fill-opacity: 1; stroke: rgb(255, 255, 255); stroke-opacity: 1;\" transform=\"translate(388.71,121.86)\"/><path class=\"point\" d=\"M9.68,0A9.68,9.68 0 1,1 0,-9.68A9.68,9.68 0 0,1 9.68,0Z\" style=\"opacity: 0.6; stroke-width: 1px; fill: rgb(62, 74, 137); fill-opacity: 1; stroke: rgb(255, 255, 255); stroke-opacity: 1;\" transform=\"translate(117.14,162.06)\"/><path class=\"point\" d=\"M14.36,0A14.36,14.36 0 1,1 0,-14.36A14.36,14.36 0 0,1 14.36,0Z\" style=\"opacity: 0.6; stroke-width: 1px; fill: rgb(198, 223, 35); fill-opacity: 1; stroke: rgb(255, 255, 255); stroke-opacity: 1;\" transform=\"translate(324.53,237.87)\"/><path class=\"point\" d=\"M7.22,0A7.22,7.22 0 1,1 0,-7.22A7.22,7.22 0 0,1 7.22,0Z\" style=\"opacity: 0.6; stroke-width: 1px; fill: rgb(66, 64, 134); fill-opacity: 1; stroke: rgb(255, 255, 255); stroke-opacity: 1;\" transform=\"translate(477.1,254.16)\"/><path class=\"point\" d=\"M12.67,0A12.67,12.67 0 1,1 0,-12.67A12.67,12.67 0 0,1 12.67,0Z\" style=\"opacity: 0.6; stroke-width: 1px; fill: rgb(32, 150, 139); fill-opacity: 1; stroke: rgb(255, 255, 255); stroke-opacity: 1;\" transform=\"translate(123.86,271.73)\"/><path class=\"point\" d=\"M7.53,0A7.53,7.53 0 1,1 0,-7.53A7.53,7.53 0 0,1 7.53,0Z\" style=\"opacity: 0.6; stroke-width: 1px; fill: rgb(192, 223, 38); fill-opacity: 1; stroke: rgb(255, 255, 255); stroke-opacity: 1;\" transform=\"translate(280.7,114.5)\"/><path class=\"point\" d=\"M5.51,0A5.51,5.51 0 1,1 0,-5.51A5.51,5.51 0 0,1 5.51,0Z\" style=\"opacity: 0.6; stroke-width: 1px; fill: rgb(60, 78, 138); fill-opacity: 1; stroke: rgb(255, 255, 255); stroke-opacity: 1;\" transform=\"translate(308.5,43.81)\"/><path class=\"point\" d=\"M1.71,0A1.71,1.71 0 1,1 0,-1.71A1.71,1.71 0 0,1 1.71,0Z\" style=\"opacity: 0.6; stroke-width: 1px; fill: rgb(61, 187, 116); fill-opacity: 1; stroke: rgb(255, 255, 255); stroke-opacity: 1;\" transform=\"translate(114.28,270.96)\"/><path class=\"point\" d=\"M3.25,0A3.25,3.25 0 1,1 0,-3.25A3.25,3.25 0 0,1 3.25,0Z\" style=\"opacity: 0.6; stroke-width: 1px; fill: rgb(103, 204, 93); fill-opacity: 1; stroke: rgb(255, 255, 255); stroke-opacity: 1;\" transform=\"translate(251.31,104.75)\"/><path class=\"point\" d=\"M0.57,0A0.57,0.57 0 1,1 0,-0.57A0.57,0.57 0 0,1 0.57,0Z\" style=\"opacity: 0.6; stroke-width: 1px; fill: rgb(43, 116, 142); fill-opacity: 1; stroke: rgb(255, 255, 255); stroke-opacity: 1;\" transform=\"translate(479.3,244.44)\"/><path class=\"point\" d=\"M9.55,0A9.55,9.55 0 1,1 0,-9.55A9.55,9.55 0 0,1 9.55,0Z\" style=\"opacity: 0.6; stroke-width: 1px; fill: rgb(108, 205, 89); fill-opacity: 1; stroke: rgb(255, 255, 255); stroke-opacity: 1;\" transform=\"translate(501.07,134.2)\"/><path class=\"point\" d=\"M8.02,0A8.02,8.02 0 1,1 0,-8.02A8.02,8.02 0 0,1 8.02,0Z\" style=\"opacity: 0.6; stroke-width: 1px; fill: rgb(253, 231, 37); fill-opacity: 1; stroke: rgb(255, 255, 255); stroke-opacity: 1;\" transform=\"translate(188.52,267.72)\"/><path class=\"point\" d=\"M8.52,0A8.52,8.52 0 1,1 0,-8.52A8.52,8.52 0 0,1 8.52,0Z\" style=\"opacity: 0.6; stroke-width: 1px; fill: rgb(141, 214, 69); fill-opacity: 1; stroke: rgb(255, 255, 255); stroke-opacity: 1;\" transform=\"translate(343.21,159.86)\"/><path class=\"point\" d=\"M9.99,0A9.99,9.99 0 1,1 0,-9.99A9.99,9.99 0 0,1 9.99,0Z\" style=\"opacity: 0.6; stroke-width: 1px; fill: rgb(55, 89, 140); fill-opacity: 1; stroke: rgb(255, 255, 255); stroke-opacity: 1;\" transform=\"translate(280,157.13)\"/><path class=\"point\" d=\"M12.27,0A12.27,12.27 0 1,1 0,-12.27A12.27,12.27 0 0,1 12.27,0Z\" style=\"opacity: 0.6; stroke-width: 1px; fill: rgb(42, 175, 127); fill-opacity: 1; stroke: rgb(255, 255, 255); stroke-opacity: 1;\" transform=\"translate(491.34,271.33)\"/><path class=\"point\" d=\"M6.11,0A6.11,6.11 0 1,1 0,-6.11A6.11,6.11 0 0,1 6.11,0Z\" style=\"opacity: 0.6; stroke-width: 1px; fill: rgb(41, 122, 142); fill-opacity: 1; stroke: rgb(255, 255, 255); stroke-opacity: 1;\" transform=\"translate(73.6,82.03)\"/><path class=\"point\" d=\"M13.76,0A13.76,13.76 0 1,1 0,-13.76A13.76,13.76 0 0,1 13.76,0Z\" style=\"opacity: 0.6; stroke-width: 1px; fill: rgb(209, 225, 29); fill-opacity: 1; stroke: rgb(255, 255, 255); stroke-opacity: 1;\" transform=\"translate(342.06,286.8)\"/><path class=\"point\" d=\"M12.72,0A12.72,12.72 0 1,1 0,-12.72A12.72,12.72 0 0,1 12.72,0Z\" style=\"opacity: 0.6; stroke-width: 1px; fill: rgb(41, 123, 142); fill-opacity: 1; stroke: rgb(255, 255, 255); stroke-opacity: 1;\" transform=\"translate(300.26,226.77)\"/><path class=\"point\" d=\"M5.35,0A5.35,5.35 0 1,1 0,-5.35A5.35,5.35 0 0,1 5.35,0Z\" style=\"opacity: 0.6; stroke-width: 1px; fill: rgb(67, 190, 113); fill-opacity: 1; stroke: rgb(255, 255, 255); stroke-opacity: 1;\" transform=\"translate(88.91,117.26)\"/><path class=\"point\" d=\"M13.39,0A13.39,13.39 0 1,1 0,-13.39A13.39,13.39 0 0,1 13.39,0Z\" style=\"opacity: 0.6; stroke-width: 1px; fill: rgb(84, 197, 103); fill-opacity: 1; stroke: rgb(255, 255, 255); stroke-opacity: 1;\" transform=\"translate(331.44,170.55)\"/><path class=\"point\" d=\"M2.07,0A2.07,2.07 0 1,1 0,-2.07A2.07,2.07 0 0,1 2.07,0Z\" style=\"opacity: 0.6; stroke-width: 1px; fill: rgb(49, 103, 141); fill-opacity: 1; stroke: rgb(255, 255, 255); stroke-opacity: 1;\" transform=\"translate(217.13,172.5)\"/><path class=\"point\" d=\"M12.62,0A12.62,12.62 0 1,1 0,-12.62A12.62,12.62 0 0,1 12.62,0Z\" style=\"opacity: 0.6; stroke-width: 1px; fill: rgb(71, 19, 102); fill-opacity: 1; stroke: rgb(255, 255, 255); stroke-opacity: 1;\" transform=\"translate(234.86,91.53)\"/><path class=\"point\" d=\"M12.13,0A12.13,12.13 0 1,1 0,-12.13A12.13,12.13 0 0,1 12.13,0Z\" style=\"opacity: 0.6; stroke-width: 1px; fill: rgb(32, 154, 138); fill-opacity: 1; stroke: rgb(255, 255, 255); stroke-opacity: 1;\" transform=\"translate(52.99,228.14)\"/><path class=\"point\" d=\"M14.52,0A14.52,14.52 0 1,1 0,-14.52A14.52,14.52 0 0,1 14.52,0Z\" style=\"opacity: 0.6; stroke-width: 1px; fill: rgb(221, 227, 27); fill-opacity: 1; stroke: rgb(255, 255, 255); stroke-opacity: 1;\" transform=\"translate(346.12,174.28)\"/><path class=\"point\" d=\"M1.25,0A1.25,1.25 0 1,1 0,-1.25A1.25,1.25 0 0,1 1.25,0Z\" style=\"opacity: 0.6; stroke-width: 1px; fill: rgb(163, 218, 55); fill-opacity: 1; stroke: rgb(255, 255, 255); stroke-opacity: 1;\" transform=\"translate(81.01,145.53)\"/><path class=\"point\" d=\"M13.28,0A13.28,13.28 0 1,1 0,-13.28A13.28,13.28 0 0,1 13.28,0Z\" style=\"opacity: 0.6; stroke-width: 1px; fill: rgb(57, 86, 139); fill-opacity: 1; stroke: rgb(255, 255, 255); stroke-opacity: 1;\" transform=\"translate(171.39,270.39)\"/><path class=\"point\" d=\"M9.63,0A9.63,9.63 0 1,1 0,-9.63A9.63,9.63 0 0,1 9.63,0Z\" style=\"opacity: 0.6; stroke-width: 1px; fill: rgb(71, 40, 119); fill-opacity: 1; stroke: rgb(255, 255, 255); stroke-opacity: 1;\" transform=\"translate(100.47,34.82)\"/><path class=\"point\" d=\"M1.41,0A1.41,1.41 0 1,1 0,-1.41A1.41,1.41 0 0,1 1.41,0Z\" style=\"opacity: 0.6; stroke-width: 1px; fill: rgb(33, 146, 140); fill-opacity: 1; stroke: rgb(255, 255, 255); stroke-opacity: 1;\" transform=\"translate(317.84,222.85)\"/><path class=\"point\" d=\"M10.75,0A10.75,10.75 0 1,1 0,-10.75A10.75,10.75 0 0,1 10.75,0Z\" style=\"opacity: 0.6; stroke-width: 1px; fill: rgb(85, 197, 103); fill-opacity: 1; stroke: rgb(255, 255, 255); stroke-opacity: 1;\" transform=\"translate(69.86,64.35)\"/><path class=\"point\" d=\"M7.75,0A7.75,7.75 0 1,1 0,-7.75A7.75,7.75 0 0,1 7.75,0Z\" style=\"opacity: 0.6; stroke-width: 1px; fill: rgb(65, 67, 135); fill-opacity: 1; stroke: rgb(255, 255, 255); stroke-opacity: 1;\" transform=\"translate(57.35,118.32)\"/><path class=\"point\" d=\"M14.74,0A14.74,14.74 0 1,1 0,-14.74A14.74,14.74 0 0,1 14.74,0Z\" style=\"opacity: 0.6; stroke-width: 1px; fill: rgb(68, 190, 112); fill-opacity: 1; stroke: rgb(255, 255, 255); stroke-opacity: 1;\" transform=\"translate(122.31,278.25)\"/><path class=\"point\" d=\"M13.04,0A13.04,13.04 0 1,1 0,-13.04A13.04,13.04 0 0,1 13.04,0Z\" style=\"opacity: 0.6; stroke-width: 1px; fill: rgb(148, 215, 65); fill-opacity: 1; stroke: rgb(255, 255, 255); stroke-opacity: 1;\" transform=\"translate(167.94,243.68)\"/><path class=\"point\" d=\"M1.43,0A1.43,1.43 0 1,1 0,-1.43A1.43,1.43 0 0,1 1.43,0Z\" style=\"opacity: 0.6; stroke-width: 1px; fill: rgb(70, 12, 94); fill-opacity: 1; stroke: rgb(255, 255, 255); stroke-opacity: 1;\" transform=\"translate(219.73,149.91)\"/><path class=\"point\" d=\"M5.29,0A5.29,5.29 0 1,1 0,-5.29A5.29,5.29 0 0,1 5.29,0Z\" style=\"opacity: 0.6; stroke-width: 1px; fill: rgb(38, 131, 142); fill-opacity: 1; stroke: rgb(255, 255, 255); stroke-opacity: 1;\" transform=\"translate(171.05,175.83)\"/><path class=\"point\" d=\"M5.88,0A5.88,5.88 0 1,1 0,-5.88A5.88,5.88 0 0,1 5.88,0Z\" style=\"opacity: 0.6; stroke-width: 1px; fill: rgb(142, 214, 68); fill-opacity: 1; stroke: rgb(255, 255, 255); stroke-opacity: 1;\" transform=\"translate(323.48,197.22)\"/><path class=\"point\" d=\"M4.53,0A4.53,4.53 0 1,1 0,-4.53A4.53,4.53 0 0,1 4.53,0Z\" style=\"opacity: 0.6; stroke-width: 1px; fill: rgb(138, 213, 71); fill-opacity: 1; stroke: rgb(255, 255, 255); stroke-opacity: 1;\" transform=\"translate(131.85,49.3)\"/><path class=\"point\" d=\"M6.25,0A6.25,6.25 0 1,1 0,-6.25A6.25,6.25 0 0,1 6.25,0Z\" style=\"opacity: 0.6; stroke-width: 1px; fill: rgb(65, 67, 135); fill-opacity: 1; stroke: rgb(255, 255, 255); stroke-opacity: 1;\" transform=\"translate(136.46,200.49)\"/><path class=\"point\" d=\"M5.44,0A5.44,5.44 0 1,1 0,-5.44A5.44,5.44 0 0,1 5.44,0Z\" style=\"opacity: 0.6; stroke-width: 1px; fill: rgb(132, 212, 75); fill-opacity: 1; stroke: rgb(255, 255, 255); stroke-opacity: 1;\" transform=\"translate(479.71,66.19)\"/><path class=\"point\" d=\"M13.35,0A13.35,13.35 0 1,1 0,-13.35A13.35,13.35 0 0,1 13.35,0Z\" style=\"opacity: 0.6; stroke-width: 1px; fill: rgb(39, 173, 129); fill-opacity: 1; stroke: rgb(255, 255, 255); stroke-opacity: 1;\" transform=\"translate(303.51,211.1)\"/><path class=\"point\" d=\"M13.63,0A13.63,13.63 0 1,1 0,-13.63A13.63,13.63 0 0,1 13.63,0Z\" style=\"opacity: 0.6; stroke-width: 1px; fill: rgb(153, 216, 61); fill-opacity: 1; stroke: rgb(255, 255, 255); stroke-opacity: 1;\" transform=\"translate(235.91,257.56)\"/></g></g></g></g><g class=\"overplot\"/><path class=\"xlines-above crisp\" d=\"M0,0\" style=\"fill: none;\"/><path class=\"ylines-above crisp\" d=\"M0,0\" style=\"fill: none;\"/><g class=\"overlines-above\"/><g class=\"xaxislayer-above\"><g class=\"xtick\"><text style=\"font-family: 'Open Sans', verdana, arial, sans-serif; font-size: 12px; fill: rgb(68, 68, 68); fill-opacity: 1; white-space: pre;\" text-anchor=\"middle\" transform=\"translate(107.67,0)\" x=\"0\" y=\"433\">0</text></g><g class=\"xtick\"><text style=\"font-family: 'Open Sans', verdana, arial, sans-serif; font-size: 12px; fill: rgb(68, 68, 68); fill-opacity: 1; white-space: pre;\" text-anchor=\"middle\" transform=\"translate(204.13,0)\" x=\"0\" y=\"433\">0.2</text></g><g class=\"xtick\"><text style=\"font-family: 'Open Sans', verdana, arial, sans-serif; font-size: 12px; fill: rgb(68, 68, 68); fill-opacity: 1; white-space: pre;\" text-anchor=\"middle\" transform=\"translate(300.59000000000003,0)\" x=\"0\" y=\"433\">0.4</text></g><g class=\"xtick\"><text style=\"font-family: 'Open Sans', verdana, arial, sans-serif; font-size: 12px; fill: rgb(68, 68, 68); fill-opacity: 1; white-space: pre;\" text-anchor=\"middle\" transform=\"translate(397.05,0)\" x=\"0\" y=\"433\">0.6</text></g><g class=\"xtick\"><text style=\"font-family: 'Open Sans', verdana, arial, sans-serif; font-size: 12px; fill: rgb(68, 68, 68); fill-opacity: 1; white-space: pre;\" text-anchor=\"middle\" transform=\"translate(493.5,0)\" x=\"0\" y=\"433\">0.8</text></g><g class=\"xtick\"><text style=\"font-family: 'Open Sans', verdana, arial, sans-serif; font-size: 12px; fill: rgb(68, 68, 68); fill-opacity: 1; white-space: pre;\" text-anchor=\"middle\" transform=\"translate(589.96,0)\" x=\"0\" y=\"433\">1</text></g></g><g class=\"yaxislayer-above\"><g class=\"ytick\"><text style=\"font-family: 'Open Sans', verdana, arial, sans-serif; font-size: 12px; fill: rgb(68, 68, 68); fill-opacity: 1; white-space: pre;\" text-anchor=\"end\" transform=\"translate(0,388.81)\" x=\"79\" y=\"4.199999999999999\">0</text></g><g class=\"ytick\"><text style=\"font-family: 'Open Sans', verdana, arial, sans-serif; font-size: 12px; fill: rgb(68, 68, 68); fill-opacity: 1; white-space: pre;\" text-anchor=\"end\" transform=\"translate(0,337.8)\" x=\"79\" y=\"4.199999999999999\">0.2</text></g><g class=\"ytick\"><text style=\"font-family: 'Open Sans', verdana, arial, sans-serif; font-size: 12px; fill: rgb(68, 68, 68); fill-opacity: 1; white-space: pre;\" text-anchor=\"end\" transform=\"translate(0,286.78999999999996)\" x=\"79\" y=\"4.199999999999999\">0.4</text></g><g class=\"ytick\"><text style=\"font-family: 'Open Sans', verdana, arial, sans-serif; font-size: 12px; fill: rgb(68, 68, 68); fill-opacity: 1; white-space: pre;\" text-anchor=\"end\" transform=\"translate(0,235.77)\" x=\"79\" y=\"4.199999999999999\">0.6</text></g><g class=\"ytick\"><text style=\"font-family: 'Open Sans', verdana, arial, sans-serif; font-size: 12px; fill: rgb(68, 68, 68); fill-opacity: 1; white-space: pre;\" text-anchor=\"end\" transform=\"translate(0,184.76)\" x=\"79\" y=\"4.199999999999999\">0.8</text></g><g class=\"ytick\"><text style=\"font-family: 'Open Sans', verdana, arial, sans-serif; font-size: 12px; fill: rgb(68, 68, 68); fill-opacity: 1; white-space: pre;\" text-anchor=\"end\" transform=\"translate(0,133.75)\" x=\"79\" y=\"4.199999999999999\">1</text></g></g><g class=\"overaxes-above\"/></g></g><g class=\"polarlayer\"/><g class=\"ternarylayer\"/><g class=\"geolayer\"/><g class=\"pielayer\"/><g class=\"glimages\"/><defs id=\"topdefs-0d9aad\"><g class=\"clips\"/></defs><g class=\"layer-above\"><g class=\"imagelayer\"/><g class=\"shapelayer\"/></g><g class=\"infolayer\"><g class=\"g-gtitle\"/><g class=\"g-xtitle\"/><g class=\"g-ytitle\"/></g></svg>"
      ],
      "text/plain": [
       "<IPython.core.display.SVG object>"
      ]
     },
     "metadata": {},
     "output_type": "display_data"
    },
    {
     "name": "stdout",
     "output_type": "stream",
     "text": [
      "CPU times: user 13.2 ms, sys: 2.61 ms, total: 15.8 ms\n",
      "Wall time: 69.1 ms\n"
     ]
    }
   ],
   "source": [
    "%%time\n",
    "img_bytes = pio.to_image(fig, format='svg')\n",
    "display(SVG(img_bytes))"
   ]
  },
  {
   "cell_type": "markdown",
   "metadata": {},
   "source": [
    "The difference in runtime is dramatic. Starting the server and exporting the first image takes a couple seconds, while exporting an image with a running server is much faster."
   ]
  },
  {
   "cell_type": "markdown",
   "metadata": {},
   "source": [
    "### Shutdown the server\n",
    "By default, the orca server will continue to run until the main Python process exits.  It can also be manually shut down by calling the `plotly.io.orca.shutdown_server()` function.  Additionally, it is possible to configure the server to shut down automatically after a certain period of inactivity. See the `timeout` configuration parameter below for more information.\n",
    "\n",
    "Regardless of how the server is shut down, it will start back up automatically the next time an image export operation is performed."
   ]
  },
  {
   "cell_type": "code",
   "execution_count": 7,
   "metadata": {},
   "outputs": [
    {
     "data": {
      "text/plain": [
       "orca status\n",
       "-----------\n",
       "    state: validated\n",
       "    executable: /anaconda3/envs/plotly_conda37/bin/orca\n",
       "    version: 1.1.1\n",
       "    port: None\n",
       "    pid: None\n",
       "    command: None\n",
       "    "
      ]
     },
     "execution_count": 7,
     "metadata": {},
     "output_type": "execute_result"
    }
   ],
   "source": [
    "pio.orca.shutdown_server()\n",
    "pio.orca.status"
   ]
  },
  {
   "cell_type": "code",
   "execution_count": 8,
   "metadata": {},
   "outputs": [
    {
     "data": {
      "image/svg+xml": [
       "<svg class=\"main-svg\" height=\"500\" viewBox=\"0 0 700 500\" width=\"700\" xmlns=\"http://www.w3.org/2000/svg\" xmlns:xlink=\"http://www.w3.org/1999/xlink\"><rect height=\"500\" style=\"fill: rgb(255, 255, 255); fill-opacity: 1;\" width=\"700\" x=\"0\" y=\"0\"/><defs id=\"defs-1e9512\"><g class=\"clips\"><clipPath class=\"plotclip\" id=\"clip1e9512xyplot\"><rect height=\"320\" width=\"540\"/></clipPath><clipPath class=\"axesclip\" id=\"clip1e9512x\"><rect height=\"500\" width=\"540\" x=\"80\" y=\"0\"/></clipPath><clipPath class=\"axesclip\" id=\"clip1e9512y\"><rect height=\"320\" width=\"700\" x=\"0\" y=\"100\"/></clipPath><clipPath class=\"axesclip\" id=\"clip1e9512xy\"><rect height=\"320\" width=\"540\" x=\"80\" y=\"100\"/></clipPath></g><g class=\"gradients\"/></defs><g class=\"bglayer\"><rect class=\"bg\" height=\"320\" style=\"fill: rgb(255, 255, 255); fill-opacity: 1; stroke-width: 0;\" width=\"540\" x=\"80\" y=\"100\"/></g><g class=\"layer-below\"><g class=\"imagelayer\"/><g class=\"shapelayer\"/></g><g class=\"cartesianlayer\"><g class=\"subplot xy\"><g class=\"layer-subplot\"><g class=\"shapelayer\"/><g class=\"imagelayer\"/></g><g class=\"gridlayer\"><g class=\"x\"><path class=\"xgrid crisp\" d=\"M0,100v320\" style=\"stroke: rgb(238, 238, 238); stroke-opacity: 1; stroke-width: 1px;\" transform=\"translate(204.13,0)\"/><path class=\"xgrid crisp\" d=\"M0,100v320\" style=\"stroke: rgb(238, 238, 238); stroke-opacity: 1; stroke-width: 1px;\" transform=\"translate(300.59000000000003,0)\"/><path class=\"xgrid crisp\" d=\"M0,100v320\" style=\"stroke: rgb(238, 238, 238); stroke-opacity: 1; stroke-width: 1px;\" transform=\"translate(397.05,0)\"/><path class=\"xgrid crisp\" d=\"M0,100v320\" style=\"stroke: rgb(238, 238, 238); stroke-opacity: 1; stroke-width: 1px;\" transform=\"translate(493.5,0)\"/><path class=\"xgrid crisp\" d=\"M0,100v320\" style=\"stroke: rgb(238, 238, 238); stroke-opacity: 1; stroke-width: 1px;\" transform=\"translate(589.96,0)\"/></g><g class=\"y\"><path class=\"ygrid crisp\" d=\"M80,0h540\" style=\"stroke: rgb(238, 238, 238); stroke-opacity: 1; stroke-width: 1px;\" transform=\"translate(0,337.8)\"/><path class=\"ygrid crisp\" d=\"M80,0h540\" style=\"stroke: rgb(238, 238, 238); stroke-opacity: 1; stroke-width: 1px;\" transform=\"translate(0,286.78999999999996)\"/><path class=\"ygrid crisp\" d=\"M80,0h540\" style=\"stroke: rgb(238, 238, 238); stroke-opacity: 1; stroke-width: 1px;\" transform=\"translate(0,235.77)\"/><path class=\"ygrid crisp\" d=\"M80,0h540\" style=\"stroke: rgb(238, 238, 238); stroke-opacity: 1; stroke-width: 1px;\" transform=\"translate(0,184.76)\"/><path class=\"ygrid crisp\" d=\"M80,0h540\" style=\"stroke: rgb(238, 238, 238); stroke-opacity: 1; stroke-width: 1px;\" transform=\"translate(0,133.75)\"/></g></g><g class=\"zerolinelayer\"><path class=\"xzl zl crisp\" d=\"M0,100v320\" style=\"stroke: rgb(68, 68, 68); stroke-opacity: 1; stroke-width: 1px;\" transform=\"translate(107.67,0)\"/><path class=\"yzl zl crisp\" d=\"M80,0h540\" style=\"stroke: rgb(68, 68, 68); stroke-opacity: 1; stroke-width: 1px;\" transform=\"translate(0,388.81)\"/></g><path class=\"xlines-below\"/><path class=\"ylines-below\"/><g class=\"overlines-below\"/><g class=\"xaxislayer-below\"/><g class=\"yaxislayer-below\"/><g class=\"overaxes-below\"/><g class=\"plot\" clip-path=\"url(#clip1e9512xyplot)\" transform=\"translate(80, 100)\"><g class=\"scatterlayer mlayer\"><g class=\"trace scatter trace1e811ca0-b07c-11e8-aa17-645aede86e5b\" style=\"stroke-miterlimit: 2; opacity: 1;\"><g class=\"points\"><path class=\"point\" d=\"M12.31,0A12.31,12.31 0 1,1 0,-12.31A12.31,12.31 0 0,1 12.31,0Z\" style=\"opacity: 0.6; stroke-width: 1px; fill: rgb(70, 12, 94); fill-opacity: 1; stroke: rgb(255, 255, 255); stroke-opacity: 1;\" transform=\"translate(260.44,194.83)\"/><path class=\"point\" d=\"M12.03,0A12.03,12.03 0 1,1 0,-12.03A12.03,12.03 0 0,1 12.03,0Z\" style=\"opacity: 0.6; stroke-width: 1px; fill: rgb(163, 218, 55); fill-opacity: 1; stroke: rgb(255, 255, 255); stroke-opacity: 1;\" transform=\"translate(87.31,160.76)\"/><path class=\"point\" d=\"M9.77,0A9.77,9.77 0 1,1 0,-9.77A9.77,9.77 0 0,1 9.77,0Z\" style=\"opacity: 0.6; stroke-width: 1px; fill: rgb(71, 42, 121); fill-opacity: 1; stroke: rgb(255, 255, 255); stroke-opacity: 1;\" transform=\"translate(39.21,42.04)\"/><path class=\"point\" d=\"M6.98,0A6.98,6.98 0 1,1 0,-6.98A6.98,6.98 0 0,1 6.98,0Z\" style=\"opacity: 0.6; stroke-width: 1px; fill: rgb(207, 225, 30); fill-opacity: 1; stroke: rgb(255, 255, 255); stroke-opacity: 1;\" transform=\"translate(479.09,35.56)\"/><path class=\"point\" d=\"M13.27,0A13.27,13.27 0 1,1 0,-13.27A13.27,13.27 0 0,1 13.27,0Z\" style=\"opacity: 0.6; stroke-width: 1px; fill: rgb(67, 59, 131); fill-opacity: 1; stroke: rgb(255, 255, 255); stroke-opacity: 1;\" transform=\"translate(396.34,126.78)\"/><path class=\"point\" d=\"M6.09,0A6.09,6.09 0 1,1 0,-6.09A6.09,6.09 0 0,1 6.09,0Z\" style=\"opacity: 0.6; stroke-width: 1px; fill: rgb(33, 163, 134); fill-opacity: 1; stroke: rgb(255, 255, 255); stroke-opacity: 1;\" transform=\"translate(133.95,75.45)\"/><path class=\"point\" d=\"M10.77,0A10.77,10.77 0 1,1 0,-10.77A10.77,10.77 0 0,1 10.77,0Z\" style=\"opacity: 0.6; stroke-width: 1px; fill: rgb(43, 117, 142); fill-opacity: 1; stroke: rgb(255, 255, 255); stroke-opacity: 1;\" transform=\"translate(80.94,211.16)\"/><path class=\"point\" d=\"M0.46,0A0.46,0.46 0 1,1 0,-0.46A0.46,0.46 0 0,1 0.46,0Z\" style=\"opacity: 0.6; stroke-width: 1px; fill: rgb(33, 163, 134); fill-opacity: 1; stroke: rgb(255, 255, 255); stroke-opacity: 1;\" transform=\"translate(73.24,275.18)\"/><path class=\"point\" d=\"M13.39,0A13.39,13.39 0 1,1 0,-13.39A13.39,13.39 0 0,1 13.39,0Z\" style=\"opacity: 0.6; stroke-width: 1px; fill: rgb(33, 148, 139); fill-opacity: 1; stroke: rgb(255, 255, 255); stroke-opacity: 1;\" transform=\"translate(408.04,194.49)\"/><path class=\"point\" d=\"M0.81,0A0.81,0.81 0 1,1 0,-0.81A0.81,0.81 0 0,1 0.81,0Z\" style=\"opacity: 0.6; stroke-width: 1px; fill: rgb(105, 204, 91); fill-opacity: 1; stroke: rgb(255, 255, 255); stroke-opacity: 1;\" transform=\"translate(377.26,205.88)\"/><path class=\"point\" d=\"M10.15,0A10.15,10.15 0 1,1 0,-10.15A10.15,10.15 0 0,1 10.15,0Z\" style=\"opacity: 0.6; stroke-width: 1px; fill: rgb(205, 224, 31); fill-opacity: 1; stroke: rgb(255, 255, 255); stroke-opacity: 1;\" transform=\"translate(306.34,275.82)\"/><path class=\"point\" d=\"M1.05,0A1.05,1.05 0 1,1 0,-1.05A1.05,1.05 0 0,1 1.05,0Z\" style=\"opacity: 0.6; stroke-width: 1px; fill: rgb(39, 172, 129); fill-opacity: 1; stroke: rgb(255, 255, 255); stroke-opacity: 1;\" transform=\"translate(278.97,134.21)\"/><path class=\"point\" d=\"M8.59,0A8.59,8.59 0 1,1 0,-8.59A8.59,8.59 0 0,1 8.59,0Z\" style=\"opacity: 0.6; stroke-width: 1px; fill: rgb(96, 202, 97); fill-opacity: 1; stroke: rgb(255, 255, 255); stroke-opacity: 1;\" transform=\"translate(333.17,270.47)\"/><path class=\"point\" d=\"M9.11,0A9.11,9.11 0 1,1 0,-9.11A9.11,9.11 0 0,1 9.11,0Z\" style=\"opacity: 0.6; stroke-width: 1px; fill: rgb(64, 68, 135); fill-opacity: 1; stroke: rgb(255, 255, 255); stroke-opacity: 1;\" transform=\"translate(301.72,81.08)\"/><path class=\"point\" d=\"M6.29,0A6.29,6.29 0 1,1 0,-6.29A6.29,6.29 0 0,1 6.29,0Z\" style=\"opacity: 0.6; stroke-width: 1px; fill: rgb(45, 112, 142); fill-opacity: 1; stroke: rgb(255, 255, 255); stroke-opacity: 1;\" transform=\"translate(269.09,108.29)\"/><path class=\"point\" d=\"M14.6,0A14.6,14.6 0 1,1 0,-14.6A14.6,14.6 0 0,1 14.6,0Z\" style=\"opacity: 0.6; stroke-width: 1px; fill: rgb(59, 186, 117); fill-opacity: 1; stroke: rgb(255, 255, 255); stroke-opacity: 1;\" transform=\"translate(402.78,34.25)\"/><path class=\"point\" d=\"M12.18,0A12.18,12.18 0 1,1 0,-12.18A12.18,12.18 0 0,1 12.18,0Z\" style=\"opacity: 0.6; stroke-width: 1px; fill: rgb(33, 148, 139); fill-opacity: 1; stroke: rgb(255, 255, 255); stroke-opacity: 1;\" transform=\"translate(376.53,234.46)\"/><path class=\"point\" d=\"M2.57,0A2.57,2.57 0 1,1 0,-2.57A2.57,2.57 0 0,1 2.57,0Z\" style=\"opacity: 0.6; stroke-width: 1px; fill: rgb(37, 170, 130); fill-opacity: 1; stroke: rgb(255, 255, 255); stroke-opacity: 1;\" transform=\"translate(401.44,117.18)\"/><path class=\"point\" d=\"M14.26,0A14.26,14.26 0 1,1 0,-14.26A14.26,14.26 0 0,1 14.26,0Z\" style=\"opacity: 0.6; stroke-width: 1px; fill: rgb(45, 177, 125); fill-opacity: 1; stroke: rgb(255, 255, 255); stroke-opacity: 1;\" transform=\"translate(164.18,267.27)\"/><path class=\"point\" d=\"M12.17,0A12.17,12.17 0 1,1 0,-12.17A12.17,12.17 0 0,1 12.17,0Z\" style=\"opacity: 0.6; stroke-width: 1px; fill: rgb(40, 124, 142); fill-opacity: 1; stroke: rgb(255, 255, 255); stroke-opacity: 1;\" transform=\"translate(324.48,287.21)\"/><path class=\"point\" d=\"M0.56,0A0.56,0.56 0 1,1 0,-0.56A0.56,0.56 0 0,1 0.56,0Z\" style=\"opacity: 0.6; stroke-width: 1px; fill: rgb(39, 129, 142); fill-opacity: 1; stroke: rgb(255, 255, 255); stroke-opacity: 1;\" transform=\"translate(188.52,184.12)\"/><path class=\"point\" d=\"M5.02,0A5.02,5.02 0 1,1 0,-5.02A5.02,5.02 0 0,1 5.02,0Z\" style=\"opacity: 0.6; stroke-width: 1px; fill: rgb(245, 230, 35); fill-opacity: 1; stroke: rgb(255, 255, 255); stroke-opacity: 1;\" transform=\"translate(152.86,80.62)\"/><path class=\"point\" d=\"M14.44,0A14.44,14.44 0 1,1 0,-14.44A14.44,14.44 0 0,1 14.44,0Z\" style=\"opacity: 0.6; stroke-width: 1px; fill: rgb(35, 138, 141); fill-opacity: 1; stroke: rgb(255, 255, 255); stroke-opacity: 1;\" transform=\"translate(134.86,176.46)\"/><path class=\"point\" d=\"M3.5,0A3.5,3.5 0 1,1 0,-3.5A3.5,3.5 0 0,1 3.5,0Z\" style=\"opacity: 0.6; stroke-width: 1px; fill: rgb(32, 154, 138); fill-opacity: 1; stroke: rgb(255, 255, 255); stroke-opacity: 1;\" transform=\"translate(492.29,126.3)\"/><path class=\"point\" d=\"M0.76,0A0.76,0.76 0 1,1 0,-0.76A0.76,0.76 0 0,1 0.76,0Z\" style=\"opacity: 0.6; stroke-width: 1px; fill: rgb(91, 200, 99); fill-opacity: 1; stroke: rgb(255, 255, 255); stroke-opacity: 1;\" transform=\"translate(485.1,189.16)\"/><path class=\"point\" d=\"M5.05,0A5.05,5.05 0 1,1 0,-5.05A5.05,5.05 0 0,1 5.05,0Z\" style=\"opacity: 0.6; stroke-width: 1px; fill: rgb(52, 96, 141); fill-opacity: 1; stroke: rgb(255, 255, 255); stroke-opacity: 1;\" transform=\"translate(116.48,174.46)\"/><path class=\"point\" d=\"M9.18,0A9.18,9.18 0 1,1 0,-9.18A9.18,9.18 0 0,1 9.18,0Z\" style=\"opacity: 0.6; stroke-width: 1px; fill: rgb(55, 183, 119); fill-opacity: 1; stroke: rgb(255, 255, 255); stroke-opacity: 1;\" transform=\"translate(477.72,147.66)\"/><path class=\"point\" d=\"M4.53,0A4.53,4.53 0 1,1 0,-4.53A4.53,4.53 0 0,1 4.53,0Z\" style=\"opacity: 0.6; stroke-width: 1px; fill: rgb(70, 13, 95); fill-opacity: 1; stroke: rgb(255, 255, 255); stroke-opacity: 1;\" transform=\"translate(102.02,69.64)\"/><path class=\"point\" d=\"M0.91,0A0.91,0.91 0 1,1 0,-0.91A0.91,0.91 0 0,1 0.91,0Z\" style=\"opacity: 0.6; stroke-width: 1px; fill: rgb(68, 57, 130); fill-opacity: 1; stroke: rgb(255, 255, 255); stroke-opacity: 1;\" transform=\"translate(467.24,246.12)\"/><path class=\"point\" d=\"M3.2,0A3.2,3.2 0 1,1 0,-3.2A3.2,3.2 0 0,1 3.2,0Z\" style=\"opacity: 0.6; stroke-width: 1px; fill: rgb(43, 116, 142); fill-opacity: 1; stroke: rgb(255, 255, 255); stroke-opacity: 1;\" transform=\"translate(41.85,118.88)\"/><path class=\"point\" d=\"M10.87,0A10.87,10.87 0 1,1 0,-10.87A10.87,10.87 0 0,1 10.87,0Z\" style=\"opacity: 0.6; stroke-width: 1px; fill: rgb(57, 185, 118); fill-opacity: 1; stroke: rgb(255, 255, 255); stroke-opacity: 1;\" transform=\"translate(273.35,216.52)\"/><path class=\"point\" d=\"M2.8,0A2.8,2.8 0 1,1 0,-2.8A2.8,2.8 0 0,1 2.8,0Z\" style=\"opacity: 0.6; stroke-width: 1px; fill: rgb(57, 86, 139); fill-opacity: 1; stroke: rgb(255, 255, 255); stroke-opacity: 1;\" transform=\"translate(89.64,122.03)\"/><path class=\"point\" d=\"M5.45,0A5.45,5.45 0 1,1 0,-5.45A5.45,5.45 0 0,1 5.45,0Z\" style=\"opacity: 0.6; stroke-width: 1px; fill: rgb(146, 215, 66); fill-opacity: 1; stroke: rgb(255, 255, 255); stroke-opacity: 1;\" transform=\"translate(148.71,56.97)\"/><path class=\"point\" d=\"M7.09,0A7.09,7.09 0 1,1 0,-7.09A7.09,7.09 0 0,1 7.09,0Z\" style=\"opacity: 0.6; stroke-width: 1px; fill: rgb(71, 42, 120); fill-opacity: 1; stroke: rgb(255, 255, 255); stroke-opacity: 1;\" transform=\"translate(424.96,123.04)\"/><path class=\"point\" d=\"M8.28,0A8.28,8.28 0 1,1 0,-8.28A8.28,8.28 0 0,1 8.28,0Z\" style=\"opacity: 0.6; stroke-width: 1px; fill: rgb(60, 80, 138); fill-opacity: 1; stroke: rgb(255, 255, 255); stroke-opacity: 1;\" transform=\"translate(433.97,261.17)\"/><path class=\"point\" d=\"M0.21,0A0.21,0.21 0 1,1 0,-0.21A0.21,0.21 0 0,1 0.21,0Z\" style=\"opacity: 0.6; stroke-width: 1px; fill: rgb(196, 223, 36); fill-opacity: 1; stroke: rgb(255, 255, 255); stroke-opacity: 1;\" transform=\"translate(374.37,178.47)\"/><path class=\"point\" d=\"M11.81,0A11.81,11.81 0 1,1 0,-11.81A11.81,11.81 0 0,1 11.81,0Z\" style=\"opacity: 0.6; stroke-width: 1px; fill: rgb(69, 5, 88); fill-opacity: 1; stroke: rgb(255, 255, 255); stroke-opacity: 1;\" transform=\"translate(408.59,228.84)\"/><path class=\"point\" d=\"M3.91,0A3.91,3.91 0 1,1 0,-3.91A3.91,3.91 0 0,1 3.91,0Z\" style=\"opacity: 0.6; stroke-width: 1px; fill: rgb(33, 148, 139); fill-opacity: 1; stroke: rgb(255, 255, 255); stroke-opacity: 1;\" transform=\"translate(231.35,42.61)\"/><path class=\"point\" d=\"M10.94,0A10.94,10.94 0 1,1 0,-10.94A10.94,10.94 0 0,1 10.94,0Z\" style=\"opacity: 0.6; stroke-width: 1px; fill: rgb(70, 10, 93); fill-opacity: 1; stroke: rgb(255, 255, 255); stroke-opacity: 1;\" transform=\"translate(320.07,129.91)\"/><path class=\"point\" d=\"M2.42,0A2.42,2.42 0 1,1 0,-2.42A2.42,2.42 0 0,1 2.42,0Z\" style=\"opacity: 0.6; stroke-width: 1px; fill: rgb(33, 163, 134); fill-opacity: 1; stroke: rgb(255, 255, 255); stroke-opacity: 1;\" transform=\"translate(336.3,78.23)\"/><path class=\"point\" d=\"M11.28,0A11.28,11.28 0 1,1 0,-11.28A11.28,11.28 0 0,1 11.28,0Z\" style=\"opacity: 0.6; stroke-width: 1px; fill: rgb(32, 161, 135); fill-opacity: 1; stroke: rgb(255, 255, 255); stroke-opacity: 1;\" transform=\"translate(476.27,215.71)\"/><path class=\"point\" d=\"M1.12,0A1.12,1.12 0 1,1 0,-1.12A1.12,1.12 0 0,1 1.12,0Z\" style=\"opacity: 0.6; stroke-width: 1px; fill: rgb(210, 225, 28); fill-opacity: 1; stroke: rgb(255, 255, 255); stroke-opacity: 1;\" transform=\"translate(237.25,57.41)\"/><path class=\"point\" d=\"M4.69,0A4.69,4.69 0 1,1 0,-4.69A4.69,4.69 0 0,1 4.69,0Z\" style=\"opacity: 0.6; stroke-width: 1px; fill: rgb(69, 9, 91); fill-opacity: 1; stroke: rgb(255, 255, 255); stroke-opacity: 1;\" transform=\"translate(228.02,275.81)\"/><path class=\"point\" d=\"M10.03,0A10.03,10.03 0 1,1 0,-10.03A10.03,10.03 0 0,1 10.03,0Z\" style=\"opacity: 0.6; stroke-width: 1px; fill: rgb(49, 103, 141); fill-opacity: 1; stroke: rgb(255, 255, 255); stroke-opacity: 1;\" transform=\"translate(317.24,49.69)\"/><path class=\"point\" d=\"M5.32,0A5.32,5.32 0 1,1 0,-5.32A5.32,5.32 0 0,1 5.32,0Z\" style=\"opacity: 0.6; stroke-width: 1px; fill: rgb(102, 203, 93); fill-opacity: 1; stroke: rgb(255, 255, 255); stroke-opacity: 1;\" transform=\"translate(246.27,206.34)\"/><path class=\"point\" d=\"M8.79,0A8.79,8.79 0 1,1 0,-8.79A8.79,8.79 0 0,1 8.79,0Z\" style=\"opacity: 0.6; stroke-width: 1px; fill: rgb(105, 204, 91); fill-opacity: 1; stroke: rgb(255, 255, 255); stroke-opacity: 1;\" transform=\"translate(220.4,132.85)\"/><path class=\"point\" d=\"M2.89,0A2.89,2.89 0 1,1 0,-2.89A2.89,2.89 0 0,1 2.89,0Z\" style=\"opacity: 0.6; stroke-width: 1px; fill: rgb(52, 97, 141); fill-opacity: 1; stroke: rgb(255, 255, 255); stroke-opacity: 1;\" transform=\"translate(326.96,284.68)\"/><path class=\"point\" d=\"M14.27,0A14.27,14.27 0 1,1 0,-14.27A14.27,14.27 0 0,1 14.27,0Z\" style=\"opacity: 0.6; stroke-width: 1px; fill: rgb(53, 182, 121); fill-opacity: 1; stroke: rgb(255, 255, 255); stroke-opacity: 1;\" transform=\"translate(63.07,82.87)\"/><path class=\"point\" d=\"M13.04,0A13.04,13.04 0 1,1 0,-13.04A13.04,13.04 0 0,1 13.04,0Z\" style=\"opacity: 0.6; stroke-width: 1px; fill: rgb(70, 49, 125); fill-opacity: 1; stroke: rgb(255, 255, 255); stroke-opacity: 1;\" transform=\"translate(241.04,130.74)\"/><path class=\"point\" d=\"M11.66,0A11.66,11.66 0 1,1 0,-11.66A11.66,11.66 0 0,1 11.66,0Z\" style=\"opacity: 0.6; stroke-width: 1px; fill: rgb(229, 228, 29); fill-opacity: 1; stroke: rgb(255, 255, 255); stroke-opacity: 1;\" transform=\"translate(173,67.63)\"/><path class=\"point\" d=\"M6.8,0A6.8,6.8 0 1,1 0,-6.8A6.8,6.8 0 0,1 6.8,0Z\" style=\"opacity: 0.6; stroke-width: 1px; fill: rgb(66, 63, 133); fill-opacity: 1; stroke: rgb(255, 255, 255); stroke-opacity: 1;\" transform=\"translate(415.3,80.2)\"/><path class=\"point\" d=\"M11.49,0A11.49,11.49 0 1,1 0,-11.49A11.49,11.49 0 0,1 11.49,0Z\" style=\"opacity: 0.6; stroke-width: 1px; fill: rgb(131, 212, 76); fill-opacity: 1; stroke: rgb(255, 255, 255); stroke-opacity: 1;\" transform=\"translate(401.2,186.17)\"/><path class=\"point\" d=\"M6.63,0A6.63,6.63 0 1,1 0,-6.63A6.63,6.63 0 0,1 6.63,0Z\" style=\"opacity: 0.6; stroke-width: 1px; fill: rgb(236, 229, 32); fill-opacity: 1; stroke: rgb(255, 255, 255); stroke-opacity: 1;\" transform=\"translate(213.65,145.35)\"/><path class=\"point\" d=\"M11.74,0A11.74,11.74 0 1,1 0,-11.74A11.74,11.74 0 0,1 11.74,0Z\" style=\"opacity: 0.6; stroke-width: 1px; fill: rgb(104, 204, 92); fill-opacity: 1; stroke: rgb(255, 255, 255); stroke-opacity: 1;\" transform=\"translate(402.04,82.26)\"/><path class=\"point\" d=\"M7.93,0A7.93,7.93 0 1,1 0,-7.93A7.93,7.93 0 0,1 7.93,0Z\" style=\"opacity: 0.6; stroke-width: 1px; fill: rgb(36, 167, 132); fill-opacity: 1; stroke: rgb(255, 255, 255); stroke-opacity: 1;\" transform=\"translate(299.63,36.16)\"/><path class=\"point\" d=\"M14.14,0A14.14,14.14 0 1,1 0,-14.14A14.14,14.14 0 0,1 14.14,0Z\" style=\"opacity: 0.6; stroke-width: 1px; fill: rgb(39, 128, 142); fill-opacity: 1; stroke: rgb(255, 255, 255); stroke-opacity: 1;\" transform=\"translate(325.15,202.96)\"/><path class=\"point\" d=\"M4.5,0A4.5,4.5 0 1,1 0,-4.5A4.5,4.5 0 0,1 4.5,0Z\" style=\"opacity: 0.6; stroke-width: 1px; fill: rgb(240, 229, 33); fill-opacity: 1; stroke: rgb(255, 255, 255); stroke-opacity: 1;\" transform=\"translate(298.54,218.86)\"/><path class=\"point\" d=\"M9.53,0A9.53,9.53 0 1,1 0,-9.53A9.53,9.53 0 0,1 9.53,0Z\" style=\"opacity: 0.6; stroke-width: 1px; fill: rgb(68, 1, 84); fill-opacity: 1; stroke: rgb(255, 255, 255); stroke-opacity: 1;\" transform=\"translate(413.71,45.13)\"/><path class=\"point\" d=\"M8.26,0A8.26,8.26 0 1,1 0,-8.26A8.26,8.26 0 0,1 8.26,0Z\" style=\"opacity: 0.6; stroke-width: 1px; fill: rgb(178, 221, 45); fill-opacity: 1; stroke: rgb(255, 255, 255); stroke-opacity: 1;\" transform=\"translate(197.98,271.2)\"/><path class=\"point\" d=\"M3.24,0A3.24,3.24 0 1,1 0,-3.24A3.24,3.24 0 0,1 3.24,0Z\" style=\"opacity: 0.6; stroke-width: 1px; fill: rgb(61, 76, 137); fill-opacity: 1; stroke: rgb(255, 255, 255); stroke-opacity: 1;\" transform=\"translate(336.6,156.23)\"/><path class=\"point\" d=\"M9.14,0A9.14,9.14 0 1,1 0,-9.14A9.14,9.14 0 0,1 9.14,0Z\" style=\"opacity: 0.6; stroke-width: 1px; fill: rgb(41, 174, 128); fill-opacity: 1; stroke: rgb(255, 255, 255); stroke-opacity: 1;\" transform=\"translate(388.71,121.86)\"/><path class=\"point\" d=\"M9.68,0A9.68,9.68 0 1,1 0,-9.68A9.68,9.68 0 0,1 9.68,0Z\" style=\"opacity: 0.6; stroke-width: 1px; fill: rgb(62, 74, 137); fill-opacity: 1; stroke: rgb(255, 255, 255); stroke-opacity: 1;\" transform=\"translate(117.14,162.06)\"/><path class=\"point\" d=\"M14.36,0A14.36,14.36 0 1,1 0,-14.36A14.36,14.36 0 0,1 14.36,0Z\" style=\"opacity: 0.6; stroke-width: 1px; fill: rgb(198, 223, 35); fill-opacity: 1; stroke: rgb(255, 255, 255); stroke-opacity: 1;\" transform=\"translate(324.53,237.87)\"/><path class=\"point\" d=\"M7.22,0A7.22,7.22 0 1,1 0,-7.22A7.22,7.22 0 0,1 7.22,0Z\" style=\"opacity: 0.6; stroke-width: 1px; fill: rgb(66, 64, 134); fill-opacity: 1; stroke: rgb(255, 255, 255); stroke-opacity: 1;\" transform=\"translate(477.1,254.16)\"/><path class=\"point\" d=\"M12.67,0A12.67,12.67 0 1,1 0,-12.67A12.67,12.67 0 0,1 12.67,0Z\" style=\"opacity: 0.6; stroke-width: 1px; fill: rgb(32, 150, 139); fill-opacity: 1; stroke: rgb(255, 255, 255); stroke-opacity: 1;\" transform=\"translate(123.86,271.73)\"/><path class=\"point\" d=\"M7.53,0A7.53,7.53 0 1,1 0,-7.53A7.53,7.53 0 0,1 7.53,0Z\" style=\"opacity: 0.6; stroke-width: 1px; fill: rgb(192, 223, 38); fill-opacity: 1; stroke: rgb(255, 255, 255); stroke-opacity: 1;\" transform=\"translate(280.7,114.5)\"/><path class=\"point\" d=\"M5.51,0A5.51,5.51 0 1,1 0,-5.51A5.51,5.51 0 0,1 5.51,0Z\" style=\"opacity: 0.6; stroke-width: 1px; fill: rgb(60, 78, 138); fill-opacity: 1; stroke: rgb(255, 255, 255); stroke-opacity: 1;\" transform=\"translate(308.5,43.81)\"/><path class=\"point\" d=\"M1.71,0A1.71,1.71 0 1,1 0,-1.71A1.71,1.71 0 0,1 1.71,0Z\" style=\"opacity: 0.6; stroke-width: 1px; fill: rgb(61, 187, 116); fill-opacity: 1; stroke: rgb(255, 255, 255); stroke-opacity: 1;\" transform=\"translate(114.28,270.96)\"/><path class=\"point\" d=\"M3.25,0A3.25,3.25 0 1,1 0,-3.25A3.25,3.25 0 0,1 3.25,0Z\" style=\"opacity: 0.6; stroke-width: 1px; fill: rgb(103, 204, 93); fill-opacity: 1; stroke: rgb(255, 255, 255); stroke-opacity: 1;\" transform=\"translate(251.31,104.75)\"/><path class=\"point\" d=\"M0.57,0A0.57,0.57 0 1,1 0,-0.57A0.57,0.57 0 0,1 0.57,0Z\" style=\"opacity: 0.6; stroke-width: 1px; fill: rgb(43, 116, 142); fill-opacity: 1; stroke: rgb(255, 255, 255); stroke-opacity: 1;\" transform=\"translate(479.3,244.44)\"/><path class=\"point\" d=\"M9.55,0A9.55,9.55 0 1,1 0,-9.55A9.55,9.55 0 0,1 9.55,0Z\" style=\"opacity: 0.6; stroke-width: 1px; fill: rgb(108, 205, 89); fill-opacity: 1; stroke: rgb(255, 255, 255); stroke-opacity: 1;\" transform=\"translate(501.07,134.2)\"/><path class=\"point\" d=\"M8.02,0A8.02,8.02 0 1,1 0,-8.02A8.02,8.02 0 0,1 8.02,0Z\" style=\"opacity: 0.6; stroke-width: 1px; fill: rgb(253, 231, 37); fill-opacity: 1; stroke: rgb(255, 255, 255); stroke-opacity: 1;\" transform=\"translate(188.52,267.72)\"/><path class=\"point\" d=\"M8.52,0A8.52,8.52 0 1,1 0,-8.52A8.52,8.52 0 0,1 8.52,0Z\" style=\"opacity: 0.6; stroke-width: 1px; fill: rgb(141, 214, 69); fill-opacity: 1; stroke: rgb(255, 255, 255); stroke-opacity: 1;\" transform=\"translate(343.21,159.86)\"/><path class=\"point\" d=\"M9.99,0A9.99,9.99 0 1,1 0,-9.99A9.99,9.99 0 0,1 9.99,0Z\" style=\"opacity: 0.6; stroke-width: 1px; fill: rgb(55, 89, 140); fill-opacity: 1; stroke: rgb(255, 255, 255); stroke-opacity: 1;\" transform=\"translate(280,157.13)\"/><path class=\"point\" d=\"M12.27,0A12.27,12.27 0 1,1 0,-12.27A12.27,12.27 0 0,1 12.27,0Z\" style=\"opacity: 0.6; stroke-width: 1px; fill: rgb(42, 175, 127); fill-opacity: 1; stroke: rgb(255, 255, 255); stroke-opacity: 1;\" transform=\"translate(491.34,271.33)\"/><path class=\"point\" d=\"M6.11,0A6.11,6.11 0 1,1 0,-6.11A6.11,6.11 0 0,1 6.11,0Z\" style=\"opacity: 0.6; stroke-width: 1px; fill: rgb(41, 122, 142); fill-opacity: 1; stroke: rgb(255, 255, 255); stroke-opacity: 1;\" transform=\"translate(73.6,82.03)\"/><path class=\"point\" d=\"M13.76,0A13.76,13.76 0 1,1 0,-13.76A13.76,13.76 0 0,1 13.76,0Z\" style=\"opacity: 0.6; stroke-width: 1px; fill: rgb(209, 225, 29); fill-opacity: 1; stroke: rgb(255, 255, 255); stroke-opacity: 1;\" transform=\"translate(342.06,286.8)\"/><path class=\"point\" d=\"M12.72,0A12.72,12.72 0 1,1 0,-12.72A12.72,12.72 0 0,1 12.72,0Z\" style=\"opacity: 0.6; stroke-width: 1px; fill: rgb(41, 123, 142); fill-opacity: 1; stroke: rgb(255, 255, 255); stroke-opacity: 1;\" transform=\"translate(300.26,226.77)\"/><path class=\"point\" d=\"M5.35,0A5.35,5.35 0 1,1 0,-5.35A5.35,5.35 0 0,1 5.35,0Z\" style=\"opacity: 0.6; stroke-width: 1px; fill: rgb(67, 190, 113); fill-opacity: 1; stroke: rgb(255, 255, 255); stroke-opacity: 1;\" transform=\"translate(88.91,117.26)\"/><path class=\"point\" d=\"M13.39,0A13.39,13.39 0 1,1 0,-13.39A13.39,13.39 0 0,1 13.39,0Z\" style=\"opacity: 0.6; stroke-width: 1px; fill: rgb(84, 197, 103); fill-opacity: 1; stroke: rgb(255, 255, 255); stroke-opacity: 1;\" transform=\"translate(331.44,170.55)\"/><path class=\"point\" d=\"M2.07,0A2.07,2.07 0 1,1 0,-2.07A2.07,2.07 0 0,1 2.07,0Z\" style=\"opacity: 0.6; stroke-width: 1px; fill: rgb(49, 103, 141); fill-opacity: 1; stroke: rgb(255, 255, 255); stroke-opacity: 1;\" transform=\"translate(217.13,172.5)\"/><path class=\"point\" d=\"M12.62,0A12.62,12.62 0 1,1 0,-12.62A12.62,12.62 0 0,1 12.62,0Z\" style=\"opacity: 0.6; stroke-width: 1px; fill: rgb(71, 19, 102); fill-opacity: 1; stroke: rgb(255, 255, 255); stroke-opacity: 1;\" transform=\"translate(234.86,91.53)\"/><path class=\"point\" d=\"M12.13,0A12.13,12.13 0 1,1 0,-12.13A12.13,12.13 0 0,1 12.13,0Z\" style=\"opacity: 0.6; stroke-width: 1px; fill: rgb(32, 154, 138); fill-opacity: 1; stroke: rgb(255, 255, 255); stroke-opacity: 1;\" transform=\"translate(52.99,228.14)\"/><path class=\"point\" d=\"M14.52,0A14.52,14.52 0 1,1 0,-14.52A14.52,14.52 0 0,1 14.52,0Z\" style=\"opacity: 0.6; stroke-width: 1px; fill: rgb(221, 227, 27); fill-opacity: 1; stroke: rgb(255, 255, 255); stroke-opacity: 1;\" transform=\"translate(346.12,174.28)\"/><path class=\"point\" d=\"M1.25,0A1.25,1.25 0 1,1 0,-1.25A1.25,1.25 0 0,1 1.25,0Z\" style=\"opacity: 0.6; stroke-width: 1px; fill: rgb(163, 218, 55); fill-opacity: 1; stroke: rgb(255, 255, 255); stroke-opacity: 1;\" transform=\"translate(81.01,145.53)\"/><path class=\"point\" d=\"M13.28,0A13.28,13.28 0 1,1 0,-13.28A13.28,13.28 0 0,1 13.28,0Z\" style=\"opacity: 0.6; stroke-width: 1px; fill: rgb(57, 86, 139); fill-opacity: 1; stroke: rgb(255, 255, 255); stroke-opacity: 1;\" transform=\"translate(171.39,270.39)\"/><path class=\"point\" d=\"M9.63,0A9.63,9.63 0 1,1 0,-9.63A9.63,9.63 0 0,1 9.63,0Z\" style=\"opacity: 0.6; stroke-width: 1px; fill: rgb(71, 40, 119); fill-opacity: 1; stroke: rgb(255, 255, 255); stroke-opacity: 1;\" transform=\"translate(100.47,34.82)\"/><path class=\"point\" d=\"M1.41,0A1.41,1.41 0 1,1 0,-1.41A1.41,1.41 0 0,1 1.41,0Z\" style=\"opacity: 0.6; stroke-width: 1px; fill: rgb(33, 146, 140); fill-opacity: 1; stroke: rgb(255, 255, 255); stroke-opacity: 1;\" transform=\"translate(317.84,222.85)\"/><path class=\"point\" d=\"M10.75,0A10.75,10.75 0 1,1 0,-10.75A10.75,10.75 0 0,1 10.75,0Z\" style=\"opacity: 0.6; stroke-width: 1px; fill: rgb(85, 197, 103); fill-opacity: 1; stroke: rgb(255, 255, 255); stroke-opacity: 1;\" transform=\"translate(69.86,64.35)\"/><path class=\"point\" d=\"M7.75,0A7.75,7.75 0 1,1 0,-7.75A7.75,7.75 0 0,1 7.75,0Z\" style=\"opacity: 0.6; stroke-width: 1px; fill: rgb(65, 67, 135); fill-opacity: 1; stroke: rgb(255, 255, 255); stroke-opacity: 1;\" transform=\"translate(57.35,118.32)\"/><path class=\"point\" d=\"M14.74,0A14.74,14.74 0 1,1 0,-14.74A14.74,14.74 0 0,1 14.74,0Z\" style=\"opacity: 0.6; stroke-width: 1px; fill: rgb(68, 190, 112); fill-opacity: 1; stroke: rgb(255, 255, 255); stroke-opacity: 1;\" transform=\"translate(122.31,278.25)\"/><path class=\"point\" d=\"M13.04,0A13.04,13.04 0 1,1 0,-13.04A13.04,13.04 0 0,1 13.04,0Z\" style=\"opacity: 0.6; stroke-width: 1px; fill: rgb(148, 215, 65); fill-opacity: 1; stroke: rgb(255, 255, 255); stroke-opacity: 1;\" transform=\"translate(167.94,243.68)\"/><path class=\"point\" d=\"M1.43,0A1.43,1.43 0 1,1 0,-1.43A1.43,1.43 0 0,1 1.43,0Z\" style=\"opacity: 0.6; stroke-width: 1px; fill: rgb(70, 12, 94); fill-opacity: 1; stroke: rgb(255, 255, 255); stroke-opacity: 1;\" transform=\"translate(219.73,149.91)\"/><path class=\"point\" d=\"M5.29,0A5.29,5.29 0 1,1 0,-5.29A5.29,5.29 0 0,1 5.29,0Z\" style=\"opacity: 0.6; stroke-width: 1px; fill: rgb(38, 131, 142); fill-opacity: 1; stroke: rgb(255, 255, 255); stroke-opacity: 1;\" transform=\"translate(171.05,175.83)\"/><path class=\"point\" d=\"M5.88,0A5.88,5.88 0 1,1 0,-5.88A5.88,5.88 0 0,1 5.88,0Z\" style=\"opacity: 0.6; stroke-width: 1px; fill: rgb(142, 214, 68); fill-opacity: 1; stroke: rgb(255, 255, 255); stroke-opacity: 1;\" transform=\"translate(323.48,197.22)\"/><path class=\"point\" d=\"M4.53,0A4.53,4.53 0 1,1 0,-4.53A4.53,4.53 0 0,1 4.53,0Z\" style=\"opacity: 0.6; stroke-width: 1px; fill: rgb(138, 213, 71); fill-opacity: 1; stroke: rgb(255, 255, 255); stroke-opacity: 1;\" transform=\"translate(131.85,49.3)\"/><path class=\"point\" d=\"M6.25,0A6.25,6.25 0 1,1 0,-6.25A6.25,6.25 0 0,1 6.25,0Z\" style=\"opacity: 0.6; stroke-width: 1px; fill: rgb(65, 67, 135); fill-opacity: 1; stroke: rgb(255, 255, 255); stroke-opacity: 1;\" transform=\"translate(136.46,200.49)\"/><path class=\"point\" d=\"M5.44,0A5.44,5.44 0 1,1 0,-5.44A5.44,5.44 0 0,1 5.44,0Z\" style=\"opacity: 0.6; stroke-width: 1px; fill: rgb(132, 212, 75); fill-opacity: 1; stroke: rgb(255, 255, 255); stroke-opacity: 1;\" transform=\"translate(479.71,66.19)\"/><path class=\"point\" d=\"M13.35,0A13.35,13.35 0 1,1 0,-13.35A13.35,13.35 0 0,1 13.35,0Z\" style=\"opacity: 0.6; stroke-width: 1px; fill: rgb(39, 173, 129); fill-opacity: 1; stroke: rgb(255, 255, 255); stroke-opacity: 1;\" transform=\"translate(303.51,211.1)\"/><path class=\"point\" d=\"M13.63,0A13.63,13.63 0 1,1 0,-13.63A13.63,13.63 0 0,1 13.63,0Z\" style=\"opacity: 0.6; stroke-width: 1px; fill: rgb(153, 216, 61); fill-opacity: 1; stroke: rgb(255, 255, 255); stroke-opacity: 1;\" transform=\"translate(235.91,257.56)\"/></g></g></g></g><g class=\"overplot\"/><path class=\"xlines-above crisp\" d=\"M0,0\" style=\"fill: none;\"/><path class=\"ylines-above crisp\" d=\"M0,0\" style=\"fill: none;\"/><g class=\"overlines-above\"/><g class=\"xaxislayer-above\"><g class=\"xtick\"><text style=\"font-family: 'Open Sans', verdana, arial, sans-serif; font-size: 12px; fill: rgb(68, 68, 68); fill-opacity: 1; white-space: pre;\" text-anchor=\"middle\" transform=\"translate(107.67,0)\" x=\"0\" y=\"433\">0</text></g><g class=\"xtick\"><text style=\"font-family: 'Open Sans', verdana, arial, sans-serif; font-size: 12px; fill: rgb(68, 68, 68); fill-opacity: 1; white-space: pre;\" text-anchor=\"middle\" transform=\"translate(204.13,0)\" x=\"0\" y=\"433\">0.2</text></g><g class=\"xtick\"><text style=\"font-family: 'Open Sans', verdana, arial, sans-serif; font-size: 12px; fill: rgb(68, 68, 68); fill-opacity: 1; white-space: pre;\" text-anchor=\"middle\" transform=\"translate(300.59000000000003,0)\" x=\"0\" y=\"433\">0.4</text></g><g class=\"xtick\"><text style=\"font-family: 'Open Sans', verdana, arial, sans-serif; font-size: 12px; fill: rgb(68, 68, 68); fill-opacity: 1; white-space: pre;\" text-anchor=\"middle\" transform=\"translate(397.05,0)\" x=\"0\" y=\"433\">0.6</text></g><g class=\"xtick\"><text style=\"font-family: 'Open Sans', verdana, arial, sans-serif; font-size: 12px; fill: rgb(68, 68, 68); fill-opacity: 1; white-space: pre;\" text-anchor=\"middle\" transform=\"translate(493.5,0)\" x=\"0\" y=\"433\">0.8</text></g><g class=\"xtick\"><text style=\"font-family: 'Open Sans', verdana, arial, sans-serif; font-size: 12px; fill: rgb(68, 68, 68); fill-opacity: 1; white-space: pre;\" text-anchor=\"middle\" transform=\"translate(589.96,0)\" x=\"0\" y=\"433\">1</text></g></g><g class=\"yaxislayer-above\"><g class=\"ytick\"><text style=\"font-family: 'Open Sans', verdana, arial, sans-serif; font-size: 12px; fill: rgb(68, 68, 68); fill-opacity: 1; white-space: pre;\" text-anchor=\"end\" transform=\"translate(0,388.81)\" x=\"79\" y=\"4.199999999999999\">0</text></g><g class=\"ytick\"><text style=\"font-family: 'Open Sans', verdana, arial, sans-serif; font-size: 12px; fill: rgb(68, 68, 68); fill-opacity: 1; white-space: pre;\" text-anchor=\"end\" transform=\"translate(0,337.8)\" x=\"79\" y=\"4.199999999999999\">0.2</text></g><g class=\"ytick\"><text style=\"font-family: 'Open Sans', verdana, arial, sans-serif; font-size: 12px; fill: rgb(68, 68, 68); fill-opacity: 1; white-space: pre;\" text-anchor=\"end\" transform=\"translate(0,286.78999999999996)\" x=\"79\" y=\"4.199999999999999\">0.4</text></g><g class=\"ytick\"><text style=\"font-family: 'Open Sans', verdana, arial, sans-serif; font-size: 12px; fill: rgb(68, 68, 68); fill-opacity: 1; white-space: pre;\" text-anchor=\"end\" transform=\"translate(0,235.77)\" x=\"79\" y=\"4.199999999999999\">0.6</text></g><g class=\"ytick\"><text style=\"font-family: 'Open Sans', verdana, arial, sans-serif; font-size: 12px; fill: rgb(68, 68, 68); fill-opacity: 1; white-space: pre;\" text-anchor=\"end\" transform=\"translate(0,184.76)\" x=\"79\" y=\"4.199999999999999\">0.8</text></g><g class=\"ytick\"><text style=\"font-family: 'Open Sans', verdana, arial, sans-serif; font-size: 12px; fill: rgb(68, 68, 68); fill-opacity: 1; white-space: pre;\" text-anchor=\"end\" transform=\"translate(0,133.75)\" x=\"79\" y=\"4.199999999999999\">1</text></g></g><g class=\"overaxes-above\"/></g></g><g class=\"polarlayer\"/><g class=\"ternarylayer\"/><g class=\"geolayer\"/><g class=\"pielayer\"/><g class=\"glimages\"/><defs id=\"topdefs-1e9512\"><g class=\"clips\"/></defs><g class=\"layer-above\"><g class=\"imagelayer\"/><g class=\"shapelayer\"/></g><g class=\"infolayer\"><g class=\"g-gtitle\"/><g class=\"g-xtitle\"/><g class=\"g-ytitle\"/></g></svg>"
      ],
      "text/plain": [
       "<IPython.core.display.SVG object>"
      ]
     },
     "metadata": {},
     "output_type": "display_data"
    }
   ],
   "source": [
    "img_bytes = pio.to_image(fig, format='svg')\n",
    "display(SVG(img_bytes))"
   ]
  },
  {
   "cell_type": "code",
   "execution_count": 9,
   "metadata": {},
   "outputs": [
    {
     "data": {
      "text/plain": [
       "orca status\n",
       "-----------\n",
       "    state: running\n",
       "    executable: /anaconda3/envs/plotly_conda37/bin/orca\n",
       "    version: 1.1.1\n",
       "    port: 57354\n",
       "    pid: 84827\n",
       "    command: ['/anaconda3/envs/plotly_conda37/bin/orca', 'serve', '-p', '57354', '--plotly', '/anaconda3/envs/plotly_conda37/lib/python3.7/site-packages/plotly/package_data/plotly.min.js', '--graph-only', '--mathjax', 'https://cdnjs.cloudflare.com/ajax/libs/mathjax/2.7.5/MathJax.js']\n",
       "    "
      ]
     },
     "execution_count": 9,
     "metadata": {},
     "output_type": "execute_result"
    }
   ],
   "source": [
    "pio.orca.status"
   ]
  },
  {
   "cell_type": "markdown",
   "metadata": {},
   "source": [
    "### Configuring the executable\n",
    "By default, plotly.py searches the `PATH` for an executable named `orca` and checks that it is a valid plotly orca executable. If plotly.py is unable to find the executable, you'll get an error message that looks something like this:\n",
    "\n",
    "```\n",
    "----------------------------------------------------------------------------\n",
    "ValueError: \n",
    "The orca executable is required in order to export figures as static images,\n",
    "but it could not be found on the system path.\n",
    "\n",
    "Searched for executable 'orca' on the following path:\n",
    "    /anaconda3/envs/plotly_dev/bin\n",
    "    /usr/local/bin\n",
    "    /usr/bin\n",
    "    /bin\n",
    "    /usr/sbin\n",
    "    /sbin\n",
    "    /Library/TeX/texbin\n",
    "\n",
    "If you haven't installed orca yet, you can do so using conda as follows:\n",
    "\n",
    "    $ conda install -c plotly plotly-orca\n",
    "\n",
    "Alternatively, see other installation methods in the orca project README at\n",
    "https://github.com/plotly/orca.\n",
    "\n",
    "After installation is complete, no further configuration should be needed. \n",
    "\n",
    "If you have installed orca, then for some reason plotly.py was unable to\n",
    "locate it. In this case, set the `plotly.io.orca.config.executable`\n",
    "property to the full path to your orca executable. For example:\n",
    "\n",
    "    >>> plotly.io.orca.config.executable = '/path/to/orca'\n",
    "\n",
    "After updating this executable property, try the export operation again.\n",
    "If it is successful then you may want to save this configuration so that it\n",
    "will be applied automatically in future sessions. You can do this as follows:\n",
    "\n",
    "    >>> plotly.io.orca.config.save() \n",
    "\n",
    "If you're still having trouble, feel free to ask for help on the forums at\n",
    "https://community.plot.ly/c/api/python\n",
    "----------------------------------------------------------------------------\n",
    "```\n",
    "If this happens, follow the instructions in the error message and specify the full path to you orca executable using the `plotly.io.orca.config.executable` configuration property."
   ]
  },
  {
   "cell_type": "markdown",
   "metadata": {},
   "source": [
    "### Other configuration settings\n",
    "In addition to the `executable` property, the `plotly.io.orca.config` object can also be used to configure the following options:\n",
    "\n",
    " - **`port`**: The specific port to use to communicate with the orca server, or `None` if the port is to be chosen automatically.\n",
    " - **`timeout`**: The number of seconds of inactivity required before the orca server is shut down. For example, if timeout is set to 20, then the orca server will shutdown once is has not been used for at least 20 seconds. If timeout is set to `None` (the defualt), then the server will not be automatically shut down due to inactivity.\n",
    " - **`default_width`**: The default pixel width to use on image export.\n",
    " - **`default_height`**: The default pixel height to use on image export.\n",
    " - **`default_scale`**: The default image scale facor applied on image export.\n",
    " - **`default_format`**: The default image format used on export. One of `'png'`, `'jpeg'`, `'webp'`, `'svg'`, `'pdf'`, or `'eps'`.\n",
    " - **`mathjax`**: Location of the MathJax bundle needed to render LaTeX characters. Defaults to a CDN location. If fully offline export is required, set this to a local MathJax bundle.\n",
    " - **`topojson`**: Location of the topojson files needed to render choropleth traces. Defaults to a CDN location. If fully offline export is required, set this to a local directory containing the [Plotly.js topojson files](https://github.com/plotly/plotly.js/tree/master/dist/topojson).\n",
    " - **`mapbox_access_token`**: Mapbox access token required to render `scattermapbox` traces."
   ]
  },
  {
   "cell_type": "markdown",
   "metadata": {},
   "source": [
    "### Saving configuration settings\n",
    "Configuration options can optionally be saved to the `~/.plotly/` directory by calling the `plotly.io.config.save()` method.  Saved setting will be automatically loaded at the start of future sessions."
   ]
  },
  {
   "cell_type": "code",
   "execution_count": null,
   "metadata": {},
   "outputs": [],
   "source": []
  }
 ],
 "metadata": {
  "kernelspec": {
   "display_name": "Python 3",
   "language": "python",
   "name": "python3"
  },
  "language_info": {
   "codemirror_mode": {
    "name": "ipython",
    "version": 3
   },
   "file_extension": ".py",
   "mimetype": "text/x-python",
   "name": "python",
   "nbconvert_exporter": "python",
   "pygments_lexer": "ipython3",
   "version": "3.7.0"
  },
  "widgets": {
   "application/vnd.jupyter.widget-state+json": {
    "state": {
     "2dfa24efbd9548a4b9c1354f12ebfb04": {
      "buffers": [
       {
        "data": "wLkjfB76xT8k8ZUDHzznP9KxiFFTyew/HgvHWYJA7z978q7IhG3qP7ACfwm5S78/rhN/O1pT2j94Ry9/v1bEP5xUNQ8fhM8/VOz84ZRvxz/YcIID1iDHP0B1dqTUG6g/pjlqnTs14j8aeGP1LdDrPxpUN71+qeY/m9G4lppJ6z/9+e/ZV5XqP1BFfrqfbac/i7o81i/n4z8E6dlz+JLTP36smS0fI+Q/gJgyGMd+tT/GpiVbb5LUPzZ98bI929s/s2aLsIRk6D8APh4YQGTQP4i8xgnCgMs/A3rK+SnM6j/UxiEGG4XpPyxb8pgqoM4/oJ13smN5oj+QCQQiKRLqP9ZDJR8LA+c/xBJ2oeZf2z87PL9fIZ/iPytmbYxk9u4/RguR5J5j2T9qPsn0AULePwTCaLptSOM/+PeHeO+v0j/s96ZAknTZP6RzQHNk+NQ/Num+Qc2M4T9mUq0fr2/ZP6MypD1WPus/QG65qABK5D8Ntx/AAAbkP5KMpeQyzd8/UDGuMxD0sj8gB0J4wb28P1QNNAMZJMo/a4ljusf06z8/vZXLQxPsPwmEPH5fdOw/hifYSTru1T/veDSqiSfgP1LtCZv86u0/tXi9C8+p5j+EWQDi7RDlP8CgroEQdNc/IOn0zYtGrT8YQRFC4YTFPzp0wlGIp94/tFTPeBuR6z/KX4UByQvnP3BSqBRQbbU/YS2nYMiU6D+6e3KaNuTUPyhd78I127Q/T4JsLW2n4j86zVN6klDqP2xgH5cMeOE/REAO4hV/yj/REceMTaDnP9MS9f3lzOg/avNV8UvK0D9qo+rys+DRP7QSSo04SNA/DLS2fvmD5D88XcGIeFjaP/DsS9bQLNw/iCkiR5If6j8NtF2tP4/mPwyOubcHw8k/dSkPhcNI4D90SCk9inztP8z0L7u3fM8/0mXrUgP04z9wnnpQe6HmP5AG1/9OMbg/oRpViOIR4T8AtnmvTxS0P2BpvpAVsM4/cIES1wbrzj9AdeuCOE2uP6YV6lSCNtA/V837sbKm7D9GRlzzhQPWP3AbTOBPK9E/WMFteq5xxD8=",
        "encoding": "base64",
        "path": [
         "_data",
         0,
         "marker",
         "color",
         "value"
        ]
       },
       {
        "data": "NQX8W96YFECcHz8lZqwxQBLXHak6PxJA+OwRFAK0AUCgxMJfHO0QQN6g/pIdKz1AM8J0LtWGOEDVMZtXTUQWQNW8jLKP/zBAZXgO+mwFPECMNIGBiZI7QH1kURRUexpAjKBkxwq9OUCrSGNS9JMVQNqEr+Fg2C9AZR/75EoaNUCqfu/LL+cxQI2PDWz0dgxAEPWfXkU4PEByGFd7+jQyQJ5+afJIVyRA0joMcugfPUDxNx0PMGc3QIJREPTYLzVAVYf4Xj2iMEDBr6ql0lo3QAIP+baUlRBAYk85YnfsIECPiDZQcnI5QEo4uNqibTlAUnhWZNAcMkAe3gmp7GkqQFlop/vjqClAdXDQIAASI0DtT9m5wtwrQPwYE6i69DdAXWagzbt9OkB+OwTkZJQdQG9qlvvgECBA/3M+YQmXOUAyBIK19vo9QCP+zE4q1SBAc4Eqaiap8D9nRh/WixkWQE2/nNpS1jZALXn6tKogF0Bs/wZMm5omQHfUA1mXoTdAijcC1n+3O0BEdtSwf50fQF8zxNKkGi1AAWpsd5/iFEDUqbBPAJ44QEtQa51bOzlA/QPDHb1POECH/kyU+PccQIUYMvQwwjZA8KO6ZVDkJEASSHfW5yY4QKHSjoyCRzVAgI/pYm6/mz/u7H7XzDQ7QAzvhtQ2oQxAlsDnFs7vOECDHnTJpfA2QBEVcc+g2DZA6ZbjSn/xMkDz1STWgb8oQEhm7OTbNhNArN/oNPmuMkCRfw4IpRAvQLEB9tXudTBA2mFyRaDBMUDvfMI22PAjQAFmENpT/BZAXOMOL63CKEDhyOeRYKkNQFtrfxLkmB9Ansyf5HGPFkDopHg3xZzFPxbdzAtp/gBA9OUF/vBSA0Bi714OnmA0QNf0Yg/1Gh9ArcoR29E8L0A7UTzqFQI2QBbB8U1HTTJAYBBrvl65JUDkN2wjK6EqQIkFGVZVmvI/l+DACBeWNkB0AsXcwfU9QM+KiPSzjzhAzE2558sA7j/q0IGM/KA0QKKW9LZWZjNAgGk9n+AZMEArpWsOHKUtQGrH1awmUD1Ay5ibdiCSNkA=",
        "encoding": "base64",
        "path": [
         "_data",
         0,
         "marker",
         "size",
         "value"
        ]
       },
       {
        "data": "NBfixb9C7T+di40sSS3oP5pD9IvOjdw/o8CPrXm55j+Uy58czlPkP+ZHkEKrUOE/VrNlgM2D1D/zBY0mIgHhP9k/bf9e3ug/qu5lTOw17D+mm7w6BqvuP4BkIMFruOY/gIfu7xbJ7D9C2gEsU6HbP0DkyDfp3dE/VOyGolcf3z+Uo8Suu3PYPwhtSwvP/u0/8ICAP1rRuz+gvVi0XenWP4DD81+uxIk/IEMUwzTB4z8QQK1qcPnmPyZkEm0ZK+U/ILRwGr6+kz9knguPuwjTP+ab+FG0cdg/+PpvYIQmxz+Pes4/5z3rP5I6V6Hh2Ns/2ETxahH2xz8zSWjCUCThPxAtgDCDT88/GJNWq4EC0j9eM5j7yu7mP01zkAfheeo/h+4Lcqi24T+PahqtV+jnP9A7zKj4xcA/y6imIEiw6T+S20rVUSrrP4CfTDhC7nU/uSO5pLiB6T/w21XcQWzgP1q3NkCOxOU/akJ+J6Cs3T9gOw3x+TWlP4TAOQsXjOI/XFfbuaZ82D/RcJYk9Y/tP/AIRV44H68/KJ8vryKisz/oe3MWDxLYP01MayT2VO8/pGzPFYaJxz/HDyy1X6vpP6RqmV7VVO0/4BPyQO4AoT8UNx2iC6DLP6j+oe5/F74/CJS6KlhJsz//aj2A3sTrP4Mqb581zuo/INwJ3bn3yT/odJaUoWvWPz04SCTzvOg/4HfgPVhRpD8bWiXJwZXiP4iD63saTdw/b/Sse+tp5j9+86sJJ8LSP5BpvEYWOcU/LHincANc4T/lMtfIJLXpPzqI46mLteY/aDTB9y1r2j+JYe+GTjnlPyhk6RxwjMI/IQ3xFxqv7j8402diyze8P9hugRon4rk/s33vWJsj5z/MZGFGEjznP+yNC5MxFOY/vKAeJ5pUwj+O4bOCi4LXP+hA0wjfObc/4Aa8Tzrd6j+VATkobZjhP/jUqNBRDtg/CYpatkWR5T/13cOpMJvuP8KbIjmbG+0/QPJkSmYEkj+FYyy9RpXiP6rHxO/sIeo/Htf0EhVy0T9w/eWbblThPz5j0Ot6d9Q/IsTcl5Fc2z8=",
        "encoding": "base64",
        "path": [
         "_data",
         0,
         "x",
         "value"
        ]
       },
       {
        "data": "b/ZF+luU4T+CC5cyxuTnP4hE6Pdvt8Q/uEvuR4he4j/wbBKlcoXNP3gtvMVZbbQ/fKAYLRBq2D8230JJEzLoP0i0oxIqGt8/AiVSN5gB3z8wztzChQ3QP2VvAyTzcOw/vdhpt2we6D/ATaUOb0XMP3iM2YPajbQ/s7pTi8+R5D/ApnXPUcTUPwbY6w6VqeU/bj2fLPYr5D+5HCWvFZLuPyBwSy6CqcA/0GI5ifSorT+wUrjYbYTvPwzVDwGCXeE/eI0vtMI05z9JI+yqrALvP/gNaPkwI8U/OA9E1Piezz+oW8SYyZW5P488P6gWA+Q/IDVlgdBtwD9Q5EgvnvuoP2eEX8/imu8/GAQDQwjpyj+Om6fEMhLZP6wfjXdsY+8/qrveJtXO2j+wg50WPIboP4KBki5HMe0/SFZ+exXgtj+APW2neEvKP6aQnLBCHOo/WFxfaJ2H6j/1lJUEqgzsPxhBmePF2bo/Eh17sPQN6T+ux1aenSvvP5eLZNPH3+8/OOQJjeEpwD9Shqzxn6HlP1guiKlpeOI/MMn6hQNw5T/XZWvVJinkP60cArAuE+Q/tseZ2mAj0T9cT/YP3FrYP3gDuzpK1+4/NsDYsQNn4z+AIC5Yx92UP7A5GX0g0e4/MJIneCMX1z/omiO21lm1P7z6HIddq9k/7/fml98H6z/XdwJ5trPiPxgkzfpc/8I/d6CvFkud7j8sc8YfZIffP4RVhRbAGuE/gO6YCoifzj+KUkNbY2jQP/qenWSLc+Y/NpB3x4ir7j9jCBVH7GToP0DsuyG+Bso/fPzSCUOxxT9ah7oBBPfmP0Dw9aCrFpk/ACt4zoUIuT/e94t2B5roPx+iXuzZQ+c/36nPOoJQ5D8ofEVgQcrCP/ehTSgf3OU/RtUJMKOJ4j/U0no6/YrQP2IiY+pketI/7Dgsew/1wz/0HDNuyVvkPzMDaqPzOOM/WopFN7Un2T/ANB//k4/NP5T8PmNzP8Y/WXelAEIM7T8HFpO14tnkPwhqjtuN8rY/EYy5xZEN6z8gyra8creRP0SeDQHvTcQ/lYL3XFnJ6j8=",
        "encoding": "base64",
        "path": [
         "_data",
         0,
         "y",
         "value"
        ]
       }
      ],
      "model_module": "plotlywidget",
      "model_module_version": "^0.2.1",
      "model_name": "FigureModel",
      "state": {
       "_data": [
        {
         "marker": {
          "color": {
           "dtype": "float64",
           "shape": [
            100
           ]
          },
          "colorscale": "Viridis",
          "opacity": 0.6,
          "size": {
           "dtype": "float64",
           "shape": [
            100
           ]
          }
         },
         "mode": "markers",
         "type": "scatter",
         "uid": "2ad8a21c-a8b5-11e8-af9d-645aede86e5b",
         "x": {
          "dtype": "float64",
          "shape": [
           100
          ]
         },
         "y": {
          "dtype": "float64",
          "shape": [
           100
          ]
         }
        }
       ],
       "_js2py_layoutDelta": {
        "layout_delta": {
         "annotations": [],
         "autosize": true,
         "calendar": "gregorian",
         "colorway": [
          "#1f77b4",
          "#ff7f0e",
          "#2ca02c",
          "#d62728",
          "#9467bd",
          "#8c564b",
          "#e377c2",
          "#7f7f7f",
          "#bcbd22",
          "#17becf"
         ],
         "dragmode": "zoom",
         "font": {
          "color": "#444",
          "family": "\"Open Sans\", verdana, arial, sans-serif",
          "size": 12
         },
         "height": 470.5,
         "hidesources": false,
         "hoverdistance": 20,
         "hoverlabel": {
          "font": {
           "family": "Arial, sans-serif",
           "size": 13
          },
          "namelength": 15
         },
         "hovermode": "x",
         "images": [],
         "margin": {
          "autoexpand": true,
          "b": 80,
          "l": 80,
          "pad": 0,
          "r": 80,
          "t": 100
         },
         "paper_bgcolor": "#fff",
         "plot_bgcolor": "#fff",
         "separators": ".,",
         "shapes": [],
         "showlegend": false,
         "sliders": [],
         "spikedistance": 20,
         "title": "Click to enter Plot title",
         "titlefont": {
          "color": "#444",
          "family": "\"Open Sans\", verdana, arial, sans-serif",
          "size": 17
         },
         "updatemenus": [],
         "width": 982.967,
         "xaxis": {
          "anchor": "y",
          "automargin": false,
          "autorange": true,
          "color": "#444",
          "constrain": "range",
          "constraintoward": "center",
          "domain": [
           0,
           1
          ],
          "dtick": 0.2,
          "exponentformat": "B",
          "fixedrange": false,
          "gridcolor": "rgb(238, 238, 238)",
          "gridwidth": 1,
          "hoverformat": "",
          "layer": "above traces",
          "nticks": 0,
          "range": [
           -0.0574423090834488,
           1.0561381756682302
          ],
          "rangemode": "normal",
          "separatethousands": false,
          "showexponent": "all",
          "showgrid": true,
          "showline": false,
          "showspikes": false,
          "showticklabels": true,
          "side": "bottom",
          "tick0": 0,
          "tickangle": "auto",
          "tickfont": {
           "color": "#444",
           "family": "\"Open Sans\", verdana, arial, sans-serif",
           "size": 12
          },
          "tickformat": "",
          "tickmode": "auto",
          "tickprefix": "",
          "ticks": "",
          "ticksuffix": "",
          "title": "Click to enter X axis title",
          "titlefont": {
           "color": "#444",
           "family": "\"Open Sans\", verdana, arial, sans-serif",
           "size": 14
          },
          "type": "linear",
          "visible": true,
          "zeroline": true,
          "zerolinecolor": "#444",
          "zerolinewidth": 1
         },
         "yaxis": {
          "anchor": "x",
          "automargin": false,
          "autorange": true,
          "color": "#444",
          "constrain": "range",
          "constraintoward": "middle",
          "domain": [
           0,
           1
          ],
          "dtick": 0.2,
          "exponentformat": "B",
          "fixedrange": false,
          "gridcolor": "rgb(238, 238, 238)",
          "gridwidth": 1,
          "hoverformat": "",
          "layer": "above traces",
          "nticks": 0,
          "range": [
           -0.10427738596944856,
           1.1193530251840305
          ],
          "rangemode": "normal",
          "separatethousands": false,
          "showexponent": "all",
          "showgrid": true,
          "showline": false,
          "showspikes": false,
          "showticklabels": true,
          "side": "left",
          "tick0": 0,
          "tickangle": "auto",
          "tickfont": {
           "color": "#444",
           "family": "\"Open Sans\", verdana, arial, sans-serif",
           "size": 12
          },
          "tickformat": "",
          "tickmode": "auto",
          "tickprefix": "",
          "ticks": "",
          "ticksuffix": "",
          "title": "Click to enter Y axis title",
          "titlefont": {
           "color": "#444",
           "family": "\"Open Sans\", verdana, arial, sans-serif",
           "size": 14
          },
          "type": "linear",
          "visible": true,
          "zeroline": true,
          "zerolinecolor": "#444",
          "zerolinewidth": 1
         }
        },
        "layout_edit_id": 1
       },
       "_js2py_relayout": {},
       "_js2py_restyle": {},
       "_js2py_traceDeltas": {
        "trace_deltas": [
         {
          "cliponaxis": true,
          "error_x": {
           "visible": false
          },
          "error_y": {
           "visible": false
          },
          "fill": "none",
          "hoverinfo": "x+y+z+text",
          "hoverlabel": {
           "font": {
            "family": "Arial, sans-serif",
            "size": 13
           },
           "namelength": 15
          },
          "hoveron": "points",
          "hovertext": "",
          "index": 0,
          "legendgroup": "",
          "marker": {
           "autocolorscale": false,
           "cauto": true,
           "cmax": 0.9766246560542162,
           "cmin": 0.03608237794451985,
           "gradient": {
            "type": "none"
           },
           "line": {
            "color": "#fff",
            "width": 1
           },
           "maxdisplayed": 0,
           "reversescale": false,
           "showscale": false,
           "sizemin": 0,
           "sizemode": "diameter",
           "sizeref": 1,
           "symbol": "circle"
          },
          "name": "trace 0",
          "opacity": 1,
          "selected": {
           "marker": {
            "opacity": 0.6
           }
          },
          "showlegend": true,
          "text": "",
          "uid": "2ad8a21c-a8b5-11e8-af9d-645aede86e5b",
          "unselected": {
           "marker": {
            "opacity": 0.12
           }
          },
          "visible": true,
          "xaxis": "x",
          "xcalendar": "gregorian",
          "yaxis": "y",
          "ycalendar": "gregorian"
         }
        ],
        "trace_edit_id": 1
       },
       "_js2py_update": {},
       "_last_layout_edit_id": 1,
       "_last_trace_edit_id": 1,
       "_model_module_version": "^0.2.1",
       "_py2js_animate": {},
       "_py2js_deleteTraces": {},
       "_py2js_moveTraces": {},
       "_py2js_relayout": {},
       "_py2js_removeLayoutProps": {},
       "_py2js_removeTraceProps": {},
       "_py2js_restyle": {},
       "_py2js_update": {},
       "_view_count": 1,
       "_view_module_version": "^0.2.1"
      }
     },
     "66805d7f4f48478389af7444a3dc2aa7": {
      "buffers": [
       {
        "data": "QC15qRQnoD/qM/bybI7rP0gdaGEydL4/I3W9f5Og7T8EKS3RhgXGP1g7S8AKd+I/6Bf+4uTg2D/zLyXcd43iP52MdqotduA/RwbGtjCj6D+JvvdhPY/tPyyy1+kT1uM/WvqyVw8x6D/E3iMS9hDKP5AXv/eintc/NIfS4Mi+5T90Yt1tUmzgP75zAneLgeM/HLvyDTN55D9KVNWTSIzaP1ao9nCWy9s/CiWJ/0yO7z9AgozJOWnePw93xt/uSuE/CbM2uQDo5z/It08XLobTP2bWsCuNaeU/4NqLRn/FoT9AAnVPpTLFP+hMfI/Wkdg/TqhLvX6S5T8KUXhW6STRP4qRDFZaw+o/uILqsmsOvj+g+AQgW3LPP/6zwlMMI+0/wNV60qs8iz/0dwYX+nngP0CHPf0ZCpw/0XUlZWmC4j/znZCCxzbiPzKvzvLgyO0/YORt+wVUmD+kG3z5HCrVP/Qk8FHWeeg/szoVePKn6D+s/yHqgKvTP25rll3ROOU/0DXgmVYPwj8+ngWCb77uPyBJ+b6+3sc/8INTgy4D6j9pyUcklRnvP5b7c/M9m+g/j8oYq5sj4z+onLfBvovbP+/AsFPoS+8/ALOgSlgrZT/70fhxhVDsP1BYPRE5n80/XOjFvKgf5D9gCaS/DZvMP5txdVZJOe0/gOkBR+kbyD+4hOd+ccbgP1EspXBf9ew/WD/b0Nydzj/jY2TqS+PlPwFdyVJziOg/TiSutQeI2D/9/3w0mc/oP9lYOmyy8O8/gzEwDiJ/6j9iEtdJxerRPzuhrZQNO+Q/FFDXC1wO2j8RByiZqcLtP5CM/L/ccNo/UmRwJ6RX5j+y7kKjV3TnP8YMy1jtHdU/0BGTw50Kqz8TWck0W07hP520Da9+UO4/VCZAH++V6z88FH28rQbRPziyfk/7f7w/2KAM+Rc54D+1Mv+rIYHnP6BriVNmmsk/Y9G/vnJi5j+kIDytfNTqP6Df1eoydqA/WGm+lPhP3D+32tlg65PqP9EPWgOBXOo/ZHJix+CtyT8HnJnhswvqPyFdkY7E8eM/F497deoc6z8=",
        "encoding": "base64",
        "path": [
         "_data",
         0,
         "marker",
         "color",
         "value"
        ]
       },
       {
        "data": "g8h7aL6cOED2RWdMbBE4QHf81hiIiTNAt7XyIzzsK0COfaO7rYs6QKxf0rHYXihAi5qwwQ6INUB8IHmwoF3tPz3q7NvuxTpAUQFw79fU+T+smwyO9ks0QAgZdOoXugBAzYZMCf0rMUBSFxtDxToyQIliNLbZLSlA01SHBsQxPUBwX359Q1s4QFqP2+cckhRABXqGGpaEPEBhLimO6VU4QJZBw+H83fE/pVyJm2wTJECs26NB6d88QIsHhoai/BtAzx0YB2tw+D9m84Edmy4kQIOPnG7YXDJAdFn7iJ4iIkCsUTD2uRP9P6wqSr0HnxlADmTrI+O8NUBua+XNrmIWQNXdx5Ms0SVAZXW6d5ZcLEBriItYEo8wQAAgJYk9ndo/Ulvzhf+dN0CQS/zmVD4fQMfQZ4d/4DVAxY2JHw5XE0Bz18m89o02QJBBxoSB7QFAhoJb8ODAIkDHI/eRZhA0QPioWiTCSCVAsB9iVJOSMUDYF34inCEXQBV9h6fcijxAheCrZssUOkBvFL96xVM3QFxkYXG8MytA5l4prrD7NkAmcgueDoYqQFkfh//seTdAACK8clW6L0CGA0/cekY8QIWgxOezACJAURumhG4PM0Cy+Huc+YYwQBBUPr3Q8RlAcqEIbDtJMkDVLLKfJ14zQAaKYgGWujxAUAQEMW7gLEC3CTa4dFY5QN/ybuz4Hi5ANtAcLlkKJkCVW5ao+WALQJqCwXP6+hlAsAjYwjQa8j/qlQNTExczQAYU1RXtCjBAkgbGZbAIMUANZxGv8vszQPC3ZeJ3ijhABCzO/kRwKEBkEng9JYU7QIkTOgCXcDlA+2ktWAtpJUDfMe6UnMg6QGZ1WdEdlhBAqd0t3W4+OUBn7J+3QUA4QJem5OZpCj1ALOR46jf8A0AiPWLbwY06QIaGVtrsQTNAfazMCoaeBkDA2SlVXoE1QFWbj2Xi/C5AgZTpwz95PUDWv1HwlBM6QMhTgP5g1wZAV2l06CQqJUDp0bfaRIcnQPLzqEy+HiJAUplOYXEBKUAT5acGF8UlQLexMgOltDpAzRxInSdDO0A=",
        "encoding": "base64",
        "path": [
         "_data",
         0,
         "marker",
         "size",
         "value"
        ]
       },
       {
        "data": "8KYm7Wrj3j+41W8n/qe/PyA/s61Tf5g/rlUEQavz7T8xRKmlAHboP9gY4r7aNMw/WKq+97FGvD9Y9Vb7mDC4P7KgXODZPOk/0nwQbQUy5z+N4hEQZH3iP/5xG6x2rOA/xJBH9hdF5D/tyAcR8C7iP9FkBOS1BOA/6gqNR2bj6D9B2AVPhSXnP/0q/sS8zOg/VoTY734d0j8a+mCmZ7HjP+ZlojtAWNU/xGII1Lic0D9shV/0rXLMP7tzVCjd0+4/WQYhhb1Z7j/Aa+ddmZHHP7qcet9k3O0/POC8KFq7wz//5DjXcSrtP0DE6nBUGJ4/poP/+OtM4D8Q5EdJN3LAP4qfZOqnD9A/iLlFRzFc6j9X7DQVNfXqP/xPEbPYAOc/cQBpERRG6T/sRwLbNwfbP4Etk+OlZuM/J/kHBkJ65D9yCnC+vMPtP3QuU4B5z9s/GpuR4xeW2j+ogZrcejbjP1aI7w7tAd0/XsvkGDuT2T9EAUv+rNvjP9DbWyOlybI/LjWrrW9Q3D9gNMI97UjTPzyI5VYRuOk/aFSrg5jI6D9eX1AQzK3YP9h2i0Lf1ug/XTdiZF8L4j/Je5xQ7bzjP8NMQ7zw+OE/16lXLwqd6T/CLIcCqpnWP8nbet5rf+Q/MhwprHn05z8U3Awi1r7HP3/zMCtbsuM/125UCOfR7T+4KRhmO4fJP2CG8SzeyeA/dQNJ4/ih4j+UvkYBn/zGP3R3CIEerd0/WBUYb0X37T90A1bP92jvP8ydKSFZWNU/qfyn2Jjv5D+l0/y8/L3gP/D8HY6sw+4/4GdJsJZguD9wr/QYGNzkP9xTaMELFuI/HFjR1N1AwD8n5i2PwyfkP7bX/jJJJNk/5BLfE5N+2z/A12bkgOGqP1NqICUUIeU/iH2CC/9PvD9wy4xQTRLTPwxv1lZgUsM//bwmxr5A4z/YVvyiX2S2P6AyjmrJgK8/JOR+KxseyT8wlMrsJZ3SPwRxH/l2fNk/8GVogakG0z8XuDOIa6DjP4jNcPXipcs/1EMaTl/fzD+JXmvZH/7tP8dpX1ZKTeI/wB0VBSGi2z8=",
        "encoding": "base64",
        "path": [
         "_data",
         0,
         "x",
         "value"
        ]
       },
       {
        "data": "ZoT39smU1z9bdgbTjBDgP+S4vxSH9e4/qZHLFNDF7z/+4fUYClTkPwRhBA6qxOo/wo68WSR80z+QS84T5V+rPzYc+yOuqtc/1js/BA/P1D+glUnQTxOqP6Fs+9xuZeM/II+kOCBosj+EsFfY9A/qPwkPSv7wpeY/Ky3cv/vv7z8g+YCS/UbLPy0+Jy49iOU/2B0z2RGetT8AYZRG8815P7wju7S8RNo/DmaxMYIe6j+qM32ZtDDcPyKsgd6aY+Q/wIzFR2oB2T/UyfwvJ7HcP6UcilGFteE/R6rICTd/6z9cFR+BZ2zFPy8ooZm8UeU/eNFnVeUj0j/SrzhTw+zkP5iZSncRFu0/1O7sEzrM5D/AeUebQL67P+Ts7izpr9s/8IFHNSkYzj9jvPtMRuPuP7nr8DeY7+M/tMFcKzNr6j/EpsKl21fSP+CYkTYHCO0/EHXpRv0Zqj/EqwI50//tP1RrXbSssdQ/2Rrd4f+Q4z+gFHM3W5mQP83Q9vBk1uk/MkWAZdfU4z+saES+p7/rPzXlfkYxLOo/MlvbvGLB2T8BuPnIkv/hP/UR5c0N6uk/pbqZzXOy7z9U0tYdqorVPxj4Yl6WjdE/5rnLjV6S7j8ghnm9LK6xP5Vgj00gouA/pp95Jy3y5D/sRcVp4c3fP8By/dyWkMk/FMEQMDNkwT/oswR2ziWxP3NREVuM3uU/a7qBHOG87j+IGt1kM+uxP4MkBKukF+c/LCXVMUNExj8aDIS5o2XjP6BSfPv2KrU/Oj26R6st4D+iyAdXaIXgP0hsiTiii7E/WM5znlPx6T8AVqc6gyiAP5SEe04sIs8/xY+jfuyF5T/MWXuRUazdP/go+L+PL90/t9a8FE/A6D+Ey3Uz83LOP2DPCgzFvNw/fUlLK+754T9IhN1A4HyyP11SApGN3e8/fI1UDcOM0D/jGjYgMCnsP2HHMhXWY+U/sI1bzEo1pT+kuVu34KXGP1A93pkRbeE/JMMjGo9Z3D8+PqjpuPvWP0yAOX6UDO4/elkwQngp1j8WzTXqBe7rPzYyVjMKgNM/uHxIqKJevz8=",
        "encoding": "base64",
        "path": [
         "_data",
         0,
         "y",
         "value"
        ]
       }
      ],
      "model_module": "plotlywidget",
      "model_module_version": "^0.3.0-rc.1",
      "model_name": "FigureModel",
      "state": {
       "_data": [
        {
         "marker": {
          "color": {
           "dtype": "float64",
           "shape": [
            100
           ]
          },
          "colorscale": "Viridis",
          "opacity": 0.6,
          "size": {
           "dtype": "float64",
           "shape": [
            100
           ]
          }
         },
         "mode": "markers",
         "type": "scatter",
         "uid": "1e811ca0-b07c-11e8-aa17-645aede86e5b",
         "x": {
          "dtype": "float64",
          "shape": [
           100
          ]
         },
         "y": {
          "dtype": "float64",
          "shape": [
           100
          ]
         }
        }
       ],
       "_js2py_pointsCallback": {},
       "_js2py_relayout": {},
       "_js2py_restyle": {},
       "_js2py_update": {},
       "_last_layout_edit_id": 1,
       "_last_trace_edit_id": 1,
       "_py2js_animate": {},
       "_py2js_deleteTraces": {},
       "_py2js_moveTraces": {},
       "_py2js_relayout": {},
       "_py2js_removeLayoutProps": {},
       "_py2js_removeTraceProps": {},
       "_py2js_restyle": {},
       "_py2js_update": {},
       "_view_count": 1
      }
     },
     "9bc16d7896f340f2841a6507ad64af5b": {
      "buffers": [
       {
        "data": "gZBh1XQu7j+Y0jrDUfzNP3h+z4Q5mNo/XCI0aAjN1T8ycJGK1nfkP0Cbmqdwq60/OmH9VW5B7j+FCqah8A/mPx1vs/2OjeM/wK0Udi6mnz8kcHnEmz7sP4DutWVKVKg/gTTr4GTl5T/Q442dlBfVP8D1vh4RMoM/VvilmI9f5j8Y9b5OZi6wP6MG+70iyu8/RCpHJMZb6z+IAl10ogHhP1avwzFfut0/7g0JfNUR0D89sr15XWboP4A1QUDXudo/sNyrXR4GsD8yt7T9tK3kP7DlryX/qdw/RWR6DQaY5T/UIWWd6w7RP8aXtgmyB9Q/Mr4YXsgX7j/wSYDxNoDDP3dDgB1XgO0/gLeqVeQ0uT/Cq7iDDhjgP0k+9cza4eU/ZhAws7Th3D/aZMDrBDvQP3ahxiUmOuQ/IFiuEwKanz9lEqTamXXuPyec1PnYru8/AKknmKaO5D8xYdC5V8TnP2oTp6syONo/qqcrfepW7j9uAjbUduLcP5C4gYvve7g/geGy7+oL4j9pxZaKSyDvP7xy9mDd59M/gCviGm7MnT/IRmpH3hrDP3g1P7tfktc/1HutRi6t7T+wRLPiuCTRP83iEbpV5O0/iAAUcbtHuD80urg6tKHlP9Q5icEsiO0/V8okhKYH7j9IvMO6ItHXP6WzrvmSw+o/MBxkknODzz/On1Se32jsP0JteFjCveM/5Gs4uOr44j/enqFflBTfPwKQTlXWsNY/AgvSgKRQ4D9eWBFzI0fdP8Br1t/6AZs/pIDsIzDn6D8tKLT+7MTiPzA883lK29w/A1PO1YOr7j8svDZr0Q/PPyTpWmqJudE/0I/SzYdH4z8s6VR5GsjrP6jR49zQodI/QCSTcLvekj+Y3KxTAnLWPwpAOD2ebtA/DpbqhYQE7z+IHDhHNUvHP/VSZHE56uw/tUxSSBPv6z/FEqf3f8DjPxqy3ujL9dg/k8uV/LfN7T8AHfNmxsN1PySseFNH1tE/lJ3yLDaD1T+vQknfK27mP3hV6xB/6cw/O1MlVAkG7z/LeGzg5IfiPxBwheYGcd4/6lSeTbCm5z8=",
        "encoding": "base64",
        "path": [
         "_data",
         0,
         "marker",
         "color",
         "value"
        ]
       },
       {
        "data": "KFoE4iEIK0BOfXmYrdI0QB+RZiBnGDRA7pvJPhMyPEDdopytEWsDQN6gu5i5aw1AEZPpJLxmIEDu7PmbtTozQITVs6WxPTJAqlPX8xA/LEDqytqhDFoMQKPHTe+h1SNAVOHglE8KFUC0rKPSdmM4QHKivkBBaTdAzaQ6YjwCLEBWD9oiiYU9QHGanMweJDFACj7sap+AGkDf3FPQgI8OQNrPm5iDojpAcyA09cUS8D9lbCa0EdojQM4caxrbLxdAg/eUUlvSO0CqGzQXhBQSQIfmZZEv5j1Agi0vzG2IMkCGnwNhkKXiP4CULnCElD1AJL0V5vMHLEDmqTkPhXEyQDNW3SZTDDVAB/z9SE+9FkDPFg/VV6Q5QGcGm5wdgzxAEeZi9RlML0D9P0yNxLEqQC8M8XAaoz1AN6Y/28lVGUCtBh8UE+czQJvE3ZED/QFAJdaG6/WIJUDRzsRa1kssQE0W+WZ8Gj1AxuhvPNq6OUC4RmNj6Q4nQAZxaQZHBCNAWlZLWDz7LUCKGcxhOr0yQN2INShAqidAIvSvxIOAGkDwPl+b1B41QDRRITkuHQhAFbvqYqcdMkDsOB7PJfUGQIKLyEMKFDxAcuo+HOd1NUCMzHrpJ5oTQBhibqwfrz1AfqUhYknwF0COOGTPOk/yPx6/8rsjXDBAS+nP7RXYEEDVuIUyLHExQK2Z2Mu80iVAOvtZV44vKEDJE6oP2Hc8QGErRsEyvDxAtF464rjKM0Bh5vPs984zQDzNgyYywTZACKoiSQaaC0A4G9vXIcAOQA+8/UwqRyFA6V7/7a3CMkAgA6k80C2nP7xwseahpDJAxB0muo3qN0B895T/3hI2QAeJ8w8DKhJAS3HhjtquNUCcMeewdqwcQM4kTMQzxBpAG5APedw2NEAPTLzZywwyQKGrwJx2bTJAMMW+NRO1HECjgaxuZYorQAT3f0r8LBhAxGgcOew5EEBcfN7qF1oVQMxLUL7m8T1AduSU9AZKLUDmF4isUK49QJ14kdTzgzNAGTyu+KFOA0CeSzhim9w9QFXUn1ijxzJAm9mqhxJnNEA=",
        "encoding": "base64",
        "path": [
         "_data",
         0,
         "marker",
         "size",
         "value"
        ]
       },
       {
        "data": "kgQMxlV81j80f2024ajgP5jzqCHnAbo/pAzK7+Nc2z95uxf85yjqP2+rgmN6qeo/eDU9LUv26T/IZueinKjCPyGk0PPQ++Y/K65LNrXM6D+05qswqlnpP8BG7y4O97c/Hr1G/r1K2D/mCMPT6WvdPwlaryOAnuU/wNGYhPwSwj94y4GdR9/OP6Dz4gNWLbc/roGUxzSa4z9UmuZfPT3kP7YuQMbjdNk/pESQAGf+6j9MjRWzvs7SPwmZlYzW7eI/VPqJscAn0T+Pq2ZlrNnlP4s+mMFVWug/0NKn1AQy3z/Qhds7IT+2P+C5hzwlfak/2LUUWmTWuD+YtPiHR6jkP/TW52+SAtg/rOM10DUl7T+2HdATAnzRP56GszltDeY/dE6k2Js50z8YGayQvabpPyDgGXK0wps/+ooA2C7i0D/cBxrq0DLaP83VaJMjtOc/VWjyLcwb6j+L2MEm+gbtP+amIxJ4vek/V6bV6Xgj7T8mL5gNCVnkPzCWtsw0m9g/HARNUtzhwD+/1Cry5irhP4XdXLkS1uY/28UnzWuo6j9aBAESY0DgP3OYrjzqmOw/ZJYgI8IE3D89U8NxDvvnPwE7fxVtxOY/SBByT1pB7j8gVDcztzbSP7bGQhTgUuc/kHwxI+OUxD8isa1t4EzRP38aHTc+XuY/hlV/2r9M4j/wz67MSOfoP7jFUqn/4LQ/AzN4G/x75j/bCXHxN8njP06qJjdy3Ow/UD1j1z7aoD+gxlKHvhPWP+BieJCcEOA/vhDjO+QP3z/cUIpdJjTOP4Wl0AusyuM/zyMIXTjH4T+fBGDmlvPnPwQxxldHW9M/+PX9LUkCxT+i620FfiLXPzh9hNkgzMw/HtB9qdqx3j8RMGe4SOvoP6AtmR9t67w/2sayDum47D81J9wUmqTvPyImni1O/+8/fCHUbbVxzT9EPPsoC5bcP+z1/uzHo8c/YCIfiElb6T9+oPFf5JreP9SS/m9oAOE/ENA/bevJxD/vOnv3iPHhPxgeE9qVNN4/HoegbMhu4T9gD5+3QCLJP+aJX2tnju0/eQl3Sd166j8=",
        "encoding": "base64",
        "path": [
         "_data",
         0,
         "x",
         "value"
        ]
       },
       {
        "data": "v5r1Ja8J4D9AjyGfhRzgPyj50FQts+8/WHsSd0Hz7j/p0Y+oSQviP+IP4Gg1PNM/a3jALMh16j9yWah6uPjcP+kdKY2FFOc/wUrnAuwg5z8PVcChMqvgP862cA4ex9s/lRfjCQ5R6D90fXokntbGPwDVLWz8qq4/ryMxFbPm7D/MOPs1d0nbPxScbLZ8K9o/+V90gqJG4j+ufrV8ZPbfP35+uG+X4eY/lPqcOpoy5j/MDo55JG7OPyYF8LgLzt4/rDo6UlDg6j/AXAoMTKSfP/PEG7MQje0/3HqLyy/2zD8gVbOfFWXZP1SlhZKrxug/IKfl7J/ukD+ugdcccXvbP3je1BJa3Mw/HQqnBo5z4D/5aTpMgVPlPzCTzWOgu60/Ik7lRwjh5z84RoxhDWrMP7aw1L/pjus/HCVxbE3AwD9EvUkrJUPTP8TuNSJ7rtg/6vVFKUHu6T/OfUbolW/kPyuEQ1YlFOs/Rt6/kaFD3D/kMHhdHNnPPwlcCdJSPOc/BLnjnQu57j/wgq6Xk1rMP0qDd15G5NQ/4Dgh/56Rvj8pODDiLIPqP2Tc5q0aG+4/4I+dmonD7T/gi8N8MYu4P9wgBqsRCdY/ZZAUsNM24j848XKaxmDJP95WZIgaU9s/5HyO+UFQ7T9Kc1/C8wTbP0vcL7Pwy+Y/oa3NV/q85z8CvUmFQNLmP4xj1qbnw+s/DNH8/5gCxj8DKdsua9jpPyi/v00Rcu0/CDA6ngaswz/5NXnLPIvlPzB3TMDi3ak/NMfzKoFm6D9Wi8XetlHWP0SKstf/Z8o/ACq7o5Ks5D/wwkc4wp3ZP2ZxlMU8b+M/YFS43QxGrD84u7lJE3PRPwBnesL6zd0/Llk+UYSK4D+gt/DbypqePxjtSmHhScE/3FosXuapzT/YaE+XE4bpP0UypgrQb+E/UNaDmFPo0T+s34IDi7zkP0TcF2QVseQ/MgVNeR0P4T+Azg/yOberP6FxXjV/bOs/0AdYMA8Hrz8evc+wWqDhP5A2fu6zeO8/HK84HnrTzz8ODmlMT93qP8BdGMz/BNI/vna9HtW+3j8=",
        "encoding": "base64",
        "path": [
         "_data",
         0,
         "y",
         "value"
        ]
       }
      ],
      "model_module": "plotlywidget",
      "model_module_version": "^0.3.0-rc.1",
      "model_name": "FigureModel",
      "state": {
       "_data": [
        {
         "marker": {
          "color": {
           "dtype": "float64",
           "shape": [
            100
           ]
          },
          "colorscale": "Viridis",
          "opacity": 0.6,
          "size": {
           "dtype": "float64",
           "shape": [
            100
           ]
          }
         },
         "mode": "markers",
         "type": "scatter",
         "uid": "254666e2-a921-11e8-9c95-645aede86e5b",
         "x": {
          "dtype": "float64",
          "shape": [
           100
          ]
         },
         "y": {
          "dtype": "float64",
          "shape": [
           100
          ]
         }
        }
       ],
       "_js2py_layoutDelta": {
        "layout_delta": {
         "annotations": [],
         "autosize": true,
         "calendar": "gregorian",
         "colorway": [
          "#1f77b4",
          "#ff7f0e",
          "#2ca02c",
          "#d62728",
          "#9467bd",
          "#8c564b",
          "#e377c2",
          "#7f7f7f",
          "#bcbd22",
          "#17becf"
         ],
         "dragmode": "zoom",
         "font": {
          "color": "#444",
          "family": "\"Open Sans\", verdana, arial, sans-serif",
          "size": 12
         },
         "height": 470.017,
         "hidesources": false,
         "hoverdistance": 20,
         "hoverlabel": {
          "font": {
           "family": "Arial, sans-serif",
           "size": 13
          },
          "namelength": 15
         },
         "hovermode": "x",
         "images": [],
         "margin": {
          "autoexpand": true,
          "b": 80,
          "l": 80,
          "pad": 0,
          "r": 80,
          "t": 100
         },
         "paper_bgcolor": "#fff",
         "plot_bgcolor": "#fff",
         "separators": ".,",
         "shapes": [],
         "showlegend": false,
         "sliders": [],
         "spikedistance": 20,
         "title": "Click to enter Plot title",
         "titlefont": {
          "color": "#444",
          "family": "\"Open Sans\", verdana, arial, sans-serif",
          "size": 17
         },
         "updatemenus": [],
         "width": 983.133,
         "xaxis": {
          "anchor": "y",
          "automargin": false,
          "autorange": true,
          "color": "#444",
          "constrain": "range",
          "constraintoward": "center",
          "domain": [
           0,
           1
          ],
          "dtick": 0.2,
          "exponentformat": "B",
          "fixedrange": false,
          "gridcolor": "rgb(238, 238, 238)",
          "gridwidth": 1,
          "hoverformat": "",
          "layer": "above traces",
          "nticks": 0,
          "range": [
           -0.054575325267074495,
           1.0720101698931972
          ],
          "rangemode": "normal",
          "separatethousands": false,
          "showexponent": "all",
          "showgrid": true,
          "showline": false,
          "showspikes": false,
          "showticklabels": true,
          "side": "bottom",
          "tick0": 0,
          "tickangle": "auto",
          "tickfont": {
           "color": "#444",
           "family": "\"Open Sans\", verdana, arial, sans-serif",
           "size": 12
          },
          "tickformat": "",
          "tickmode": "auto",
          "tickprefix": "",
          "ticks": "",
          "ticksuffix": "",
          "title": "Click to enter X axis title",
          "titlefont": {
           "color": "#444",
           "family": "\"Open Sans\", verdana, arial, sans-serif",
           "size": 14
          },
          "type": "linear",
          "visible": true,
          "zeroline": true,
          "zerolinecolor": "#444",
          "zerolinewidth": 1
         },
         "yaxis": {
          "anchor": "x",
          "automargin": false,
          "autorange": true,
          "color": "#444",
          "constrain": "range",
          "constraintoward": "middle",
          "domain": [
           0,
           1
          ],
          "dtick": 0.2,
          "exponentformat": "B",
          "fixedrange": false,
          "gridcolor": "rgb(238, 238, 238)",
          "gridwidth": 1,
          "hoverformat": "",
          "layer": "above traces",
          "nticks": 0,
          "range": [
           -0.07799454912352712,
           1.1005950890025693
          ],
          "rangemode": "normal",
          "separatethousands": false,
          "showexponent": "all",
          "showgrid": true,
          "showline": false,
          "showspikes": false,
          "showticklabels": true,
          "side": "left",
          "tick0": 0,
          "tickangle": "auto",
          "tickfont": {
           "color": "#444",
           "family": "\"Open Sans\", verdana, arial, sans-serif",
           "size": 12
          },
          "tickformat": "",
          "tickmode": "auto",
          "tickprefix": "",
          "ticks": "",
          "ticksuffix": "",
          "title": "Click to enter Y axis title",
          "titlefont": {
           "color": "#444",
           "family": "\"Open Sans\", verdana, arial, sans-serif",
           "size": 14
          },
          "type": "linear",
          "visible": true,
          "zeroline": true,
          "zerolinecolor": "#444",
          "zerolinewidth": 1
         }
        },
        "layout_edit_id": 1
       },
       "_js2py_pointsCallback": {},
       "_js2py_relayout": {},
       "_js2py_restyle": {},
       "_js2py_traceDeltas": {
        "trace_deltas": [
         {
          "cliponaxis": true,
          "error_x": {
           "visible": false
          },
          "error_y": {
           "visible": false
          },
          "fill": "none",
          "hoverinfo": "x+y+z+text",
          "hoverlabel": {
           "font": {
            "family": "Arial, sans-serif",
            "size": 13
           },
           "namelength": 15
          },
          "hoveron": "points",
          "hovertext": "",
          "index": 0,
          "legendgroup": "",
          "marker": {
           "autocolorscale": false,
           "cauto": true,
           "cmax": 0.9934247694547661,
           "cmin": 0.005313658722293058,
           "gradient": {
            "type": "none"
           },
           "line": {
            "color": "#fff",
            "width": 1
           },
           "maxdisplayed": 0,
           "reversescale": false,
           "showscale": false,
           "sizemin": 0,
           "sizemode": "diameter",
           "sizeref": 1,
           "symbol": "circle"
          },
          "name": "trace 0",
          "opacity": 1,
          "selected": {
           "marker": {
            "opacity": 0.6
           }
          },
          "showlegend": true,
          "text": "",
          "uid": "254666e2-a921-11e8-9c95-645aede86e5b",
          "unselected": {
           "marker": {
            "opacity": 0.12
           }
          },
          "visible": true,
          "xaxis": "x",
          "xcalendar": "gregorian",
          "yaxis": "y",
          "ycalendar": "gregorian"
         }
        ],
        "trace_edit_id": 1
       },
       "_js2py_update": {},
       "_last_layout_edit_id": 1,
       "_last_trace_edit_id": 1,
       "_py2js_animate": {},
       "_py2js_deleteTraces": {},
       "_py2js_moveTraces": {},
       "_py2js_relayout": {},
       "_py2js_removeLayoutProps": {},
       "_py2js_removeTraceProps": {},
       "_py2js_restyle": {},
       "_py2js_update": {},
       "_view_count": 1
      }
     }
    },
    "version_major": 2,
    "version_minor": 0
   }
  }
 },
 "nbformat": 4,
 "nbformat_minor": 2
}
