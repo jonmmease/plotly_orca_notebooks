{
 "cells": [
  {
   "cell_type": "markdown",
   "metadata": {},
   "source": [
    "# Orca Management\n",
    "This section covers the lower-level details of how plotly.py uses orca to perform static image generation. Please refer to the [Static Image Generation](StaticImageGeneration.ipynb) section for general information on creating static images of plotly.py figures.\n",
    "\n",
    "# What is orca?\n",
    "Orca is an [Electron](https://electronjs.org/) application that inputs plotly figure specifications and converts them into static images.  Orca can run as a command-line utility or as a long-running server process. In order to provide the fastest possible image export experience, plotly.py launches orca in server mode, and communicates with it over a local port.\n",
    "\n",
    "By default, plotly.py launches the orca server process the fist time an image export operation is performed, and then leaves it running until the main Python process exits. Because of this, the first image export operation in an interactive session will typically take a couple of seconds, but then all subsequent export operations will be significantly faster, since the server is already running."
   ]
  },
  {
   "cell_type": "markdown",
   "metadata": {},
   "source": [
    "## Create sample figure\n",
    "Now let's create a simple scatter plot with 100 random points of variying color and size."
   ]
  },
  {
   "cell_type": "code",
   "execution_count": 1,
   "metadata": {},
   "outputs": [
    {
     "data": {
      "application/vnd.jupyter.widget-view+json": {
       "model_id": "9bc16d7896f340f2841a6507ad64af5b",
       "version_major": 2,
       "version_minor": 0
      },
      "text/plain": [
       "FigureWidget({\n",
       "    'data': [{'marker': {'color': array([0.94317094, 0.23426268, 0.41554106, 0.34063921, 0.6396…"
      ]
     },
     "metadata": {},
     "output_type": "display_data"
    }
   ],
   "source": [
    "import plotly.graph_objs as go\n",
    "import plotly.io as pio\n",
    "import os\n",
    "import numpy as np\n",
    "\n",
    "N = 100\n",
    "x = np.random.rand(N)\n",
    "y = np.random.rand(N)\n",
    "colors = np.random.rand(N)\n",
    "sz = np.random.rand(N)*30\n",
    "\n",
    "fig = go.FigureWidget()\n",
    "fig.add_scatter(x=x,\n",
    "                y=y,\n",
    "                mode='markers',\n",
    "                marker={'size': sz,\n",
    "                        'color': colors,\n",
    "                        'opacity': 0.6,\n",
    "                        'colorscale': 'Viridis'\n",
    "                       });\n",
    "fig"
   ]
  },
  {
   "cell_type": "markdown",
   "metadata": {},
   "source": [
    "### config\n",
    "You can use the `plotly.io.orca.config` object to view the current orca configuration settings."
   ]
  },
  {
   "cell_type": "code",
   "execution_count": 2,
   "metadata": {},
   "outputs": [
    {
     "data": {
      "text/plain": [
       "orca configuration\n",
       "------------------\n",
       "    executable: orca\n",
       "    port: None\n",
       "    timeout: None\n",
       "    default_width: None\n",
       "    default_height: None\n",
       "    default_scale: 1\n",
       "    default_format: png\n",
       "    mathjax: https://cdnjs.cloudflare.com/ajax/libs/mathjax/2.7.5/MathJax.js\n",
       "    topojson: None\n",
       "    mapbox_access_token: None\n",
       "\n",
       "constants\n",
       "---------\n",
       "    plotlyjs: /anaconda3/envs/plotly_conda37/lib/python3.7/site-packages/plotly/package_data/plotly.min.js \n",
       "    config_file: /Users/jmmease/.plotly/.orca\n"
      ]
     },
     "execution_count": 2,
     "metadata": {},
     "output_type": "execute_result"
    }
   ],
   "source": [
    "pio.orca.config"
   ]
  },
  {
   "cell_type": "markdown",
   "metadata": {},
   "source": [
    "### status\n",
    "You can use the `plotly.io.orca.status` object to see the current status of the orca server"
   ]
  },
  {
   "cell_type": "code",
   "execution_count": 3,
   "metadata": {},
   "outputs": [
    {
     "data": {
      "text/plain": [
       "orca status\n",
       "-----------\n",
       "    state: unvalidated\n",
       "    executable: None\n",
       "    version: None\n",
       "    port: None\n",
       "    pid: None\n",
       "    command: None\n",
       "    "
      ]
     },
     "execution_count": 3,
     "metadata": {},
     "output_type": "execute_result"
    }
   ],
   "source": [
    "pio.orca.status"
   ]
  },
  {
   "cell_type": "markdown",
   "metadata": {},
   "source": [
    "Since no image export operations have been performed yet, the orca server is not yet running.\n",
    "\n",
    "Let's export this figure as an SVG image, and record the runtime."
   ]
  },
  {
   "cell_type": "code",
   "execution_count": 4,
   "metadata": {},
   "outputs": [
    {
     "data": {
      "image/svg+xml": [
       "<svg class=\"main-svg\" height=\"500\" viewBox=\"0 0 700 500\" width=\"700\" xmlns=\"http://www.w3.org/2000/svg\" xmlns:xlink=\"http://www.w3.org/1999/xlink\"><rect height=\"500\" style=\"fill: rgb(255, 255, 255); fill-opacity: 1;\" width=\"700\" x=\"0\" y=\"0\"/><defs id=\"defs-01ef56\"><g class=\"clips\"><clipPath class=\"plotclip\" id=\"clip01ef56xyplot\"><rect height=\"320\" width=\"540\"/></clipPath><clipPath class=\"axesclip\" id=\"clip01ef56x\"><rect height=\"500\" width=\"540\" x=\"80\" y=\"0\"/></clipPath><clipPath class=\"axesclip\" id=\"clip01ef56y\"><rect height=\"320\" width=\"700\" x=\"0\" y=\"100\"/></clipPath><clipPath class=\"axesclip\" id=\"clip01ef56xy\"><rect height=\"320\" width=\"540\" x=\"80\" y=\"100\"/></clipPath></g><g class=\"gradients\"/></defs><g class=\"bglayer\"><rect class=\"bg\" height=\"320\" style=\"fill: rgb(255, 255, 255); fill-opacity: 1; stroke-width: 0;\" width=\"540\" x=\"80\" y=\"100\"/></g><g class=\"layer-below\"><g class=\"imagelayer\"/><g class=\"shapelayer\"/></g><g class=\"cartesianlayer\"><g class=\"subplot xy\"><g class=\"layer-subplot\"><g class=\"shapelayer\"/><g class=\"imagelayer\"/></g><g class=\"gridlayer\"><g class=\"x\"><path class=\"xgrid crisp\" d=\"M0,100v320\" style=\"stroke: rgb(238, 238, 238); stroke-opacity: 1; stroke-width: 1px;\" transform=\"translate(206.56,0)\"/><path class=\"xgrid crisp\" d=\"M0,100v320\" style=\"stroke: rgb(238, 238, 238); stroke-opacity: 1; stroke-width: 1px;\" transform=\"translate(300.3,0)\"/><path class=\"xgrid crisp\" d=\"M0,100v320\" style=\"stroke: rgb(238, 238, 238); stroke-opacity: 1; stroke-width: 1px;\" transform=\"translate(394.04,0)\"/><path class=\"xgrid crisp\" d=\"M0,100v320\" style=\"stroke: rgb(238, 238, 238); stroke-opacity: 1; stroke-width: 1px;\" transform=\"translate(487.78,0)\"/><path class=\"xgrid crisp\" d=\"M0,100v320\" style=\"stroke: rgb(238, 238, 238); stroke-opacity: 1; stroke-width: 1px;\" transform=\"translate(581.52,0)\"/></g><g class=\"y\"><path class=\"ygrid crisp\" d=\"M80,0h540\" style=\"stroke: rgb(238, 238, 238); stroke-opacity: 1; stroke-width: 1px;\" transform=\"translate(0,345.01)\"/><path class=\"ygrid crisp\" d=\"M80,0h540\" style=\"stroke: rgb(238, 238, 238); stroke-opacity: 1; stroke-width: 1px;\" transform=\"translate(0,290.26)\"/><path class=\"ygrid crisp\" d=\"M80,0h540\" style=\"stroke: rgb(238, 238, 238); stroke-opacity: 1; stroke-width: 1px;\" transform=\"translate(0,235.5)\"/><path class=\"ygrid crisp\" d=\"M80,0h540\" style=\"stroke: rgb(238, 238, 238); stroke-opacity: 1; stroke-width: 1px;\" transform=\"translate(0,180.75)\"/><path class=\"ygrid crisp\" d=\"M80,0h540\" style=\"stroke: rgb(238, 238, 238); stroke-opacity: 1; stroke-width: 1px;\" transform=\"translate(0,125.99)\"/></g></g><g class=\"zerolinelayer\"><path class=\"xzl zl crisp\" d=\"M0,100v320\" style=\"stroke: rgb(68, 68, 68); stroke-opacity: 1; stroke-width: 1px;\" transform=\"translate(112.82,0)\"/><path class=\"yzl zl crisp\" d=\"M80,0h540\" style=\"stroke: rgb(68, 68, 68); stroke-opacity: 1; stroke-width: 1px;\" transform=\"translate(0,399.77)\"/></g><path class=\"xlines-below\"/><path class=\"ylines-below\"/><g class=\"overlines-below\"/><g class=\"xaxislayer-below\"/><g class=\"yaxislayer-below\"/><g class=\"overaxes-below\"/><g class=\"plot\" clip-path=\"url(#clip01ef56xyplot)\" transform=\"translate(80, 100)\"><g class=\"scatterlayer mlayer\"><g class=\"trace scatter trace254666e2-a921-11e8-9c95-645aede86e5b\" style=\"stroke-miterlimit: 2; opacity: 1;\"><g class=\"points\"><path class=\"point\" d=\"M6.76,0A6.76,6.76 0 1,1 0,-6.76A6.76,6.76 0 0,1 6.76,0Z\" style=\"opacity: 0.6; stroke-width: 1px; fill: rgb(221, 227, 27); fill-opacity: 1; stroke: rgb(255, 255, 255); stroke-opacity: 1;\" transform=\"translate(197.49,162.56)\"/><path class=\"point\" d=\"M10.41,0A10.41,10.41 0 1,1 0,-10.41A10.41,10.41 0 0,1 10.41,0Z\" style=\"opacity: 0.6; stroke-width: 1px; fill: rgb(61, 76, 137); fill-opacity: 1; stroke: rgb(255, 255, 255); stroke-opacity: 1;\" transform=\"translate(276.83,161.93)\"/><path class=\"point\" d=\"M10.05,0A10.05,10.05 0 1,1 0,-10.05A10.05,10.05 0 0,1 10.05,0Z\" style=\"opacity: 0.6; stroke-width: 1px; fill: rgb(40, 124, 142); fill-opacity: 1; stroke: rgb(255, 255, 255); stroke-opacity: 1;\" transform=\"translate(80.43,28.56)\"/><path class=\"point\" d=\"M14.1,0A14.1,14.1 0 1,1 0,-14.1A14.1,14.1 0 0,1 14.1,0Z\" style=\"opacity: 0.6; stroke-width: 1px; fill: rgb(48, 105, 141); fill-opacity: 1; stroke: rgb(255, 255, 255); stroke-opacity: 1;\" transform=\"translate(233.21,34.97)\"/><path class=\"point\" d=\"M1.21,0A1.21,1.21 0 1,1 0,-1.21A1.21,1.21 0 0,1 1.21,0Z\" style=\"opacity: 0.6; stroke-width: 1px; fill: rgb(45, 177, 125); fill-opacity: 1; stroke: rgb(255, 255, 255); stroke-opacity: 1;\" transform=\"translate(415.98,145.39)\"/><path class=\"point\" d=\"M1.84,0A1.84,1.84 0 1,1 0,-1.84A1.84,1.84 0 0,1 1.84,0Z\" style=\"opacity: 0.6; stroke-width: 1px; fill: rgb(71, 21, 103); fill-opacity: 1; stroke: rgb(255, 255, 255); stroke-opacity: 1;\" transform=\"translate(423.34,217.48)\"/><path class=\"point\" d=\"M4.1,0A4.1,4.1 0 1,1 0,-4.1A4.1,4.1 0 0,1 4.1,0Z\" style=\"opacity: 0.6; stroke-width: 1px; fill: rgb(222, 227, 27); fill-opacity: 1; stroke: rgb(255, 255, 255); stroke-opacity: 1;\" transform=\"translate(413.08,73.39)\"/><path class=\"point\" d=\"M9.61,0A9.61,9.61 0 1,1 0,-9.61A9.61,9.61 0 0,1 9.61,0Z\" style=\"opacity: 0.6; stroke-width: 1px; fill: rgb(64, 188, 114); fill-opacity: 1; stroke: rgb(255, 255, 255); stroke-opacity: 1;\" transform=\"translate(101.14,175.83)\"/><path class=\"point\" d=\"M9.12,0A9.12,9.12 0 1,1 0,-9.12A9.12,9.12 0 0,1 9.12,0Z\" style=\"opacity: 0.6; stroke-width: 1px; fill: rgb(38, 171, 130); fill-opacity: 1; stroke: rgb(255, 255, 255); stroke-opacity: 1;\" transform=\"translate(369.46,102.31)\"/><path class=\"point\" d=\"M7.06,0A7.06,7.06 0 1,1 0,-7.06A7.06,7.06 0 0,1 7.06,0Z\" style=\"opacity: 0.6; stroke-width: 1px; fill: rgb(70, 10, 93); fill-opacity: 1; stroke: rgb(255, 255, 255); stroke-opacity: 1;\" transform=\"translate(396.06,101.89)\"/><path class=\"point\" d=\"M1.77,0A1.77,1.77 0 1,1 0,-1.77A1.77,1.77 0 0,1 1.77,0Z\" style=\"opacity: 0.6; stroke-width: 1px; fill: rgb(179, 221, 45); fill-opacity: 1; stroke: rgb(255, 255, 255); stroke-opacity: 1;\" transform=\"translate(404.12,157.16)\"/><path class=\"point\" d=\"M4.96,0A4.96,4.96 0 1,1 0,-4.96A4.96,4.96 0 0,1 4.96,0Z\" style=\"opacity: 0.6; stroke-width: 1px; fill: rgb(71, 17, 99); fill-opacity: 1; stroke: rgb(255, 255, 255); stroke-opacity: 1;\" transform=\"translate(76.69,180.94)\"/><path class=\"point\" d=\"M2.63,0A2.63,2.63 0 1,1 0,-2.63A2.63,2.63 0 0,1 2.63,0Z\" style=\"opacity: 0.6; stroke-width: 1px; fill: rgb(62, 187, 116); fill-opacity: 1; stroke: rgb(255, 255, 255); stroke-opacity: 1;\" transform=\"translate(210.72,91.73)\"/><path class=\"point\" d=\"M12.19,0A12.19,12.19 0 1,1 0,-12.19A12.19,12.19 0 0,1 12.19,0Z\" style=\"opacity: 0.6; stroke-width: 1px; fill: rgb(49, 102, 141); fill-opacity: 1; stroke: rgb(255, 255, 255); stroke-opacity: 1;\" transform=\"translate(248.29,250.92)\"/><path class=\"point\" d=\"M11.71,0A11.71,11.71 0 1,1 0,-11.71A11.71,11.71 0 0,1 11.71,0Z\" style=\"opacity: 0.6; stroke-width: 1px; fill: rgb(68, 3, 85); fill-opacity: 1; stroke: rgb(255, 255, 255); stroke-opacity: 1;\" transform=\"translate(349.47,283.37)\"/><path class=\"point\" d=\"M7,0A7,7 0 1,1 0,-7A7,7 0 0,1 7,0Z\" style=\"opacity: 0.6; stroke-width: 1px; fill: rgb(69, 190, 112); fill-opacity: 1; stroke: rgb(255, 255, 255); stroke-opacity: 1;\" transform=\"translate(99,52.5)\"/><path class=\"point\" d=\"M14.76,0A14.76,14.76 0 1,1 0,-14.76A14.76,14.76 0 0,1 14.76,0Z\" style=\"opacity: 0.6; stroke-width: 1px; fill: rgb(72, 22, 105); fill-opacity: 1; stroke: rgb(255, 255, 255); stroke-opacity: 1;\" transform=\"translate(145.86,183.04)\"/><path class=\"point\" d=\"M8.57,0A8.57,8.57 0 1,1 0,-8.57A8.57,8.57 0 0,1 8.57,0Z\" style=\"opacity: 0.6; stroke-width: 1px; fill: rgb(253, 231, 37); fill-opacity: 1; stroke: rgb(255, 255, 255); stroke-opacity: 1;\" transform=\"translate(75.25,187.82)\"/><path class=\"point\" d=\"M3.31,0A3.31,3.31 0 1,1 0,-3.31A3.31,3.31 0 0,1 3.31,0Z\" style=\"opacity: 0.6; stroke-width: 1px; fill: rgb(161, 218, 56); fill-opacity: 1; stroke: rgb(255, 255, 255); stroke-opacity: 1;\" transform=\"translate(319.93,143.41)\"/><path class=\"point\" d=\"M1.91,0A1.91,1.91 0 1,1 0,-1.91A1.91,1.91 0 0,1 1.91,0Z\" style=\"opacity: 0.6; stroke-width: 1px; fill: rgb(32, 152, 138); fill-opacity: 1; stroke: rgb(255, 255, 255); stroke-opacity: 1;\" transform=\"translate(329.26,163.04)\"/><path class=\"point\" d=\"M13.32,0A13.32,13.32 0 1,1 0,-13.32A13.32,13.32 0 0,1 13.32,0Z\" style=\"opacity: 0.6; stroke-width: 1px; fill: rgb(36, 136, 141); fill-opacity: 1; stroke: rgb(255, 255, 255); stroke-opacity: 1;\" transform=\"translate(219.25,104.01)\"/><path class=\"point\" d=\"M0.5,0A0.5,0.5 0 1,1 0,-0.5A0.5,0.5 0 0,1 0.5,0Z\" style=\"opacity: 0.6; stroke-width: 1px; fill: rgb(59, 81, 139); fill-opacity: 1; stroke: rgb(255, 255, 255); stroke-opacity: 1;\" transform=\"translate(428.2,109.86)\"/><path class=\"point\" d=\"M4.96,0A4.96,4.96 0 1,1 0,-4.96A4.96,4.96 0 0,1 4.96,0Z\" style=\"opacity: 0.6; stroke-width: 1px; fill: rgb(102, 203, 93); fill-opacity: 1; stroke: rgb(255, 255, 255); stroke-opacity: 1;\" transform=\"translate(170.55,234.68)\"/><path class=\"point\" d=\"M2.9,0A2.9,2.9 0 1,1 0,-2.9A2.9,2.9 0 0,1 2.9,0Z\" style=\"opacity: 0.6; stroke-width: 1px; fill: rgb(40, 124, 142); fill-opacity: 1; stroke: rgb(255, 255, 255); stroke-opacity: 1;\" transform=\"translate(310.07,167.99)\"/><path class=\"point\" d=\"M13.91,0A13.91,13.91 0 1,1 0,-13.91A13.91,13.91 0 0,1 13.91,0Z\" style=\"opacity: 0.6; stroke-width: 1px; fill: rgb(72, 22, 104); fill-opacity: 1; stroke: rgb(255, 255, 255); stroke-opacity: 1;\" transform=\"translate(158.45,69.83)\"/><path class=\"point\" d=\"M2.26,0A2.26,2.26 0 1,1 0,-2.26A2.26,2.26 0 0,1 2.26,0Z\" style=\"opacity: 0.6; stroke-width: 1px; fill: rgb(48, 179, 124); fill-opacity: 1; stroke: rgb(255, 255, 255); stroke-opacity: 1;\" transform=\"translate(352.86,291.31)\"/><path class=\"point\" d=\"M14.95,0A14.95,14.95 0 1,1 0,-14.95A14.95,14.95 0 0,1 14.95,0Z\" style=\"opacity: 0.6; stroke-width: 1px; fill: rgb(37, 132, 142); fill-opacity: 1; stroke: rgb(255, 255, 255); stroke-opacity: 1;\" transform=\"translate(389.51,46.94)\"/><path class=\"point\" d=\"M9.27,0A9.27,9.27 0 1,1 0,-9.27A9.27,9.27 0 0,1 9.27,0Z\" style=\"opacity: 0.6; stroke-width: 1px; fill: rgb(58, 185, 118); fill-opacity: 1; stroke: rgb(255, 255, 255); stroke-opacity: 1;\" transform=\"translate(261.28,237.82)\"/><path class=\"point\" d=\"M0.29,0A0.29,0.29 0 1,1 0,-0.29A0.29,0.29 0 0,1 0.29,0Z\" style=\"opacity: 0.6; stroke-width: 1px; fill: rgb(57, 86, 139); fill-opacity: 1; stroke: rgb(255, 255, 255); stroke-opacity: 1;\" transform=\"translate(73.55,191.13)\"/><path class=\"point\" d=\"M14.79,0A14.79,14.79 0 1,1 0,-14.79A14.79,14.79 0 0,1 14.79,0Z\" style=\"opacity: 0.6; stroke-width: 1px; fill: rgb(51, 98, 141); fill-opacity: 1; stroke: rgb(255, 255, 255); stroke-opacity: 1;\" transform=\"translate(56.15,87.8)\"/><path class=\"point\" d=\"M7.01,0A7.01,7.01 0 1,1 0,-7.01A7.01,7.01 0 0,1 7.01,0Z\" style=\"opacity: 0.6; stroke-width: 1px; fill: rgb(219, 226, 26); fill-opacity: 1; stroke: rgb(255, 255, 255); stroke-opacity: 1;\" transform=\"translate(78.29,295.24)\"/><path class=\"point\" d=\"M9.22,0A9.22,9.22 0 1,1 0,-9.22A9.22,9.22 0 0,1 9.22,0Z\" style=\"opacity: 0.6; stroke-width: 1px; fill: rgb(69, 52, 127); fill-opacity: 1; stroke: rgb(255, 255, 255); stroke-opacity: 1;\" transform=\"translate(335.39,182.21)\"/><path class=\"point\" d=\"M10.52,0A10.52,10.52 0 1,1 0,-10.52A10.52,10.52 0 0,1 10.52,0Z\" style=\"opacity: 0.6; stroke-width: 1px; fill: rgb(207, 225, 30); fill-opacity: 1; stroke: rgb(255, 255, 255); stroke-opacity: 1;\" transform=\"translate(208.65,238.04)\"/><path class=\"point\" d=\"M2.84,0A2.84,2.84 0 1,1 0,-2.84A2.84,2.84 0 0,1 2.84,0Z\" style=\"opacity: 0.6; stroke-width: 1px; fill: rgb(71, 35, 115); fill-opacity: 1; stroke: rgb(255, 255, 255); stroke-opacity: 1;\" transform=\"translate(459.71,159.02)\"/><path class=\"point\" d=\"M12.82,0A12.82,12.82 0 1,1 0,-12.82A12.82,12.82 0 0,1 12.82,0Z\" style=\"opacity: 0.6; stroke-width: 1px; fill: rgb(33, 145, 140); fill-opacity: 1; stroke: rgb(255, 255, 255); stroke-opacity: 1;\" transform=\"translate(160.86,117.31)\"/><path class=\"point\" d=\"M14.26,0A14.26,14.26 0 1,1 0,-14.26A14.26,14.26 0 0,1 14.26,0Z\" style=\"opacity: 0.6; stroke-width: 1px; fill: rgb(62, 187, 116); fill-opacity: 1; stroke: rgb(255, 255, 255); stroke-opacity: 1;\" transform=\"translate(355.82,283.87)\"/><path class=\"point\" d=\"M7.82,0A7.82,7.82 0 1,1 0,-7.82A7.82,7.82 0 0,1 7.82,0Z\" style=\"opacity: 0.6; stroke-width: 1px; fill: rgb(37, 133, 142); fill-opacity: 1; stroke: rgb(255, 255, 255); stroke-opacity: 1;\" transform=\"translate(173.61,95.47)\"/><path class=\"point\" d=\"M6.67,0A6.67,6.67 0 1,1 0,-6.67A6.67,6.67 0 0,1 6.67,0Z\" style=\"opacity: 0.6; stroke-width: 1px; fill: rgb(59, 82, 139); fill-opacity: 1; stroke: rgb(255, 255, 255); stroke-opacity: 1;\" transform=\"translate(408.53,238.99)\"/><path class=\"point\" d=\"M14.82,0A14.82,14.82 0 1,1 0,-14.82A14.82,14.82 0 0,1 14.82,0Z\" style=\"opacity: 0.6; stroke-width: 1px; fill: rgb(43, 176, 127); fill-opacity: 1; stroke: rgb(255, 255, 255); stroke-opacity: 1;\" transform=\"translate(45.52,63.99)\"/><path class=\"point\" d=\"M3.17,0A3.17,3.17 0 1,1 0,-3.17A3.17,3.17 0 0,1 3.17,0Z\" style=\"opacity: 0.6; stroke-width: 1px; fill: rgb(70, 10, 93); fill-opacity: 1; stroke: rgb(255, 255, 255); stroke-opacity: 1;\" transform=\"translate(156.46,263.94)\"/><path class=\"point\" d=\"M9.95,0A9.95,9.95 0 1,1 0,-9.95A9.95,9.95 0 0,1 9.95,0Z\" style=\"opacity: 0.6; stroke-width: 1px; fill: rgb(227, 227, 28); fill-opacity: 1; stroke: rgb(255, 255, 255); stroke-opacity: 1;\" transform=\"translate(224.68,217.37)\"/><path class=\"point\" d=\"M1.12,0A1.12,1.12 0 1,1 0,-1.12A1.12,1.12 0 0,1 1.12,0Z\" style=\"opacity: 0.6; stroke-width: 1px; fill: rgb(251, 231, 36); fill-opacity: 1; stroke: rgb(255, 255, 255); stroke-opacity: 1;\" transform=\"translate(380.01,194.19)\"/><path class=\"point\" d=\"M5.38,0A5.38,5.38 0 1,1 0,-5.38A5.38,5.38 0 0,1 5.38,0Z\" style=\"opacity: 0.6; stroke-width: 1px; fill: rgb(46, 178, 124); fill-opacity: 1; stroke: rgb(255, 255, 255); stroke-opacity: 1;\" transform=\"translate(415.23,77.92)\"/><path class=\"point\" d=\"M7.07,0A7.07,7.07 0 1,1 0,-7.07A7.07,7.07 0 0,1 7.07,0Z\" style=\"opacity: 0.6; stroke-width: 1px; fill: rgb(91, 200, 100); fill-opacity: 1; stroke: rgb(255, 255, 255); stroke-opacity: 1;\" transform=\"translate(457.98,124.93)\"/><path class=\"point\" d=\"M14.55,0A14.55,14.55 0 1,1 0,-14.55A14.55,14.55 0 0,1 14.55,0Z\" style=\"opacity: 0.6; stroke-width: 1px; fill: rgb(41, 122, 142); fill-opacity: 1; stroke: rgb(255, 255, 255); stroke-opacity: 1;\" transform=\"translate(409.83,68.1)\"/><path class=\"point\" d=\"M12.86,0A12.86,12.86 0 1,1 0,-12.86A12.86,12.86 0 0,1 12.86,0Z\" style=\"opacity: 0.6; stroke-width: 1px; fill: rgb(224, 227, 28); fill-opacity: 1; stroke: rgb(255, 255, 255); stroke-opacity: 1;\" transform=\"translate(459.61,178.86)\"/><path class=\"point\" d=\"M5.76,0A5.76,5.76 0 1,1 0,-5.76A5.76,5.76 0 0,1 5.76,0Z\" style=\"opacity: 0.6; stroke-width: 1px; fill: rgb(37, 133, 142); fill-opacity: 1; stroke: rgb(255, 255, 255); stroke-opacity: 1;\" transform=\"translate(330.85,231.65)\"/><path class=\"point\" d=\"M4.75,0A4.75,4.75 0 1,1 0,-4.75A4.75,4.75 0 0,1 4.75,0Z\" style=\"opacity: 0.6; stroke-width: 1px; fill: rgb(72, 34, 114); fill-opacity: 1; stroke: rgb(255, 255, 255); stroke-opacity: 1;\" transform=\"translate(213.02,100.98)\"/><path class=\"point\" d=\"M7.5,0A7.5,7.5 0 1,1 0,-7.5A7.5,7.5 0 0,1 7.5,0Z\" style=\"opacity: 0.6; stroke-width: 1px; fill: rgb(31, 160, 136); fill-opacity: 1; stroke: rgb(255, 255, 255); stroke-opacity: 1;\" transform=\"translate(94.64,36.92)\"/><path class=\"point\" d=\"M9.37,0A9.37,9.37 0 1,1 0,-9.37A9.37,9.37 0 0,1 9.37,0Z\" style=\"opacity: 0.6; stroke-width: 1px; fill: rgb(240, 229, 33); fill-opacity: 1; stroke: rgb(255, 255, 255); stroke-opacity: 1;\" transform=\"translate(284.27,239.12)\"/><path class=\"point\" d=\"M5.92,0A5.92,5.92 0 1,1 0,-5.92A5.92,5.92 0 0,1 5.92,0Z\" style=\"opacity: 0.6; stroke-width: 1px; fill: rgb(52, 98, 141); fill-opacity: 1; stroke: rgb(255, 255, 255); stroke-opacity: 1;\" transform=\"translate(367.3,210.4)\"/><path class=\"point\" d=\"M3.31,0A3.31,3.31 0 1,1 0,-3.31A3.31,3.31 0 0,1 3.31,0Z\" style=\"opacity: 0.6; stroke-width: 1px; fill: rgb(70, 10, 92); fill-opacity: 1; stroke: rgb(255, 255, 255); stroke-opacity: 1;\" transform=\"translate(423.28,267.08)\"/><path class=\"point\" d=\"M10.56,0A10.56,10.56 0 1,1 0,-10.56A10.56,10.56 0 0,1 10.56,0Z\" style=\"opacity: 0.6; stroke-width: 1px; fill: rgb(69, 51, 127); fill-opacity: 1; stroke: rgb(255, 255, 255); stroke-opacity: 1;\" transform=\"translate(270.85,72.94)\"/><path class=\"point\" d=\"M1.51,0A1.51,1.51 0 1,1 0,-1.51A1.51,1.51 0 0,1 1.51,0Z\" style=\"opacity: 0.6; stroke-width: 1px; fill: rgb(45, 112, 142); fill-opacity: 1; stroke: rgb(255, 255, 255); stroke-opacity: 1;\" transform=\"translate(451.68,42.2)\"/><path class=\"point\" d=\"M9.06,0A9.06,9.06 0 1,1 0,-9.06A9.06,9.06 0 0,1 9.06,0Z\" style=\"opacity: 0.6; stroke-width: 1px; fill: rgb(211, 225, 28); fill-opacity: 1; stroke: rgb(255, 255, 255); stroke-opacity: 1;\" transform=\"translate(238.01,45.12)\"/><path class=\"point\" d=\"M1.43,0A1.43,1.43 0 1,1 0,-1.43A1.43,1.43 0 0,1 1.43,0Z\" style=\"opacity: 0.6; stroke-width: 1px; fill: rgb(57, 86, 139); fill-opacity: 1; stroke: rgb(255, 255, 255); stroke-opacity: 1;\" transform=\"translate(384.06,273.52)\"/><path class=\"point\" d=\"M14.04,0A14.04,14.04 0 1,1 0,-14.04A14.04,14.04 0 0,1 14.04,0Z\" style=\"opacity: 0.6; stroke-width: 1px; fill: rgb(215, 226, 25); fill-opacity: 1; stroke: rgb(255, 255, 255); stroke-opacity: 1;\" transform=\"translate(366.29,205.51)\"/><path class=\"point\" d=\"M10.73,0A10.73,10.73 0 1,1 0,-10.73A10.73,10.73 0 0,1 10.73,0Z\" style=\"opacity: 0.6; stroke-width: 1px; fill: rgb(72, 33, 114); fill-opacity: 1; stroke: rgb(255, 255, 255); stroke-opacity: 1;\" transform=\"translate(475.97,143.94)\"/><path class=\"point\" d=\"M2.45,0A2.45,2.45 0 1,1 0,-2.45A2.45,2.45 0 0,1 2.45,0Z\" style=\"opacity: 0.6; stroke-width: 1px; fill: rgb(59, 185, 117); fill-opacity: 1; stroke: rgb(255, 255, 255); stroke-opacity: 1;\" transform=\"translate(166.21,245.49)\"/><path class=\"point\" d=\"M14.84,0A14.84,14.84 0 1,1 0,-14.84A14.84,14.84 0 0,1 14.84,0Z\" style=\"opacity: 0.6; stroke-width: 1px; fill: rgb(207, 225, 30); fill-opacity: 1; stroke: rgb(255, 255, 255); stroke-opacity: 1;\" transform=\"translate(374.44,182.88)\"/><path class=\"point\" d=\"M2.99,0A2.99,2.99 0 1,1 0,-2.99A2.99,2.99 0 0,1 2.99,0Z\" style=\"opacity: 0.6; stroke-width: 1px; fill: rgb(218, 226, 26); fill-opacity: 1; stroke: rgb(255, 255, 255); stroke-opacity: 1;\" transform=\"translate(108.18,48.98)\"/><path class=\"point\" d=\"M0.57,0A0.57,0.57 0 1,1 0,-0.57A0.57,0.57 0 0,1 0.57,0Z\" style=\"opacity: 0.6; stroke-width: 1px; fill: rgb(45, 113, 142); fill-opacity: 1; stroke: rgb(255, 255, 255); stroke-opacity: 1;\" transform=\"translate(159.52,184.19)\"/><path class=\"point\" d=\"M8.18,0A8.18,8.18 0 1,1 0,-8.18A8.18,8.18 0 0,1 8.18,0Z\" style=\"opacity: 0.6; stroke-width: 1px; fill: rgb(149, 215, 64); fill-opacity: 1; stroke: rgb(255, 255, 255); stroke-opacity: 1;\" transform=\"translate(360.44,104.73)\"/><path class=\"point\" d=\"M2.11,0A2.11,2.11 0 1,1 0,-2.11A2.11,2.11 0 0,1 2.11,0Z\" style=\"opacity: 0.6; stroke-width: 1px; fill: rgb(60, 80, 138); fill-opacity: 1; stroke: rgb(255, 255, 255); stroke-opacity: 1;\" transform=\"translate(300.85,96.68)\"/><path class=\"point\" d=\"M8.72,0A8.72,8.72 0 1,1 0,-8.72A8.72,8.72 0 0,1 8.72,0Z\" style=\"opacity: 0.6; stroke-width: 1px; fill: rgb(183, 221, 43); fill-opacity: 1; stroke: rgb(255, 255, 255); stroke-opacity: 1;\" transform=\"translate(397.58,104.52)\"/><path class=\"point\" d=\"M5.46,0A5.46,5.46 0 1,1 0,-5.46A5.46,5.46 0 0,1 5.46,0Z\" style=\"opacity: 0.6; stroke-width: 1px; fill: rgb(39, 172, 129); fill-opacity: 1; stroke: rgb(255, 255, 255); stroke-opacity: 1;\" transform=\"translate(71.04,62.22)\"/><path class=\"point\" d=\"M6.05,0A6.05,6.05 0 1,1 0,-6.05A6.05,6.05 0 0,1 6.05,0Z\" style=\"opacity: 0.6; stroke-width: 1px; fill: rgb(35, 167, 132); fill-opacity: 1; stroke: rgb(255, 255, 255); stroke-opacity: 1;\" transform=\"translate(362.15,252.69)\"/><path class=\"point\" d=\"M14.23,0A14.23,14.23 0 1,1 0,-14.23A14.23,14.23 0 0,1 14.23,0Z\" style=\"opacity: 0.6; stroke-width: 1px; fill: rgb(34, 141, 141); fill-opacity: 1; stroke: rgb(255, 255, 255); stroke-opacity: 1;\" transform=\"translate(322.62,78.65)\"/><path class=\"point\" d=\"M14.37,0A14.37,14.37 0 1,1 0,-14.37A14.37,14.37 0 0,1 14.37,0Z\" style=\"opacity: 0.6; stroke-width: 1px; fill: rgb(47, 108, 142); fill-opacity: 1; stroke: rgb(255, 255, 255); stroke-opacity: 1;\" transform=\"translate(455.55,47.85)\"/><path class=\"point\" d=\"M9.9,0A9.9,9.9 0 1,1 0,-9.9A9.9,9.9 0 0,1 9.9,0Z\" style=\"opacity: 0.6; stroke-width: 1px; fill: rgb(33, 147, 139); fill-opacity: 1; stroke: rgb(255, 255, 255); stroke-opacity: 1;\" transform=\"translate(48.24,257.69)\"/><path class=\"point\" d=\"M9.9,0A9.9,9.9 0 1,1 0,-9.9A9.9,9.9 0 0,1 9.9,0Z\" style=\"opacity: 0.6; stroke-width: 1px; fill: rgb(37, 134, 141); fill-opacity: 1; stroke: rgb(255, 255, 255); stroke-opacity: 1;\" transform=\"translate(194.5,115.45)\"/><path class=\"point\" d=\"M11.38,0A11.38,11.38 0 1,1 0,-11.38A11.38,11.38 0 0,1 11.38,0Z\" style=\"opacity: 0.6; stroke-width: 1px; fill: rgb(69, 9, 91); fill-opacity: 1; stroke: rgb(255, 255, 255); stroke-opacity: 1;\" transform=\"translate(268.12,285.94)\"/><path class=\"point\" d=\"M1.73,0A1.73,1.73 0 1,1 0,-1.73A1.73,1.73 0 0,1 1.73,0Z\" style=\"opacity: 0.6; stroke-width: 1px; fill: rgb(112, 206, 87); fill-opacity: 1; stroke: rgb(255, 255, 255); stroke-opacity: 1;\" transform=\"translate(260.3,91.01)\"/><path class=\"point\" d=\"M1.92,0A1.92,1.92 0 1,1 0,-1.92A1.92,1.92 0 0,1 1.92,0Z\" style=\"opacity: 0.6; stroke-width: 1px; fill: rgb(34, 165, 133); fill-opacity: 1; stroke: rgb(255, 255, 255); stroke-opacity: 1;\" transform=\"translate(143.42,204.29)\"/><path class=\"point\" d=\"M4.32,0A4.32,4.32 0 1,1 0,-4.32A4.32,4.32 0 0,1 4.32,0Z\" style=\"opacity: 0.6; stroke-width: 1px; fill: rgb(37, 133, 142); fill-opacity: 1; stroke: rgb(255, 255, 255); stroke-opacity: 1;\" transform=\"translate(322.71,243.29)\"/><path class=\"point\" d=\"M9.38,0A9.38,9.38 0 1,1 0,-9.38A9.38,9.38 0 0,1 9.38,0Z\" style=\"opacity: 0.6; stroke-width: 1px; fill: rgb(231, 228, 30); fill-opacity: 1; stroke: rgb(255, 255, 255); stroke-opacity: 1;\" transform=\"translate(293.22,122.89)\"/><path class=\"point\" d=\"M0.02,0A0.02,0.02 0 1,1 0,-0.02A0.02,0.02 0 0,1 0.02,0Z\" style=\"opacity: 0.6; stroke-width: 1px; fill: rgb(60, 79, 138); fill-opacity: 1; stroke: rgb(255, 255, 255); stroke-opacity: 1;\" transform=\"translate(383.64,190.19)\"/><path class=\"point\" d=\"M9.32,0A9.32,9.32 0 1,1 0,-9.32A9.32,9.32 0 0,1 9.32,0Z\" style=\"opacity: 0.6; stroke-width: 1px; fill: rgb(56, 88, 140); fill-opacity: 1; stroke: rgb(255, 255, 255); stroke-opacity: 1;\" transform=\"translate(174.57,133.5)\"/><path class=\"point\" d=\"M11.96,0A11.96,11.96 0 1,1 0,-11.96A11.96,11.96 0 0,1 11.96,0Z\" style=\"opacity: 0.6; stroke-width: 1px; fill: rgb(37, 169, 131); fill-opacity: 1; stroke: rgb(255, 255, 255); stroke-opacity: 1;\" transform=\"translate(109.75,284.65)\"/><path class=\"point\" d=\"M11.04,0A11.04,11.04 0 1,1 0,-11.04A11.04,11.04 0 0,1 11.04,0Z\" style=\"opacity: 0.6; stroke-width: 1px; fill: rgb(170, 219, 50); fill-opacity: 1; stroke: rgb(255, 255, 255); stroke-opacity: 1;\" transform=\"translate(202.24,225.12)\"/><path class=\"point\" d=\"M2.27,0A2.27,2.27 0 1,1 0,-2.27A2.27,2.27 0 0,1 2.27,0Z\" style=\"opacity: 0.6; stroke-width: 1px; fill: rgb(54, 92, 140); fill-opacity: 1; stroke: rgb(255, 255, 255); stroke-opacity: 1;\" transform=\"translate(138.27,172.27)\"/><path class=\"point\" d=\"M10.84,0A10.84,10.84 0 1,1 0,-10.84A10.84,10.84 0 0,1 10.84,0Z\" style=\"opacity: 0.6; stroke-width: 1px; fill: rgb(69, 6, 89); fill-opacity: 1; stroke: rgb(255, 255, 255); stroke-opacity: 1;\" transform=\"translate(257.61,158.25)\"/><path class=\"point\" d=\"M3.58,0A3.58,3.58 0 1,1 0,-3.58A3.58,3.58 0 0,1 3.58,0Z\" style=\"opacity: 0.6; stroke-width: 1px; fill: rgb(47, 108, 142); fill-opacity: 1; stroke: rgb(255, 255, 255); stroke-opacity: 1;\" transform=\"translate(397.81,291.58)\"/><path class=\"point\" d=\"M3.35,0A3.35,3.35 0 1,1 0,-3.35A3.35,3.35 0 0,1 3.35,0Z\" style=\"opacity: 0.6; stroke-width: 1px; fill: rgb(59, 83, 139); fill-opacity: 1; stroke: rgb(255, 255, 255); stroke-opacity: 1;\" transform=\"translate(85.77,262.79)\"/><path class=\"point\" d=\"M10.11,0A10.11,10.11 0 1,1 0,-10.11A10.11,10.11 0 0,1 10.11,0Z\" style=\"opacity: 0.6; stroke-width: 1px; fill: rgb(238, 229, 32); fill-opacity: 1; stroke: rgb(255, 255, 255); stroke-opacity: 1;\" transform=\"translate(453.51,236.32)\"/><path class=\"point\" d=\"M9.02,0A9.02,9.02 0 1,1 0,-9.02A9.02,9.02 0 0,1 9.02,0Z\" style=\"opacity: 0.6; stroke-width: 1px; fill: rgb(67, 61, 132); fill-opacity: 1; stroke: rgb(255, 255, 255); stroke-opacity: 1;\" transform=\"translate(496.29,81.4)\"/><path class=\"point\" d=\"M9.21,0A9.21,9.21 0 1,1 0,-9.21A9.21,9.21 0 0,1 9.21,0Z\" style=\"opacity: 0.6; stroke-width: 1px; fill: rgb(194, 223, 37); fill-opacity: 1; stroke: rgb(255, 255, 255); stroke-opacity: 1;\" transform=\"translate(501.48,150.59)\"/><path class=\"point\" d=\"M3.59,0A3.59,3.59 0 1,1 0,-3.59A3.59,3.59 0 0,1 3.59,0Z\" style=\"opacity: 0.6; stroke-width: 1px; fill: rgb(173, 220, 48); fill-opacity: 1; stroke: rgb(255, 255, 255); stroke-opacity: 1;\" transform=\"translate(140.63,223.16)\"/><path class=\"point\" d=\"M6.89,0A6.89,6.89 0 1,1 0,-6.89A6.89,6.89 0 0,1 6.89,0Z\" style=\"opacity: 0.6; stroke-width: 1px; fill: rgb(39, 172, 129); fill-opacity: 1; stroke: rgb(255, 255, 255); stroke-opacity: 1;\" transform=\"translate(242.17,122.36)\"/><path class=\"point\" d=\"M3.02,0A3.02,3.02 0 1,1 0,-3.02A3.02,3.02 0 0,1 3.02,0Z\" style=\"opacity: 0.6; stroke-width: 1px; fill: rgb(43, 117, 142); fill-opacity: 1; stroke: rgb(255, 255, 255); stroke-opacity: 1;\" transform=\"translate(119.38,122.74)\"/><path class=\"point\" d=\"M2.03,0A2.03,2.03 0 1,1 0,-2.03A2.03,2.03 0 0,1 2.03,0Z\" style=\"opacity: 0.6; stroke-width: 1px; fill: rgb(213, 226, 26); fill-opacity: 1; stroke: rgb(255, 255, 255); stroke-opacity: 1;\" transform=\"translate(404.22,153.82)\"/><path class=\"point\" d=\"M2.67,0A2.67,2.67 0 1,1 0,-2.67A2.67,2.67 0 0,1 2.67,0Z\" style=\"opacity: 0.6; stroke-width: 1px; fill: rgb(68, 1, 84); fill-opacity: 1; stroke: rgb(255, 255, 255); stroke-opacity: 1;\" transform=\"translate(256.95,284.95)\"/><path class=\"point\" d=\"M14.97,0A14.97,14.97 0 1,1 0,-14.97A14.97,14.97 0 0,1 14.97,0Z\" style=\"opacity: 0.6; stroke-width: 1px; fill: rgb(56, 89, 140); fill-opacity: 1; stroke: rgb(255, 255, 255); stroke-opacity: 1;\" transform=\"translate(281.84,65.14)\"/><path class=\"point\" d=\"M7.32,0A7.32,7.32 0 1,1 0,-7.32A7.32,7.32 0 0,1 7.32,0Z\" style=\"opacity: 0.6; stroke-width: 1px; fill: rgb(49, 104, 141); fill-opacity: 1; stroke: rgb(255, 255, 255); stroke-opacity: 1;\" transform=\"translate(108.94,283.18)\"/><path class=\"point\" d=\"M14.84,0A14.84,14.84 0 1,1 0,-14.84A14.84,14.84 0 0,1 14.84,0Z\" style=\"opacity: 0.6; stroke-width: 1px; fill: rgb(70, 191, 111); fill-opacity: 1; stroke: rgb(255, 255, 255); stroke-opacity: 1;\" transform=\"translate(295.64,148.97)\"/><path class=\"point\" d=\"M9.76,0A9.76,9.76 0 1,1 0,-9.76A9.76,9.76 0 0,1 9.76,0Z\" style=\"opacity: 0.6; stroke-width: 1px; fill: rgb(62, 74, 137); fill-opacity: 1; stroke: rgb(255, 255, 255); stroke-opacity: 1;\" transform=\"translate(254.03,30.51)\"/><path class=\"point\" d=\"M1.21,0A1.21,1.21 0 1,1 0,-1.21A1.21,1.21 0 0,1 1.21,0Z\" style=\"opacity: 0.6; stroke-width: 1px; fill: rgb(238, 229, 32); fill-opacity: 1; stroke: rgb(255, 255, 255); stroke-opacity: 1;\" transform=\"translate(288.16,231.7)\"/><path class=\"point\" d=\"M14.93,0A14.93,14.93 0 1,1 0,-14.93A14.93,14.93 0 0,1 14.93,0Z\" style=\"opacity: 0.6; stroke-width: 1px; fill: rgb(33, 164, 134); fill-opacity: 1; stroke: rgb(255, 255, 255); stroke-opacity: 1;\" transform=\"translate(124.85,69.93)\"/><path class=\"point\" d=\"M9.39,0A9.39,9.39 0 1,1 0,-9.39A9.39,9.39 0 0,1 9.39,0Z\" style=\"opacity: 0.6; stroke-width: 1px; fill: rgb(35, 139, 141); fill-opacity: 1; stroke: rgb(255, 255, 255); stroke-opacity: 1;\" transform=\"translate(465.73,222.68)\"/><path class=\"point\" d=\"M10.2,0A10.2,10.2 0 1,1 0,-10.2A10.2,10.2 0 0,1 10.2,0Z\" style=\"opacity: 0.6; stroke-width: 1px; fill: rgb(89, 199, 101); fill-opacity: 1; stroke: rgb(255, 255, 255); stroke-opacity: 1;\" transform=\"translate(420.67,168.25)\"/></g></g></g></g><g class=\"overplot\"/><path class=\"xlines-above crisp\" d=\"M0,0\" style=\"fill: none;\"/><path class=\"ylines-above crisp\" d=\"M0,0\" style=\"fill: none;\"/><g class=\"overlines-above\"/><g class=\"xaxislayer-above\"><g class=\"xtick\"><text style=\"font-family: 'Open Sans', verdana, arial, sans-serif; font-size: 12px; fill: rgb(68, 68, 68); fill-opacity: 1; white-space: pre;\" text-anchor=\"middle\" transform=\"translate(112.82,0)\" x=\"0\" y=\"433\">0</text></g><g class=\"xtick\"><text style=\"font-family: 'Open Sans', verdana, arial, sans-serif; font-size: 12px; fill: rgb(68, 68, 68); fill-opacity: 1; white-space: pre;\" text-anchor=\"middle\" transform=\"translate(206.56,0)\" x=\"0\" y=\"433\">0.2</text></g><g class=\"xtick\"><text style=\"font-family: 'Open Sans', verdana, arial, sans-serif; font-size: 12px; fill: rgb(68, 68, 68); fill-opacity: 1; white-space: pre;\" text-anchor=\"middle\" transform=\"translate(300.3,0)\" x=\"0\" y=\"433\">0.4</text></g><g class=\"xtick\"><text style=\"font-family: 'Open Sans', verdana, arial, sans-serif; font-size: 12px; fill: rgb(68, 68, 68); fill-opacity: 1; white-space: pre;\" text-anchor=\"middle\" transform=\"translate(394.04,0)\" x=\"0\" y=\"433\">0.6</text></g><g class=\"xtick\"><text style=\"font-family: 'Open Sans', verdana, arial, sans-serif; font-size: 12px; fill: rgb(68, 68, 68); fill-opacity: 1; white-space: pre;\" text-anchor=\"middle\" transform=\"translate(487.78,0)\" x=\"0\" y=\"433\">0.8</text></g><g class=\"xtick\"><text style=\"font-family: 'Open Sans', verdana, arial, sans-serif; font-size: 12px; fill: rgb(68, 68, 68); fill-opacity: 1; white-space: pre;\" text-anchor=\"middle\" transform=\"translate(581.52,0)\" x=\"0\" y=\"433\">1</text></g></g><g class=\"yaxislayer-above\"><g class=\"ytick\"><text style=\"font-family: 'Open Sans', verdana, arial, sans-serif; font-size: 12px; fill: rgb(68, 68, 68); fill-opacity: 1; white-space: pre;\" text-anchor=\"end\" transform=\"translate(0,399.77)\" x=\"79\" y=\"4.199999999999999\">0</text></g><g class=\"ytick\"><text style=\"font-family: 'Open Sans', verdana, arial, sans-serif; font-size: 12px; fill: rgb(68, 68, 68); fill-opacity: 1; white-space: pre;\" text-anchor=\"end\" transform=\"translate(0,345.01)\" x=\"79\" y=\"4.199999999999999\">0.2</text></g><g class=\"ytick\"><text style=\"font-family: 'Open Sans', verdana, arial, sans-serif; font-size: 12px; fill: rgb(68, 68, 68); fill-opacity: 1; white-space: pre;\" text-anchor=\"end\" transform=\"translate(0,290.26)\" x=\"79\" y=\"4.199999999999999\">0.4</text></g><g class=\"ytick\"><text style=\"font-family: 'Open Sans', verdana, arial, sans-serif; font-size: 12px; fill: rgb(68, 68, 68); fill-opacity: 1; white-space: pre;\" text-anchor=\"end\" transform=\"translate(0,235.5)\" x=\"79\" y=\"4.199999999999999\">0.6</text></g><g class=\"ytick\"><text style=\"font-family: 'Open Sans', verdana, arial, sans-serif; font-size: 12px; fill: rgb(68, 68, 68); fill-opacity: 1; white-space: pre;\" text-anchor=\"end\" transform=\"translate(0,180.75)\" x=\"79\" y=\"4.199999999999999\">0.8</text></g><g class=\"ytick\"><text style=\"font-family: 'Open Sans', verdana, arial, sans-serif; font-size: 12px; fill: rgb(68, 68, 68); fill-opacity: 1; white-space: pre;\" text-anchor=\"end\" transform=\"translate(0,125.99)\" x=\"79\" y=\"4.199999999999999\">1</text></g></g><g class=\"overaxes-above\"/></g></g><g class=\"polarlayer\"/><g class=\"ternarylayer\"/><g class=\"geolayer\"/><g class=\"pielayer\"/><g class=\"glimages\"/><defs id=\"topdefs-01ef56\"><g class=\"clips\"/></defs><g class=\"layer-above\"><g class=\"imagelayer\"/><g class=\"shapelayer\"/></g><g class=\"infolayer\"><g class=\"g-gtitle\"/><g class=\"g-xtitle\"/><g class=\"g-ytitle\"/></g></svg>"
      ],
      "text/plain": [
       "<IPython.core.display.SVG object>"
      ]
     },
     "metadata": {},
     "output_type": "display_data"
    },
    {
     "name": "stdout",
     "output_type": "stream",
     "text": [
      "CPU times: user 355 ms, sys: 69.3 ms, total: 424 ms\n",
      "Wall time: 2.01 s\n"
     ]
    }
   ],
   "source": [
    "%%time\n",
    "img_bytes = pio.to_image(fig, format='svg')\n",
    "from IPython.display import SVG, display\n",
    "display(SVG(img_bytes))"
   ]
  },
  {
   "cell_type": "markdown",
   "metadata": {},
   "source": [
    "By checking the `status` object again, we see that the orca server is now running"
   ]
  },
  {
   "cell_type": "code",
   "execution_count": 5,
   "metadata": {},
   "outputs": [
    {
     "data": {
      "text/plain": [
       "orca status\n",
       "-----------\n",
       "    state: running\n",
       "    executable: /anaconda3/envs/plotly_conda37/bin/orca\n",
       "    version: 1.1.0\n",
       "    port: 54628\n",
       "    pid: 43983\n",
       "    command: ['/anaconda3/envs/plotly_conda37/bin/orca', 'serve', '-p', '54628', '--plotly', '/anaconda3/envs/plotly_conda37/lib/python3.7/site-packages/plotly/package_data/plotly.min.js', '--graph-only', '--mathjax', 'https://cdnjs.cloudflare.com/ajax/libs/mathjax/2.7.5/MathJax.js']\n",
       "    "
      ]
     },
     "execution_count": 5,
     "metadata": {},
     "output_type": "execute_result"
    }
   ],
   "source": [
    "pio.orca.status"
   ]
  },
  {
   "cell_type": "markdown",
   "metadata": {},
   "source": [
    "Let's perform this same export operation again, now that the server is already running."
   ]
  },
  {
   "cell_type": "code",
   "execution_count": 6,
   "metadata": {},
   "outputs": [
    {
     "data": {
      "image/svg+xml": [
       "<svg class=\"main-svg\" height=\"500\" viewBox=\"0 0 700 500\" width=\"700\" xmlns=\"http://www.w3.org/2000/svg\" xmlns:xlink=\"http://www.w3.org/1999/xlink\"><rect height=\"500\" style=\"fill: rgb(255, 255, 255); fill-opacity: 1;\" width=\"700\" x=\"0\" y=\"0\"/><defs id=\"defs-52f497\"><g class=\"clips\"><clipPath class=\"plotclip\" id=\"clip52f497xyplot\"><rect height=\"320\" width=\"540\"/></clipPath><clipPath class=\"axesclip\" id=\"clip52f497x\"><rect height=\"500\" width=\"540\" x=\"80\" y=\"0\"/></clipPath><clipPath class=\"axesclip\" id=\"clip52f497y\"><rect height=\"320\" width=\"700\" x=\"0\" y=\"100\"/></clipPath><clipPath class=\"axesclip\" id=\"clip52f497xy\"><rect height=\"320\" width=\"540\" x=\"80\" y=\"100\"/></clipPath></g><g class=\"gradients\"/></defs><g class=\"bglayer\"><rect class=\"bg\" height=\"320\" style=\"fill: rgb(255, 255, 255); fill-opacity: 1; stroke-width: 0;\" width=\"540\" x=\"80\" y=\"100\"/></g><g class=\"layer-below\"><g class=\"imagelayer\"/><g class=\"shapelayer\"/></g><g class=\"cartesianlayer\"><g class=\"subplot xy\"><g class=\"layer-subplot\"><g class=\"shapelayer\"/><g class=\"imagelayer\"/></g><g class=\"gridlayer\"><g class=\"x\"><path class=\"xgrid crisp\" d=\"M0,100v320\" style=\"stroke: rgb(238, 238, 238); stroke-opacity: 1; stroke-width: 1px;\" transform=\"translate(206.56,0)\"/><path class=\"xgrid crisp\" d=\"M0,100v320\" style=\"stroke: rgb(238, 238, 238); stroke-opacity: 1; stroke-width: 1px;\" transform=\"translate(300.3,0)\"/><path class=\"xgrid crisp\" d=\"M0,100v320\" style=\"stroke: rgb(238, 238, 238); stroke-opacity: 1; stroke-width: 1px;\" transform=\"translate(394.04,0)\"/><path class=\"xgrid crisp\" d=\"M0,100v320\" style=\"stroke: rgb(238, 238, 238); stroke-opacity: 1; stroke-width: 1px;\" transform=\"translate(487.78,0)\"/><path class=\"xgrid crisp\" d=\"M0,100v320\" style=\"stroke: rgb(238, 238, 238); stroke-opacity: 1; stroke-width: 1px;\" transform=\"translate(581.52,0)\"/></g><g class=\"y\"><path class=\"ygrid crisp\" d=\"M80,0h540\" style=\"stroke: rgb(238, 238, 238); stroke-opacity: 1; stroke-width: 1px;\" transform=\"translate(0,345.01)\"/><path class=\"ygrid crisp\" d=\"M80,0h540\" style=\"stroke: rgb(238, 238, 238); stroke-opacity: 1; stroke-width: 1px;\" transform=\"translate(0,290.26)\"/><path class=\"ygrid crisp\" d=\"M80,0h540\" style=\"stroke: rgb(238, 238, 238); stroke-opacity: 1; stroke-width: 1px;\" transform=\"translate(0,235.5)\"/><path class=\"ygrid crisp\" d=\"M80,0h540\" style=\"stroke: rgb(238, 238, 238); stroke-opacity: 1; stroke-width: 1px;\" transform=\"translate(0,180.75)\"/><path class=\"ygrid crisp\" d=\"M80,0h540\" style=\"stroke: rgb(238, 238, 238); stroke-opacity: 1; stroke-width: 1px;\" transform=\"translate(0,125.99)\"/></g></g><g class=\"zerolinelayer\"><path class=\"xzl zl crisp\" d=\"M0,100v320\" style=\"stroke: rgb(68, 68, 68); stroke-opacity: 1; stroke-width: 1px;\" transform=\"translate(112.82,0)\"/><path class=\"yzl zl crisp\" d=\"M80,0h540\" style=\"stroke: rgb(68, 68, 68); stroke-opacity: 1; stroke-width: 1px;\" transform=\"translate(0,399.77)\"/></g><path class=\"xlines-below\"/><path class=\"ylines-below\"/><g class=\"overlines-below\"/><g class=\"xaxislayer-below\"/><g class=\"yaxislayer-below\"/><g class=\"overaxes-below\"/><g class=\"plot\" clip-path=\"url(#clip52f497xyplot)\" transform=\"translate(80, 100)\"><g class=\"scatterlayer mlayer\"><g class=\"trace scatter trace254666e2-a921-11e8-9c95-645aede86e5b\" style=\"stroke-miterlimit: 2; opacity: 1;\"><g class=\"points\"><path class=\"point\" d=\"M6.76,0A6.76,6.76 0 1,1 0,-6.76A6.76,6.76 0 0,1 6.76,0Z\" style=\"opacity: 0.6; stroke-width: 1px; fill: rgb(221, 227, 27); fill-opacity: 1; stroke: rgb(255, 255, 255); stroke-opacity: 1;\" transform=\"translate(197.49,162.56)\"/><path class=\"point\" d=\"M10.41,0A10.41,10.41 0 1,1 0,-10.41A10.41,10.41 0 0,1 10.41,0Z\" style=\"opacity: 0.6; stroke-width: 1px; fill: rgb(61, 76, 137); fill-opacity: 1; stroke: rgb(255, 255, 255); stroke-opacity: 1;\" transform=\"translate(276.83,161.93)\"/><path class=\"point\" d=\"M10.05,0A10.05,10.05 0 1,1 0,-10.05A10.05,10.05 0 0,1 10.05,0Z\" style=\"opacity: 0.6; stroke-width: 1px; fill: rgb(40, 124, 142); fill-opacity: 1; stroke: rgb(255, 255, 255); stroke-opacity: 1;\" transform=\"translate(80.43,28.56)\"/><path class=\"point\" d=\"M14.1,0A14.1,14.1 0 1,1 0,-14.1A14.1,14.1 0 0,1 14.1,0Z\" style=\"opacity: 0.6; stroke-width: 1px; fill: rgb(48, 105, 141); fill-opacity: 1; stroke: rgb(255, 255, 255); stroke-opacity: 1;\" transform=\"translate(233.21,34.97)\"/><path class=\"point\" d=\"M1.21,0A1.21,1.21 0 1,1 0,-1.21A1.21,1.21 0 0,1 1.21,0Z\" style=\"opacity: 0.6; stroke-width: 1px; fill: rgb(45, 177, 125); fill-opacity: 1; stroke: rgb(255, 255, 255); stroke-opacity: 1;\" transform=\"translate(415.98,145.39)\"/><path class=\"point\" d=\"M1.84,0A1.84,1.84 0 1,1 0,-1.84A1.84,1.84 0 0,1 1.84,0Z\" style=\"opacity: 0.6; stroke-width: 1px; fill: rgb(71, 21, 103); fill-opacity: 1; stroke: rgb(255, 255, 255); stroke-opacity: 1;\" transform=\"translate(423.34,217.48)\"/><path class=\"point\" d=\"M4.1,0A4.1,4.1 0 1,1 0,-4.1A4.1,4.1 0 0,1 4.1,0Z\" style=\"opacity: 0.6; stroke-width: 1px; fill: rgb(222, 227, 27); fill-opacity: 1; stroke: rgb(255, 255, 255); stroke-opacity: 1;\" transform=\"translate(413.08,73.39)\"/><path class=\"point\" d=\"M9.61,0A9.61,9.61 0 1,1 0,-9.61A9.61,9.61 0 0,1 9.61,0Z\" style=\"opacity: 0.6; stroke-width: 1px; fill: rgb(64, 188, 114); fill-opacity: 1; stroke: rgb(255, 255, 255); stroke-opacity: 1;\" transform=\"translate(101.14,175.83)\"/><path class=\"point\" d=\"M9.12,0A9.12,9.12 0 1,1 0,-9.12A9.12,9.12 0 0,1 9.12,0Z\" style=\"opacity: 0.6; stroke-width: 1px; fill: rgb(38, 171, 130); fill-opacity: 1; stroke: rgb(255, 255, 255); stroke-opacity: 1;\" transform=\"translate(369.46,102.31)\"/><path class=\"point\" d=\"M7.06,0A7.06,7.06 0 1,1 0,-7.06A7.06,7.06 0 0,1 7.06,0Z\" style=\"opacity: 0.6; stroke-width: 1px; fill: rgb(70, 10, 93); fill-opacity: 1; stroke: rgb(255, 255, 255); stroke-opacity: 1;\" transform=\"translate(396.06,101.89)\"/><path class=\"point\" d=\"M1.77,0A1.77,1.77 0 1,1 0,-1.77A1.77,1.77 0 0,1 1.77,0Z\" style=\"opacity: 0.6; stroke-width: 1px; fill: rgb(179, 221, 45); fill-opacity: 1; stroke: rgb(255, 255, 255); stroke-opacity: 1;\" transform=\"translate(404.12,157.16)\"/><path class=\"point\" d=\"M4.96,0A4.96,4.96 0 1,1 0,-4.96A4.96,4.96 0 0,1 4.96,0Z\" style=\"opacity: 0.6; stroke-width: 1px; fill: rgb(71, 17, 99); fill-opacity: 1; stroke: rgb(255, 255, 255); stroke-opacity: 1;\" transform=\"translate(76.69,180.94)\"/><path class=\"point\" d=\"M2.63,0A2.63,2.63 0 1,1 0,-2.63A2.63,2.63 0 0,1 2.63,0Z\" style=\"opacity: 0.6; stroke-width: 1px; fill: rgb(62, 187, 116); fill-opacity: 1; stroke: rgb(255, 255, 255); stroke-opacity: 1;\" transform=\"translate(210.72,91.73)\"/><path class=\"point\" d=\"M12.19,0A12.19,12.19 0 1,1 0,-12.19A12.19,12.19 0 0,1 12.19,0Z\" style=\"opacity: 0.6; stroke-width: 1px; fill: rgb(49, 102, 141); fill-opacity: 1; stroke: rgb(255, 255, 255); stroke-opacity: 1;\" transform=\"translate(248.29,250.92)\"/><path class=\"point\" d=\"M11.71,0A11.71,11.71 0 1,1 0,-11.71A11.71,11.71 0 0,1 11.71,0Z\" style=\"opacity: 0.6; stroke-width: 1px; fill: rgb(68, 3, 85); fill-opacity: 1; stroke: rgb(255, 255, 255); stroke-opacity: 1;\" transform=\"translate(349.47,283.37)\"/><path class=\"point\" d=\"M7,0A7,7 0 1,1 0,-7A7,7 0 0,1 7,0Z\" style=\"opacity: 0.6; stroke-width: 1px; fill: rgb(69, 190, 112); fill-opacity: 1; stroke: rgb(255, 255, 255); stroke-opacity: 1;\" transform=\"translate(99,52.5)\"/><path class=\"point\" d=\"M14.76,0A14.76,14.76 0 1,1 0,-14.76A14.76,14.76 0 0,1 14.76,0Z\" style=\"opacity: 0.6; stroke-width: 1px; fill: rgb(72, 22, 105); fill-opacity: 1; stroke: rgb(255, 255, 255); stroke-opacity: 1;\" transform=\"translate(145.86,183.04)\"/><path class=\"point\" d=\"M8.57,0A8.57,8.57 0 1,1 0,-8.57A8.57,8.57 0 0,1 8.57,0Z\" style=\"opacity: 0.6; stroke-width: 1px; fill: rgb(253, 231, 37); fill-opacity: 1; stroke: rgb(255, 255, 255); stroke-opacity: 1;\" transform=\"translate(75.25,187.82)\"/><path class=\"point\" d=\"M3.31,0A3.31,3.31 0 1,1 0,-3.31A3.31,3.31 0 0,1 3.31,0Z\" style=\"opacity: 0.6; stroke-width: 1px; fill: rgb(161, 218, 56); fill-opacity: 1; stroke: rgb(255, 255, 255); stroke-opacity: 1;\" transform=\"translate(319.93,143.41)\"/><path class=\"point\" d=\"M1.91,0A1.91,1.91 0 1,1 0,-1.91A1.91,1.91 0 0,1 1.91,0Z\" style=\"opacity: 0.6; stroke-width: 1px; fill: rgb(32, 152, 138); fill-opacity: 1; stroke: rgb(255, 255, 255); stroke-opacity: 1;\" transform=\"translate(329.26,163.04)\"/><path class=\"point\" d=\"M13.32,0A13.32,13.32 0 1,1 0,-13.32A13.32,13.32 0 0,1 13.32,0Z\" style=\"opacity: 0.6; stroke-width: 1px; fill: rgb(36, 136, 141); fill-opacity: 1; stroke: rgb(255, 255, 255); stroke-opacity: 1;\" transform=\"translate(219.25,104.01)\"/><path class=\"point\" d=\"M0.5,0A0.5,0.5 0 1,1 0,-0.5A0.5,0.5 0 0,1 0.5,0Z\" style=\"opacity: 0.6; stroke-width: 1px; fill: rgb(59, 81, 139); fill-opacity: 1; stroke: rgb(255, 255, 255); stroke-opacity: 1;\" transform=\"translate(428.2,109.86)\"/><path class=\"point\" d=\"M4.96,0A4.96,4.96 0 1,1 0,-4.96A4.96,4.96 0 0,1 4.96,0Z\" style=\"opacity: 0.6; stroke-width: 1px; fill: rgb(102, 203, 93); fill-opacity: 1; stroke: rgb(255, 255, 255); stroke-opacity: 1;\" transform=\"translate(170.55,234.68)\"/><path class=\"point\" d=\"M2.9,0A2.9,2.9 0 1,1 0,-2.9A2.9,2.9 0 0,1 2.9,0Z\" style=\"opacity: 0.6; stroke-width: 1px; fill: rgb(40, 124, 142); fill-opacity: 1; stroke: rgb(255, 255, 255); stroke-opacity: 1;\" transform=\"translate(310.07,167.99)\"/><path class=\"point\" d=\"M13.91,0A13.91,13.91 0 1,1 0,-13.91A13.91,13.91 0 0,1 13.91,0Z\" style=\"opacity: 0.6; stroke-width: 1px; fill: rgb(72, 22, 104); fill-opacity: 1; stroke: rgb(255, 255, 255); stroke-opacity: 1;\" transform=\"translate(158.45,69.83)\"/><path class=\"point\" d=\"M2.26,0A2.26,2.26 0 1,1 0,-2.26A2.26,2.26 0 0,1 2.26,0Z\" style=\"opacity: 0.6; stroke-width: 1px; fill: rgb(48, 179, 124); fill-opacity: 1; stroke: rgb(255, 255, 255); stroke-opacity: 1;\" transform=\"translate(352.86,291.31)\"/><path class=\"point\" d=\"M14.95,0A14.95,14.95 0 1,1 0,-14.95A14.95,14.95 0 0,1 14.95,0Z\" style=\"opacity: 0.6; stroke-width: 1px; fill: rgb(37, 132, 142); fill-opacity: 1; stroke: rgb(255, 255, 255); stroke-opacity: 1;\" transform=\"translate(389.51,46.94)\"/><path class=\"point\" d=\"M9.27,0A9.27,9.27 0 1,1 0,-9.27A9.27,9.27 0 0,1 9.27,0Z\" style=\"opacity: 0.6; stroke-width: 1px; fill: rgb(58, 185, 118); fill-opacity: 1; stroke: rgb(255, 255, 255); stroke-opacity: 1;\" transform=\"translate(261.28,237.82)\"/><path class=\"point\" d=\"M0.29,0A0.29,0.29 0 1,1 0,-0.29A0.29,0.29 0 0,1 0.29,0Z\" style=\"opacity: 0.6; stroke-width: 1px; fill: rgb(57, 86, 139); fill-opacity: 1; stroke: rgb(255, 255, 255); stroke-opacity: 1;\" transform=\"translate(73.55,191.13)\"/><path class=\"point\" d=\"M14.79,0A14.79,14.79 0 1,1 0,-14.79A14.79,14.79 0 0,1 14.79,0Z\" style=\"opacity: 0.6; stroke-width: 1px; fill: rgb(51, 98, 141); fill-opacity: 1; stroke: rgb(255, 255, 255); stroke-opacity: 1;\" transform=\"translate(56.15,87.8)\"/><path class=\"point\" d=\"M7.01,0A7.01,7.01 0 1,1 0,-7.01A7.01,7.01 0 0,1 7.01,0Z\" style=\"opacity: 0.6; stroke-width: 1px; fill: rgb(219, 226, 26); fill-opacity: 1; stroke: rgb(255, 255, 255); stroke-opacity: 1;\" transform=\"translate(78.29,295.24)\"/><path class=\"point\" d=\"M9.22,0A9.22,9.22 0 1,1 0,-9.22A9.22,9.22 0 0,1 9.22,0Z\" style=\"opacity: 0.6; stroke-width: 1px; fill: rgb(69, 52, 127); fill-opacity: 1; stroke: rgb(255, 255, 255); stroke-opacity: 1;\" transform=\"translate(335.39,182.21)\"/><path class=\"point\" d=\"M10.52,0A10.52,10.52 0 1,1 0,-10.52A10.52,10.52 0 0,1 10.52,0Z\" style=\"opacity: 0.6; stroke-width: 1px; fill: rgb(207, 225, 30); fill-opacity: 1; stroke: rgb(255, 255, 255); stroke-opacity: 1;\" transform=\"translate(208.65,238.04)\"/><path class=\"point\" d=\"M2.84,0A2.84,2.84 0 1,1 0,-2.84A2.84,2.84 0 0,1 2.84,0Z\" style=\"opacity: 0.6; stroke-width: 1px; fill: rgb(71, 35, 115); fill-opacity: 1; stroke: rgb(255, 255, 255); stroke-opacity: 1;\" transform=\"translate(459.71,159.02)\"/><path class=\"point\" d=\"M12.82,0A12.82,12.82 0 1,1 0,-12.82A12.82,12.82 0 0,1 12.82,0Z\" style=\"opacity: 0.6; stroke-width: 1px; fill: rgb(33, 145, 140); fill-opacity: 1; stroke: rgb(255, 255, 255); stroke-opacity: 1;\" transform=\"translate(160.86,117.31)\"/><path class=\"point\" d=\"M14.26,0A14.26,14.26 0 1,1 0,-14.26A14.26,14.26 0 0,1 14.26,0Z\" style=\"opacity: 0.6; stroke-width: 1px; fill: rgb(62, 187, 116); fill-opacity: 1; stroke: rgb(255, 255, 255); stroke-opacity: 1;\" transform=\"translate(355.82,283.87)\"/><path class=\"point\" d=\"M7.82,0A7.82,7.82 0 1,1 0,-7.82A7.82,7.82 0 0,1 7.82,0Z\" style=\"opacity: 0.6; stroke-width: 1px; fill: rgb(37, 133, 142); fill-opacity: 1; stroke: rgb(255, 255, 255); stroke-opacity: 1;\" transform=\"translate(173.61,95.47)\"/><path class=\"point\" d=\"M6.67,0A6.67,6.67 0 1,1 0,-6.67A6.67,6.67 0 0,1 6.67,0Z\" style=\"opacity: 0.6; stroke-width: 1px; fill: rgb(59, 82, 139); fill-opacity: 1; stroke: rgb(255, 255, 255); stroke-opacity: 1;\" transform=\"translate(408.53,238.99)\"/><path class=\"point\" d=\"M14.82,0A14.82,14.82 0 1,1 0,-14.82A14.82,14.82 0 0,1 14.82,0Z\" style=\"opacity: 0.6; stroke-width: 1px; fill: rgb(43, 176, 127); fill-opacity: 1; stroke: rgb(255, 255, 255); stroke-opacity: 1;\" transform=\"translate(45.52,63.99)\"/><path class=\"point\" d=\"M3.17,0A3.17,3.17 0 1,1 0,-3.17A3.17,3.17 0 0,1 3.17,0Z\" style=\"opacity: 0.6; stroke-width: 1px; fill: rgb(70, 10, 93); fill-opacity: 1; stroke: rgb(255, 255, 255); stroke-opacity: 1;\" transform=\"translate(156.46,263.94)\"/><path class=\"point\" d=\"M9.95,0A9.95,9.95 0 1,1 0,-9.95A9.95,9.95 0 0,1 9.95,0Z\" style=\"opacity: 0.6; stroke-width: 1px; fill: rgb(227, 227, 28); fill-opacity: 1; stroke: rgb(255, 255, 255); stroke-opacity: 1;\" transform=\"translate(224.68,217.37)\"/><path class=\"point\" d=\"M1.12,0A1.12,1.12 0 1,1 0,-1.12A1.12,1.12 0 0,1 1.12,0Z\" style=\"opacity: 0.6; stroke-width: 1px; fill: rgb(251, 231, 36); fill-opacity: 1; stroke: rgb(255, 255, 255); stroke-opacity: 1;\" transform=\"translate(380.01,194.19)\"/><path class=\"point\" d=\"M5.38,0A5.38,5.38 0 1,1 0,-5.38A5.38,5.38 0 0,1 5.38,0Z\" style=\"opacity: 0.6; stroke-width: 1px; fill: rgb(46, 178, 124); fill-opacity: 1; stroke: rgb(255, 255, 255); stroke-opacity: 1;\" transform=\"translate(415.23,77.92)\"/><path class=\"point\" d=\"M7.07,0A7.07,7.07 0 1,1 0,-7.07A7.07,7.07 0 0,1 7.07,0Z\" style=\"opacity: 0.6; stroke-width: 1px; fill: rgb(91, 200, 100); fill-opacity: 1; stroke: rgb(255, 255, 255); stroke-opacity: 1;\" transform=\"translate(457.98,124.93)\"/><path class=\"point\" d=\"M14.55,0A14.55,14.55 0 1,1 0,-14.55A14.55,14.55 0 0,1 14.55,0Z\" style=\"opacity: 0.6; stroke-width: 1px; fill: rgb(41, 122, 142); fill-opacity: 1; stroke: rgb(255, 255, 255); stroke-opacity: 1;\" transform=\"translate(409.83,68.1)\"/><path class=\"point\" d=\"M12.86,0A12.86,12.86 0 1,1 0,-12.86A12.86,12.86 0 0,1 12.86,0Z\" style=\"opacity: 0.6; stroke-width: 1px; fill: rgb(224, 227, 28); fill-opacity: 1; stroke: rgb(255, 255, 255); stroke-opacity: 1;\" transform=\"translate(459.61,178.86)\"/><path class=\"point\" d=\"M5.76,0A5.76,5.76 0 1,1 0,-5.76A5.76,5.76 0 0,1 5.76,0Z\" style=\"opacity: 0.6; stroke-width: 1px; fill: rgb(37, 133, 142); fill-opacity: 1; stroke: rgb(255, 255, 255); stroke-opacity: 1;\" transform=\"translate(330.85,231.65)\"/><path class=\"point\" d=\"M4.75,0A4.75,4.75 0 1,1 0,-4.75A4.75,4.75 0 0,1 4.75,0Z\" style=\"opacity: 0.6; stroke-width: 1px; fill: rgb(72, 34, 114); fill-opacity: 1; stroke: rgb(255, 255, 255); stroke-opacity: 1;\" transform=\"translate(213.02,100.98)\"/><path class=\"point\" d=\"M7.5,0A7.5,7.5 0 1,1 0,-7.5A7.5,7.5 0 0,1 7.5,0Z\" style=\"opacity: 0.6; stroke-width: 1px; fill: rgb(31, 160, 136); fill-opacity: 1; stroke: rgb(255, 255, 255); stroke-opacity: 1;\" transform=\"translate(94.64,36.92)\"/><path class=\"point\" d=\"M9.37,0A9.37,9.37 0 1,1 0,-9.37A9.37,9.37 0 0,1 9.37,0Z\" style=\"opacity: 0.6; stroke-width: 1px; fill: rgb(240, 229, 33); fill-opacity: 1; stroke: rgb(255, 255, 255); stroke-opacity: 1;\" transform=\"translate(284.27,239.12)\"/><path class=\"point\" d=\"M5.92,0A5.92,5.92 0 1,1 0,-5.92A5.92,5.92 0 0,1 5.92,0Z\" style=\"opacity: 0.6; stroke-width: 1px; fill: rgb(52, 98, 141); fill-opacity: 1; stroke: rgb(255, 255, 255); stroke-opacity: 1;\" transform=\"translate(367.3,210.4)\"/><path class=\"point\" d=\"M3.31,0A3.31,3.31 0 1,1 0,-3.31A3.31,3.31 0 0,1 3.31,0Z\" style=\"opacity: 0.6; stroke-width: 1px; fill: rgb(70, 10, 92); fill-opacity: 1; stroke: rgb(255, 255, 255); stroke-opacity: 1;\" transform=\"translate(423.28,267.08)\"/><path class=\"point\" d=\"M10.56,0A10.56,10.56 0 1,1 0,-10.56A10.56,10.56 0 0,1 10.56,0Z\" style=\"opacity: 0.6; stroke-width: 1px; fill: rgb(69, 51, 127); fill-opacity: 1; stroke: rgb(255, 255, 255); stroke-opacity: 1;\" transform=\"translate(270.85,72.94)\"/><path class=\"point\" d=\"M1.51,0A1.51,1.51 0 1,1 0,-1.51A1.51,1.51 0 0,1 1.51,0Z\" style=\"opacity: 0.6; stroke-width: 1px; fill: rgb(45, 112, 142); fill-opacity: 1; stroke: rgb(255, 255, 255); stroke-opacity: 1;\" transform=\"translate(451.68,42.2)\"/><path class=\"point\" d=\"M9.06,0A9.06,9.06 0 1,1 0,-9.06A9.06,9.06 0 0,1 9.06,0Z\" style=\"opacity: 0.6; stroke-width: 1px; fill: rgb(211, 225, 28); fill-opacity: 1; stroke: rgb(255, 255, 255); stroke-opacity: 1;\" transform=\"translate(238.01,45.12)\"/><path class=\"point\" d=\"M1.43,0A1.43,1.43 0 1,1 0,-1.43A1.43,1.43 0 0,1 1.43,0Z\" style=\"opacity: 0.6; stroke-width: 1px; fill: rgb(57, 86, 139); fill-opacity: 1; stroke: rgb(255, 255, 255); stroke-opacity: 1;\" transform=\"translate(384.06,273.52)\"/><path class=\"point\" d=\"M14.04,0A14.04,14.04 0 1,1 0,-14.04A14.04,14.04 0 0,1 14.04,0Z\" style=\"opacity: 0.6; stroke-width: 1px; fill: rgb(215, 226, 25); fill-opacity: 1; stroke: rgb(255, 255, 255); stroke-opacity: 1;\" transform=\"translate(366.29,205.51)\"/><path class=\"point\" d=\"M10.73,0A10.73,10.73 0 1,1 0,-10.73A10.73,10.73 0 0,1 10.73,0Z\" style=\"opacity: 0.6; stroke-width: 1px; fill: rgb(72, 33, 114); fill-opacity: 1; stroke: rgb(255, 255, 255); stroke-opacity: 1;\" transform=\"translate(475.97,143.94)\"/><path class=\"point\" d=\"M2.45,0A2.45,2.45 0 1,1 0,-2.45A2.45,2.45 0 0,1 2.45,0Z\" style=\"opacity: 0.6; stroke-width: 1px; fill: rgb(59, 185, 117); fill-opacity: 1; stroke: rgb(255, 255, 255); stroke-opacity: 1;\" transform=\"translate(166.21,245.49)\"/><path class=\"point\" d=\"M14.84,0A14.84,14.84 0 1,1 0,-14.84A14.84,14.84 0 0,1 14.84,0Z\" style=\"opacity: 0.6; stroke-width: 1px; fill: rgb(207, 225, 30); fill-opacity: 1; stroke: rgb(255, 255, 255); stroke-opacity: 1;\" transform=\"translate(374.44,182.88)\"/><path class=\"point\" d=\"M2.99,0A2.99,2.99 0 1,1 0,-2.99A2.99,2.99 0 0,1 2.99,0Z\" style=\"opacity: 0.6; stroke-width: 1px; fill: rgb(218, 226, 26); fill-opacity: 1; stroke: rgb(255, 255, 255); stroke-opacity: 1;\" transform=\"translate(108.18,48.98)\"/><path class=\"point\" d=\"M0.57,0A0.57,0.57 0 1,1 0,-0.57A0.57,0.57 0 0,1 0.57,0Z\" style=\"opacity: 0.6; stroke-width: 1px; fill: rgb(45, 113, 142); fill-opacity: 1; stroke: rgb(255, 255, 255); stroke-opacity: 1;\" transform=\"translate(159.52,184.19)\"/><path class=\"point\" d=\"M8.18,0A8.18,8.18 0 1,1 0,-8.18A8.18,8.18 0 0,1 8.18,0Z\" style=\"opacity: 0.6; stroke-width: 1px; fill: rgb(149, 215, 64); fill-opacity: 1; stroke: rgb(255, 255, 255); stroke-opacity: 1;\" transform=\"translate(360.44,104.73)\"/><path class=\"point\" d=\"M2.11,0A2.11,2.11 0 1,1 0,-2.11A2.11,2.11 0 0,1 2.11,0Z\" style=\"opacity: 0.6; stroke-width: 1px; fill: rgb(60, 80, 138); fill-opacity: 1; stroke: rgb(255, 255, 255); stroke-opacity: 1;\" transform=\"translate(300.85,96.68)\"/><path class=\"point\" d=\"M8.72,0A8.72,8.72 0 1,1 0,-8.72A8.72,8.72 0 0,1 8.72,0Z\" style=\"opacity: 0.6; stroke-width: 1px; fill: rgb(183, 221, 43); fill-opacity: 1; stroke: rgb(255, 255, 255); stroke-opacity: 1;\" transform=\"translate(397.58,104.52)\"/><path class=\"point\" d=\"M5.46,0A5.46,5.46 0 1,1 0,-5.46A5.46,5.46 0 0,1 5.46,0Z\" style=\"opacity: 0.6; stroke-width: 1px; fill: rgb(39, 172, 129); fill-opacity: 1; stroke: rgb(255, 255, 255); stroke-opacity: 1;\" transform=\"translate(71.04,62.22)\"/><path class=\"point\" d=\"M6.05,0A6.05,6.05 0 1,1 0,-6.05A6.05,6.05 0 0,1 6.05,0Z\" style=\"opacity: 0.6; stroke-width: 1px; fill: rgb(35, 167, 132); fill-opacity: 1; stroke: rgb(255, 255, 255); stroke-opacity: 1;\" transform=\"translate(362.15,252.69)\"/><path class=\"point\" d=\"M14.23,0A14.23,14.23 0 1,1 0,-14.23A14.23,14.23 0 0,1 14.23,0Z\" style=\"opacity: 0.6; stroke-width: 1px; fill: rgb(34, 141, 141); fill-opacity: 1; stroke: rgb(255, 255, 255); stroke-opacity: 1;\" transform=\"translate(322.62,78.65)\"/><path class=\"point\" d=\"M14.37,0A14.37,14.37 0 1,1 0,-14.37A14.37,14.37 0 0,1 14.37,0Z\" style=\"opacity: 0.6; stroke-width: 1px; fill: rgb(47, 108, 142); fill-opacity: 1; stroke: rgb(255, 255, 255); stroke-opacity: 1;\" transform=\"translate(455.55,47.85)\"/><path class=\"point\" d=\"M9.9,0A9.9,9.9 0 1,1 0,-9.9A9.9,9.9 0 0,1 9.9,0Z\" style=\"opacity: 0.6; stroke-width: 1px; fill: rgb(33, 147, 139); fill-opacity: 1; stroke: rgb(255, 255, 255); stroke-opacity: 1;\" transform=\"translate(48.24,257.69)\"/><path class=\"point\" d=\"M9.9,0A9.9,9.9 0 1,1 0,-9.9A9.9,9.9 0 0,1 9.9,0Z\" style=\"opacity: 0.6; stroke-width: 1px; fill: rgb(37, 134, 141); fill-opacity: 1; stroke: rgb(255, 255, 255); stroke-opacity: 1;\" transform=\"translate(194.5,115.45)\"/><path class=\"point\" d=\"M11.38,0A11.38,11.38 0 1,1 0,-11.38A11.38,11.38 0 0,1 11.38,0Z\" style=\"opacity: 0.6; stroke-width: 1px; fill: rgb(69, 9, 91); fill-opacity: 1; stroke: rgb(255, 255, 255); stroke-opacity: 1;\" transform=\"translate(268.12,285.94)\"/><path class=\"point\" d=\"M1.73,0A1.73,1.73 0 1,1 0,-1.73A1.73,1.73 0 0,1 1.73,0Z\" style=\"opacity: 0.6; stroke-width: 1px; fill: rgb(112, 206, 87); fill-opacity: 1; stroke: rgb(255, 255, 255); stroke-opacity: 1;\" transform=\"translate(260.3,91.01)\"/><path class=\"point\" d=\"M1.92,0A1.92,1.92 0 1,1 0,-1.92A1.92,1.92 0 0,1 1.92,0Z\" style=\"opacity: 0.6; stroke-width: 1px; fill: rgb(34, 165, 133); fill-opacity: 1; stroke: rgb(255, 255, 255); stroke-opacity: 1;\" transform=\"translate(143.42,204.29)\"/><path class=\"point\" d=\"M4.32,0A4.32,4.32 0 1,1 0,-4.32A4.32,4.32 0 0,1 4.32,0Z\" style=\"opacity: 0.6; stroke-width: 1px; fill: rgb(37, 133, 142); fill-opacity: 1; stroke: rgb(255, 255, 255); stroke-opacity: 1;\" transform=\"translate(322.71,243.29)\"/><path class=\"point\" d=\"M9.38,0A9.38,9.38 0 1,1 0,-9.38A9.38,9.38 0 0,1 9.38,0Z\" style=\"opacity: 0.6; stroke-width: 1px; fill: rgb(231, 228, 30); fill-opacity: 1; stroke: rgb(255, 255, 255); stroke-opacity: 1;\" transform=\"translate(293.22,122.89)\"/><path class=\"point\" d=\"M0.02,0A0.02,0.02 0 1,1 0,-0.02A0.02,0.02 0 0,1 0.02,0Z\" style=\"opacity: 0.6; stroke-width: 1px; fill: rgb(60, 79, 138); fill-opacity: 1; stroke: rgb(255, 255, 255); stroke-opacity: 1;\" transform=\"translate(383.64,190.19)\"/><path class=\"point\" d=\"M9.32,0A9.32,9.32 0 1,1 0,-9.32A9.32,9.32 0 0,1 9.32,0Z\" style=\"opacity: 0.6; stroke-width: 1px; fill: rgb(56, 88, 140); fill-opacity: 1; stroke: rgb(255, 255, 255); stroke-opacity: 1;\" transform=\"translate(174.57,133.5)\"/><path class=\"point\" d=\"M11.96,0A11.96,11.96 0 1,1 0,-11.96A11.96,11.96 0 0,1 11.96,0Z\" style=\"opacity: 0.6; stroke-width: 1px; fill: rgb(37, 169, 131); fill-opacity: 1; stroke: rgb(255, 255, 255); stroke-opacity: 1;\" transform=\"translate(109.75,284.65)\"/><path class=\"point\" d=\"M11.04,0A11.04,11.04 0 1,1 0,-11.04A11.04,11.04 0 0,1 11.04,0Z\" style=\"opacity: 0.6; stroke-width: 1px; fill: rgb(170, 219, 50); fill-opacity: 1; stroke: rgb(255, 255, 255); stroke-opacity: 1;\" transform=\"translate(202.24,225.12)\"/><path class=\"point\" d=\"M2.27,0A2.27,2.27 0 1,1 0,-2.27A2.27,2.27 0 0,1 2.27,0Z\" style=\"opacity: 0.6; stroke-width: 1px; fill: rgb(54, 92, 140); fill-opacity: 1; stroke: rgb(255, 255, 255); stroke-opacity: 1;\" transform=\"translate(138.27,172.27)\"/><path class=\"point\" d=\"M10.84,0A10.84,10.84 0 1,1 0,-10.84A10.84,10.84 0 0,1 10.84,0Z\" style=\"opacity: 0.6; stroke-width: 1px; fill: rgb(69, 6, 89); fill-opacity: 1; stroke: rgb(255, 255, 255); stroke-opacity: 1;\" transform=\"translate(257.61,158.25)\"/><path class=\"point\" d=\"M3.58,0A3.58,3.58 0 1,1 0,-3.58A3.58,3.58 0 0,1 3.58,0Z\" style=\"opacity: 0.6; stroke-width: 1px; fill: rgb(47, 108, 142); fill-opacity: 1; stroke: rgb(255, 255, 255); stroke-opacity: 1;\" transform=\"translate(397.81,291.58)\"/><path class=\"point\" d=\"M3.35,0A3.35,3.35 0 1,1 0,-3.35A3.35,3.35 0 0,1 3.35,0Z\" style=\"opacity: 0.6; stroke-width: 1px; fill: rgb(59, 83, 139); fill-opacity: 1; stroke: rgb(255, 255, 255); stroke-opacity: 1;\" transform=\"translate(85.77,262.79)\"/><path class=\"point\" d=\"M10.11,0A10.11,10.11 0 1,1 0,-10.11A10.11,10.11 0 0,1 10.11,0Z\" style=\"opacity: 0.6; stroke-width: 1px; fill: rgb(238, 229, 32); fill-opacity: 1; stroke: rgb(255, 255, 255); stroke-opacity: 1;\" transform=\"translate(453.51,236.32)\"/><path class=\"point\" d=\"M9.02,0A9.02,9.02 0 1,1 0,-9.02A9.02,9.02 0 0,1 9.02,0Z\" style=\"opacity: 0.6; stroke-width: 1px; fill: rgb(67, 61, 132); fill-opacity: 1; stroke: rgb(255, 255, 255); stroke-opacity: 1;\" transform=\"translate(496.29,81.4)\"/><path class=\"point\" d=\"M9.21,0A9.21,9.21 0 1,1 0,-9.21A9.21,9.21 0 0,1 9.21,0Z\" style=\"opacity: 0.6; stroke-width: 1px; fill: rgb(194, 223, 37); fill-opacity: 1; stroke: rgb(255, 255, 255); stroke-opacity: 1;\" transform=\"translate(501.48,150.59)\"/><path class=\"point\" d=\"M3.59,0A3.59,3.59 0 1,1 0,-3.59A3.59,3.59 0 0,1 3.59,0Z\" style=\"opacity: 0.6; stroke-width: 1px; fill: rgb(173, 220, 48); fill-opacity: 1; stroke: rgb(255, 255, 255); stroke-opacity: 1;\" transform=\"translate(140.63,223.16)\"/><path class=\"point\" d=\"M6.89,0A6.89,6.89 0 1,1 0,-6.89A6.89,6.89 0 0,1 6.89,0Z\" style=\"opacity: 0.6; stroke-width: 1px; fill: rgb(39, 172, 129); fill-opacity: 1; stroke: rgb(255, 255, 255); stroke-opacity: 1;\" transform=\"translate(242.17,122.36)\"/><path class=\"point\" d=\"M3.02,0A3.02,3.02 0 1,1 0,-3.02A3.02,3.02 0 0,1 3.02,0Z\" style=\"opacity: 0.6; stroke-width: 1px; fill: rgb(43, 117, 142); fill-opacity: 1; stroke: rgb(255, 255, 255); stroke-opacity: 1;\" transform=\"translate(119.38,122.74)\"/><path class=\"point\" d=\"M2.03,0A2.03,2.03 0 1,1 0,-2.03A2.03,2.03 0 0,1 2.03,0Z\" style=\"opacity: 0.6; stroke-width: 1px; fill: rgb(213, 226, 26); fill-opacity: 1; stroke: rgb(255, 255, 255); stroke-opacity: 1;\" transform=\"translate(404.22,153.82)\"/><path class=\"point\" d=\"M2.67,0A2.67,2.67 0 1,1 0,-2.67A2.67,2.67 0 0,1 2.67,0Z\" style=\"opacity: 0.6; stroke-width: 1px; fill: rgb(68, 1, 84); fill-opacity: 1; stroke: rgb(255, 255, 255); stroke-opacity: 1;\" transform=\"translate(256.95,284.95)\"/><path class=\"point\" d=\"M14.97,0A14.97,14.97 0 1,1 0,-14.97A14.97,14.97 0 0,1 14.97,0Z\" style=\"opacity: 0.6; stroke-width: 1px; fill: rgb(56, 89, 140); fill-opacity: 1; stroke: rgb(255, 255, 255); stroke-opacity: 1;\" transform=\"translate(281.84,65.14)\"/><path class=\"point\" d=\"M7.32,0A7.32,7.32 0 1,1 0,-7.32A7.32,7.32 0 0,1 7.32,0Z\" style=\"opacity: 0.6; stroke-width: 1px; fill: rgb(49, 104, 141); fill-opacity: 1; stroke: rgb(255, 255, 255); stroke-opacity: 1;\" transform=\"translate(108.94,283.18)\"/><path class=\"point\" d=\"M14.84,0A14.84,14.84 0 1,1 0,-14.84A14.84,14.84 0 0,1 14.84,0Z\" style=\"opacity: 0.6; stroke-width: 1px; fill: rgb(70, 191, 111); fill-opacity: 1; stroke: rgb(255, 255, 255); stroke-opacity: 1;\" transform=\"translate(295.64,148.97)\"/><path class=\"point\" d=\"M9.76,0A9.76,9.76 0 1,1 0,-9.76A9.76,9.76 0 0,1 9.76,0Z\" style=\"opacity: 0.6; stroke-width: 1px; fill: rgb(62, 74, 137); fill-opacity: 1; stroke: rgb(255, 255, 255); stroke-opacity: 1;\" transform=\"translate(254.03,30.51)\"/><path class=\"point\" d=\"M1.21,0A1.21,1.21 0 1,1 0,-1.21A1.21,1.21 0 0,1 1.21,0Z\" style=\"opacity: 0.6; stroke-width: 1px; fill: rgb(238, 229, 32); fill-opacity: 1; stroke: rgb(255, 255, 255); stroke-opacity: 1;\" transform=\"translate(288.16,231.7)\"/><path class=\"point\" d=\"M14.93,0A14.93,14.93 0 1,1 0,-14.93A14.93,14.93 0 0,1 14.93,0Z\" style=\"opacity: 0.6; stroke-width: 1px; fill: rgb(33, 164, 134); fill-opacity: 1; stroke: rgb(255, 255, 255); stroke-opacity: 1;\" transform=\"translate(124.85,69.93)\"/><path class=\"point\" d=\"M9.39,0A9.39,9.39 0 1,1 0,-9.39A9.39,9.39 0 0,1 9.39,0Z\" style=\"opacity: 0.6; stroke-width: 1px; fill: rgb(35, 139, 141); fill-opacity: 1; stroke: rgb(255, 255, 255); stroke-opacity: 1;\" transform=\"translate(465.73,222.68)\"/><path class=\"point\" d=\"M10.2,0A10.2,10.2 0 1,1 0,-10.2A10.2,10.2 0 0,1 10.2,0Z\" style=\"opacity: 0.6; stroke-width: 1px; fill: rgb(89, 199, 101); fill-opacity: 1; stroke: rgb(255, 255, 255); stroke-opacity: 1;\" transform=\"translate(420.67,168.25)\"/></g></g></g></g><g class=\"overplot\"/><path class=\"xlines-above crisp\" d=\"M0,0\" style=\"fill: none;\"/><path class=\"ylines-above crisp\" d=\"M0,0\" style=\"fill: none;\"/><g class=\"overlines-above\"/><g class=\"xaxislayer-above\"><g class=\"xtick\"><text style=\"font-family: 'Open Sans', verdana, arial, sans-serif; font-size: 12px; fill: rgb(68, 68, 68); fill-opacity: 1; white-space: pre;\" text-anchor=\"middle\" transform=\"translate(112.82,0)\" x=\"0\" y=\"433\">0</text></g><g class=\"xtick\"><text style=\"font-family: 'Open Sans', verdana, arial, sans-serif; font-size: 12px; fill: rgb(68, 68, 68); fill-opacity: 1; white-space: pre;\" text-anchor=\"middle\" transform=\"translate(206.56,0)\" x=\"0\" y=\"433\">0.2</text></g><g class=\"xtick\"><text style=\"font-family: 'Open Sans', verdana, arial, sans-serif; font-size: 12px; fill: rgb(68, 68, 68); fill-opacity: 1; white-space: pre;\" text-anchor=\"middle\" transform=\"translate(300.3,0)\" x=\"0\" y=\"433\">0.4</text></g><g class=\"xtick\"><text style=\"font-family: 'Open Sans', verdana, arial, sans-serif; font-size: 12px; fill: rgb(68, 68, 68); fill-opacity: 1; white-space: pre;\" text-anchor=\"middle\" transform=\"translate(394.04,0)\" x=\"0\" y=\"433\">0.6</text></g><g class=\"xtick\"><text style=\"font-family: 'Open Sans', verdana, arial, sans-serif; font-size: 12px; fill: rgb(68, 68, 68); fill-opacity: 1; white-space: pre;\" text-anchor=\"middle\" transform=\"translate(487.78,0)\" x=\"0\" y=\"433\">0.8</text></g><g class=\"xtick\"><text style=\"font-family: 'Open Sans', verdana, arial, sans-serif; font-size: 12px; fill: rgb(68, 68, 68); fill-opacity: 1; white-space: pre;\" text-anchor=\"middle\" transform=\"translate(581.52,0)\" x=\"0\" y=\"433\">1</text></g></g><g class=\"yaxislayer-above\"><g class=\"ytick\"><text style=\"font-family: 'Open Sans', verdana, arial, sans-serif; font-size: 12px; fill: rgb(68, 68, 68); fill-opacity: 1; white-space: pre;\" text-anchor=\"end\" transform=\"translate(0,399.77)\" x=\"79\" y=\"4.199999999999999\">0</text></g><g class=\"ytick\"><text style=\"font-family: 'Open Sans', verdana, arial, sans-serif; font-size: 12px; fill: rgb(68, 68, 68); fill-opacity: 1; white-space: pre;\" text-anchor=\"end\" transform=\"translate(0,345.01)\" x=\"79\" y=\"4.199999999999999\">0.2</text></g><g class=\"ytick\"><text style=\"font-family: 'Open Sans', verdana, arial, sans-serif; font-size: 12px; fill: rgb(68, 68, 68); fill-opacity: 1; white-space: pre;\" text-anchor=\"end\" transform=\"translate(0,290.26)\" x=\"79\" y=\"4.199999999999999\">0.4</text></g><g class=\"ytick\"><text style=\"font-family: 'Open Sans', verdana, arial, sans-serif; font-size: 12px; fill: rgb(68, 68, 68); fill-opacity: 1; white-space: pre;\" text-anchor=\"end\" transform=\"translate(0,235.5)\" x=\"79\" y=\"4.199999999999999\">0.6</text></g><g class=\"ytick\"><text style=\"font-family: 'Open Sans', verdana, arial, sans-serif; font-size: 12px; fill: rgb(68, 68, 68); fill-opacity: 1; white-space: pre;\" text-anchor=\"end\" transform=\"translate(0,180.75)\" x=\"79\" y=\"4.199999999999999\">0.8</text></g><g class=\"ytick\"><text style=\"font-family: 'Open Sans', verdana, arial, sans-serif; font-size: 12px; fill: rgb(68, 68, 68); fill-opacity: 1; white-space: pre;\" text-anchor=\"end\" transform=\"translate(0,125.99)\" x=\"79\" y=\"4.199999999999999\">1</text></g></g><g class=\"overaxes-above\"/></g></g><g class=\"polarlayer\"/><g class=\"ternarylayer\"/><g class=\"geolayer\"/><g class=\"pielayer\"/><g class=\"glimages\"/><defs id=\"topdefs-52f497\"><g class=\"clips\"/></defs><g class=\"layer-above\"><g class=\"imagelayer\"/><g class=\"shapelayer\"/></g><g class=\"infolayer\"><g class=\"g-gtitle\"/><g class=\"g-xtitle\"/><g class=\"g-ytitle\"/></g></svg>"
      ],
      "text/plain": [
       "<IPython.core.display.SVG object>"
      ]
     },
     "metadata": {},
     "output_type": "display_data"
    },
    {
     "name": "stdout",
     "output_type": "stream",
     "text": [
      "CPU times: user 12.9 ms, sys: 2.45 ms, total: 15.3 ms\n",
      "Wall time: 66.2 ms\n"
     ]
    }
   ],
   "source": [
    "%%time\n",
    "img_bytes = pio.to_image(fig, format='svg')\n",
    "display(SVG(img_bytes))"
   ]
  },
  {
   "cell_type": "markdown",
   "metadata": {},
   "source": [
    "The difference in runtime is dramatic. Starting the server and exporting the first image takes a couple seconds, while exporting an image with a running server is much faster."
   ]
  },
  {
   "cell_type": "markdown",
   "metadata": {},
   "source": [
    "### Shutdown the server\n",
    "By default, the orca server will continue to run until the main Python process exits.  It can also be manually shut down by calling the `plotly.io.orca.shutdown_server()` function.  Additionally, it is possible to configure the server to shut down automatically after a certain period of inactivity. See the `timeout` configuration parameter below for more information.\n",
    "\n",
    "Regardless of how the server is shut down, it will start back up automatically the next time an image export operation is performed."
   ]
  },
  {
   "cell_type": "code",
   "execution_count": 7,
   "metadata": {},
   "outputs": [
    {
     "data": {
      "text/plain": [
       "orca status\n",
       "-----------\n",
       "    state: validated\n",
       "    executable: /anaconda3/envs/plotly_conda37/bin/orca\n",
       "    version: 1.1.0\n",
       "    port: None\n",
       "    pid: None\n",
       "    command: None\n",
       "    "
      ]
     },
     "execution_count": 7,
     "metadata": {},
     "output_type": "execute_result"
    }
   ],
   "source": [
    "pio.orca.shutdown_server()\n",
    "pio.orca.status"
   ]
  },
  {
   "cell_type": "code",
   "execution_count": 8,
   "metadata": {},
   "outputs": [
    {
     "data": {
      "image/svg+xml": [
       "<svg class=\"main-svg\" height=\"500\" viewBox=\"0 0 700 500\" width=\"700\" xmlns=\"http://www.w3.org/2000/svg\" xmlns:xlink=\"http://www.w3.org/1999/xlink\"><rect height=\"500\" style=\"fill: rgb(255, 255, 255); fill-opacity: 1;\" width=\"700\" x=\"0\" y=\"0\"/><defs id=\"defs-debc35\"><g class=\"clips\"><clipPath class=\"plotclip\" id=\"clipdebc35xyplot\"><rect height=\"320\" width=\"540\"/></clipPath><clipPath class=\"axesclip\" id=\"clipdebc35x\"><rect height=\"500\" width=\"540\" x=\"80\" y=\"0\"/></clipPath><clipPath class=\"axesclip\" id=\"clipdebc35y\"><rect height=\"320\" width=\"700\" x=\"0\" y=\"100\"/></clipPath><clipPath class=\"axesclip\" id=\"clipdebc35xy\"><rect height=\"320\" width=\"540\" x=\"80\" y=\"100\"/></clipPath></g><g class=\"gradients\"/></defs><g class=\"bglayer\"><rect class=\"bg\" height=\"320\" style=\"fill: rgb(255, 255, 255); fill-opacity: 1; stroke-width: 0;\" width=\"540\" x=\"80\" y=\"100\"/></g><g class=\"layer-below\"><g class=\"imagelayer\"/><g class=\"shapelayer\"/></g><g class=\"cartesianlayer\"><g class=\"subplot xy\"><g class=\"layer-subplot\"><g class=\"shapelayer\"/><g class=\"imagelayer\"/></g><g class=\"gridlayer\"><g class=\"x\"><path class=\"xgrid crisp\" d=\"M0,100v320\" style=\"stroke: rgb(238, 238, 238); stroke-opacity: 1; stroke-width: 1px;\" transform=\"translate(206.56,0)\"/><path class=\"xgrid crisp\" d=\"M0,100v320\" style=\"stroke: rgb(238, 238, 238); stroke-opacity: 1; stroke-width: 1px;\" transform=\"translate(300.3,0)\"/><path class=\"xgrid crisp\" d=\"M0,100v320\" style=\"stroke: rgb(238, 238, 238); stroke-opacity: 1; stroke-width: 1px;\" transform=\"translate(394.04,0)\"/><path class=\"xgrid crisp\" d=\"M0,100v320\" style=\"stroke: rgb(238, 238, 238); stroke-opacity: 1; stroke-width: 1px;\" transform=\"translate(487.78,0)\"/><path class=\"xgrid crisp\" d=\"M0,100v320\" style=\"stroke: rgb(238, 238, 238); stroke-opacity: 1; stroke-width: 1px;\" transform=\"translate(581.52,0)\"/></g><g class=\"y\"><path class=\"ygrid crisp\" d=\"M80,0h540\" style=\"stroke: rgb(238, 238, 238); stroke-opacity: 1; stroke-width: 1px;\" transform=\"translate(0,345.01)\"/><path class=\"ygrid crisp\" d=\"M80,0h540\" style=\"stroke: rgb(238, 238, 238); stroke-opacity: 1; stroke-width: 1px;\" transform=\"translate(0,290.26)\"/><path class=\"ygrid crisp\" d=\"M80,0h540\" style=\"stroke: rgb(238, 238, 238); stroke-opacity: 1; stroke-width: 1px;\" transform=\"translate(0,235.5)\"/><path class=\"ygrid crisp\" d=\"M80,0h540\" style=\"stroke: rgb(238, 238, 238); stroke-opacity: 1; stroke-width: 1px;\" transform=\"translate(0,180.75)\"/><path class=\"ygrid crisp\" d=\"M80,0h540\" style=\"stroke: rgb(238, 238, 238); stroke-opacity: 1; stroke-width: 1px;\" transform=\"translate(0,125.99)\"/></g></g><g class=\"zerolinelayer\"><path class=\"xzl zl crisp\" d=\"M0,100v320\" style=\"stroke: rgb(68, 68, 68); stroke-opacity: 1; stroke-width: 1px;\" transform=\"translate(112.82,0)\"/><path class=\"yzl zl crisp\" d=\"M80,0h540\" style=\"stroke: rgb(68, 68, 68); stroke-opacity: 1; stroke-width: 1px;\" transform=\"translate(0,399.77)\"/></g><path class=\"xlines-below\"/><path class=\"ylines-below\"/><g class=\"overlines-below\"/><g class=\"xaxislayer-below\"/><g class=\"yaxislayer-below\"/><g class=\"overaxes-below\"/><g class=\"plot\" clip-path=\"url(#clipdebc35xyplot)\" transform=\"translate(80, 100)\"><g class=\"scatterlayer mlayer\"><g class=\"trace scatter trace254666e2-a921-11e8-9c95-645aede86e5b\" style=\"stroke-miterlimit: 2; opacity: 1;\"><g class=\"points\"><path class=\"point\" d=\"M6.76,0A6.76,6.76 0 1,1 0,-6.76A6.76,6.76 0 0,1 6.76,0Z\" style=\"opacity: 0.6; stroke-width: 1px; fill: rgb(221, 227, 27); fill-opacity: 1; stroke: rgb(255, 255, 255); stroke-opacity: 1;\" transform=\"translate(197.49,162.56)\"/><path class=\"point\" d=\"M10.41,0A10.41,10.41 0 1,1 0,-10.41A10.41,10.41 0 0,1 10.41,0Z\" style=\"opacity: 0.6; stroke-width: 1px; fill: rgb(61, 76, 137); fill-opacity: 1; stroke: rgb(255, 255, 255); stroke-opacity: 1;\" transform=\"translate(276.83,161.93)\"/><path class=\"point\" d=\"M10.05,0A10.05,10.05 0 1,1 0,-10.05A10.05,10.05 0 0,1 10.05,0Z\" style=\"opacity: 0.6; stroke-width: 1px; fill: rgb(40, 124, 142); fill-opacity: 1; stroke: rgb(255, 255, 255); stroke-opacity: 1;\" transform=\"translate(80.43,28.56)\"/><path class=\"point\" d=\"M14.1,0A14.1,14.1 0 1,1 0,-14.1A14.1,14.1 0 0,1 14.1,0Z\" style=\"opacity: 0.6; stroke-width: 1px; fill: rgb(48, 105, 141); fill-opacity: 1; stroke: rgb(255, 255, 255); stroke-opacity: 1;\" transform=\"translate(233.21,34.97)\"/><path class=\"point\" d=\"M1.21,0A1.21,1.21 0 1,1 0,-1.21A1.21,1.21 0 0,1 1.21,0Z\" style=\"opacity: 0.6; stroke-width: 1px; fill: rgb(45, 177, 125); fill-opacity: 1; stroke: rgb(255, 255, 255); stroke-opacity: 1;\" transform=\"translate(415.98,145.39)\"/><path class=\"point\" d=\"M1.84,0A1.84,1.84 0 1,1 0,-1.84A1.84,1.84 0 0,1 1.84,0Z\" style=\"opacity: 0.6; stroke-width: 1px; fill: rgb(71, 21, 103); fill-opacity: 1; stroke: rgb(255, 255, 255); stroke-opacity: 1;\" transform=\"translate(423.34,217.48)\"/><path class=\"point\" d=\"M4.1,0A4.1,4.1 0 1,1 0,-4.1A4.1,4.1 0 0,1 4.1,0Z\" style=\"opacity: 0.6; stroke-width: 1px; fill: rgb(222, 227, 27); fill-opacity: 1; stroke: rgb(255, 255, 255); stroke-opacity: 1;\" transform=\"translate(413.08,73.39)\"/><path class=\"point\" d=\"M9.61,0A9.61,9.61 0 1,1 0,-9.61A9.61,9.61 0 0,1 9.61,0Z\" style=\"opacity: 0.6; stroke-width: 1px; fill: rgb(64, 188, 114); fill-opacity: 1; stroke: rgb(255, 255, 255); stroke-opacity: 1;\" transform=\"translate(101.14,175.83)\"/><path class=\"point\" d=\"M9.12,0A9.12,9.12 0 1,1 0,-9.12A9.12,9.12 0 0,1 9.12,0Z\" style=\"opacity: 0.6; stroke-width: 1px; fill: rgb(38, 171, 130); fill-opacity: 1; stroke: rgb(255, 255, 255); stroke-opacity: 1;\" transform=\"translate(369.46,102.31)\"/><path class=\"point\" d=\"M7.06,0A7.06,7.06 0 1,1 0,-7.06A7.06,7.06 0 0,1 7.06,0Z\" style=\"opacity: 0.6; stroke-width: 1px; fill: rgb(70, 10, 93); fill-opacity: 1; stroke: rgb(255, 255, 255); stroke-opacity: 1;\" transform=\"translate(396.06,101.89)\"/><path class=\"point\" d=\"M1.77,0A1.77,1.77 0 1,1 0,-1.77A1.77,1.77 0 0,1 1.77,0Z\" style=\"opacity: 0.6; stroke-width: 1px; fill: rgb(179, 221, 45); fill-opacity: 1; stroke: rgb(255, 255, 255); stroke-opacity: 1;\" transform=\"translate(404.12,157.16)\"/><path class=\"point\" d=\"M4.96,0A4.96,4.96 0 1,1 0,-4.96A4.96,4.96 0 0,1 4.96,0Z\" style=\"opacity: 0.6; stroke-width: 1px; fill: rgb(71, 17, 99); fill-opacity: 1; stroke: rgb(255, 255, 255); stroke-opacity: 1;\" transform=\"translate(76.69,180.94)\"/><path class=\"point\" d=\"M2.63,0A2.63,2.63 0 1,1 0,-2.63A2.63,2.63 0 0,1 2.63,0Z\" style=\"opacity: 0.6; stroke-width: 1px; fill: rgb(62, 187, 116); fill-opacity: 1; stroke: rgb(255, 255, 255); stroke-opacity: 1;\" transform=\"translate(210.72,91.73)\"/><path class=\"point\" d=\"M12.19,0A12.19,12.19 0 1,1 0,-12.19A12.19,12.19 0 0,1 12.19,0Z\" style=\"opacity: 0.6; stroke-width: 1px; fill: rgb(49, 102, 141); fill-opacity: 1; stroke: rgb(255, 255, 255); stroke-opacity: 1;\" transform=\"translate(248.29,250.92)\"/><path class=\"point\" d=\"M11.71,0A11.71,11.71 0 1,1 0,-11.71A11.71,11.71 0 0,1 11.71,0Z\" style=\"opacity: 0.6; stroke-width: 1px; fill: rgb(68, 3, 85); fill-opacity: 1; stroke: rgb(255, 255, 255); stroke-opacity: 1;\" transform=\"translate(349.47,283.37)\"/><path class=\"point\" d=\"M7,0A7,7 0 1,1 0,-7A7,7 0 0,1 7,0Z\" style=\"opacity: 0.6; stroke-width: 1px; fill: rgb(69, 190, 112); fill-opacity: 1; stroke: rgb(255, 255, 255); stroke-opacity: 1;\" transform=\"translate(99,52.5)\"/><path class=\"point\" d=\"M14.76,0A14.76,14.76 0 1,1 0,-14.76A14.76,14.76 0 0,1 14.76,0Z\" style=\"opacity: 0.6; stroke-width: 1px; fill: rgb(72, 22, 105); fill-opacity: 1; stroke: rgb(255, 255, 255); stroke-opacity: 1;\" transform=\"translate(145.86,183.04)\"/><path class=\"point\" d=\"M8.57,0A8.57,8.57 0 1,1 0,-8.57A8.57,8.57 0 0,1 8.57,0Z\" style=\"opacity: 0.6; stroke-width: 1px; fill: rgb(253, 231, 37); fill-opacity: 1; stroke: rgb(255, 255, 255); stroke-opacity: 1;\" transform=\"translate(75.25,187.82)\"/><path class=\"point\" d=\"M3.31,0A3.31,3.31 0 1,1 0,-3.31A3.31,3.31 0 0,1 3.31,0Z\" style=\"opacity: 0.6; stroke-width: 1px; fill: rgb(161, 218, 56); fill-opacity: 1; stroke: rgb(255, 255, 255); stroke-opacity: 1;\" transform=\"translate(319.93,143.41)\"/><path class=\"point\" d=\"M1.91,0A1.91,1.91 0 1,1 0,-1.91A1.91,1.91 0 0,1 1.91,0Z\" style=\"opacity: 0.6; stroke-width: 1px; fill: rgb(32, 152, 138); fill-opacity: 1; stroke: rgb(255, 255, 255); stroke-opacity: 1;\" transform=\"translate(329.26,163.04)\"/><path class=\"point\" d=\"M13.32,0A13.32,13.32 0 1,1 0,-13.32A13.32,13.32 0 0,1 13.32,0Z\" style=\"opacity: 0.6; stroke-width: 1px; fill: rgb(36, 136, 141); fill-opacity: 1; stroke: rgb(255, 255, 255); stroke-opacity: 1;\" transform=\"translate(219.25,104.01)\"/><path class=\"point\" d=\"M0.5,0A0.5,0.5 0 1,1 0,-0.5A0.5,0.5 0 0,1 0.5,0Z\" style=\"opacity: 0.6; stroke-width: 1px; fill: rgb(59, 81, 139); fill-opacity: 1; stroke: rgb(255, 255, 255); stroke-opacity: 1;\" transform=\"translate(428.2,109.86)\"/><path class=\"point\" d=\"M4.96,0A4.96,4.96 0 1,1 0,-4.96A4.96,4.96 0 0,1 4.96,0Z\" style=\"opacity: 0.6; stroke-width: 1px; fill: rgb(102, 203, 93); fill-opacity: 1; stroke: rgb(255, 255, 255); stroke-opacity: 1;\" transform=\"translate(170.55,234.68)\"/><path class=\"point\" d=\"M2.9,0A2.9,2.9 0 1,1 0,-2.9A2.9,2.9 0 0,1 2.9,0Z\" style=\"opacity: 0.6; stroke-width: 1px; fill: rgb(40, 124, 142); fill-opacity: 1; stroke: rgb(255, 255, 255); stroke-opacity: 1;\" transform=\"translate(310.07,167.99)\"/><path class=\"point\" d=\"M13.91,0A13.91,13.91 0 1,1 0,-13.91A13.91,13.91 0 0,1 13.91,0Z\" style=\"opacity: 0.6; stroke-width: 1px; fill: rgb(72, 22, 104); fill-opacity: 1; stroke: rgb(255, 255, 255); stroke-opacity: 1;\" transform=\"translate(158.45,69.83)\"/><path class=\"point\" d=\"M2.26,0A2.26,2.26 0 1,1 0,-2.26A2.26,2.26 0 0,1 2.26,0Z\" style=\"opacity: 0.6; stroke-width: 1px; fill: rgb(48, 179, 124); fill-opacity: 1; stroke: rgb(255, 255, 255); stroke-opacity: 1;\" transform=\"translate(352.86,291.31)\"/><path class=\"point\" d=\"M14.95,0A14.95,14.95 0 1,1 0,-14.95A14.95,14.95 0 0,1 14.95,0Z\" style=\"opacity: 0.6; stroke-width: 1px; fill: rgb(37, 132, 142); fill-opacity: 1; stroke: rgb(255, 255, 255); stroke-opacity: 1;\" transform=\"translate(389.51,46.94)\"/><path class=\"point\" d=\"M9.27,0A9.27,9.27 0 1,1 0,-9.27A9.27,9.27 0 0,1 9.27,0Z\" style=\"opacity: 0.6; stroke-width: 1px; fill: rgb(58, 185, 118); fill-opacity: 1; stroke: rgb(255, 255, 255); stroke-opacity: 1;\" transform=\"translate(261.28,237.82)\"/><path class=\"point\" d=\"M0.29,0A0.29,0.29 0 1,1 0,-0.29A0.29,0.29 0 0,1 0.29,0Z\" style=\"opacity: 0.6; stroke-width: 1px; fill: rgb(57, 86, 139); fill-opacity: 1; stroke: rgb(255, 255, 255); stroke-opacity: 1;\" transform=\"translate(73.55,191.13)\"/><path class=\"point\" d=\"M14.79,0A14.79,14.79 0 1,1 0,-14.79A14.79,14.79 0 0,1 14.79,0Z\" style=\"opacity: 0.6; stroke-width: 1px; fill: rgb(51, 98, 141); fill-opacity: 1; stroke: rgb(255, 255, 255); stroke-opacity: 1;\" transform=\"translate(56.15,87.8)\"/><path class=\"point\" d=\"M7.01,0A7.01,7.01 0 1,1 0,-7.01A7.01,7.01 0 0,1 7.01,0Z\" style=\"opacity: 0.6; stroke-width: 1px; fill: rgb(219, 226, 26); fill-opacity: 1; stroke: rgb(255, 255, 255); stroke-opacity: 1;\" transform=\"translate(78.29,295.24)\"/><path class=\"point\" d=\"M9.22,0A9.22,9.22 0 1,1 0,-9.22A9.22,9.22 0 0,1 9.22,0Z\" style=\"opacity: 0.6; stroke-width: 1px; fill: rgb(69, 52, 127); fill-opacity: 1; stroke: rgb(255, 255, 255); stroke-opacity: 1;\" transform=\"translate(335.39,182.21)\"/><path class=\"point\" d=\"M10.52,0A10.52,10.52 0 1,1 0,-10.52A10.52,10.52 0 0,1 10.52,0Z\" style=\"opacity: 0.6; stroke-width: 1px; fill: rgb(207, 225, 30); fill-opacity: 1; stroke: rgb(255, 255, 255); stroke-opacity: 1;\" transform=\"translate(208.65,238.04)\"/><path class=\"point\" d=\"M2.84,0A2.84,2.84 0 1,1 0,-2.84A2.84,2.84 0 0,1 2.84,0Z\" style=\"opacity: 0.6; stroke-width: 1px; fill: rgb(71, 35, 115); fill-opacity: 1; stroke: rgb(255, 255, 255); stroke-opacity: 1;\" transform=\"translate(459.71,159.02)\"/><path class=\"point\" d=\"M12.82,0A12.82,12.82 0 1,1 0,-12.82A12.82,12.82 0 0,1 12.82,0Z\" style=\"opacity: 0.6; stroke-width: 1px; fill: rgb(33, 145, 140); fill-opacity: 1; stroke: rgb(255, 255, 255); stroke-opacity: 1;\" transform=\"translate(160.86,117.31)\"/><path class=\"point\" d=\"M14.26,0A14.26,14.26 0 1,1 0,-14.26A14.26,14.26 0 0,1 14.26,0Z\" style=\"opacity: 0.6; stroke-width: 1px; fill: rgb(62, 187, 116); fill-opacity: 1; stroke: rgb(255, 255, 255); stroke-opacity: 1;\" transform=\"translate(355.82,283.87)\"/><path class=\"point\" d=\"M7.82,0A7.82,7.82 0 1,1 0,-7.82A7.82,7.82 0 0,1 7.82,0Z\" style=\"opacity: 0.6; stroke-width: 1px; fill: rgb(37, 133, 142); fill-opacity: 1; stroke: rgb(255, 255, 255); stroke-opacity: 1;\" transform=\"translate(173.61,95.47)\"/><path class=\"point\" d=\"M6.67,0A6.67,6.67 0 1,1 0,-6.67A6.67,6.67 0 0,1 6.67,0Z\" style=\"opacity: 0.6; stroke-width: 1px; fill: rgb(59, 82, 139); fill-opacity: 1; stroke: rgb(255, 255, 255); stroke-opacity: 1;\" transform=\"translate(408.53,238.99)\"/><path class=\"point\" d=\"M14.82,0A14.82,14.82 0 1,1 0,-14.82A14.82,14.82 0 0,1 14.82,0Z\" style=\"opacity: 0.6; stroke-width: 1px; fill: rgb(43, 176, 127); fill-opacity: 1; stroke: rgb(255, 255, 255); stroke-opacity: 1;\" transform=\"translate(45.52,63.99)\"/><path class=\"point\" d=\"M3.17,0A3.17,3.17 0 1,1 0,-3.17A3.17,3.17 0 0,1 3.17,0Z\" style=\"opacity: 0.6; stroke-width: 1px; fill: rgb(70, 10, 93); fill-opacity: 1; stroke: rgb(255, 255, 255); stroke-opacity: 1;\" transform=\"translate(156.46,263.94)\"/><path class=\"point\" d=\"M9.95,0A9.95,9.95 0 1,1 0,-9.95A9.95,9.95 0 0,1 9.95,0Z\" style=\"opacity: 0.6; stroke-width: 1px; fill: rgb(227, 227, 28); fill-opacity: 1; stroke: rgb(255, 255, 255); stroke-opacity: 1;\" transform=\"translate(224.68,217.37)\"/><path class=\"point\" d=\"M1.12,0A1.12,1.12 0 1,1 0,-1.12A1.12,1.12 0 0,1 1.12,0Z\" style=\"opacity: 0.6; stroke-width: 1px; fill: rgb(251, 231, 36); fill-opacity: 1; stroke: rgb(255, 255, 255); stroke-opacity: 1;\" transform=\"translate(380.01,194.19)\"/><path class=\"point\" d=\"M5.38,0A5.38,5.38 0 1,1 0,-5.38A5.38,5.38 0 0,1 5.38,0Z\" style=\"opacity: 0.6; stroke-width: 1px; fill: rgb(46, 178, 124); fill-opacity: 1; stroke: rgb(255, 255, 255); stroke-opacity: 1;\" transform=\"translate(415.23,77.92)\"/><path class=\"point\" d=\"M7.07,0A7.07,7.07 0 1,1 0,-7.07A7.07,7.07 0 0,1 7.07,0Z\" style=\"opacity: 0.6; stroke-width: 1px; fill: rgb(91, 200, 100); fill-opacity: 1; stroke: rgb(255, 255, 255); stroke-opacity: 1;\" transform=\"translate(457.98,124.93)\"/><path class=\"point\" d=\"M14.55,0A14.55,14.55 0 1,1 0,-14.55A14.55,14.55 0 0,1 14.55,0Z\" style=\"opacity: 0.6; stroke-width: 1px; fill: rgb(41, 122, 142); fill-opacity: 1; stroke: rgb(255, 255, 255); stroke-opacity: 1;\" transform=\"translate(409.83,68.1)\"/><path class=\"point\" d=\"M12.86,0A12.86,12.86 0 1,1 0,-12.86A12.86,12.86 0 0,1 12.86,0Z\" style=\"opacity: 0.6; stroke-width: 1px; fill: rgb(224, 227, 28); fill-opacity: 1; stroke: rgb(255, 255, 255); stroke-opacity: 1;\" transform=\"translate(459.61,178.86)\"/><path class=\"point\" d=\"M5.76,0A5.76,5.76 0 1,1 0,-5.76A5.76,5.76 0 0,1 5.76,0Z\" style=\"opacity: 0.6; stroke-width: 1px; fill: rgb(37, 133, 142); fill-opacity: 1; stroke: rgb(255, 255, 255); stroke-opacity: 1;\" transform=\"translate(330.85,231.65)\"/><path class=\"point\" d=\"M4.75,0A4.75,4.75 0 1,1 0,-4.75A4.75,4.75 0 0,1 4.75,0Z\" style=\"opacity: 0.6; stroke-width: 1px; fill: rgb(72, 34, 114); fill-opacity: 1; stroke: rgb(255, 255, 255); stroke-opacity: 1;\" transform=\"translate(213.02,100.98)\"/><path class=\"point\" d=\"M7.5,0A7.5,7.5 0 1,1 0,-7.5A7.5,7.5 0 0,1 7.5,0Z\" style=\"opacity: 0.6; stroke-width: 1px; fill: rgb(31, 160, 136); fill-opacity: 1; stroke: rgb(255, 255, 255); stroke-opacity: 1;\" transform=\"translate(94.64,36.92)\"/><path class=\"point\" d=\"M9.37,0A9.37,9.37 0 1,1 0,-9.37A9.37,9.37 0 0,1 9.37,0Z\" style=\"opacity: 0.6; stroke-width: 1px; fill: rgb(240, 229, 33); fill-opacity: 1; stroke: rgb(255, 255, 255); stroke-opacity: 1;\" transform=\"translate(284.27,239.12)\"/><path class=\"point\" d=\"M5.92,0A5.92,5.92 0 1,1 0,-5.92A5.92,5.92 0 0,1 5.92,0Z\" style=\"opacity: 0.6; stroke-width: 1px; fill: rgb(52, 98, 141); fill-opacity: 1; stroke: rgb(255, 255, 255); stroke-opacity: 1;\" transform=\"translate(367.3,210.4)\"/><path class=\"point\" d=\"M3.31,0A3.31,3.31 0 1,1 0,-3.31A3.31,3.31 0 0,1 3.31,0Z\" style=\"opacity: 0.6; stroke-width: 1px; fill: rgb(70, 10, 92); fill-opacity: 1; stroke: rgb(255, 255, 255); stroke-opacity: 1;\" transform=\"translate(423.28,267.08)\"/><path class=\"point\" d=\"M10.56,0A10.56,10.56 0 1,1 0,-10.56A10.56,10.56 0 0,1 10.56,0Z\" style=\"opacity: 0.6; stroke-width: 1px; fill: rgb(69, 51, 127); fill-opacity: 1; stroke: rgb(255, 255, 255); stroke-opacity: 1;\" transform=\"translate(270.85,72.94)\"/><path class=\"point\" d=\"M1.51,0A1.51,1.51 0 1,1 0,-1.51A1.51,1.51 0 0,1 1.51,0Z\" style=\"opacity: 0.6; stroke-width: 1px; fill: rgb(45, 112, 142); fill-opacity: 1; stroke: rgb(255, 255, 255); stroke-opacity: 1;\" transform=\"translate(451.68,42.2)\"/><path class=\"point\" d=\"M9.06,0A9.06,9.06 0 1,1 0,-9.06A9.06,9.06 0 0,1 9.06,0Z\" style=\"opacity: 0.6; stroke-width: 1px; fill: rgb(211, 225, 28); fill-opacity: 1; stroke: rgb(255, 255, 255); stroke-opacity: 1;\" transform=\"translate(238.01,45.12)\"/><path class=\"point\" d=\"M1.43,0A1.43,1.43 0 1,1 0,-1.43A1.43,1.43 0 0,1 1.43,0Z\" style=\"opacity: 0.6; stroke-width: 1px; fill: rgb(57, 86, 139); fill-opacity: 1; stroke: rgb(255, 255, 255); stroke-opacity: 1;\" transform=\"translate(384.06,273.52)\"/><path class=\"point\" d=\"M14.04,0A14.04,14.04 0 1,1 0,-14.04A14.04,14.04 0 0,1 14.04,0Z\" style=\"opacity: 0.6; stroke-width: 1px; fill: rgb(215, 226, 25); fill-opacity: 1; stroke: rgb(255, 255, 255); stroke-opacity: 1;\" transform=\"translate(366.29,205.51)\"/><path class=\"point\" d=\"M10.73,0A10.73,10.73 0 1,1 0,-10.73A10.73,10.73 0 0,1 10.73,0Z\" style=\"opacity: 0.6; stroke-width: 1px; fill: rgb(72, 33, 114); fill-opacity: 1; stroke: rgb(255, 255, 255); stroke-opacity: 1;\" transform=\"translate(475.97,143.94)\"/><path class=\"point\" d=\"M2.45,0A2.45,2.45 0 1,1 0,-2.45A2.45,2.45 0 0,1 2.45,0Z\" style=\"opacity: 0.6; stroke-width: 1px; fill: rgb(59, 185, 117); fill-opacity: 1; stroke: rgb(255, 255, 255); stroke-opacity: 1;\" transform=\"translate(166.21,245.49)\"/><path class=\"point\" d=\"M14.84,0A14.84,14.84 0 1,1 0,-14.84A14.84,14.84 0 0,1 14.84,0Z\" style=\"opacity: 0.6; stroke-width: 1px; fill: rgb(207, 225, 30); fill-opacity: 1; stroke: rgb(255, 255, 255); stroke-opacity: 1;\" transform=\"translate(374.44,182.88)\"/><path class=\"point\" d=\"M2.99,0A2.99,2.99 0 1,1 0,-2.99A2.99,2.99 0 0,1 2.99,0Z\" style=\"opacity: 0.6; stroke-width: 1px; fill: rgb(218, 226, 26); fill-opacity: 1; stroke: rgb(255, 255, 255); stroke-opacity: 1;\" transform=\"translate(108.18,48.98)\"/><path class=\"point\" d=\"M0.57,0A0.57,0.57 0 1,1 0,-0.57A0.57,0.57 0 0,1 0.57,0Z\" style=\"opacity: 0.6; stroke-width: 1px; fill: rgb(45, 113, 142); fill-opacity: 1; stroke: rgb(255, 255, 255); stroke-opacity: 1;\" transform=\"translate(159.52,184.19)\"/><path class=\"point\" d=\"M8.18,0A8.18,8.18 0 1,1 0,-8.18A8.18,8.18 0 0,1 8.18,0Z\" style=\"opacity: 0.6; stroke-width: 1px; fill: rgb(149, 215, 64); fill-opacity: 1; stroke: rgb(255, 255, 255); stroke-opacity: 1;\" transform=\"translate(360.44,104.73)\"/><path class=\"point\" d=\"M2.11,0A2.11,2.11 0 1,1 0,-2.11A2.11,2.11 0 0,1 2.11,0Z\" style=\"opacity: 0.6; stroke-width: 1px; fill: rgb(60, 80, 138); fill-opacity: 1; stroke: rgb(255, 255, 255); stroke-opacity: 1;\" transform=\"translate(300.85,96.68)\"/><path class=\"point\" d=\"M8.72,0A8.72,8.72 0 1,1 0,-8.72A8.72,8.72 0 0,1 8.72,0Z\" style=\"opacity: 0.6; stroke-width: 1px; fill: rgb(183, 221, 43); fill-opacity: 1; stroke: rgb(255, 255, 255); stroke-opacity: 1;\" transform=\"translate(397.58,104.52)\"/><path class=\"point\" d=\"M5.46,0A5.46,5.46 0 1,1 0,-5.46A5.46,5.46 0 0,1 5.46,0Z\" style=\"opacity: 0.6; stroke-width: 1px; fill: rgb(39, 172, 129); fill-opacity: 1; stroke: rgb(255, 255, 255); stroke-opacity: 1;\" transform=\"translate(71.04,62.22)\"/><path class=\"point\" d=\"M6.05,0A6.05,6.05 0 1,1 0,-6.05A6.05,6.05 0 0,1 6.05,0Z\" style=\"opacity: 0.6; stroke-width: 1px; fill: rgb(35, 167, 132); fill-opacity: 1; stroke: rgb(255, 255, 255); stroke-opacity: 1;\" transform=\"translate(362.15,252.69)\"/><path class=\"point\" d=\"M14.23,0A14.23,14.23 0 1,1 0,-14.23A14.23,14.23 0 0,1 14.23,0Z\" style=\"opacity: 0.6; stroke-width: 1px; fill: rgb(34, 141, 141); fill-opacity: 1; stroke: rgb(255, 255, 255); stroke-opacity: 1;\" transform=\"translate(322.62,78.65)\"/><path class=\"point\" d=\"M14.37,0A14.37,14.37 0 1,1 0,-14.37A14.37,14.37 0 0,1 14.37,0Z\" style=\"opacity: 0.6; stroke-width: 1px; fill: rgb(47, 108, 142); fill-opacity: 1; stroke: rgb(255, 255, 255); stroke-opacity: 1;\" transform=\"translate(455.55,47.85)\"/><path class=\"point\" d=\"M9.9,0A9.9,9.9 0 1,1 0,-9.9A9.9,9.9 0 0,1 9.9,0Z\" style=\"opacity: 0.6; stroke-width: 1px; fill: rgb(33, 147, 139); fill-opacity: 1; stroke: rgb(255, 255, 255); stroke-opacity: 1;\" transform=\"translate(48.24,257.69)\"/><path class=\"point\" d=\"M9.9,0A9.9,9.9 0 1,1 0,-9.9A9.9,9.9 0 0,1 9.9,0Z\" style=\"opacity: 0.6; stroke-width: 1px; fill: rgb(37, 134, 141); fill-opacity: 1; stroke: rgb(255, 255, 255); stroke-opacity: 1;\" transform=\"translate(194.5,115.45)\"/><path class=\"point\" d=\"M11.38,0A11.38,11.38 0 1,1 0,-11.38A11.38,11.38 0 0,1 11.38,0Z\" style=\"opacity: 0.6; stroke-width: 1px; fill: rgb(69, 9, 91); fill-opacity: 1; stroke: rgb(255, 255, 255); stroke-opacity: 1;\" transform=\"translate(268.12,285.94)\"/><path class=\"point\" d=\"M1.73,0A1.73,1.73 0 1,1 0,-1.73A1.73,1.73 0 0,1 1.73,0Z\" style=\"opacity: 0.6; stroke-width: 1px; fill: rgb(112, 206, 87); fill-opacity: 1; stroke: rgb(255, 255, 255); stroke-opacity: 1;\" transform=\"translate(260.3,91.01)\"/><path class=\"point\" d=\"M1.92,0A1.92,1.92 0 1,1 0,-1.92A1.92,1.92 0 0,1 1.92,0Z\" style=\"opacity: 0.6; stroke-width: 1px; fill: rgb(34, 165, 133); fill-opacity: 1; stroke: rgb(255, 255, 255); stroke-opacity: 1;\" transform=\"translate(143.42,204.29)\"/><path class=\"point\" d=\"M4.32,0A4.32,4.32 0 1,1 0,-4.32A4.32,4.32 0 0,1 4.32,0Z\" style=\"opacity: 0.6; stroke-width: 1px; fill: rgb(37, 133, 142); fill-opacity: 1; stroke: rgb(255, 255, 255); stroke-opacity: 1;\" transform=\"translate(322.71,243.29)\"/><path class=\"point\" d=\"M9.38,0A9.38,9.38 0 1,1 0,-9.38A9.38,9.38 0 0,1 9.38,0Z\" style=\"opacity: 0.6; stroke-width: 1px; fill: rgb(231, 228, 30); fill-opacity: 1; stroke: rgb(255, 255, 255); stroke-opacity: 1;\" transform=\"translate(293.22,122.89)\"/><path class=\"point\" d=\"M0.02,0A0.02,0.02 0 1,1 0,-0.02A0.02,0.02 0 0,1 0.02,0Z\" style=\"opacity: 0.6; stroke-width: 1px; fill: rgb(60, 79, 138); fill-opacity: 1; stroke: rgb(255, 255, 255); stroke-opacity: 1;\" transform=\"translate(383.64,190.19)\"/><path class=\"point\" d=\"M9.32,0A9.32,9.32 0 1,1 0,-9.32A9.32,9.32 0 0,1 9.32,0Z\" style=\"opacity: 0.6; stroke-width: 1px; fill: rgb(56, 88, 140); fill-opacity: 1; stroke: rgb(255, 255, 255); stroke-opacity: 1;\" transform=\"translate(174.57,133.5)\"/><path class=\"point\" d=\"M11.96,0A11.96,11.96 0 1,1 0,-11.96A11.96,11.96 0 0,1 11.96,0Z\" style=\"opacity: 0.6; stroke-width: 1px; fill: rgb(37, 169, 131); fill-opacity: 1; stroke: rgb(255, 255, 255); stroke-opacity: 1;\" transform=\"translate(109.75,284.65)\"/><path class=\"point\" d=\"M11.04,0A11.04,11.04 0 1,1 0,-11.04A11.04,11.04 0 0,1 11.04,0Z\" style=\"opacity: 0.6; stroke-width: 1px; fill: rgb(170, 219, 50); fill-opacity: 1; stroke: rgb(255, 255, 255); stroke-opacity: 1;\" transform=\"translate(202.24,225.12)\"/><path class=\"point\" d=\"M2.27,0A2.27,2.27 0 1,1 0,-2.27A2.27,2.27 0 0,1 2.27,0Z\" style=\"opacity: 0.6; stroke-width: 1px; fill: rgb(54, 92, 140); fill-opacity: 1; stroke: rgb(255, 255, 255); stroke-opacity: 1;\" transform=\"translate(138.27,172.27)\"/><path class=\"point\" d=\"M10.84,0A10.84,10.84 0 1,1 0,-10.84A10.84,10.84 0 0,1 10.84,0Z\" style=\"opacity: 0.6; stroke-width: 1px; fill: rgb(69, 6, 89); fill-opacity: 1; stroke: rgb(255, 255, 255); stroke-opacity: 1;\" transform=\"translate(257.61,158.25)\"/><path class=\"point\" d=\"M3.58,0A3.58,3.58 0 1,1 0,-3.58A3.58,3.58 0 0,1 3.58,0Z\" style=\"opacity: 0.6; stroke-width: 1px; fill: rgb(47, 108, 142); fill-opacity: 1; stroke: rgb(255, 255, 255); stroke-opacity: 1;\" transform=\"translate(397.81,291.58)\"/><path class=\"point\" d=\"M3.35,0A3.35,3.35 0 1,1 0,-3.35A3.35,3.35 0 0,1 3.35,0Z\" style=\"opacity: 0.6; stroke-width: 1px; fill: rgb(59, 83, 139); fill-opacity: 1; stroke: rgb(255, 255, 255); stroke-opacity: 1;\" transform=\"translate(85.77,262.79)\"/><path class=\"point\" d=\"M10.11,0A10.11,10.11 0 1,1 0,-10.11A10.11,10.11 0 0,1 10.11,0Z\" style=\"opacity: 0.6; stroke-width: 1px; fill: rgb(238, 229, 32); fill-opacity: 1; stroke: rgb(255, 255, 255); stroke-opacity: 1;\" transform=\"translate(453.51,236.32)\"/><path class=\"point\" d=\"M9.02,0A9.02,9.02 0 1,1 0,-9.02A9.02,9.02 0 0,1 9.02,0Z\" style=\"opacity: 0.6; stroke-width: 1px; fill: rgb(67, 61, 132); fill-opacity: 1; stroke: rgb(255, 255, 255); stroke-opacity: 1;\" transform=\"translate(496.29,81.4)\"/><path class=\"point\" d=\"M9.21,0A9.21,9.21 0 1,1 0,-9.21A9.21,9.21 0 0,1 9.21,0Z\" style=\"opacity: 0.6; stroke-width: 1px; fill: rgb(194, 223, 37); fill-opacity: 1; stroke: rgb(255, 255, 255); stroke-opacity: 1;\" transform=\"translate(501.48,150.59)\"/><path class=\"point\" d=\"M3.59,0A3.59,3.59 0 1,1 0,-3.59A3.59,3.59 0 0,1 3.59,0Z\" style=\"opacity: 0.6; stroke-width: 1px; fill: rgb(173, 220, 48); fill-opacity: 1; stroke: rgb(255, 255, 255); stroke-opacity: 1;\" transform=\"translate(140.63,223.16)\"/><path class=\"point\" d=\"M6.89,0A6.89,6.89 0 1,1 0,-6.89A6.89,6.89 0 0,1 6.89,0Z\" style=\"opacity: 0.6; stroke-width: 1px; fill: rgb(39, 172, 129); fill-opacity: 1; stroke: rgb(255, 255, 255); stroke-opacity: 1;\" transform=\"translate(242.17,122.36)\"/><path class=\"point\" d=\"M3.02,0A3.02,3.02 0 1,1 0,-3.02A3.02,3.02 0 0,1 3.02,0Z\" style=\"opacity: 0.6; stroke-width: 1px; fill: rgb(43, 117, 142); fill-opacity: 1; stroke: rgb(255, 255, 255); stroke-opacity: 1;\" transform=\"translate(119.38,122.74)\"/><path class=\"point\" d=\"M2.03,0A2.03,2.03 0 1,1 0,-2.03A2.03,2.03 0 0,1 2.03,0Z\" style=\"opacity: 0.6; stroke-width: 1px; fill: rgb(213, 226, 26); fill-opacity: 1; stroke: rgb(255, 255, 255); stroke-opacity: 1;\" transform=\"translate(404.22,153.82)\"/><path class=\"point\" d=\"M2.67,0A2.67,2.67 0 1,1 0,-2.67A2.67,2.67 0 0,1 2.67,0Z\" style=\"opacity: 0.6; stroke-width: 1px; fill: rgb(68, 1, 84); fill-opacity: 1; stroke: rgb(255, 255, 255); stroke-opacity: 1;\" transform=\"translate(256.95,284.95)\"/><path class=\"point\" d=\"M14.97,0A14.97,14.97 0 1,1 0,-14.97A14.97,14.97 0 0,1 14.97,0Z\" style=\"opacity: 0.6; stroke-width: 1px; fill: rgb(56, 89, 140); fill-opacity: 1; stroke: rgb(255, 255, 255); stroke-opacity: 1;\" transform=\"translate(281.84,65.14)\"/><path class=\"point\" d=\"M7.32,0A7.32,7.32 0 1,1 0,-7.32A7.32,7.32 0 0,1 7.32,0Z\" style=\"opacity: 0.6; stroke-width: 1px; fill: rgb(49, 104, 141); fill-opacity: 1; stroke: rgb(255, 255, 255); stroke-opacity: 1;\" transform=\"translate(108.94,283.18)\"/><path class=\"point\" d=\"M14.84,0A14.84,14.84 0 1,1 0,-14.84A14.84,14.84 0 0,1 14.84,0Z\" style=\"opacity: 0.6; stroke-width: 1px; fill: rgb(70, 191, 111); fill-opacity: 1; stroke: rgb(255, 255, 255); stroke-opacity: 1;\" transform=\"translate(295.64,148.97)\"/><path class=\"point\" d=\"M9.76,0A9.76,9.76 0 1,1 0,-9.76A9.76,9.76 0 0,1 9.76,0Z\" style=\"opacity: 0.6; stroke-width: 1px; fill: rgb(62, 74, 137); fill-opacity: 1; stroke: rgb(255, 255, 255); stroke-opacity: 1;\" transform=\"translate(254.03,30.51)\"/><path class=\"point\" d=\"M1.21,0A1.21,1.21 0 1,1 0,-1.21A1.21,1.21 0 0,1 1.21,0Z\" style=\"opacity: 0.6; stroke-width: 1px; fill: rgb(238, 229, 32); fill-opacity: 1; stroke: rgb(255, 255, 255); stroke-opacity: 1;\" transform=\"translate(288.16,231.7)\"/><path class=\"point\" d=\"M14.93,0A14.93,14.93 0 1,1 0,-14.93A14.93,14.93 0 0,1 14.93,0Z\" style=\"opacity: 0.6; stroke-width: 1px; fill: rgb(33, 164, 134); fill-opacity: 1; stroke: rgb(255, 255, 255); stroke-opacity: 1;\" transform=\"translate(124.85,69.93)\"/><path class=\"point\" d=\"M9.39,0A9.39,9.39 0 1,1 0,-9.39A9.39,9.39 0 0,1 9.39,0Z\" style=\"opacity: 0.6; stroke-width: 1px; fill: rgb(35, 139, 141); fill-opacity: 1; stroke: rgb(255, 255, 255); stroke-opacity: 1;\" transform=\"translate(465.73,222.68)\"/><path class=\"point\" d=\"M10.2,0A10.2,10.2 0 1,1 0,-10.2A10.2,10.2 0 0,1 10.2,0Z\" style=\"opacity: 0.6; stroke-width: 1px; fill: rgb(89, 199, 101); fill-opacity: 1; stroke: rgb(255, 255, 255); stroke-opacity: 1;\" transform=\"translate(420.67,168.25)\"/></g></g></g></g><g class=\"overplot\"/><path class=\"xlines-above crisp\" d=\"M0,0\" style=\"fill: none;\"/><path class=\"ylines-above crisp\" d=\"M0,0\" style=\"fill: none;\"/><g class=\"overlines-above\"/><g class=\"xaxislayer-above\"><g class=\"xtick\"><text style=\"font-family: 'Open Sans', verdana, arial, sans-serif; font-size: 12px; fill: rgb(68, 68, 68); fill-opacity: 1; white-space: pre;\" text-anchor=\"middle\" transform=\"translate(112.82,0)\" x=\"0\" y=\"433\">0</text></g><g class=\"xtick\"><text style=\"font-family: 'Open Sans', verdana, arial, sans-serif; font-size: 12px; fill: rgb(68, 68, 68); fill-opacity: 1; white-space: pre;\" text-anchor=\"middle\" transform=\"translate(206.56,0)\" x=\"0\" y=\"433\">0.2</text></g><g class=\"xtick\"><text style=\"font-family: 'Open Sans', verdana, arial, sans-serif; font-size: 12px; fill: rgb(68, 68, 68); fill-opacity: 1; white-space: pre;\" text-anchor=\"middle\" transform=\"translate(300.3,0)\" x=\"0\" y=\"433\">0.4</text></g><g class=\"xtick\"><text style=\"font-family: 'Open Sans', verdana, arial, sans-serif; font-size: 12px; fill: rgb(68, 68, 68); fill-opacity: 1; white-space: pre;\" text-anchor=\"middle\" transform=\"translate(394.04,0)\" x=\"0\" y=\"433\">0.6</text></g><g class=\"xtick\"><text style=\"font-family: 'Open Sans', verdana, arial, sans-serif; font-size: 12px; fill: rgb(68, 68, 68); fill-opacity: 1; white-space: pre;\" text-anchor=\"middle\" transform=\"translate(487.78,0)\" x=\"0\" y=\"433\">0.8</text></g><g class=\"xtick\"><text style=\"font-family: 'Open Sans', verdana, arial, sans-serif; font-size: 12px; fill: rgb(68, 68, 68); fill-opacity: 1; white-space: pre;\" text-anchor=\"middle\" transform=\"translate(581.52,0)\" x=\"0\" y=\"433\">1</text></g></g><g class=\"yaxislayer-above\"><g class=\"ytick\"><text style=\"font-family: 'Open Sans', verdana, arial, sans-serif; font-size: 12px; fill: rgb(68, 68, 68); fill-opacity: 1; white-space: pre;\" text-anchor=\"end\" transform=\"translate(0,399.77)\" x=\"79\" y=\"4.199999999999999\">0</text></g><g class=\"ytick\"><text style=\"font-family: 'Open Sans', verdana, arial, sans-serif; font-size: 12px; fill: rgb(68, 68, 68); fill-opacity: 1; white-space: pre;\" text-anchor=\"end\" transform=\"translate(0,345.01)\" x=\"79\" y=\"4.199999999999999\">0.2</text></g><g class=\"ytick\"><text style=\"font-family: 'Open Sans', verdana, arial, sans-serif; font-size: 12px; fill: rgb(68, 68, 68); fill-opacity: 1; white-space: pre;\" text-anchor=\"end\" transform=\"translate(0,290.26)\" x=\"79\" y=\"4.199999999999999\">0.4</text></g><g class=\"ytick\"><text style=\"font-family: 'Open Sans', verdana, arial, sans-serif; font-size: 12px; fill: rgb(68, 68, 68); fill-opacity: 1; white-space: pre;\" text-anchor=\"end\" transform=\"translate(0,235.5)\" x=\"79\" y=\"4.199999999999999\">0.6</text></g><g class=\"ytick\"><text style=\"font-family: 'Open Sans', verdana, arial, sans-serif; font-size: 12px; fill: rgb(68, 68, 68); fill-opacity: 1; white-space: pre;\" text-anchor=\"end\" transform=\"translate(0,180.75)\" x=\"79\" y=\"4.199999999999999\">0.8</text></g><g class=\"ytick\"><text style=\"font-family: 'Open Sans', verdana, arial, sans-serif; font-size: 12px; fill: rgb(68, 68, 68); fill-opacity: 1; white-space: pre;\" text-anchor=\"end\" transform=\"translate(0,125.99)\" x=\"79\" y=\"4.199999999999999\">1</text></g></g><g class=\"overaxes-above\"/></g></g><g class=\"polarlayer\"/><g class=\"ternarylayer\"/><g class=\"geolayer\"/><g class=\"pielayer\"/><g class=\"glimages\"/><defs id=\"topdefs-debc35\"><g class=\"clips\"/></defs><g class=\"layer-above\"><g class=\"imagelayer\"/><g class=\"shapelayer\"/></g><g class=\"infolayer\"><g class=\"g-gtitle\"/><g class=\"g-xtitle\"/><g class=\"g-ytitle\"/></g></svg>"
      ],
      "text/plain": [
       "<IPython.core.display.SVG object>"
      ]
     },
     "metadata": {},
     "output_type": "display_data"
    }
   ],
   "source": [
    "img_bytes = pio.to_image(fig, format='svg')\n",
    "display(SVG(img_bytes))"
   ]
  },
  {
   "cell_type": "code",
   "execution_count": 9,
   "metadata": {},
   "outputs": [
    {
     "data": {
      "text/plain": [
       "orca status\n",
       "-----------\n",
       "    state: running\n",
       "    executable: /anaconda3/envs/plotly_conda37/bin/orca\n",
       "    version: 1.1.0\n",
       "    port: 54863\n",
       "    pid: 43986\n",
       "    command: ['/anaconda3/envs/plotly_conda37/bin/orca', 'serve', '-p', '54863', '--plotly', '/anaconda3/envs/plotly_conda37/lib/python3.7/site-packages/plotly/package_data/plotly.min.js', '--graph-only', '--mathjax', 'https://cdnjs.cloudflare.com/ajax/libs/mathjax/2.7.5/MathJax.js']\n",
       "    "
      ]
     },
     "execution_count": 9,
     "metadata": {},
     "output_type": "execute_result"
    }
   ],
   "source": [
    "pio.orca.status"
   ]
  },
  {
   "cell_type": "markdown",
   "metadata": {},
   "source": [
    "### Configuring the executable\n",
    "By default, plotly.py searches the `PATH` for an executable named `orca` and checks that it is a valid plotly orca executable. If plotly.py is unable to find the executable, you'll get an error message that looks something like this:\n",
    "\n",
    "```\n",
    "----------------------------------------------------------------------------\n",
    "ValueError: \n",
    "The orca executable is required in order to export figures as static images,\n",
    "but it could not be found on the system path.\n",
    "\n",
    "Searched for executable 'orca' on the following path:\n",
    "    /anaconda3/envs/plotly_dev/bin\n",
    "    /usr/local/bin\n",
    "    /usr/bin\n",
    "    /bin\n",
    "    /usr/sbin\n",
    "    /sbin\n",
    "    /Library/TeX/texbin\n",
    "\n",
    "If you haven't installed orca yet, you can do so using conda as follows:\n",
    "\n",
    "    $ conda install -c plotly plotly-orca\n",
    "\n",
    "Alternatively, see other installation methods in the orca project README at\n",
    "https://github.com/plotly/orca.\n",
    "\n",
    "After installation is complete, no further configuration should be needed. \n",
    "\n",
    "If you have installed orca, then for some reason plotly.py was unable to\n",
    "locate it. In this case, set the `plotly.io.orca.config.executable`\n",
    "property to the full path to your orca executable. For example:\n",
    "\n",
    "    >>> plotly.io.orca.config.executable = '/path/to/orca'\n",
    "\n",
    "After updating this executable property, try the export operation again.\n",
    "If it is successful then you may want to save this configuration so that it\n",
    "will be applied automatically in future sessions. You can do this as follows:\n",
    "\n",
    "    >>> plotly.io.orca.config.save() \n",
    "\n",
    "If you're still having trouble, feel free to ask for help on the forums at\n",
    "https://community.plot.ly/c/api/python\n",
    "----------------------------------------------------------------------------\n",
    "```\n",
    "If this happens, follow the instructions in the error message and specify the full path to you orca executable using the `plotly.io.orca.config.executable` configuration property."
   ]
  },
  {
   "cell_type": "markdown",
   "metadata": {},
   "source": [
    "### Other configuration settings\n",
    "In addition to the `executable` property, the `plotly.io.orca.config` object can also be used to configure the following options:\n",
    "\n",
    " - **`port`**: The specific port to use to communicate with the orca server, or `None` if the port is to be chosen automatically.\n",
    " - **`timeout`**: The number of seconds of inactivity required before the orca server is shut down. For example, if timeout is set to 20, then the orca server will shutdown once is has not been used for at least 20 seconds. If timeout is set to `None` (the defualt), then the server will not be automatically shut down due to inactivity.\n",
    " - **`default_width`**: The default pixel width to use on image export.\n",
    " - **`default_height`**: The default pixel height to use on image export.\n",
    " - **`default_scale`**: The default image scale facor applied on image export.\n",
    " - **`default_format`**: The default image format used on export. One of `'png'`, `'jpeg'`, `'webp'`, `'svg'`, `'pdf'`, or `'eps'`.\n",
    " - **`mathjax`**: Location of the MathJax bundle needed to render LaTeX characters. Defaults to a CDN location. If fully offline export is required, set this to a local MathJax bundle.\n",
    " - **`topojson`**: Location of the topojson files needed to render choropleth traces. Defaults to a CDN location. If fully offline export is required, set this to a local directory containing the [Plotly.js topojson files](https://github.com/plotly/plotly.js/tree/master/dist/topojson).\n",
    " - **`mapbox_access_token`**: Mapbox access token required to render `scattermapbox` traces."
   ]
  },
  {
   "cell_type": "markdown",
   "metadata": {},
   "source": [
    "### Saving configuration settings\n",
    "Configuration options can optionally be saved to the `~/.plotly/` directory by calling the `plotly.io.config.save()` method.  Saved setting will be automatically loaded at the start of future sessions."
   ]
  },
  {
   "cell_type": "code",
   "execution_count": null,
   "metadata": {},
   "outputs": [],
   "source": []
  }
 ],
 "metadata": {
  "kernelspec": {
   "display_name": "Python 3",
   "language": "python",
   "name": "python3"
  },
  "language_info": {
   "codemirror_mode": {
    "name": "ipython",
    "version": 3
   },
   "file_extension": ".py",
   "mimetype": "text/x-python",
   "name": "python",
   "nbconvert_exporter": "python",
   "pygments_lexer": "ipython3",
   "version": "3.7.0"
  },
  "widgets": {
   "application/vnd.jupyter.widget-state+json": {
    "state": {
     "2dfa24efbd9548a4b9c1354f12ebfb04": {
      "buffers": [
       {
        "data": "wLkjfB76xT8k8ZUDHzznP9KxiFFTyew/HgvHWYJA7z978q7IhG3qP7ACfwm5S78/rhN/O1pT2j94Ry9/v1bEP5xUNQ8fhM8/VOz84ZRvxz/YcIID1iDHP0B1dqTUG6g/pjlqnTs14j8aeGP1LdDrPxpUN71+qeY/m9G4lppJ6z/9+e/ZV5XqP1BFfrqfbac/i7o81i/n4z8E6dlz+JLTP36smS0fI+Q/gJgyGMd+tT/GpiVbb5LUPzZ98bI929s/s2aLsIRk6D8APh4YQGTQP4i8xgnCgMs/A3rK+SnM6j/UxiEGG4XpPyxb8pgqoM4/oJ13smN5oj+QCQQiKRLqP9ZDJR8LA+c/xBJ2oeZf2z87PL9fIZ/iPytmbYxk9u4/RguR5J5j2T9qPsn0AULePwTCaLptSOM/+PeHeO+v0j/s96ZAknTZP6RzQHNk+NQ/Num+Qc2M4T9mUq0fr2/ZP6MypD1WPus/QG65qABK5D8Ntx/AAAbkP5KMpeQyzd8/UDGuMxD0sj8gB0J4wb28P1QNNAMZJMo/a4ljusf06z8/vZXLQxPsPwmEPH5fdOw/hifYSTru1T/veDSqiSfgP1LtCZv86u0/tXi9C8+p5j+EWQDi7RDlP8CgroEQdNc/IOn0zYtGrT8YQRFC4YTFPzp0wlGIp94/tFTPeBuR6z/KX4UByQvnP3BSqBRQbbU/YS2nYMiU6D+6e3KaNuTUPyhd78I127Q/T4JsLW2n4j86zVN6klDqP2xgH5cMeOE/REAO4hV/yj/REceMTaDnP9MS9f3lzOg/avNV8UvK0D9qo+rys+DRP7QSSo04SNA/DLS2fvmD5D88XcGIeFjaP/DsS9bQLNw/iCkiR5If6j8NtF2tP4/mPwyOubcHw8k/dSkPhcNI4D90SCk9inztP8z0L7u3fM8/0mXrUgP04z9wnnpQe6HmP5AG1/9OMbg/oRpViOIR4T8AtnmvTxS0P2BpvpAVsM4/cIES1wbrzj9AdeuCOE2uP6YV6lSCNtA/V837sbKm7D9GRlzzhQPWP3AbTOBPK9E/WMFteq5xxD8=",
        "encoding": "base64",
        "path": [
         "_data",
         0,
         "marker",
         "color",
         "value"
        ]
       },
       {
        "data": "NQX8W96YFECcHz8lZqwxQBLXHak6PxJA+OwRFAK0AUCgxMJfHO0QQN6g/pIdKz1AM8J0LtWGOEDVMZtXTUQWQNW8jLKP/zBAZXgO+mwFPECMNIGBiZI7QH1kURRUexpAjKBkxwq9OUCrSGNS9JMVQNqEr+Fg2C9AZR/75EoaNUCqfu/LL+cxQI2PDWz0dgxAEPWfXkU4PEByGFd7+jQyQJ5+afJIVyRA0joMcugfPUDxNx0PMGc3QIJREPTYLzVAVYf4Xj2iMEDBr6ql0lo3QAIP+baUlRBAYk85YnfsIECPiDZQcnI5QEo4uNqibTlAUnhWZNAcMkAe3gmp7GkqQFlop/vjqClAdXDQIAASI0DtT9m5wtwrQPwYE6i69DdAXWagzbt9OkB+OwTkZJQdQG9qlvvgECBA/3M+YQmXOUAyBIK19vo9QCP+zE4q1SBAc4Eqaiap8D9nRh/WixkWQE2/nNpS1jZALXn6tKogF0Bs/wZMm5omQHfUA1mXoTdAijcC1n+3O0BEdtSwf50fQF8zxNKkGi1AAWpsd5/iFEDUqbBPAJ44QEtQa51bOzlA/QPDHb1POECH/kyU+PccQIUYMvQwwjZA8KO6ZVDkJEASSHfW5yY4QKHSjoyCRzVAgI/pYm6/mz/u7H7XzDQ7QAzvhtQ2oQxAlsDnFs7vOECDHnTJpfA2QBEVcc+g2DZA6ZbjSn/xMkDz1STWgb8oQEhm7OTbNhNArN/oNPmuMkCRfw4IpRAvQLEB9tXudTBA2mFyRaDBMUDvfMI22PAjQAFmENpT/BZAXOMOL63CKEDhyOeRYKkNQFtrfxLkmB9Ansyf5HGPFkDopHg3xZzFPxbdzAtp/gBA9OUF/vBSA0Bi714OnmA0QNf0Yg/1Gh9ArcoR29E8L0A7UTzqFQI2QBbB8U1HTTJAYBBrvl65JUDkN2wjK6EqQIkFGVZVmvI/l+DACBeWNkB0AsXcwfU9QM+KiPSzjzhAzE2558sA7j/q0IGM/KA0QKKW9LZWZjNAgGk9n+AZMEArpWsOHKUtQGrH1awmUD1Ay5ibdiCSNkA=",
        "encoding": "base64",
        "path": [
         "_data",
         0,
         "marker",
         "size",
         "value"
        ]
       },
       {
        "data": "NBfixb9C7T+di40sSS3oP5pD9IvOjdw/o8CPrXm55j+Uy58czlPkP+ZHkEKrUOE/VrNlgM2D1D/zBY0mIgHhP9k/bf9e3ug/qu5lTOw17D+mm7w6BqvuP4BkIMFruOY/gIfu7xbJ7D9C2gEsU6HbP0DkyDfp3dE/VOyGolcf3z+Uo8Suu3PYPwhtSwvP/u0/8ICAP1rRuz+gvVi0XenWP4DD81+uxIk/IEMUwzTB4z8QQK1qcPnmPyZkEm0ZK+U/ILRwGr6+kz9knguPuwjTP+ab+FG0cdg/+PpvYIQmxz+Pes4/5z3rP5I6V6Hh2Ns/2ETxahH2xz8zSWjCUCThPxAtgDCDT88/GJNWq4EC0j9eM5j7yu7mP01zkAfheeo/h+4Lcqi24T+PahqtV+jnP9A7zKj4xcA/y6imIEiw6T+S20rVUSrrP4CfTDhC7nU/uSO5pLiB6T/w21XcQWzgP1q3NkCOxOU/akJ+J6Cs3T9gOw3x+TWlP4TAOQsXjOI/XFfbuaZ82D/RcJYk9Y/tP/AIRV44H68/KJ8vryKisz/oe3MWDxLYP01MayT2VO8/pGzPFYaJxz/HDyy1X6vpP6RqmV7VVO0/4BPyQO4AoT8UNx2iC6DLP6j+oe5/F74/CJS6KlhJsz//aj2A3sTrP4Mqb581zuo/INwJ3bn3yT/odJaUoWvWPz04SCTzvOg/4HfgPVhRpD8bWiXJwZXiP4iD63saTdw/b/Sse+tp5j9+86sJJ8LSP5BpvEYWOcU/LHincANc4T/lMtfIJLXpPzqI46mLteY/aDTB9y1r2j+JYe+GTjnlPyhk6RxwjMI/IQ3xFxqv7j8402diyze8P9hugRon4rk/s33vWJsj5z/MZGFGEjznP+yNC5MxFOY/vKAeJ5pUwj+O4bOCi4LXP+hA0wjfObc/4Aa8Tzrd6j+VATkobZjhP/jUqNBRDtg/CYpatkWR5T/13cOpMJvuP8KbIjmbG+0/QPJkSmYEkj+FYyy9RpXiP6rHxO/sIeo/Htf0EhVy0T9w/eWbblThPz5j0Ot6d9Q/IsTcl5Fc2z8=",
        "encoding": "base64",
        "path": [
         "_data",
         0,
         "x",
         "value"
        ]
       },
       {
        "data": "b/ZF+luU4T+CC5cyxuTnP4hE6Pdvt8Q/uEvuR4he4j/wbBKlcoXNP3gtvMVZbbQ/fKAYLRBq2D8230JJEzLoP0i0oxIqGt8/AiVSN5gB3z8wztzChQ3QP2VvAyTzcOw/vdhpt2we6D/ATaUOb0XMP3iM2YPajbQ/s7pTi8+R5D/ApnXPUcTUPwbY6w6VqeU/bj2fLPYr5D+5HCWvFZLuPyBwSy6CqcA/0GI5ifSorT+wUrjYbYTvPwzVDwGCXeE/eI0vtMI05z9JI+yqrALvP/gNaPkwI8U/OA9E1Piezz+oW8SYyZW5P488P6gWA+Q/IDVlgdBtwD9Q5EgvnvuoP2eEX8/imu8/GAQDQwjpyj+Om6fEMhLZP6wfjXdsY+8/qrveJtXO2j+wg50WPIboP4KBki5HMe0/SFZ+exXgtj+APW2neEvKP6aQnLBCHOo/WFxfaJ2H6j/1lJUEqgzsPxhBmePF2bo/Eh17sPQN6T+ux1aenSvvP5eLZNPH3+8/OOQJjeEpwD9Shqzxn6HlP1guiKlpeOI/MMn6hQNw5T/XZWvVJinkP60cArAuE+Q/tseZ2mAj0T9cT/YP3FrYP3gDuzpK1+4/NsDYsQNn4z+AIC5Yx92UP7A5GX0g0e4/MJIneCMX1z/omiO21lm1P7z6HIddq9k/7/fml98H6z/XdwJ5trPiPxgkzfpc/8I/d6CvFkud7j8sc8YfZIffP4RVhRbAGuE/gO6YCoifzj+KUkNbY2jQP/qenWSLc+Y/NpB3x4ir7j9jCBVH7GToP0DsuyG+Bso/fPzSCUOxxT9ah7oBBPfmP0Dw9aCrFpk/ACt4zoUIuT/e94t2B5roPx+iXuzZQ+c/36nPOoJQ5D8ofEVgQcrCP/ehTSgf3OU/RtUJMKOJ4j/U0no6/YrQP2IiY+pketI/7Dgsew/1wz/0HDNuyVvkPzMDaqPzOOM/WopFN7Un2T/ANB//k4/NP5T8PmNzP8Y/WXelAEIM7T8HFpO14tnkPwhqjtuN8rY/EYy5xZEN6z8gyra8creRP0SeDQHvTcQ/lYL3XFnJ6j8=",
        "encoding": "base64",
        "path": [
         "_data",
         0,
         "y",
         "value"
        ]
       }
      ],
      "model_module": "plotlywidget",
      "model_module_version": "^0.2.1",
      "model_name": "FigureModel",
      "state": {
       "_data": [
        {
         "marker": {
          "color": {
           "dtype": "float64",
           "shape": [
            100
           ]
          },
          "colorscale": "Viridis",
          "opacity": 0.6,
          "size": {
           "dtype": "float64",
           "shape": [
            100
           ]
          }
         },
         "mode": "markers",
         "type": "scatter",
         "uid": "2ad8a21c-a8b5-11e8-af9d-645aede86e5b",
         "x": {
          "dtype": "float64",
          "shape": [
           100
          ]
         },
         "y": {
          "dtype": "float64",
          "shape": [
           100
          ]
         }
        }
       ],
       "_js2py_layoutDelta": {
        "layout_delta": {
         "annotations": [],
         "autosize": true,
         "calendar": "gregorian",
         "colorway": [
          "#1f77b4",
          "#ff7f0e",
          "#2ca02c",
          "#d62728",
          "#9467bd",
          "#8c564b",
          "#e377c2",
          "#7f7f7f",
          "#bcbd22",
          "#17becf"
         ],
         "dragmode": "zoom",
         "font": {
          "color": "#444",
          "family": "\"Open Sans\", verdana, arial, sans-serif",
          "size": 12
         },
         "height": 470.5,
         "hidesources": false,
         "hoverdistance": 20,
         "hoverlabel": {
          "font": {
           "family": "Arial, sans-serif",
           "size": 13
          },
          "namelength": 15
         },
         "hovermode": "x",
         "images": [],
         "margin": {
          "autoexpand": true,
          "b": 80,
          "l": 80,
          "pad": 0,
          "r": 80,
          "t": 100
         },
         "paper_bgcolor": "#fff",
         "plot_bgcolor": "#fff",
         "separators": ".,",
         "shapes": [],
         "showlegend": false,
         "sliders": [],
         "spikedistance": 20,
         "title": "Click to enter Plot title",
         "titlefont": {
          "color": "#444",
          "family": "\"Open Sans\", verdana, arial, sans-serif",
          "size": 17
         },
         "updatemenus": [],
         "width": 982.967,
         "xaxis": {
          "anchor": "y",
          "automargin": false,
          "autorange": true,
          "color": "#444",
          "constrain": "range",
          "constraintoward": "center",
          "domain": [
           0,
           1
          ],
          "dtick": 0.2,
          "exponentformat": "B",
          "fixedrange": false,
          "gridcolor": "rgb(238, 238, 238)",
          "gridwidth": 1,
          "hoverformat": "",
          "layer": "above traces",
          "nticks": 0,
          "range": [
           -0.0574423090834488,
           1.0561381756682302
          ],
          "rangemode": "normal",
          "separatethousands": false,
          "showexponent": "all",
          "showgrid": true,
          "showline": false,
          "showspikes": false,
          "showticklabels": true,
          "side": "bottom",
          "tick0": 0,
          "tickangle": "auto",
          "tickfont": {
           "color": "#444",
           "family": "\"Open Sans\", verdana, arial, sans-serif",
           "size": 12
          },
          "tickformat": "",
          "tickmode": "auto",
          "tickprefix": "",
          "ticks": "",
          "ticksuffix": "",
          "title": "Click to enter X axis title",
          "titlefont": {
           "color": "#444",
           "family": "\"Open Sans\", verdana, arial, sans-serif",
           "size": 14
          },
          "type": "linear",
          "visible": true,
          "zeroline": true,
          "zerolinecolor": "#444",
          "zerolinewidth": 1
         },
         "yaxis": {
          "anchor": "x",
          "automargin": false,
          "autorange": true,
          "color": "#444",
          "constrain": "range",
          "constraintoward": "middle",
          "domain": [
           0,
           1
          ],
          "dtick": 0.2,
          "exponentformat": "B",
          "fixedrange": false,
          "gridcolor": "rgb(238, 238, 238)",
          "gridwidth": 1,
          "hoverformat": "",
          "layer": "above traces",
          "nticks": 0,
          "range": [
           -0.10427738596944856,
           1.1193530251840305
          ],
          "rangemode": "normal",
          "separatethousands": false,
          "showexponent": "all",
          "showgrid": true,
          "showline": false,
          "showspikes": false,
          "showticklabels": true,
          "side": "left",
          "tick0": 0,
          "tickangle": "auto",
          "tickfont": {
           "color": "#444",
           "family": "\"Open Sans\", verdana, arial, sans-serif",
           "size": 12
          },
          "tickformat": "",
          "tickmode": "auto",
          "tickprefix": "",
          "ticks": "",
          "ticksuffix": "",
          "title": "Click to enter Y axis title",
          "titlefont": {
           "color": "#444",
           "family": "\"Open Sans\", verdana, arial, sans-serif",
           "size": 14
          },
          "type": "linear",
          "visible": true,
          "zeroline": true,
          "zerolinecolor": "#444",
          "zerolinewidth": 1
         }
        },
        "layout_edit_id": 1
       },
       "_js2py_relayout": {},
       "_js2py_restyle": {},
       "_js2py_traceDeltas": {
        "trace_deltas": [
         {
          "cliponaxis": true,
          "error_x": {
           "visible": false
          },
          "error_y": {
           "visible": false
          },
          "fill": "none",
          "hoverinfo": "x+y+z+text",
          "hoverlabel": {
           "font": {
            "family": "Arial, sans-serif",
            "size": 13
           },
           "namelength": 15
          },
          "hoveron": "points",
          "hovertext": "",
          "index": 0,
          "legendgroup": "",
          "marker": {
           "autocolorscale": false,
           "cauto": true,
           "cmax": 0.9766246560542162,
           "cmin": 0.03608237794451985,
           "gradient": {
            "type": "none"
           },
           "line": {
            "color": "#fff",
            "width": 1
           },
           "maxdisplayed": 0,
           "reversescale": false,
           "showscale": false,
           "sizemin": 0,
           "sizemode": "diameter",
           "sizeref": 1,
           "symbol": "circle"
          },
          "name": "trace 0",
          "opacity": 1,
          "selected": {
           "marker": {
            "opacity": 0.6
           }
          },
          "showlegend": true,
          "text": "",
          "uid": "2ad8a21c-a8b5-11e8-af9d-645aede86e5b",
          "unselected": {
           "marker": {
            "opacity": 0.12
           }
          },
          "visible": true,
          "xaxis": "x",
          "xcalendar": "gregorian",
          "yaxis": "y",
          "ycalendar": "gregorian"
         }
        ],
        "trace_edit_id": 1
       },
       "_js2py_update": {},
       "_last_layout_edit_id": 1,
       "_last_trace_edit_id": 1,
       "_model_module_version": "^0.2.1",
       "_py2js_animate": {},
       "_py2js_deleteTraces": {},
       "_py2js_moveTraces": {},
       "_py2js_relayout": {},
       "_py2js_removeLayoutProps": {},
       "_py2js_removeTraceProps": {},
       "_py2js_restyle": {},
       "_py2js_update": {},
       "_view_count": 1,
       "_view_module_version": "^0.2.1"
      }
     },
     "9bc16d7896f340f2841a6507ad64af5b": {
      "buffers": [
       {
        "data": "gZBh1XQu7j+Y0jrDUfzNP3h+z4Q5mNo/XCI0aAjN1T8ycJGK1nfkP0Cbmqdwq60/OmH9VW5B7j+FCqah8A/mPx1vs/2OjeM/wK0Udi6mnz8kcHnEmz7sP4DutWVKVKg/gTTr4GTl5T/Q442dlBfVP8D1vh4RMoM/VvilmI9f5j8Y9b5OZi6wP6MG+70iyu8/RCpHJMZb6z+IAl10ogHhP1avwzFfut0/7g0JfNUR0D89sr15XWboP4A1QUDXudo/sNyrXR4GsD8yt7T9tK3kP7DlryX/qdw/RWR6DQaY5T/UIWWd6w7RP8aXtgmyB9Q/Mr4YXsgX7j/wSYDxNoDDP3dDgB1XgO0/gLeqVeQ0uT/Cq7iDDhjgP0k+9cza4eU/ZhAws7Th3D/aZMDrBDvQP3ahxiUmOuQ/IFiuEwKanz9lEqTamXXuPyec1PnYru8/AKknmKaO5D8xYdC5V8TnP2oTp6syONo/qqcrfepW7j9uAjbUduLcP5C4gYvve7g/geGy7+oL4j9pxZaKSyDvP7xy9mDd59M/gCviGm7MnT/IRmpH3hrDP3g1P7tfktc/1HutRi6t7T+wRLPiuCTRP83iEbpV5O0/iAAUcbtHuD80urg6tKHlP9Q5icEsiO0/V8okhKYH7j9IvMO6ItHXP6WzrvmSw+o/MBxkknODzz/On1Se32jsP0JteFjCveM/5Gs4uOr44j/enqFflBTfPwKQTlXWsNY/AgvSgKRQ4D9eWBFzI0fdP8Br1t/6AZs/pIDsIzDn6D8tKLT+7MTiPzA883lK29w/A1PO1YOr7j8svDZr0Q/PPyTpWmqJudE/0I/SzYdH4z8s6VR5GsjrP6jR49zQodI/QCSTcLvekj+Y3KxTAnLWPwpAOD2ebtA/DpbqhYQE7z+IHDhHNUvHP/VSZHE56uw/tUxSSBPv6z/FEqf3f8DjPxqy3ujL9dg/k8uV/LfN7T8AHfNmxsN1PySseFNH1tE/lJ3yLDaD1T+vQknfK27mP3hV6xB/6cw/O1MlVAkG7z/LeGzg5IfiPxBwheYGcd4/6lSeTbCm5z8=",
        "encoding": "base64",
        "path": [
         "_data",
         0,
         "marker",
         "color",
         "value"
        ]
       },
       {
        "data": "KFoE4iEIK0BOfXmYrdI0QB+RZiBnGDRA7pvJPhMyPEDdopytEWsDQN6gu5i5aw1AEZPpJLxmIEDu7PmbtTozQITVs6WxPTJAqlPX8xA/LEDqytqhDFoMQKPHTe+h1SNAVOHglE8KFUC0rKPSdmM4QHKivkBBaTdAzaQ6YjwCLEBWD9oiiYU9QHGanMweJDFACj7sap+AGkDf3FPQgI8OQNrPm5iDojpAcyA09cUS8D9lbCa0EdojQM4caxrbLxdAg/eUUlvSO0CqGzQXhBQSQIfmZZEv5j1Agi0vzG2IMkCGnwNhkKXiP4CULnCElD1AJL0V5vMHLEDmqTkPhXEyQDNW3SZTDDVAB/z9SE+9FkDPFg/VV6Q5QGcGm5wdgzxAEeZi9RlML0D9P0yNxLEqQC8M8XAaoz1AN6Y/28lVGUCtBh8UE+czQJvE3ZED/QFAJdaG6/WIJUDRzsRa1kssQE0W+WZ8Gj1AxuhvPNq6OUC4RmNj6Q4nQAZxaQZHBCNAWlZLWDz7LUCKGcxhOr0yQN2INShAqidAIvSvxIOAGkDwPl+b1B41QDRRITkuHQhAFbvqYqcdMkDsOB7PJfUGQIKLyEMKFDxAcuo+HOd1NUCMzHrpJ5oTQBhibqwfrz1AfqUhYknwF0COOGTPOk/yPx6/8rsjXDBAS+nP7RXYEEDVuIUyLHExQK2Z2Mu80iVAOvtZV44vKEDJE6oP2Hc8QGErRsEyvDxAtF464rjKM0Bh5vPs984zQDzNgyYywTZACKoiSQaaC0A4G9vXIcAOQA+8/UwqRyFA6V7/7a3CMkAgA6k80C2nP7xwseahpDJAxB0muo3qN0B895T/3hI2QAeJ8w8DKhJAS3HhjtquNUCcMeewdqwcQM4kTMQzxBpAG5APedw2NEAPTLzZywwyQKGrwJx2bTJAMMW+NRO1HECjgaxuZYorQAT3f0r8LBhAxGgcOew5EEBcfN7qF1oVQMxLUL7m8T1AduSU9AZKLUDmF4isUK49QJ14kdTzgzNAGTyu+KFOA0CeSzhim9w9QFXUn1ijxzJAm9mqhxJnNEA=",
        "encoding": "base64",
        "path": [
         "_data",
         0,
         "marker",
         "size",
         "value"
        ]
       },
       {
        "data": "kgQMxlV81j80f2024ajgP5jzqCHnAbo/pAzK7+Nc2z95uxf85yjqP2+rgmN6qeo/eDU9LUv26T/IZueinKjCPyGk0PPQ++Y/K65LNrXM6D+05qswqlnpP8BG7y4O97c/Hr1G/r1K2D/mCMPT6WvdPwlaryOAnuU/wNGYhPwSwj94y4GdR9/OP6Dz4gNWLbc/roGUxzSa4z9UmuZfPT3kP7YuQMbjdNk/pESQAGf+6j9MjRWzvs7SPwmZlYzW7eI/VPqJscAn0T+Pq2ZlrNnlP4s+mMFVWug/0NKn1AQy3z/Qhds7IT+2P+C5hzwlfak/2LUUWmTWuD+YtPiHR6jkP/TW52+SAtg/rOM10DUl7T+2HdATAnzRP56GszltDeY/dE6k2Js50z8YGayQvabpPyDgGXK0wps/+ooA2C7i0D/cBxrq0DLaP83VaJMjtOc/VWjyLcwb6j+L2MEm+gbtP+amIxJ4vek/V6bV6Xgj7T8mL5gNCVnkPzCWtsw0m9g/HARNUtzhwD+/1Cry5irhP4XdXLkS1uY/28UnzWuo6j9aBAESY0DgP3OYrjzqmOw/ZJYgI8IE3D89U8NxDvvnPwE7fxVtxOY/SBByT1pB7j8gVDcztzbSP7bGQhTgUuc/kHwxI+OUxD8isa1t4EzRP38aHTc+XuY/hlV/2r9M4j/wz67MSOfoP7jFUqn/4LQ/AzN4G/x75j/bCXHxN8njP06qJjdy3Ow/UD1j1z7aoD+gxlKHvhPWP+BieJCcEOA/vhDjO+QP3z/cUIpdJjTOP4Wl0AusyuM/zyMIXTjH4T+fBGDmlvPnPwQxxldHW9M/+PX9LUkCxT+i620FfiLXPzh9hNkgzMw/HtB9qdqx3j8RMGe4SOvoP6AtmR9t67w/2sayDum47D81J9wUmqTvPyImni1O/+8/fCHUbbVxzT9EPPsoC5bcP+z1/uzHo8c/YCIfiElb6T9+oPFf5JreP9SS/m9oAOE/ENA/bevJxD/vOnv3iPHhPxgeE9qVNN4/HoegbMhu4T9gD5+3QCLJP+aJX2tnju0/eQl3Sd166j8=",
        "encoding": "base64",
        "path": [
         "_data",
         0,
         "x",
         "value"
        ]
       },
       {
        "data": "v5r1Ja8J4D9AjyGfhRzgPyj50FQts+8/WHsSd0Hz7j/p0Y+oSQviP+IP4Gg1PNM/a3jALMh16j9yWah6uPjcP+kdKY2FFOc/wUrnAuwg5z8PVcChMqvgP862cA4ex9s/lRfjCQ5R6D90fXokntbGPwDVLWz8qq4/ryMxFbPm7D/MOPs1d0nbPxScbLZ8K9o/+V90gqJG4j+ufrV8ZPbfP35+uG+X4eY/lPqcOpoy5j/MDo55JG7OPyYF8LgLzt4/rDo6UlDg6j/AXAoMTKSfP/PEG7MQje0/3HqLyy/2zD8gVbOfFWXZP1SlhZKrxug/IKfl7J/ukD+ugdcccXvbP3je1BJa3Mw/HQqnBo5z4D/5aTpMgVPlPzCTzWOgu60/Ik7lRwjh5z84RoxhDWrMP7aw1L/pjus/HCVxbE3AwD9EvUkrJUPTP8TuNSJ7rtg/6vVFKUHu6T/OfUbolW/kPyuEQ1YlFOs/Rt6/kaFD3D/kMHhdHNnPPwlcCdJSPOc/BLnjnQu57j/wgq6Xk1rMP0qDd15G5NQ/4Dgh/56Rvj8pODDiLIPqP2Tc5q0aG+4/4I+dmonD7T/gi8N8MYu4P9wgBqsRCdY/ZZAUsNM24j848XKaxmDJP95WZIgaU9s/5HyO+UFQ7T9Kc1/C8wTbP0vcL7Pwy+Y/oa3NV/q85z8CvUmFQNLmP4xj1qbnw+s/DNH8/5gCxj8DKdsua9jpPyi/v00Rcu0/CDA6ngaswz/5NXnLPIvlPzB3TMDi3ak/NMfzKoFm6D9Wi8XetlHWP0SKstf/Z8o/ACq7o5Ks5D/wwkc4wp3ZP2ZxlMU8b+M/YFS43QxGrD84u7lJE3PRPwBnesL6zd0/Llk+UYSK4D+gt/DbypqePxjtSmHhScE/3FosXuapzT/YaE+XE4bpP0UypgrQb+E/UNaDmFPo0T+s34IDi7zkP0TcF2QVseQ/MgVNeR0P4T+Azg/yOberP6FxXjV/bOs/0AdYMA8Hrz8evc+wWqDhP5A2fu6zeO8/HK84HnrTzz8ODmlMT93qP8BdGMz/BNI/vna9HtW+3j8=",
        "encoding": "base64",
        "path": [
         "_data",
         0,
         "y",
         "value"
        ]
       }
      ],
      "model_module": "plotlywidget",
      "model_module_version": "^0.3.0-alpha.1",
      "model_name": "FigureModel",
      "state": {
       "_data": [
        {
         "marker": {
          "color": {
           "dtype": "float64",
           "shape": [
            100
           ]
          },
          "colorscale": "Viridis",
          "opacity": 0.6,
          "size": {
           "dtype": "float64",
           "shape": [
            100
           ]
          }
         },
         "mode": "markers",
         "type": "scatter",
         "uid": "254666e2-a921-11e8-9c95-645aede86e5b",
         "x": {
          "dtype": "float64",
          "shape": [
           100
          ]
         },
         "y": {
          "dtype": "float64",
          "shape": [
           100
          ]
         }
        }
       ],
       "_js2py_pointsCallback": {},
       "_js2py_relayout": {},
       "_js2py_restyle": {},
       "_js2py_update": {},
       "_last_layout_edit_id": 1,
       "_last_trace_edit_id": 1,
       "_py2js_animate": {},
       "_py2js_deleteTraces": {},
       "_py2js_moveTraces": {},
       "_py2js_relayout": {},
       "_py2js_removeLayoutProps": {},
       "_py2js_removeTraceProps": {},
       "_py2js_restyle": {},
       "_py2js_update": {},
       "_view_count": 1
      }
     }
    },
    "version_major": 2,
    "version_minor": 0
   }
  }
 },
 "nbformat": 4,
 "nbformat_minor": 2
}
