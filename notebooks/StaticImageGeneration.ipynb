{
 "cells": [
  {
   "cell_type": "markdown",
   "metadata": {},
   "source": [
    "# Static image generation\n",
    "As of plotly.py version 3.2, it possible to export figures as high quality static images without making API requests to the plot.ly image servers.\n",
    "\n",
    "## Install dependencies\n",
    "Static image generation requires the [orca](https://github.com/plotly/orca) commandline utility and the [psutil](https://github.com/giampaolo/psutil) Python library. There are 3 general approach to installing these dependencies.\n",
    "\n",
    "### conda\n",
    "Using the [conda](https://conda.io/docs/) package manager, you can install these dependencies in a single command:\n",
    "```\n",
    "$ conda install -c plotly-orca psutil\n",
    "```\n",
    "\n",
    "**Note:** Even if you don't want to use conda to manage your Python dependencies, it is still useful as a cross platform tool for managing native libraries and command-line utilities (e.g. git, wget, graphviz, boost, gcc, nodejs, cairo, etc.).  For this use-case, start with [Miniconda](https://conda.io/miniconda.html) (~60MB) and tell the installer to add itself to your system `PATH`.  Then run `conda install plotly-orca` and the orca executable will be available system wide.\n",
    "\n",
    "### npm + pip\n",
    "You can use the [npm](https://www.npmjs.com/get-npm) package manager to install `orca` (and its `electron` dependency), and then use pip to install `psutil`:\n",
    "\n",
    "```\n",
    "$ npm install -g electron@1.8.4 orca\n",
    "$ pip install psutil\n",
    "```\n",
    "\n",
    "### Standalone binaries + pip\n",
    "If you are unable or unwilling to install conda or npm, you can install orca as a precompiled binary for your operating system. Follow the instructions in the orca [README](https://github.com/plotly/orca) to install orca and add it to your system `PATH`. Then use pip to install `psutil`.\n",
    "\n",
    "```\n",
    "$ pip install psutil\n",
    "```"
   ]
  },
  {
   "cell_type": "markdown",
   "metadata": {},
   "source": [
    "## Create a figure\n",
    "Now let's create a simple scatter plot with 100 random points of variying color and size."
   ]
  },
  {
   "cell_type": "code",
   "execution_count": 1,
   "metadata": {},
   "outputs": [
    {
     "data": {
      "application/vnd.jupyter.widget-view+json": {
       "model_id": "b8cb9640b77a4ca58c2f313a87f5a1e9",
       "version_major": 2,
       "version_minor": 0
      },
      "text/plain": [
       "FigureWidget({\n",
       "    'data': [{'marker': {'color': array([0.38500549, 0.08262726, 0.33872947, 0.46764101, 0.7823…"
      ]
     },
     "metadata": {},
     "output_type": "display_data"
    }
   ],
   "source": [
    "import plotly.graph_objs as go\n",
    "import plotly.io as pio\n",
    "import os\n",
    "import numpy as np\n",
    "\n",
    "N = 100\n",
    "x = np.random.rand(N)\n",
    "y = np.random.rand(N)\n",
    "colors = np.random.rand(N)\n",
    "sz = np.random.rand(N)*30\n",
    "\n",
    "fig = go.FigureWidget()\n",
    "fig.add_scatter(x=x,\n",
    "                y=y,\n",
    "                mode='markers',\n",
    "                marker={'size': sz,\n",
    "                        'color': colors,\n",
    "                        'opacity': 0.6,\n",
    "                        'colorscale': 'Viridis'\n",
    "                       });\n",
    "fig"
   ]
  },
  {
   "cell_type": "markdown",
   "metadata": {},
   "source": [
    "## Write image file\n",
    "The `plotly.io.write_image` function is used to write an image to a file or file-like python object.\n",
    "\n",
    "Let's first create an output directory to store our images"
   ]
  },
  {
   "cell_type": "code",
   "execution_count": 4,
   "metadata": {},
   "outputs": [],
   "source": [
    "if not os.path.exists('images'):\n",
    "    os.mkdir('images')"
   ]
  },
  {
   "cell_type": "markdown",
   "metadata": {},
   "source": [
    "If you are running this notebook live, click to [open the output directory](./images) so you can examine the images as they're written."
   ]
  },
  {
   "cell_type": "markdown",
   "metadata": {},
   "source": [
    "### Raster formats: PNG, JPEG, and WebP"
   ]
  },
  {
   "cell_type": "markdown",
   "metadata": {},
   "source": [
    "Orca can output figures to several raster image formats including **PNG**, ..."
   ]
  },
  {
   "cell_type": "code",
   "execution_count": 5,
   "metadata": {},
   "outputs": [],
   "source": [
    "pio.write_image(fig, 'images/fig1.png')"
   ]
  },
  {
   "cell_type": "markdown",
   "metadata": {},
   "source": [
    "**JPEG**, ..."
   ]
  },
  {
   "cell_type": "code",
   "execution_count": 6,
   "metadata": {},
   "outputs": [],
   "source": [
    "pio.write_image(fig, 'images/fig1.jpeg')"
   ]
  },
  {
   "cell_type": "markdown",
   "metadata": {},
   "source": [
    "and **WebP**"
   ]
  },
  {
   "cell_type": "code",
   "execution_count": 7,
   "metadata": {},
   "outputs": [],
   "source": [
    "pio.write_image(fig, 'images/fig1.webp')"
   ]
  },
  {
   "cell_type": "markdown",
   "metadata": {},
   "source": [
    "### Vector formats: SVG and PDF..."
   ]
  },
  {
   "cell_type": "markdown",
   "metadata": {},
   "source": [
    "Orca can also output figures in several vector formats including **SVG**, ..."
   ]
  },
  {
   "cell_type": "code",
   "execution_count": 8,
   "metadata": {},
   "outputs": [],
   "source": [
    "pio.write_image(fig, 'images/fig1.svg')"
   ]
  },
  {
   "cell_type": "markdown",
   "metadata": {},
   "source": [
    "**PDF**, ..."
   ]
  },
  {
   "cell_type": "code",
   "execution_count": 9,
   "metadata": {},
   "outputs": [],
   "source": [
    "pio.write_image(fig, 'images/fig1.pdf')"
   ]
  },
  {
   "cell_type": "markdown",
   "metadata": {},
   "source": [
    "and **EPS** (requires the poppler library)"
   ]
  },
  {
   "cell_type": "code",
   "execution_count": 10,
   "metadata": {},
   "outputs": [],
   "source": [
    "pio.write_image(fig, 'images/fig1.eps')"
   ]
  },
  {
   "cell_type": "markdown",
   "metadata": {},
   "source": [
    "## Get image as bytes\n",
    "The `plotly.io.to_image` function is used to return an image as a bytes object.\n",
    "\n",
    "Let convert the figure to a **PNG** bytes object..."
   ]
  },
  {
   "cell_type": "code",
   "execution_count": 11,
   "metadata": {},
   "outputs": [],
   "source": [
    "img_bytes = pio.to_image(fig, format='png')"
   ]
  },
  {
   "cell_type": "markdown",
   "metadata": {},
   "source": [
    "and then display the first 20 bytes."
   ]
  },
  {
   "cell_type": "code",
   "execution_count": 12,
   "metadata": {},
   "outputs": [
    {
     "data": {
      "text/plain": [
       "b'\\x89PNG\\r\\n\\x1a\\n\\x00\\x00\\x00\\rIHDR\\x00\\x00\\x02\\xbc'"
      ]
     },
     "execution_count": 12,
     "metadata": {},
     "output_type": "execute_result"
    }
   ],
   "source": [
    "img_bytes[:20]"
   ]
  },
  {
   "cell_type": "markdown",
   "metadata": {},
   "source": [
    "### Display bytes as image using `IPython.display.Image`\n",
    "A bytes object representing a PNG image can be displayed directly in the notebook using the `IPython.display.Image` class. This also works in the [Qt Console for Jupyter](https://qtconsole.readthedocs.io/en/stable/)!"
   ]
  },
  {
   "cell_type": "code",
   "execution_count": 13,
   "metadata": {},
   "outputs": [
    {
     "data": {
      "image/png": "[encoded data removed]",
      "text/plain": [
       "<IPython.core.display.Image object>"
      ]
     },
     "execution_count": 13,
     "metadata": {},
     "output_type": "execute_result"
    }
   ],
   "source": [
    "from IPython.display import Image\n",
    "Image(img_bytes)"
   ]
  },
  {
   "cell_type": "markdown",
   "metadata": {},
   "source": [
    "## Change image dimensions and scale\n",
    "In addition to the image format, the `to_image` and `write_image` functions provide arguments to specify the image `width` and `height` in logical pixels. They also provide a `scale` parameter that can be used to increase (`scale` > 1) or decrease (`scale` < 1) the physical resolution of the resulting image."
   ]
  },
  {
   "cell_type": "code",
   "execution_count": 14,
   "metadata": {},
   "outputs": [
    {
     "data": {
      "image/png": "[encoded data removed]",
      "text/plain": [
       "<IPython.core.display.Image object>"
      ]
     },
     "execution_count": 14,
     "metadata": {},
     "output_type": "execute_result"
    }
   ],
   "source": [
    "img_bytes = pio.to_image(fig, format='png', width=600, height=350, scale=2)\n",
    "Image(img_bytes)"
   ]
  },
  {
   "cell_type": "markdown",
   "metadata": {},
   "source": [
    "## Summary\n",
    "In summary, to export high-quality static images from plotly.py all you need to do is install orca and psutil and then use the `plotly.io.write_image` and `plotly.io.to_image` functions.\n",
    "\n",
    "If you want to know more about how the orca integration works, or if you need to troubleshoot an issue, please check out the [Orca Management](OrcaManagement.ipynb) section."
   ]
  },
  {
   "cell_type": "code",
   "execution_count": null,
   "metadata": {},
   "outputs": [],
   "source": []
  }
 ],
 "metadata": {
  "kernelspec": {
   "display_name": "Python 3",
   "language": "python",
   "name": "python3"
  },
  "language_info": {
   "codemirror_mode": {
    "name": "ipython",
    "version": 3
   },
   "file_extension": ".py",
   "mimetype": "text/x-python",
   "name": "python",
   "nbconvert_exporter": "python",
   "pygments_lexer": "ipython3",
   "version": "3.7.0"
  },
  "widgets": {
   "application/vnd.jupyter.widget-state+json": {
    "state": {
     "36cf141c55c744d4a9999f29b84d67b3": {
      "buffers": [
       {
        "data": "NCdLE8It0D8uzSpCOxjiP1Tw8ljG+dE/2FnJ9XTw3D/qZFydCwnbP9lvta9KS+E/AHyhEKISeD80DzYUFHHLPwEIX35VAug/lNmJIwAOyD8kbRpXms/cP9hPIp5Vz+M/0D48phxRwD9AoEuPm83nP/B8mnec5cE/hEmek5353z/lXEaMXl/sP2Bp6OTHz8M/rNT1wcd6wz+4wjU46rezP/BZVBszkMU/Td511/JB4z8QY3cke9DAP5zh62UYYM0/EEPv3jAXvT9PL1xLYNrgP7MEkhzHAOE/yyzY8gTx6D9uhoc1Q9PQP7DG6nSKjsQ/5h0xmQSV5j9pH44eDvroP2UgXTcVtec/0FkxOsM6tT/oFnEIeT3iP8Rk7J6l1O4/Qz27/SwK4T/ylIqkiJDYP0pxgR+m0tE/oZ+n5UeZ4D8SfdyUk63rP6lgJx36v+k/ZjtrdRwm2D+2jqL2vxPiP1hwwfZ4o+w/PV8FuhXw7T/MtmKMPDPGP4xSITzrEOk/tnQEoFCQ0j/KiTPGt/PdP4CA5YVKg3U/9e3vQez96D8JNXXwr5rsP+TXBGwJDe8/QPW05Kobnz+wMMeSMamkP97BMbdVGuo/C8Jj8n9e6D9UMxA4E5PcP1i1YBiaEs4/I5S0vdgU7D+6gOmGSXfYP8F0h/XHm+E/TMGSu5UUwj/A5XyjIYuWP70oJZnh1uE/0M7YZJt92j9kawFhXR7pP7aNrnoH5Oc/bq43igaO1j9kmyo/C27dP4HWjDKPiuc/Tg91/tOG4z/UJMn/IVrpPx+sug2bqeQ/hKQad0yh3T8G6yZdv1zoP/eO4Uribuc/XgejnYwM1j/oQyLJKDLJP98jPcF7FOg/UJYLyrumqD8I+jnQhJy0PyDHyy8IdJI/gNvnWTodqD87nvo88z3tP95O2xkeGeA/bp4uM5Pa5D/AWjzDrEamP6mUDnTbWus/ggKXiK545D/azQuB5TrlP5ZwUjmbtdY/kjaXT9Ns2T9Mj7bpBcTAP4QukNDbaNo/yduILK+/4D/QPtQr4Xa+P/kwd4lSN+Y/4/pg0s1l4z8=",
        "encoding": "base64",
        "path": [
         "_data",
         0,
         "marker",
         "color",
         "value"
        ]
       },
       {
        "data": "vIZL8hd5J0CCMRvbxqQgQHhvaTSggzBAqRk6WU41K0B/DGhLK8Y3QHNQJIZ6/ApA6jWqh1dROkC3T7xhDhw8QPi+QT6gwjpArvFcSo2H7D/scbnegNQGQPQ4y/G0mzhAKt9J+AmDIUBK/eycIqQFQPNQddKuPzJAJWw3P3sTGkBdqCG2tQU0QCLTTxMFsyVABGbCvro0N0AwuFJMKAs3QFV3uM6Wpz1Aw+B/IqScNkBVDg+6HWUxQOBalPT1ATBAZAlGgEWrD0AAAAq+ZrkHQCVFNGZQIz1AIZeG0juyNEDSlmjfZScYQBFMq6mMrDFA+SdCt1L1OUBvyq9YSCQ8QCti/JBO9jNAoVGz2/QHO0A51k9oE90kQPnsMWDMJjVAQj9PVtpMJ0BiTyGsAlU0QPlgdPAzky9AyQKDm5zUMUDorjl3eDo8QGxPBokG6ChApolxvOblOkAVsnQWr2Q2QLzjfz5lwidA0UDhUOSDNkA7E/lpkHIzQK+IPScdjy5A2kqXnYYSKEDZm5/rB4EqQAUnx6jAUDNAPLldZf3bLkAuKKzP60wqQJFuRVV+izhA39pHffAXGkBhNJRBkkwpQPiOBSh7hR1AYXOrncPuFUDMRZMXmk7uPx9YEgpudjNAtZ+itofiO0BogqDhbRg4QJP3U7I6yDlAqkMVOz7/A0DZe8hNOrklQDLOnrSBqRNAv+KeQAHyK0BwpUCzQJn8P84LRlqOMv8/qL4sLcFTE0AtHFIJD1EtQEsU+uSnXDhA9CmXfZiQ/D/AzfYDUMMYQJEyryeVijFAtoYceIYpLEBEzy1QUgw6QFgFj2mK2yxAo1wgo1RlN0DQaxi5lQU8QC5TZ2zw+/g/POm8LWX+M0D043UbRo3tP8BK6HJ02iRAqaie2s+0MUA/O+MEPbc6QD7d7SOFV/Q/Wd0fKXnpIkCcZ3YY7/0oQEO88h23CzdAkwl2fAfdN0DgarqhhIAfQI28LJbO6jRAsRN3Un5rOkBlLyhyohATQB40adH8nDxABNY1MfdFNUDu7nUe3oA3QOBVzyhu5D1AFNaO5gfaLEA=",
        "encoding": "base64",
        "path": [
         "_data",
         0,
         "marker",
         "size",
         "value"
        ]
       },
       {
        "data": "wlbcoKnb7T9Nl3O2rJXlP9igrTfxaLw/iqOE0OJ20z8sQ5Vnne7sP8ADj7E4veg/s8c9nMG04T+Asqv/CmLIPwAFFp3d/Lo/sqXRIqW70z8uYBlzMxHmPyBIrLpSj5A/3qVaN5Bs6j/5Q2PhwMroP9zk9ToKZcA/8E23+KCr2D8Q7/0rSxO+P3vNSg5YF+A/EBL0dBKJqj8g1GF12XTdP3ZUk0UMf9E/cHhN73b5vT/3HKiZEB/kP+CCH68DEqI/ecVUhchG6D/IMEN9dlzgP+DykyGxE8w/+pY3ThwN3T+AK9YH2SWnP3bqdOr3RuA/Cq0rnxg04T/qvNaZoAjYP9wvHOt/K+c/qkHJcjlS4D9IbBk/Q0SwP8IRlvFjs+g/oDwUeQ6ZrD9EsYm/xxHiP3aqtqD5Ju8/oG/CDCC3zT8sLtjMv57AP+sdUSD12ec/0HwTSP8x0T/0iZrY+H/RP42BkM9emek/HFJD4r02wj/sVmkB2oLIPwxPg72RxMc/tFe6WipC7T8/0+BuDF7pPww+2uivncw/P/O8++1H4j/g60331Xe0PxogFs8CANU/XMQqJSUY1z9AsSnxHEqXPxDGiPMlK88/H54Xgclm4z9yDoxfNRrsP8IFOWltV9g/4gWE0J6k2z8MB2r+JNrIP0xTGSNpp98/nNFHFZSSxT8M8g7wdLLgPwwPO9cwt9E/rMLqaegT5j/oYN4/nNzaPzjQ9+qEj9Y/sMmbHIX4uj8Edu0s4KnUP2zn6g2AOO4/d5KdxtEQ7z9yGqiQGsjRP1BHCmLg1MA/t2yJ9Bkh7T8iRKuw5QDZP1jaLFHJArY/KEdq9yY61T9oDtDNRPnJP5viZI8XAeA/Yu9KGIRV1j+7nTls7gTiP5vU2CVuOOc/iv08KA0y7j9gQsCRbkmmP1b+AUEXONE/ZLcS0xea7D92Q+Vx9ufjPyZsZU5uY+0/p+H0UBuQ6z8SpbB8ojvsP68++LqAVeA/AgvnpHN45z+aln0XxU7SPzg7dntFbbk/SShVEcd67j8N4HRwA4TgP4i1gzL7a7I/lH1IeN/o0z8=",
        "encoding": "base64",
        "path": [
         "_data",
         0,
         "x",
         "value"
        ]
       },
       {
        "data": "5T8YTn0V5j8wzt5OrCPiPzj4nJlPNM8/6CHAgZhwvz+ZS7qEK77gP5OmN6Rcj+U/sVm3RmVv4j8krPMYeSHPP9g10HZ4lrU/Iu6TqOU81j9vCf0XrefjPyc1Dty/kOU/JZNGJck05T+I91EuUKnPPzI1jjQqw9o/UQ+40tRw7T8wHdEUuz6wP5LTzWyXy+Q/7msEKG044z/KsCthQqDcP6YBJbp9qN0/BIuZNS3NxT9ABvvf7u/MP1llO82P/O0/lo+VVqRB4D/oFE7d0ZS8P3l/A94ueOU/GAE6on1l5T/2j4Af2/TsP5w03HtgRec/DO+gKeP1yj+G65TD5GftP2qQ0RhQduw/CeXMhBn06z/i67fbFzTRP9ATMxoWpuI/RECLi+gh0z9AihQSU/GsPzaDcoUPw9M/P72z7NWG4z8wTRSEucLgP25Ja6N0I9s//NAzOO8IzT82lwUcEJvSPwg2FTgGUcU/JLeu+HDVxj/Ujfyjq4/cP2RaY/jCY9E/VOXNe7jozz/AB7Jw3UPnP3rcpFdl6t8/+gC6dHXf1T9ClvHEo7zdP4DxV2rfT+4/mokXhP6N6j/ACcaCxLqHPzTL8S5pvNw/PIupOfpy5j+dFXRuPiThP0T1+Hk66ek/ZS2LIH307j8CCnZdwujlP9IqOzXWcOE/qEq/r+O31D9Y+JPG/fftP/S7MOXJ1cU/g+d4p64+6D9ozgb/u+e2P/nhX9yaxuM/VImgRetswj9JjyCk6IXlPxrbOw42V+s/AB2rFVgNjT/xuMjwQ2LpPwAxebHXGYo/xNeMeL8D0z+iSXvod5fTP2Xaxgy4yOY/hnnMh3jv5D9ayrpTAAHaP77SJPJdotE/k3/J8klt4j+ydj5mz0XcP2PhNlrjyOk/v/1+Fbkb4z9Zs+8bUqfqP5WxILgzJuA/XFOL5xDP7j8dIcJyPGfvP3wHgUvhTss/1ECb1VQ41j9tWWlFnYLkPxZqS4yZ2+s/qMGdX9fh0D8jBQIvNZbkP9C2/FX+MN8/97mYfD+L4j9Y6ei8An3gPyTjZBuaesE/KC0QVP+kuT8=",
        "encoding": "base64",
        "path": [
         "_data",
         0,
         "y",
         "value"
        ]
       }
      ],
      "model_module": "plotlywidget",
      "model_module_version": "^0.3.0-rc.1",
      "model_name": "FigureModel",
      "state": {
       "_data": [
        {
         "marker": {
          "color": {
           "dtype": "float64",
           "shape": [
            100
           ],
           "value": {}
          },
          "colorscale": "Viridis",
          "opacity": 0.6,
          "size": {
           "dtype": "float64",
           "shape": [
            100
           ],
           "value": {}
          }
         },
         "mode": "markers",
         "type": "scatter",
         "uid": "377a3600-a925-11e8-9fc2-645aede86e5b",
         "x": {
          "dtype": "float64",
          "shape": [
           100
          ],
          "value": {}
         },
         "y": {
          "dtype": "float64",
          "shape": [
           100
          ],
          "value": {}
         }
        }
       ],
       "_js2py_pointsCallback": {},
       "_js2py_relayout": {},
       "_js2py_restyle": {},
       "_js2py_update": {},
       "_last_layout_edit_id": 1,
       "_last_trace_edit_id": 1,
       "_py2js_animate": {},
       "_py2js_deleteTraces": {},
       "_py2js_moveTraces": {},
       "_py2js_relayout": {},
       "_py2js_removeLayoutProps": {},
       "_py2js_removeTraceProps": {},
       "_py2js_restyle": {},
       "_py2js_update": {},
       "_view_count": 1
      }
     },
     "856ed2e8e6634f5489f7145cd2118c22": {
      "buffers": [
       {
        "data": "TKCDWsBc3j+sYd4XVKHvPwRHgHrZP+Q/fz6NPAf45j+iVtP0Y0LUP3sn4HONpeU/UM/YJBkmrj8cubFhQi/KP1S5N8Rj+8Y/yI2UvPZGzz9JDFFFFjLtP1jXETP4G8I/kP+In5iOvj/8ENtsZEvQP9s7IqXsAOU/nQ+mphMH7j92gkMS/bHTP7YeZuhUWNo/t1zijUHj4T/k+lhA/6vEP8oB6xIz7tk/oKnD6B48nj/wp+9JvNjWP9Ckav4UYL4/gRLv33xj5j8Tm8y+DvzpP0vBULXQRec/PMK3hx54zD8pYSHL8W3jP+KHem7zPd4/KPM1PVUn1T9w8pMoE2fmP+nXLbhsQuA/1jokdkdt3j/An6M6c1GMPwR15PPF3Nw/438egCU+4z+ti8GJLMnlP2CHja9ZaKw/sBekz4Zlpj/ZVG97IvDvP2yZxlyQtuY/iLPyJfPG7j/mv0Y45gbZP7mR83LED+A/WRcOBJ3Q5z+YZM2AKNLoP5SuNrbgIMo/Rri9oT0t7T+8QuU3JKbtP5x1VqoXONo/pptcAP7V1j8oMtb3jLaxP4YGA0ZYhOg/ckyI4Lvr4j+JQAQc0FXoPyaqb2luPew/toCWUoHi6T/ZjCqDhLzuP/ZyZoFs49Q/QJFG6pZP3T/yyigFoJfZPxvFLOAgse4/cBEzqcZNsj8/qJxAnYjlPy6Rri5+zu8/SIo9UHK76j9kmybiMtbgP8B3Rk8cDLk/KFxQzivpwj+jugQ4+BLsP95XYQC2mtc/KAxnM0NKyD+H6iDUTQ/tP4rV//rafeU/AFYO/OuSWD+C6V48/GrWPxhqu/JTiu8/4m+H2Bag4D9mybLL+zPQP/gGnXHQO7E/6OXolTxt3z/kN9E5IYPMP8RbxaaWxOs/aktnEsv70D/WPfgkKtLqP6TasoSeVMw/QB7SFpUS6j/pGE6Y+oLgP/hnGCvBFeY/Bs3XLTLx6D81T8SUQc/rPygzBdULFL0/aJsrPFVh2D9AeGz39h6UP2bIcwI0Nek/spTchreA6j+K3E3dfebiP0TjBQ8XtNc/BtkIoY6F1j8=",
        "encoding": "base64",
        "path": [
         "_data",
         0,
         "marker",
         "color",
         "value"
        ]
       },
       {
        "data": "HqzXUfyINkCEUibtBX/YP6Xg0UI12jRAMI5BAI6nOUAeyz98+pU4QLqTYm1PJDVAyfr69NIxMkClNYWgC+gKQN4bMsP62ihAac7L5N9bOUCB08/yZwgyQH7MEHwvdzVAnJdzMynmDEDJ16NTLaYrQMiFqBe3FSpAPzd0sLFtPUAgvNTsEjc4QNkPiVbLGyRA4EAjMprV2T+cBPJuibQ7QKlKencnZTlAICQE66TGJ0AOt5+nBAgmQFYGeSWsty9AGkmFfeuT6j+Qi9zxmRwsQCJqbpV4Dy1A9wDQ3Y56OkCVpEutobE0QCqHKjK5IjpAjmKifK5e/z9lj1ZmA70pQDvf3SGYaSVAJPW47Ak5M0AL6WCm+rknQDgXNgHu+w1ALjQpkfojGEDOfw+3E4s5QOEjExaMzxtA6wA+4SMvKECyWPVirYoiQHV3AFCvlDpAYVCgg2IFGUB2bAuVod4uQPR2Kz9jRzpAwQMFKWWvJkBymbOWQFMdQAdbbHLyuC5A813k9roZGUCA7+8SXrTxP8XNhA1fVydAXjZqBykED0DBvGpGOGYwQB8+7zCYezdANSBMcdjWM0DEwKwdYeorQGYhykT4Dfg/NiYPCNIHFEA59dZadcs1QP70ft6T3QhAal1LyPZZF0DsWUkpKUQ5QOunboIPOi1AIE+yxEx3KUAW/wTZ4g0UQACs5bYi16c/wJcrRrXWO0CROvlGcJg8QEU6tLIWpDlAKPKwDIhyF0AN/S0sI/cnQDys57LSPSJAJu056R+eIUDxknynA/T0P+ltDviysDdA0vlax/WBJkCvpH4ysLI9QM7qqIszyypA111DQwQmMUBdmlLuypE2QFgM4YgxIzVA4X9kO9zyLkD2/ruvswg4QK10T3sU0SVAVU90jWdbHkBTXl2Y4L8wQJ2DDV+6FSBAvwmZ4c22MkC3KpKTSJE5QFtaRwc21T1AyMRjIJd5OkCSn7wMO1IFQKLgeukUbThA5q+aoPMPGEAsyrzOjsA4QOteOluwOgdAEtEAxnXe7z9io5Rvadc8QPKYPOMqPzNAgMlilCG3MkA=",
        "encoding": "base64",
        "path": [
         "_data",
         0,
         "marker",
         "size",
         "value"
        ]
       },
       {
        "data": "vqFwc+B01j8le52GTdTpPzwxAHfJytU/FXPIrOCa4T+QFChmLQrDP2jganJSX8w/nnrVwSRQ1z/H4qp1K8jjPx37/h+8IuY/O5Lzwvyr4T8Vn2+lISToP7e2f7FoweA/1NclKvio5T/HjtwbZizkP0CfGAWDhI8/s+AThTh07T/lizgIDdfgP8jGw/qXbtE/PgZsDdBB3T9gBRG5mOLIP7s6kjx5zOg/KTLse4hA4z/8AaZBwwbmP+DoZWuUp8Y/NGNM23rS6T82Q02SmsnbP3bbJ8u2sN8/ZMPCr4GQwj92mFQW+lnpP/SMWJKz+O4/xluIj+wr2j/mxEL8RgzpP6DEVL4We6I/ubBX7ru56D/uVjgF2P7fP2z67ravn9k/7GGaFCcP3D8QAoNobILWP3Sf15J7Gc0/iI+MwfXZwD9JyG00uS7uP1Jf5awu5dI/vSbBTVZy5D+zQN+BEODtPwDHxV820bM/JWM0qmox4D+Q6aYwRNrvP2kWzHfvnuA/yA9D/FDD4T+W/nx4XcTrP0CIV16GudE/Lpx5zt8M1D+OHC1jH4rQP0rs2SnXRuk/aZHD6Pso6D9ZIK39517hP7QWm/AT994/FDZkuoGvyD9o/gbeGWPiP68Lce7ODOo/qtAuXK/X5D9+wcKlOgzkP9Q5dJfMp8k/Se/KBxP07j8L3HqHMv3tP/BkSahbf+0/RjvWiERX3j+Tx9jcsfLvP+7/sXpglOM/mu373H0C1T/RNvluY1rvP0Aqs5WjiM4/bF1rIERNzz9eZnCdEGLtP3yk6eyt7MQ/GbW5GH404D+6zh3P+rPuPxbU5b4pxeM/YFxyu7DJ2z8wmLETCDSoP87svwZxPOA/UkM7RZ596z9OSh3euNTbP8wznaqTo9c/JuIuuHXP7j8wf5hkkISnP/x4Aixk4ek/a1QSxXNV5z9bY2BHS6XiP3FX0eBnMuA/UOlpK1k3vj+AVB5P1xnHP2UhBb9qpOs/SLk2tF7V2j+nyaJuYsjqP2BfwtrO6a4/1rxuGgGT1z8YtL9UBdrSP6M+bfKcG+Q/hqGSmHbZ4z8=",
        "encoding": "base64",
        "path": [
         "_data",
         0,
         "x",
         "value"
        ]
       },
       {
        "data": "mK2jijpQ0D/Q0BqI5ROnP4iGceY3t+s/4g3WB+pI6T8EM8IGvELgP75gFfw52eA/QBi3UaQQ7j9D8nWwPlfuP1CH4ZBxfMI/CNOUBLO2sj+XLYMGxF/qP+2kOfNej+8/YhSpmgKe1D/XGhDjgfLvP5gLTJxZg9s/Ir69q9zf2T9lfEgj0KznP0028vQ0JuQ/6tgm030P5j+QDeYXUmbmP54gOgDRTNE/WC4FMRehwT8A7EssnurbP/PMlet5j+4/34LMrTZf6D+hLrWausTsP0gwSdyF/M4/2lixUMY/2T+6Y9LSMbrcP1flf6eVXuY/QJxaKJEijz8A+HUHlMnEP/Sv9itiTOg/pKYVY92y3T9AtW7OwNOYPyIuPVelrtc/2O164iCmxz/gCLnSxm7TPwBKcdA0sOs/xWS+bvIt7j+eOt6rxqfhP5Jt+JrM/90/D0gYyBjZ6j/isx3zsWTQP5Se2h1HHck/D5wYm/Fb7D9n0FTlAyfqP4B2rWjVOsE/v/nTgBSO4T/giMV4PYHBP5d0/NQcRek/oIZQ0V6VqD/znEmMvQvjPwIy9pF/5u0/oPHflfD4rz/B58oLz4XpP4yBjRRiWdA/oLRbroXprD923O5Le1nXPyLhqcEWbOQ/OtNUMsCp4T/MlpUEJY3qP0BhMt3H2KU/CBCLt+QXuD9QgqNvZMDqP9kxw4JzGu0/5stMdq0N6D8cRuU7UmXJP/DmFzv8Acw/NM7PLKa52T9qO2QW3WfvP5KNyi23o9A/ldgPKPxM6z9VlKnrbYntP0+mZRUxPuA/HJ19KhfUxT+Mu+z4pTTOPzwyleK719k/rt1+V3/U3T+RXf6OenTlP1jU8lRtmLU/oPbD2GJ43D927GGwkZzUPxRf7uqQZec/5QayaU9A4T9hr7+BLyHsP/nuECmxdOA/ujLvXjFL4j9ZhSq1MJfqP4CIqjQlqbM/zCqOFCBS3z/XcurVunbmP67ryCZKitE/P5P3p9N56D8dEoRL82XuPzhFaEkGa8g/HqmtUZB95j+SJxCtG4/XP/DKNCmVLM8/WNgVAKMZxD8=",
        "encoding": "base64",
        "path": [
         "_data",
         0,
         "y",
         "value"
        ]
       }
      ],
      "model_module": "plotlywidget",
      "model_module_version": "^0.3.0-rc.1",
      "model_name": "FigureModel",
      "state": {
       "_data": [
        {
         "marker": {
          "color": {
           "dtype": "float64",
           "shape": [
            100
           ],
           "value": {}
          },
          "colorscale": "Viridis",
          "opacity": 0.6,
          "size": {
           "dtype": "float64",
           "shape": [
            100
           ],
           "value": {}
          }
         },
         "mode": "markers",
         "type": "scatter",
         "uid": "c4f6c00c-a920-11e8-b13c-645aede86e5b",
         "x": {
          "dtype": "float64",
          "shape": [
           100
          ],
          "value": {}
         },
         "y": {
          "dtype": "float64",
          "shape": [
           100
          ],
          "value": {}
         }
        }
       ],
       "_js2py_relayout": {},
       "_js2py_restyle": {},
       "_js2py_update": {},
       "_last_layout_edit_id": 1,
       "_last_trace_edit_id": 1,
       "_py2js_animate": {},
       "_py2js_deleteTraces": {},
       "_py2js_moveTraces": {},
       "_py2js_relayout": {},
       "_py2js_removeLayoutProps": {},
       "_py2js_removeTraceProps": {},
       "_py2js_restyle": {},
       "_py2js_update": {},
       "_view_count": 0
      }
     },
     "a2e1a2c9cdcb4ade90da2211b95e46b3": {
      "buffers": [
       {
        "data": "Dq8WajTW5j9aKqIB2AjVPxzIVku/G9M/dmtcaGNZ2j/2cHi+zXzfP6aJ7NUhmew/BLhUs06hyD8YGJ3KtUfiP+YCmRaMld8/2qZ/0tjW3D/pjlX1mELoP7ThvQuV4cA/xFFIBbyo0T+Aht9c6uKeP2ZZt6oKDds/zTJU9t435j+CWiTe6kToP76DuX+0nd8/rMMuz/xLwD/5qVjQGFfpP2bSpA93Xuc/PrKO/0y60j9Op2Kbcg3qPwx4LPw+puY/VhhiR8ZQ3z/qbQQlhfHkPwpOoLRl+eY/yw3RQglI7z+MfGH4w5fPP3gUPH5UpLo/IOkgelj24j+HWlEpgFjgP0n35fa8re4/gLTTxvE30D9YvGWw2HHFPy4tibLHJe0/NYJNCxEw6j/KPccIqJruP47m9dhl8NU/UyflAlhd7z8sOmHT+NPlP1mM6mozRuk/dt/53ldV6j9gBvWWaffZP6CoLlPQ0ec/WPog2VUDvz9c5ftHqTfIP3S8IPW2IuQ/AnVOLWlu4j8QYkNRRg3qP4Bj4t23VaM/vDWOiGeazT/04F2cR4bMP7J2RcQDet0/xvd0aNBx1D/kiQpJv0/iP40f8vbbuO4/DtManGDa7j8QsmFqttG9P6MrnQXc0uM/gAcR/2ypoT9K42/WQeHVP6giMNQj78g/GN1h98Uctz/YFVdqsGPqPzD1i7auI6o/uJFQ59C1xT8kygf0uBPfP1MLfqHKJu0/jo5WVhWm3T9rXP7Get7hPwWU+sNa6eI/flzO1LiA3z8k2F5U8AfOP9zmYY0bMd0/SpoAbARA6T/8jp7UdhzoP3Xp6pzbfOI/kf7GDj1V6D9PqKm2qYPtP4yeEtHIX8Q/DH1aOi+W6j8QfssMi27OP+9UhJMHTuM/r7X5nNZM4j88+04jwkTnP75Dn8H8wOA/L/lzXuyB7D+LiNRyK/7hPwQQWeuTmd4/nMGaV8Wowj82+BNYf3bvP9xeoIIDCNs/vVuOr69D5D8tbxzLtg3rPyEDJSrK4uU/AH2yZTwohz/eBsuQxl3RP47T6fkyjNM/QGEBlAm51D8=",
        "encoding": "base64",
        "path": [
         "_data",
         0,
         "marker",
         "color",
         "value"
        ]
       },
       {
        "data": "JNOa1LzJNkA2ilk/X3swQJtdHPC3Ly5AYwoX957oIUDMNTryXKY5QEQqxwiw/ARA1KEZ3VITNUBsjS4cJ+01QEBXF/L+TJM/fvUYGAbhPEAUcejbGV8tQPB9UY4nWzhATtjCeFfsNkCiTNiO3JEWQM+ZiQf7lDtAHqk13F06HkDiGRUgXd0bQGgFEUokOTVAKxSpcMp1IkB/YV+uHJw7QLUHc+bblTtASefN1KYsJ0BIF0ydofQJQFTb3K7ZxiNA9AWCKwdjIkBMZlfYV6owQChRfIESkThAAZmAiuMIFEBmQbbQ4/k5QO5H1wSuYhJAvLrTeV53MEChPebHlQwmQA6Z0xwAIi9A1hXPnxtmNEBMOOWA/+c5QBErxo0uIDhABumcvW+DNkARVNooU1sgQNQAGCt6fjpAP5FSYKK8EkBZDghhxew0QCD7JQrnNDVAsZzONA7XNUD4L7Wh2pA0QBdgTjExMBVAt3J3BEtyNUBIMP62gu0oQFWQDlcfHClAXNUaCI7tOUCGKYiY8dQ2QK962UFCoTtAOlXcZykCAEDNcAsZP+0iQPbJfCqs1yxAvZ4nFGSS9z89A9ELSkwPQD6nXOyIPzZAumK/AAQu/j+uOLaJsrAzQLnNPanUpAhASe+YmVy5NUB0IbIYpjolQENGoEEsfDlAcwVoBjxNK0Bx2QMzabk3QL6sFgyzqjxAURwRAlaCOkB3fJdRouImQKYPGOnnICdAyk47ntBqFUBxxupZRhUwQDQblBqZUtY/UibX79OaHEANAnHFxHExQBPqocr3lBxAUFZf1vD8IUAd56p9W28zQOMKo1t/yTVAk1OLu/OrBEDQWQ61Vq4qQCQvhmUeuSJAPPL1IY+4KUAcogbVf8c8QC/vXbBqzDxA1BQvoctLCEB88fT52WrjP4GAW4tTijdA3dcQrazzOkBCAc9q10ItQEJ+5d8FozBAYDNfeQs8H0BqgpOOiTooQOZ+FmLr/DdA/iqKrvFNA0C6to96h74zQMnqHXb0KjRAmATGe5XAMED+2pVGLIwnQLLjS/aIyyxAOk/luVFTMkA=",
        "encoding": "base64",
        "path": [
         "_data",
         0,
         "marker",
         "size",
         "value"
        ]
       },
       {
        "data": "BboPsYwV7D9s9Btv/DfhP86UtNbrg9Q/2O2gd04GwD+ONaa1S3jlPwkx223DOOI/gDrVOLtbwj9c1JOGPiXOPxi76zOZz+4/Ij/xm8td6D8PcLOvRyXkP6dv4nkL9u8/7ofNADBb0j/Q7tJRYnHcPxxXNqvDxsM/Ct9Y//Dz3j/NKhqpOvzjP76Q3mxkKtE/KGotVXtz1z9Q4WfXViWqP0DeUElmx+s/3NTJX7JNzj/4464vUO3FPwB/jIG7ysc/zrf8m3vN3T8wRBZdc/3gP0Y79Zz8o94/LHvPmXbvyT+U3TLaMPbYP9dB+zXYbeI/uII7tFMNzD+FaIL76hjqP9Lsd3YpBe4/U3V86VSq4j/PwogtIbTiP3hWNUPHeL0/0DdboYhzwz+GGlXHN/nVP7hZDrD4kew/KUKXyDxl7j8Ai1ELRG7PP75SkmIjP+0/4Wesbp666z/gIUhnPGDCPx+A9sKA9+I/BDh/Yn6bzD/msEn8JLLdP2AUH0OUuZ8/379J17fn6T/hG7ZsQrThP9aJrTAfuu4/nCDv92OCwT9AAQiFjEa4P8AwigbKcpg/PEF1T2+ixz8+Ui8XBZzUP8y6t1UPE9Q/KObOu8Pn0D+jRfYwsc/jPzMNWl5uKug/uFbE/64swz8Q7dZnMLDrPwD5s3kQnK0/QGlLYSZV6j9sRv5ign7bP2C6NKn6DKs/7LQk0VzZ7T+GCiE8ct/rPzNZFoXy5Oc/4FndNRqZyz/eJfOryLDhP8rzQ3rFudM/J0cHi6FU4z/IiD97fg7cPyyvuOP3vNg/NNmG01aGxj98ZcFarLzLPzBbTUynys8/LPW35F6E3D+woJUkN9arP5D3LE6jSsY/6fsig5c37T+hM7gi7G/oP9eLu6/4A+0/0ESwB+jo1T+YVw136GjtP7A7rnVjvMU/PJRhxfHhxj8SVCXxDunVPzgbI0siSLg/LiZletWB7j+iV2Zh6sHVP1R936EkrOg/pCg+UVkE3j9XMwwxgFvkP249nj06eOA/tkn3tmKJ7z+qSwLb5PvpP6Tk8subr9g/dHC26i5Oyz8=",
        "encoding": "base64",
        "path": [
         "_data",
         0,
         "x",
         "value"
        ]
       },
       {
        "data": "L4JAaEM14z9cBtTut4DpP8Dn96muecE/D+d+7stX5z+D3afOo6zsPxLMtsuutNU/+WuhJF/r5D/Z9DKnv2ruP2CWI+MrwZQ/0nBspqav0z+oFLka++C6P6g9vv298Lc/rB+aIfZpwj/KZfth1pfTP0Y7xzmYJNU/iyqTxv7w5T/cLcJwnODFP4AdBUxWG54/gGm2FdCxvT/nvtmKFwTrP6iFcPvteNw/kOsR31r23j8w8d3yFr68P2nrJvwKUOk/TITHqZH90z8aNAPs72/lP2QatdtgINQ/4iwxY+J33z/oVp0DqJu+P4Af6xnc53U/7k90HaIb2T8gfi7+GcWQP0RgHdQLZsw/ekzFkwB36j/EhAibgabuP8yNjkIqHN0/QGDrE1iyrT+wz9Pi9mfKP4jJiBT64t8/QzLy8tMY4T9QCezZNwq1Pwj9+OqbTbk/hI/YPpFK6D/EnAyvur3cP1wkm0/1f9Q/nfKB5//M6j8gzMFKlvewP7As+Wd9Udk/9t+fqyb02z9soqMqPo3SP5TEw2HrXdo/wrFLVKvZ6T+4cs7Fgf6/P3Z2qDslmu8/9ETsMIGD5z/h1eeqizHtPwRY9O6s7Ok/KB02vPEkyT9o/e4ZPO/PPxV12mnXt+Y/qD8SmHVbyD+/QQ57Nh7sP/+Xw/wAZuU/dhG9JFg35T8w5dFRNXWxP5yUjiU1JeQ/pdL3kX9n4T+/IxKBYOrvP+OQ1//tdOY/QshqdNRL0D/wRcd1wTKuP9hcLVKDFLs/dC3gujK6yD8kmNBnKF/bP8iX/K7P19E/mFMwUkF5vD8mikQgsmTVPxiQ2HQVzrY/qCEe4dc42T/4zLSB1VvbP+wc1rpvW+Q/z96ECqXt7T9A4uFtrS/tP0gzA1IBqbs/sH3W3TGP2T8sd1yOFcfOP/D4DdBrMcU/4DLaE4HyzT8kdjDE6mbRP2pKVKChBd4/GlJc+hBB6T/8hofdC1rhPyRM403pR8w/sqgbjkw41T8VzVMJBK3uP2yOpm7uGdc/wIlUGaLt5T/AJkNrmObgP2vl5BtPmuI/3PWWUNxy4D8=",
        "encoding": "base64",
        "path": [
         "_data",
         0,
         "y",
         "value"
        ]
       }
      ],
      "model_module": "plotlywidget",
      "model_module_version": "^0.3.0-rc.1",
      "model_name": "FigureModel",
      "state": {
       "_data": [
        {
         "marker": {
          "color": {
           "dtype": "float64",
           "shape": [
            100
           ],
           "value": {}
          },
          "colorscale": "Viridis",
          "opacity": 0.6,
          "size": {
           "dtype": "float64",
           "shape": [
            100
           ],
           "value": {}
          }
         },
         "mode": "markers",
         "type": "scatter",
         "uid": "1251eec6-a921-11e8-b0e5-645aede86e5b",
         "x": {
          "dtype": "float64",
          "shape": [
           100
          ],
          "value": {}
         },
         "y": {
          "dtype": "float64",
          "shape": [
           100
          ],
          "value": {}
         }
        }
       ],
       "_js2py_layoutDelta": {
        "layout_delta": {
         "annotations": [],
         "autosize": true,
         "calendar": "gregorian",
         "colorway": [
          "#1f77b4",
          "#ff7f0e",
          "#2ca02c",
          "#d62728",
          "#9467bd",
          "#8c564b",
          "#e377c2",
          "#7f7f7f",
          "#bcbd22",
          "#17becf"
         ],
         "dragmode": "zoom",
         "font": {
          "color": "#444",
          "family": "\"Open Sans\", verdana, arial, sans-serif",
          "size": 12
         },
         "height": 470.5,
         "hidesources": false,
         "hoverdistance": 20,
         "hoverlabel": {
          "font": {
           "family": "Arial, sans-serif",
           "size": 13
          },
          "namelength": 15
         },
         "hovermode": "x",
         "images": [],
         "margin": {
          "autoexpand": true,
          "b": 80,
          "l": 80,
          "pad": 0,
          "r": 80,
          "t": 100
         },
         "paper_bgcolor": "#fff",
         "plot_bgcolor": "#fff",
         "separators": ".,",
         "shapes": [],
         "showlegend": false,
         "sliders": [],
         "spikedistance": 20,
         "title": "Click to enter Plot title",
         "titlefont": {
          "color": "#444",
          "family": "\"Open Sans\", verdana, arial, sans-serif",
          "size": 17
         },
         "updatemenus": [],
         "width": 982.967,
         "xaxis": {
          "anchor": "y",
          "automargin": false,
          "autorange": true,
          "color": "#444",
          "constrain": "range",
          "constraintoward": "center",
          "domain": [
           0,
           1
          ],
          "dtick": 0.2,
          "exponentformat": "B",
          "fixedrange": false,
          "gridcolor": "rgb(238, 238, 238)",
          "gridwidth": 1,
          "hoverformat": "",
          "layer": "above traces",
          "nticks": 0,
          "range": [
           -0.044382938612892456,
           1.0754921951115386
          ],
          "rangemode": "normal",
          "separatethousands": false,
          "showexponent": "all",
          "showgrid": true,
          "showline": false,
          "showspikes": false,
          "showticklabels": true,
          "side": "bottom",
          "tick0": 0,
          "tickangle": "auto",
          "tickfont": {
           "color": "#444",
           "family": "\"Open Sans\", verdana, arial, sans-serif",
           "size": 12
          },
          "tickformat": "",
          "tickmode": "auto",
          "tickprefix": "",
          "ticks": "",
          "ticksuffix": "",
          "title": "Click to enter X axis title",
          "titlefont": {
           "color": "#444",
           "family": "\"Open Sans\", verdana, arial, sans-serif",
           "size": 14
          },
          "type": "linear",
          "visible": true,
          "zeroline": true,
          "zerolinecolor": "#444",
          "zerolinewidth": 1
         },
         "yaxis": {
          "anchor": "x",
          "automargin": false,
          "autorange": true,
          "color": "#444",
          "constrain": "range",
          "constraintoward": "middle",
          "domain": [
           0,
           1
          ],
          "dtick": 0.2,
          "exponentformat": "B",
          "fixedrange": false,
          "gridcolor": "rgb(238, 238, 238)",
          "gridwidth": 1,
          "hoverformat": "",
          "layer": "above traces",
          "nticks": 0,
          "range": [
           -0.08208998894604745,
           1.0843489695957396
          ],
          "rangemode": "normal",
          "separatethousands": false,
          "showexponent": "all",
          "showgrid": true,
          "showline": false,
          "showspikes": false,
          "showticklabels": true,
          "side": "left",
          "tick0": 0,
          "tickangle": "auto",
          "tickfont": {
           "color": "#444",
           "family": "\"Open Sans\", verdana, arial, sans-serif",
           "size": 12
          },
          "tickformat": "",
          "tickmode": "auto",
          "tickprefix": "",
          "ticks": "",
          "ticksuffix": "",
          "title": "Click to enter Y axis title",
          "titlefont": {
           "color": "#444",
           "family": "\"Open Sans\", verdana, arial, sans-serif",
           "size": 14
          },
          "type": "linear",
          "visible": true,
          "zeroline": true,
          "zerolinecolor": "#444",
          "zerolinewidth": 1
         }
        },
        "layout_edit_id": 1
       },
       "_js2py_pointsCallback": {},
       "_js2py_relayout": {},
       "_js2py_restyle": {},
       "_js2py_traceDeltas": {
        "trace_deltas": [
         {
          "cliponaxis": true,
          "error_x": {
           "visible": false
          },
          "error_y": {
           "visible": false
          },
          "fill": "none",
          "hoverinfo": "x+y+z+text",
          "hoverlabel": {
           "font": {
            "family": "Arial, sans-serif",
            "size": 13
           },
           "namelength": 15
          },
          "hoveron": "points",
          "hovertext": "",
          "index": 0,
          "legendgroup": "",
          "marker": {
           "autocolorscale": false,
           "cauto": true,
           "cmax": 0.9832150192521627,
           "cmin": 0.01130721268992696,
           "gradient": {
            "type": "none"
           },
           "line": {
            "color": "#fff",
            "width": 1
           },
           "maxdisplayed": 0,
           "reversescale": false,
           "showscale": false,
           "sizemin": 0,
           "sizemode": "diameter",
           "sizeref": 1,
           "symbol": "circle"
          },
          "name": "trace 0",
          "opacity": 1,
          "selected": {
           "marker": {
            "opacity": 0.6
           }
          },
          "showlegend": true,
          "text": "",
          "uid": "1251eec6-a921-11e8-b0e5-645aede86e5b",
          "unselected": {
           "marker": {
            "opacity": 0.12
           }
          },
          "visible": true,
          "xaxis": "x",
          "xcalendar": "gregorian",
          "yaxis": "y",
          "ycalendar": "gregorian"
         }
        ],
        "trace_edit_id": 1
       },
       "_js2py_update": {},
       "_last_layout_edit_id": 1,
       "_last_trace_edit_id": 1,
       "_py2js_animate": {},
       "_py2js_deleteTraces": {},
       "_py2js_moveTraces": {},
       "_py2js_relayout": {},
       "_py2js_removeLayoutProps": {},
       "_py2js_removeTraceProps": {},
       "_py2js_restyle": {},
       "_py2js_update": {},
       "_view_count": 1
      }
     },
     "b8cb9640b77a4ca58c2f313a87f5a1e9": {
      "buffers": [
       {
        "data": "tLWRFO6j2D/Y2CBoDye1PyyHaF++rdU/mCxai9Tt3T8pcMXCsgjpPzCMtX8eD6w/XPJz8rxw4T8olHNqvGvIP2jmCm5AFNs/TIDmnBBH3j/0OqCqQA7BP4lvEQCF7uk/fMEfU8Wf1j+Y8j7JQA+8Pw5gMxj6m9w///5G670Q7j9Qp+4lQLanPzxdDl5nu+A/nM68wYyBwj/y+EIbrl7RP4TbefLCKtM/9cLQLOd66j/y3fekbFjrP1bHYHNhHuM/6npckKJN1D885snmVg/gP5wi29wSdcE/3lf3VZSu0z8SRHIpd+jnP1pgbHPKNOA/WDNwqMwKyj/RpYFdSIHtP9ABnjPbPNA/HoK7bZ7H4D/gZlmHvw/LP+yAskevddQ/AIqe5gGU1D9muYTI0EzaP6ga6Q8sCs0/CLj2pxOU3z9urFBYTDzrP0kooA/SHu4/PMxPXY3V2z+AG3XykB/kP0FU7JgiG+U/gEBZs7yygT/o8wI4DnzlP0hDIG4qzeg/kDsBSoHosz9z7GHccWvtP4SZke6r4Ns/oMUSCoGymT8O+FZmimfqP75F3T2cvuE/jSgvoRpn5j+E0eC8F8TIP4hPX1OqTOw/8NlCA1Ji5D+UVRoAkBvIP8/f/ymrPeU/ZvG+HsYl3D9AiDer/GjJPwgg5gukqrE/QJyjMJ8piT9SMDvcMw7aPyib/07bJsM/RCHdOnX37j8AKHBzqVZZP3AF53bUReI/0JQL0Qb+zj8ehpoCW0voP1a2VAs5luw/uch0EIrJ5z+hSf44Tu7kPyZhtlNFt+g/xhDpZArq1j/wbFfLe97VP+EkIIbMz+Y/U9+gUCuF6j8xIWlr7IDjP4TpKGcY6s8/X3NJ4tf/7D80HDQYHEXGP7Bm8hSVBs0/mSeu4l8R5D82fZY39kjpP1DnxZYIMeE/8/OH6MAL7z8K412zYEXqP6DOCgKIR8Y/nRGn1ord4z9wudM8VNHKP8S5GAUuZ+Y/qCBhZjlo4j+druytkQbiP+AadlE7+7U/SELWUfjK2D8JvNxMLl/pP4LncoI2lt4/+KGw9WZmyD8=",
        "encoding": "base64",
        "path": [
         "_data",
         0,
         "marker",
         "color",
         "value"
        ]
       },
       {
        "data": "rZdMj9RMGEBtAtnWTDsxQLswQ+OrkS9AuQj5Y2vbPEAFBnqI3JYhQJ5AjoERWyRA6UQKLFgXMUBK2OE5eb4cQO67OoNG4jBA4pn83y5nGUBhtfIExTIuQNmy5ZrMxjJAdHPVxEQzPEBYuI5T+zwuQLyeRZ5StjxAxtY1BcD5MkBHbMCGQAISQLwJvXrtEDBAaPWQ9a9ZPEDNJHLn9+k7QCQmmg7nW/U/jRDYdi+1G0BOvm1RdScPQFqFgT5hPRVAuOtRFrr5MEDIFbECkREpQN8/6sPpWzBAWCfT80KPJkCIE585Pn45QKhaPaOL0T1AAj0iz+lAKUAskPyIKTgpQGggkMW8ixlAF+2HCm9FLEBoOscVWtcdQE4X4nMS9zZA5030sgVoAEDQTD8G0qw8QN/5+t2PMCFAQ3zYOFmxK0DomIi5hKUvQI8B0H+prjBAY380T6WnLUAP+jXfvh4XQCZ2i8sHzDFAhIgS+in6IUBGsdcwUwczQNA/Ssn2CBVA3nyBFPuONUDfRoC6AxouQGW7GvzitDZATUx4qmk6MECF4x1VGAsQQOrINvWvQuA/2MCMeKlpNEBNcEenHcA3QAwBjt6qFSdA9xXbnDpvLkAoDvmxt1sxQNVwjsmjdD1AtN9D3JnkPUBZ23XHcl81QK/OjEJ78Pk/6vPmVTxbO0Aobiisz5UhQCWpqlA5Fz1ASmBwo1dLB0CtmwDs9QEhQG65F7iB9xpAS9kkhnYwNUCwAsZ8+3YxQFmkRdoqrj1Aqy4pyls0N0C8WCnEVqk3QF/vlJyKQD1A32uwsJcYOEDEdYmeiYY9QFPmbqX6gTZAdkZHxF1b9T/O2RWqBW07QFrC1dFwcCpACFKteieOOUALnQadCuI8QDl0GkToEDVARVVo8EGqNUDn7TDmnkU1QBXVLG0F0DBA97P5uBZZIEDC+hB9Z3E5QN0thn+EBxRAumeuMDGLOkC4zAOQFCE3QHi1/XQC9xpA5KKdaRSPMUAGmKkQhYIvQAYSDvOUoS9AJOamL0FrEECdi8yXAcIcQCK8WmKOxzhAzNxlWSjXKUA=",
        "encoding": "base64",
        "path": [
         "_data",
         0,
         "marker",
         "size",
         "value"
        ]
       },
       {
        "data": "2kuifAFX7z95s1K/1TfhP7paMfGBENQ/KOFnmaFq5z+aT/ZhBifZP/8/4IFc+ek/AKA+qBQdUT+mLevV4B7mPyDY44k3PrU/HqT0VX/q6z8cgPax7PLMP4jTOu+OAMk//kvCyrxO5z+0R8tTybTdP0YroACkT9A/y/ZeNhee7T8w71v1VansPwAim5/efdQ/Tp7zIMl40j/8hFP9YLzVP5DnBCziYr0/jDMR2SWZ4z+BcQRXH13lPxCwWUHXge4/XHc4f2dx2T+DfSV2X/vsP5i45evnK8A/kGxSWuKRvj8AZ2rYOsSAP+2htWsFcu4/FFzciqmVxD9A3/ffTPimP/+RfKwLwuc/6paUbqYT5T/lQjtzrernP0ad8LHDDeE/UIf2m0RU0j8Ed/FfxiXQPyVFhs5v+ug/01ELRfyL6j+g6XTVV0GQP1YXGcjRKO0/duXXcHQC6D8USe4rVIzmP3zOki1tBcg/IJi5ZCORtz/uw/YWxeXtP6HIm4BJkOI/3EfIcMZWwD+btU2cxxTsPwfJIy0+E+s/UoBF2vyL7j8+QdspikbQP+g/ivoue+o/IHVc3b4xyj/t+vekdSXhPy7Wj3kLTuk/QH8Mf10Fsj/ExOzp967BP6684rrdEe8/4DSchmJfwj/6lOoVnIzjP9PPi5A6OuQ/YDKwtajGmT+uUjs8b2/oP+6fXAs1/N8/Nj9Wop777j8oriTWbK3QP1B9zKAbw88//k5qIzvk4j8IQqjgI+y8P9dkTat5WOM/XsY7Kooo3D+04VNoQwvXP/GPvEOQiO8/6HjR8MLOvD+M1KLSGYDEP4FYHzm/bOg/3HOCsSlZ6D8IJUY53DTLPwB4kFtKgLU/LjUx0bvC7z9VhZy1wkDuP7g//+CBMuQ/oCG8dR/byT9+fpfbGaLpP+TAJ777hOk/ZfXNiS3H5D/QCWz3p+HuP+giZrHI49Q/AAhdPbHtyD8k8+1bFf3EPzhmH7+M0rc/tl5XPi4O4T8SbZuQjPDYP5it216X8OQ/0mCOc0TE0j9JfEdtxTnhP0RfvmkdzMc/UfjZQOpb6T8=",
        "encoding": "base64",
        "path": [
         "_data",
         0,
         "x",
         "value"
        ]
       },
       {
        "data": "zaUc77Ak4z+JYuGV8SznP2DrgfEuCcM/dYhG+Kzg5D+AS9dzy8GjP1AoxFprn7w/7MRarsCy1T8UHLZIumvqP/hXQEiYAdQ/DTpMvoBz6j8QMpFXKT+7P+AnB+l709I/slLxy4do3D8W73NPyFHqP6CnqMkJDqI/uiEGTy/c2j9cPPARU5bvPwy0PCSJZuI/EvSbUDfv6T+pwgxl4HHhP0HR4LHQS+k/UPqP0x6P5j9SFIz9+1TVPxncb6hyAuo/4Iv0UJ5yxj/Ah+Qd+jK/PxCHGriWucc/GyTrH8a74j/roRiiBnLvP6Uj0Cfy9OM/SO+T2ZJN5z9g+d7WUwSvP8hPNL7hWdw/Aq+kPAcR6D/8jVgBxrvmP/gh4h9wT9k//gwG2/ji3D8EIAOOcxnAPzVqNvOf2ug/X6YfxLG54D8+i4soWbvXPzAb42une9M/UWbTomPm7j+BSU6DH4vjP75WVhJrLtA/mBJ2fuzHxz8AeIukIYBeP+cpjS140O4/rESypYoj7z94haaz247DPyVfA3mJ5uY/WA5jX6Dp3D+6XOcdk8jrPzANGSQCvqM/0CacAwQj4D+iGGANxIjVPxIQ4CD1Qdc/ttaKyALz2D/nxlbzn1/gP+COsti1OLY/YCempg5muD9jst0pXCTqP7vnu5QrBOo/fzObueNX7D/Fh9Lz7x3qP+xIY3F77ME/tFJlAN5P7D+IYDe5QKy2P1X6XaJ3FO4/QPF0gHhXmz8/O2yiiq/gP1iXrOmC2uw/2Jz7znh54D9kPrkgDmvfPzjVMDphd8U/+WECZhqA7z8eU5ub87vhP2OO1n5WhO0/POzxoyux5T/AIA3LnhaFP6DHYywCQ6Y/ALpVvFQxcj/yLj9PL/TuP2ERVm/4P+s/USFQfUkM7T+iGua4zrjnPyBd2KH0f8w/3iXfJorq1z9USKyE9VfcP04ok/riJtU/NkRVAufE0D8Ez1adHhbTPxvnpZdwRuA/zfX3DulN6z9K14Dvl+zbP6LMI7q8y9A/iPgsHUBGxT++R4OTOEPtP/ZHryDYs9o/oN+PYJt15z8=",
        "encoding": "base64",
        "path": [
         "_data",
         0,
         "y",
         "value"
        ]
       }
      ],
      "model_module": "plotlywidget",
      "model_module_version": "^0.3.0-rc.1",
      "model_name": "FigureModel",
      "state": {
       "_data": [
        {
         "marker": {
          "color": {
           "dtype": "float64",
           "shape": [
            100
           ],
           "value": {}
          },
          "colorscale": "Viridis",
          "opacity": 0.6,
          "size": {
           "dtype": "float64",
           "shape": [
            100
           ],
           "value": {}
          }
         },
         "mode": "markers",
         "type": "scatter",
         "uid": "f624ba00-b07b-11e8-b9ef-645aede86e5b",
         "x": {
          "dtype": "float64",
          "shape": [
           100
          ],
          "value": {}
         },
         "y": {
          "dtype": "float64",
          "shape": [
           100
          ],
          "value": {}
         }
        }
       ],
       "_js2py_relayout": {},
       "_js2py_restyle": {},
       "_js2py_update": {},
       "_last_layout_edit_id": 1,
       "_last_trace_edit_id": 1,
       "_py2js_animate": {},
       "_py2js_deleteTraces": {},
       "_py2js_moveTraces": {},
       "_py2js_relayout": {},
       "_py2js_removeLayoutProps": {},
       "_py2js_removeTraceProps": {},
       "_py2js_restyle": {},
       "_py2js_update": {},
       "_view_count": 1
      }
     },
     "e175a8aa29444951a3472b0be26774fa": {
      "buffers": [
       {
        "data": "IPNAc+dQ2T+oIw7ZC5bUPzAWGzgWb9g/YKbfYAtlyj9IGPdGIovIPxBsECR8DtY/Eb+O2Jnq7T9A0keZVMiKP2PZFHhYveA/AIonNXzrqj9njcoDKSHsP8BKCJ7Dw+8/gKXnykYGpj9onPV4UlXkP4Uf4a1QauA/6jpxfg3T0T/Q3ruE62/fP1Zksv86PeU/eiUpJviF4D/QMLx03U/UP1eGpg9UGeo/eK5rhIZ52T9IhMljCCrXPxWX86YC5eo/CN/1cEbxyj+UeMo+N8jBP4BsWqae7H4/wDIiLaAotj+Ul83PndzRP8dPpzvCp+0/D3qLfm2J5z8P87bNiZXkPxbvcnudauA/i361ZrHt5z94eAIb2TLCP6TjT3KFL9c/cOCUMTBz4j9ARewhyVXrP+aehSbAS+0/TNweQIwKyz8RBlSSyzXsP05hbTL0KuY/8MUrPIb2pT9QTqsMXyrQP/nD0Zm5F+E/YGzZhJlN7z8uQYcXuCPgPwLejEXNP90/CEp+NoL27z9Ef4sjneXiP5vDkWyl6u4/QKIMkhOFgT++hi8bfWbvP/ogAF86mO4/wS8nZrWA5D90g3PjCMfCP8v9wqlWIeY/vDjYRFGsyj/QUXUcSfrkP7wHnb0A0tc/PODihznF0T8ldh4OM57gP5nJQ4EwUec/UI1vblyI2z+pmr0H2QDtPyhMxJk/k9g/ACa/cSA3hj/WCJ3bS6zRP9lYbFmwFO0/ZDqUe7377j+sCkMb2n3nP9hRnx1i/dk/JMOIpKcr4D/JtCej13PuP8hOXI+0yuM/mIWU6CQn4T9gU5CMpBDCP13qQrlWeeo/XXKg4C2i6z+gDU9AN7yXP8iEYLcmqMk/CGg/HKye4T+Hnt/BcdLgP/gTXRqWpck/EDBPOHlh6z9Evu9Y/9DPP9jRg+F2id8/8n9C5fHU2j8KG95Uhh3mP2TG1vow6OI/XLfw1So7zz/EwmF+PQHPP73vKC0Kdu4/vL50FceYxT+AFQPOnfiJP+rlQ/AD2+Q/t3jC4lKO6D+4J1uWBNrOPyxl1zE2+dE/PvYwTQJL1z8=",
        "encoding": "base64",
        "path": [
         "_data",
         0,
         "marker",
         "color",
         "value"
        ]
       },
       {
        "data": "an1yV0upMkDk9Lo95KUsQOZ3hTTQNC1AfOU9kQNfHUBodsslgNgrQL/7L2vcWDtARZNZgmPiNEDO05x2qZDwPyYhQ6eyXuc/+6hEfcONNUDC6La6hqI0QB7WY63zYjFAnpUVjVTeIEDWu6VVRokDQOtCoY94IDtAwyF0ZXWgO0CDYhMfeJs3QARL5cp7Gz1Akr4mRA52LEBuMVqzwH8CQP7piNbIwQZAApOdAc04EUCE6bMKK2kJQFqXuBQhyjpAKssAYg7UMkBESltOcaciQMv3vWL3VyxAw8mWe3L0LUDWC8+d+98wQDWv3DlwhTZAW+y0nZ9XM0AufSoQ38c0QI5PjpuXV+g/HKAIFVQ1LEAHzDk/2+srQMSQRjefDCRA38U40QnWJEA8VdUHU8odQN6Xa8Ka4wlA6j2CIGhHKkAo3wd0UKXdP4La00ZwSThAybgQ3HWvOkDIcXf11MQxQFYNgcbc0zpAZw/DG9utOUA0EfpT56knQLsuJi1PVjtATb3/vushCkBWcGcmgyYxQI/4FdZ7ZBlA1WwoMWUQOEBGcuPM85o2QDPXQo8fojFA243ScYoRNUAcRPsYD3siQGdYGdcSrjBAlZcaHtsYNUCbplQksVYwQCzYjS44YjRAQLdrDCxSMkAvzycXiqQrQG37JJ+sNhJAG6EpCx8hN0Ce1NLnxGsmQHDJi/tDgwZAli0colA5KECOVZeiSRc6QIDjyemI7AFALFkYB7YlJkDr7IFhJWMWQIAhj64v6D1An3XTD1L9FkC4SrvC4N8vQPzoKdQCrxhA+GMuOHVyEkD3wQAww3kuQE4yq3VwjDpALrHQ3KkxMEBqiWcQn340QHYuq1/DOTFAKZPreQkTM0DxMSj+zL48QFpm5+aQVx9Abro7VmRNC0Al/leaRgwxQBazdOiE1SFAEmCTrHL9IUAwoEQTTbI0QGx814tRhR1Aq4VeAhGeOEDk2HaZOio7QOGPX9S8dztA987uocOXHECQwG1YX50vQLaySjvkChtANDrAth/JM0A8juLQhLs4QAAznuRNhhtA7WHBZ8vyPEA=",
        "encoding": "base64",
        "path": [
         "_data",
         0,
         "marker",
         "size",
         "value"
        ]
       },
       {
        "data": "1Osa5l4f1D9MXkiUbz3RP4Ca3vwOXLc/QFwRm0YVlz9zbgDbXkjjPxilKzzZ5rM/HqM/TaKq5z8MXRfJR8TJP8gRyesWArk/v8xbPbaF6T8ww05W5g2wP95rtAbB6No/ACpkJTniYT++ly1TlFbjP4dWBzTw3+E/ZJ5gz7xj7D9XB5HUDInpP2wRVBKmA88/PN3disEcxT9RLoW1TDHvP/A0RStuRNM/aPjNC+xH2T+RNDIMJkThP7jGo11lFLE/dGSpUc9p3T/04ExQAyPiP2lVJpAS8+c/YPeJqV/h6D/yt424Ud/tP/ctJo5R2eM/MDe1zC25yD8QXLzeCIjPP5913RNvwOA/CAWbfzT26j8ubvM/1wvWPzmiyBiqeuo/LzXShNd14D94m1Wrf0nVPwlVQMCFkuc/BrBHWHTW0D/PCvuv5Z7uP2oyJu69neY/VgsUpAik3T/2C1bVsPDoPzREDMzf2Oo/tFhan0Je3j/PvPeXwUTrP8UwsxVeiuY/2O4KWfkg3T+L0pwIPV3pP7/n4miDzO0/WDfHQPRE1z88PbTSg0ngP53OnLDH1+E/DC6EPlZAwj/QDb8LU/PTP4BAeLJfG5Y/bKSNoemaxD8w4Vpk9w+zPwDeSiazV88/nAyp6MNE2D/mWxtMOejuP0Ba+TDp7po/yYr63jjX4D+YqbhZ5BHHP9FU2iCRP+Q/ohUx1hak3D/Al8tpTJWEP4gRY3CfXMg/oAJN/ZRO4D/VZOTNgVftPyTSnsMXNuM/EKRW+7b97D+AJbHhqfCzP/MpFEiuGu4/lAwYMdQvzD+AMyzsRpjIPyJKcGkrhuY/Ilpf9GuL3D+JYHGitsTsP5UwB0B+4e4/ABGpNw3wgj9HXxPDeSvtPwG46g4l8u4/o7OVlrsV5T8gFASIOKWYP/ijm7wtVOI/yOceLCrJ3z8268WliO7nP5sQIHLq8O4/gefLEHAS7z8AdIhY4WqgP4BBtg0JyXU/EGeY+eZK6j8tt/mF7frhP7LxOcvT89w/PP0lGNrS1z8VfjV0Y1fpP5qtR2wLVO0/nXSDU68o5j8=",
        "encoding": "base64",
        "path": [
         "_data",
         0,
         "x",
         "value"
        ]
       },
       {
        "data": "kN5JbXgV7j/QXHL4sr/NPx/WLfHtVOo/1aoFjQpb4D/Oy2wLYdnfP2B6kyrDIZo/yNIBcQRT0D90l3KGNY7JP2a+fgU8DeM/0KuWPkXwrT/CiGH4+M/tP7DbgDNLfqw/653g9Iap4z8MdSgCrM7PP8vjDk3WF+Y/h/7rz0Eg7D8KlnfJXizqP8m7JQUM/Oo/lFe9aCULzz/Rjn1mYinnP0KmTr62zNk/l79ZPxcj5T8IzsqRgXbMPwMN/pD9Ou0/oGUgQbGLuD/Bj/PMMvXhPzD9Ljlo0b8/pkQgu9gP0T/cE/7wzHXgP7ouS241nNE/sOPW/md3qD8Eh5uyZrHkP6RMAdC9U+0/4iV7IAoK1D9gy+w7lGPOP9r5z6Ewbdk/0PbGx0+G3T/5qyZuwnbpP/y4Pmdj2NY/RCOxYYEqzz+A6R7mkBjvPy7sd3vZD+0/5dQ9DTdo7z+aKPIeCdXQP2HI7VSGX+s/qAgn948KxT9Yb4f9/8jEP/wwmtQlW8w/BiPha4S+2D9QWtR9277mP8yB0s2UDsI/G/ZDeDRF6D+DrlJHoofrP3hRfHdTB9A/HGCTSd424j/rXsSkow/tP/pCSuzWS+4/ZlPLcP8k5T9wzt2crxvGP7hegYxpves/YQPeI5Ni7z+IJGCwPXDFPyVP4AAWdug/TKcd++K05j9DEjFoNlXkPyAsdA8Kcbk/f0WXdFnS5z8ASewEtg+/P6CiCjwe1eU/nUU8FJdv7j9nIb95dHnrPzj9TwU5Y84/cDv7UcR0uD/y1p2z3+bgP6769tN/WuE/Ynt47WC37T8YHy/a3YfDP+q8qvxbN9w/wzBmJvzg5j9aJK0t8P7YP2dlqE0+8uA/rLsv40ZbyT+sIbaaFkzEPxD8rK+u6cs/jHVqO1t62T8bSlu3emzjP8DutONjIYg/vBcJyGS6yz8yODSt51ntP5jWEYwBFNM/yB8IMGbz7z8o+CphVA/nP0is1JYLHN8/MeK+vFq/7T9viU4rdQDuP7Zg7QHmyuE/iKpsjz6lsT+oC6YPnR23P2BGtMrlOsE/fLZwYDCj2j8=",
        "encoding": "base64",
        "path": [
         "_data",
         0,
         "y",
         "value"
        ]
       }
      ],
      "model_module": "plotlywidget",
      "model_module_version": "^0.2.1",
      "model_name": "FigureModel",
      "state": {
       "_data": [
        {
         "marker": {
          "color": {
           "dtype": "float64",
           "shape": [
            100
           ],
           "value": {}
          },
          "colorscale": "Viridis",
          "opacity": 0.6,
          "size": {
           "dtype": "float64",
           "shape": [
            100
           ],
           "value": {}
          }
         },
         "mode": "markers",
         "type": "scatter",
         "uid": "06ddf3da-a8b5-11e8-82c8-645aede86e5b",
         "x": {
          "dtype": "float64",
          "shape": [
           100
          ],
          "value": {}
         },
         "y": {
          "dtype": "float64",
          "shape": [
           100
          ],
          "value": {}
         }
        }
       ],
       "_js2py_layoutDelta": {
        "layout_delta": {
         "annotations": [],
         "autosize": true,
         "calendar": "gregorian",
         "colorway": [
          "#1f77b4",
          "#ff7f0e",
          "#2ca02c",
          "#d62728",
          "#9467bd",
          "#8c564b",
          "#e377c2",
          "#7f7f7f",
          "#bcbd22",
          "#17becf"
         ],
         "dragmode": "zoom",
         "font": {
          "color": "#444",
          "family": "\"Open Sans\", verdana, arial, sans-serif",
          "size": 12
         },
         "height": 470.5,
         "hidesources": false,
         "hoverdistance": 20,
         "hoverlabel": {
          "font": {
           "family": "Arial, sans-serif",
           "size": 13
          },
          "namelength": 15
         },
         "hovermode": "x",
         "images": [],
         "margin": {
          "autoexpand": true,
          "b": 80,
          "l": 80,
          "pad": 0,
          "r": 80,
          "t": 100
         },
         "paper_bgcolor": "#fff",
         "plot_bgcolor": "#fff",
         "separators": ".,",
         "shapes": [],
         "showlegend": false,
         "sliders": [],
         "spikedistance": 20,
         "title": "Click to enter Plot title",
         "titlefont": {
          "color": "#444",
          "family": "\"Open Sans\", verdana, arial, sans-serif",
          "size": 17
         },
         "updatemenus": [],
         "width": 982.967,
         "xaxis": {
          "anchor": "y",
          "automargin": false,
          "autorange": true,
          "color": "#444",
          "constrain": "range",
          "constraintoward": "center",
          "domain": [
           0,
           1
          ],
          "dtick": 0.2,
          "exponentformat": "B",
          "fixedrange": false,
          "gridcolor": "rgb(238, 238, 238)",
          "gridwidth": 1,
          "hoverformat": "",
          "layer": "above traces",
          "nticks": 0,
          "range": [
           -0.07420720579165115,
           1.048097300844334
          ],
          "rangemode": "normal",
          "separatethousands": false,
          "showexponent": "all",
          "showgrid": true,
          "showline": false,
          "showspikes": false,
          "showticklabels": true,
          "side": "bottom",
          "tick0": 0,
          "tickangle": "auto",
          "tickfont": {
           "color": "#444",
           "family": "\"Open Sans\", verdana, arial, sans-serif",
           "size": 12
          },
          "tickformat": "",
          "tickmode": "auto",
          "tickprefix": "",
          "ticks": "",
          "ticksuffix": "",
          "title": "Click to enter X axis title",
          "titlefont": {
           "color": "#444",
           "family": "\"Open Sans\", verdana, arial, sans-serif",
           "size": 14
          },
          "type": "linear",
          "visible": true,
          "zeroline": true,
          "zerolinecolor": "#444",
          "zerolinewidth": 1
         },
         "yaxis": {
          "anchor": "x",
          "automargin": false,
          "autorange": true,
          "color": "#444",
          "constrain": "range",
          "constraintoward": "middle",
          "domain": [
           0,
           1
          ],
          "dtick": 0.2,
          "exponentformat": "B",
          "fixedrange": false,
          "gridcolor": "rgb(238, 238, 238)",
          "gridwidth": 1,
          "hoverformat": "",
          "layer": "above traces",
          "nticks": 0,
          "range": [
           -0.10866897890444877,
           1.1254151629389626
          ],
          "rangemode": "normal",
          "separatethousands": false,
          "showexponent": "all",
          "showgrid": true,
          "showline": false,
          "showspikes": false,
          "showticklabels": true,
          "side": "left",
          "tick0": 0,
          "tickangle": "auto",
          "tickfont": {
           "color": "#444",
           "family": "\"Open Sans\", verdana, arial, sans-serif",
           "size": 12
          },
          "tickformat": "",
          "tickmode": "auto",
          "tickprefix": "",
          "ticks": "",
          "ticksuffix": "",
          "title": "Click to enter Y axis title",
          "titlefont": {
           "color": "#444",
           "family": "\"Open Sans\", verdana, arial, sans-serif",
           "size": 14
          },
          "type": "linear",
          "visible": true,
          "zeroline": true,
          "zerolinecolor": "#444",
          "zerolinewidth": 1
         }
        },
        "layout_edit_id": 1
       },
       "_js2py_pointsCallback": {},
       "_js2py_relayout": {},
       "_js2py_restyle": {},
       "_js2py_traceDeltas": {
        "trace_deltas": [
         {
          "cliponaxis": true,
          "error_x": {
           "visible": false
          },
          "error_y": {
           "visible": false
          },
          "fill": "none",
          "hoverinfo": "x+y+z+text",
          "hoverlabel": {
           "font": {
            "family": "Arial, sans-serif",
            "size": 13
           },
           "namelength": 15
          },
          "hoveron": "points",
          "hovertext": "",
          "index": 0,
          "legendgroup": "",
          "marker": {
           "autocolorscale": false,
           "cauto": true,
           "cmax": 0.9988413872072792,
           "cmin": 0.007549876905296959,
           "gradient": {
            "type": "none"
           },
           "line": {
            "color": "#fff",
            "width": 1
           },
           "maxdisplayed": 0,
           "reversescale": false,
           "showscale": false,
           "sizemin": 0,
           "sizemode": "diameter",
           "sizeref": 1,
           "symbol": "circle"
          },
          "name": "trace 0",
          "opacity": 1,
          "selected": {
           "marker": {
            "opacity": 0.6
           }
          },
          "showlegend": true,
          "text": "",
          "uid": "06ddf3da-a8b5-11e8-82c8-645aede86e5b",
          "unselected": {
           "marker": {
            "opacity": 0.12
           }
          },
          "visible": true,
          "xaxis": "x",
          "xcalendar": "gregorian",
          "yaxis": "y",
          "ycalendar": "gregorian"
         }
        ],
        "trace_edit_id": 1
       },
       "_js2py_update": {},
       "_last_layout_edit_id": 1,
       "_last_trace_edit_id": 1,
       "_model_module_version": "^0.2.1",
       "_py2js_animate": {},
       "_py2js_deleteTraces": {},
       "_py2js_moveTraces": {},
       "_py2js_relayout": {},
       "_py2js_removeLayoutProps": {},
       "_py2js_removeTraceProps": {},
       "_py2js_restyle": {},
       "_py2js_update": {},
       "_view_count": 1,
       "_view_module_version": "^0.2.1"
      }
     },
     "e360ee0f79734c5fac7d03d3ffeeecb4": {
      "buffers": [
       {
        "data": "VrhvyJSf4T/Ocz0RRPvYPyZqqCnN8Ow/pBhiEdTFyD98a2DYyLDtPyIEVaFQWd0/IC0WyeYqzj8gVf844dqxP9LrY2f2dd8/tk77wlq13z82wlULNI/nP7CbzEY6qK0/2trDLJo82j/BmwOcR9ntP7xB0/xt784/jJeKB9tY0j+g9lBYf73pP0AswXZ5X6g/HOE+hlwIyz8NTCEclzbkP7CkBE2FEqo/2Pwk/13A5j867YF5lHrjP4Ad7GOyi5w/7jfIXUBE0T93hpWpZ3rvP9uZpwpDsu8/cladnhFW6T/xw/SRGMXkP/IOrYlwH90/2D6Aojc90T/k70MehT3iP417iE2Qf+4/0hnpGaQI5D+ACwyoPzJ/P4Afe95yp7A/ClNG1FXO4D9mc4G/YYPlP5SO7W0D+9k//p3w1U4B0D+oQEJS9Z/rP4LZyqYNct4/KNS8j/LD1z8EAqpwoAjEP2fEwV9PFOU/gWBoxZY56D/6pHQNJqHcP5Ff+0DEpuE/QK5M3oHFpj8IPV1wm2/FP1TARfBg6NU/vM29mTCb5j+8xxFk7fznPxC/04K5Ba0/D3c8HBfn5T/zcaVZNanvPwCI7osNKX0/4Iz1T8fokz8qBv7b5d/eP+AxzLzkwsY/4K7nzNe05T/8MiZDujDFP97BmkWKgu0/iRrtZIN34z+oWyJQybDSPzB18amleO4/DDKZdcDi4T8ICQ4kE1TQP8rwwKrpAtc/+oBn1nI37T/kNZqSnhjjPwA7SLjRnHM/+s8rEXmw6D+w0jjUCnPfPwDfSt/hlMk/L5+11n9P5D+rgabf0b7rP33dSA5Cpeo/TMnG16Rn1z/6cBcwJDPWP8TD0qI1Q9U/mlj5foI87D/281f7JSLeP2w51TtAxM4/RTdM+o985z/UME0rzRDQPwj/cTNsX9g/Ynxdust95z/wBU3mFrzqP2qx5fp3NeU/pjhS3FoF5T8Q/EHaBNHCP3PwXapxxO4/9iaWz0h47z8QspFnjLutP+cKvoRA9eM/bNMgDc8QyT/Bc168+afvP1ivc+niS7Y/+K2jq451uD8=",
        "encoding": "base64",
        "path": [
         "_data",
         0,
         "marker",
         "color",
         "value"
        ]
       },
       {
        "data": "BZ7XjIiEJkDgoFgMBj83QDSrXJADwipAfQIrdb+pDEDWhKALFbg5QOaLwlFAijFAcnr+Py0hNkBeiVXy+hEHQH2F708t8zBAA9th+W4HMkCetvZtuAc6QOQRsEEW8SRAp1WiP22wMECWomLeFTckQFQeTbYCZS5Au4sGTX1pPECr08MOnwMbQDX5hf6hNj1AuM2mprPZJ0Aqr8EY3tI3QBPsIrnwRCpAFDsDqkfSDUCtzp3AL4ktQOIKxf5fURZA4EGnJxA0DUDIXpak3HcoQAzoXWNM2C9AampZ65W+CUDETaUs+wU3QHP5vCYbiDRAugNwHE7aLEByrLjP6yj3P0znyT7g0iJAxnPIwzUpOUDfBUQksbgxQNZt2TnkwRlA3/Ii9/WAJUDOl5PxKn49QC7cINZtXhBAgJY0zdoDmD/kNh+pcmAMQNe0IFi/SjlA0hmpr6OGEEAjNChcQ1klQOokSEE9zD1A/BsgsHLvOUCh+6bTQXg2QPdPUeqSzjZAdXtx3EbCK0Az/1YOIVU3QF2VVAsblCNAsOOPE6B1OkDkbF5ZeXYuQJohUfHEkypAbwDwHJKYHEAMOh5YZqksQECArRVFui5AZroo1JFLOUBotu+m4+A6QJyoIpqi9TFASXm7p3ocJkClh6nkzrE0QDeazStWMj1AsMu61UugNUDP63uj/y0sQFJC3twsPTJA7zKs9T0cM0Ck07LxsQM3QPICNkMtRRhAlwCJURNrDkDE7jYdOgI9QNcvaX2agiNAAN/uXUoJJ0A57aOUeUQtQAb+cbf7pidAAMcrjKhkIEDr8/aSOSY4QMgpUGAM9iNANg5rGqgYNEA5hyOsU4gXQNjZrnp3kzVAzulb1QxAPEB6+WBck54VQL9n1je79/c/1mIRZBe/CEBhnEtLa8wZQBXc0mOilyZArES5k01pKEAjVjxyZXQ1QHEUv4uDoDdAP42yUb+GFkCha9E9WBMaQMI4OSAl3DlARkn9jD1qM0BHXFw67dI2QDH2c7/QbBhAfOSOwTQp7j9l8+z7jzQ7QGiIjafaAiBAIIdM6MBRsT8=",
        "encoding": "base64",
        "path": [
         "_data",
         0,
         "marker",
         "size",
         "value"
        ]
       },
       {
        "data": "kghVwExZ2T9s/4YlUinEPwAuvvebfX0/Ju/kiPPa1T+YSiE4LPe7PyDqU8BOlpQ/8BIecvel4T/PpGnRBHHlP6rJ6/7hWeY/OBnqEHOF1D9orBd4DwHHP3x8t+zz8eM/cIj3KhyR3z9gLrQ10jHdP/QtHKF2W+Q/EJamSvxsuT+31ga+MnHrPyrsFlVmK+M/BjRYZv9Q0D/ovOSivaTqP5I75wBybOk/tNFT9du17j/IKWf3H/vUP3D9Gepxwec/CwUHy7M65D9ZccNnKYPpPwB4/pEg28k/6pFe6QED4D9GWJ/IZ0nlP41AAgePUuk/OAYpb3Aa3j+ADKhVU0DrP7ozj7iYXO8/qxwNa4Sn6T/GpC9HU6/UPzmPbP658+c/7ueQ7RYp2z+owB61oOzfPy1YNshR++8/+KhK8u5YzD/M9ZeFchTDP48sxEcohOw/MlgKL0eG7D9tjhOgB33gP/SsdGyU2ew/FO+ZfZ8byD8Ia9JMa1jrPwge8Wu9idU/qCsecDSC3z+MgBuE507vP+xrgMUTcMQ/LUyNRjyb5z/OEpv0Et/jP5AMykqpmdI/PBAXhM0w5D+MN9izHXHRP8racBZ9POk/CF9FNEqG2z99hU6VdnDoP6Y9qVApDd8/hEYYuS7uyj/LW1BBuTfkPzN2hMkSLus/WBwHQIdY2D+AO4f9+E+cP4EUTHC/cu0/MH53lxpPqT/+KppnhMnnPzDn5qeZ99Y/AEZJohDihT+RKU9FAfjpPzQU3LuqgOw/2q52xb/L1T8tGn2NdvjmP4bwho7aXNs/yPy16mke5z9rKHZ4URzvP3Otv5Oet+g/HoRdp4690T9ohyEQf5bPP76lHPOZK9w/S1cZDrHL7T+4bTkB75zvP9rEjL3yBe0/hkreZBFL4D8LMqrOx8nlP3wZwBQtMeQ/K+/lAapq5j947AlDZ4vvP7T91nSj2uU/0MYEdtyGzj/nR8F+R+zkPwiY0OM/b8I/OC/HM1BHwz/B466KRwzhPxgxFH7GVrk/JCb4hZ6G2j8eerlN+0jUP0YDpe3pfd8/EzQdSu9P5D8=",
        "encoding": "base64",
        "path": [
         "_data",
         0,
         "x",
         "value"
        ]
       },
       {
        "data": "uD4TC5lmyz8mdTWG/7rdP8EqR3K7MOM/vCxLCZ4r3z8REzoEkNXjP5Gn3MwiN+0/lpxi84lj2D/cLGZ0ZhHGP9Qv49zkqNg/Buoi1tR/0D8KGFSQZdfWP0IGaGxr0+g/jGzMG40dzz/wNYAttLHSP6yJleR3pMQ/wGPVd/kQtT8pOD+OePPuP9KUjLq0Muw/+ZV2mBhh5j8oH6Y9CczlPzYdhRW519c/QK8p/IOB4j8IaepMJ+TsPyIFK0/zu+s/tA9dy4RWxj/V++dL0kngP9CLjxwF4qI/WkK6SfTw4z9V/PjS//jiP5iKI6eNKMo/0oggM0s/0T/wqqacASfAP2h4xeNLIcE/hweX+lRi6j9o9W5Qx7zqP6ijlXY+Bss/cHpu9udvtD/EgQbmqqXkP3SwFKNKd9k/S4b4ElaO7T9Ohrj3bw3ZP5UYq48ndug/YNc0XQaz2T/oQlSiI/DhPwykZLPMOOI//HhwY+StxD+0l9l1FgnSP8hX4P/Cdd4/gKTeZLeP0D8oI59j2lLePzws3kpYKtQ/7LrAvh1h4D8SCjYlixDiPzpxr/2Hjt0/QDA5d2Y7mT/IEQ2TRPvOP/wa5Ya1vts/+Er1LJqn3j8iHR80EDrfP/N097IXQek/XP9kZ31v5z/ob8EONl/GP2idh8lvMuk/9Bk2AROdxj+OEnXJ/HjRP7g38ZlQUsQ/XFz0HRqr5T/0XRaWCEXjP8q3IsojedM/xkpEZeXB4T9+bF31K53RP0ylN+Ro+Mw/6oMAwzmG6z/0lAk5ssPNPyodfjxGb9o/8B/PR0fYqT+OcsQc15PmP6n8sVdRUuI/xEIg9Oj/5T8IU+1EijjgP1w6m96OL9s/qq86w05w6j94NgtnYQbQPwQmE61rWOM/5fBbpCMp6D/MXGAhIqvDPyDXe2AtTKU/8JDRB9ZfuD8XJaveY0viP57mHqEkz9s/7TL4oBmE7j90bXwEIAPlP4iZcRLjq8A/RC2PjzW/xT9/6SBOKNLtP5SbLYrZRMk/CPowni0H2j8TvwX7ZdvvP+iLeo3YVLk/vp1996xU0D8=",
        "encoding": "base64",
        "path": [
         "_data",
         0,
         "y",
         "value"
        ]
       }
      ],
      "model_module": "plotlywidget",
      "model_module_version": "^0.3.0-rc.1",
      "model_name": "FigureModel",
      "state": {
       "_data": [
        {
         "marker": {
          "color": {
           "dtype": "float64",
           "shape": [
            100
           ],
           "value": {}
          },
          "colorscale": "Viridis",
          "opacity": 0.6,
          "size": {
           "dtype": "float64",
           "shape": [
            100
           ],
           "value": {}
          }
         },
         "mode": "markers",
         "type": "scatter",
         "uid": "4348a28c-a920-11e8-9267-645aede86e5b",
         "x": {
          "dtype": "float64",
          "shape": [
           100
          ],
          "value": {}
         },
         "y": {
          "dtype": "float64",
          "shape": [
           100
          ],
          "value": {}
         }
        }
       ],
       "_js2py_relayout": {},
       "_js2py_restyle": {},
       "_js2py_update": {},
       "_last_layout_edit_id": 1,
       "_last_trace_edit_id": 1,
       "_py2js_animate": {},
       "_py2js_deleteTraces": {},
       "_py2js_moveTraces": {},
       "_py2js_relayout": {},
       "_py2js_removeLayoutProps": {},
       "_py2js_removeTraceProps": {},
       "_py2js_restyle": {},
       "_py2js_update": {},
       "_view_count": 0
      }
     }
    },
    "version_major": 2,
    "version_minor": 0
   }
  }
 },
 "nbformat": 4,
 "nbformat_minor": 2
}
