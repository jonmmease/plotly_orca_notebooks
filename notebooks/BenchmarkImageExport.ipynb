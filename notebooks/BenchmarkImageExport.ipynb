{
 "cells": [
  {
   "cell_type": "markdown",
   "metadata": {},
   "source": [
    "## Overview\n",
    "This notebook performs some simple benchmarking of the static image write performance of 4 popular Python visualization libraries: matplotlib, plotly.py, bokeh, and altair\n",
    "\n",
    "###  Configuration\n",
    " - matplotlib: No additional configuration required for image export support\n",
    " - plotly.py: https://plot.ly/python/static-image-export/\n",
    " - bokeh: https://bokeh.pydata.org/en/latest/docs/user_guide/export.html\n",
    " - altair: https://altair-viz.github.io/user_guide/saving_charts.html"
   ]
  },
  {
   "cell_type": "markdown",
   "metadata": {},
   "source": [
    "### Imports"
   ]
  },
  {
   "cell_type": "code",
   "execution_count": 1,
   "metadata": {},
   "outputs": [
    {
     "data": {
      "text/plain": [
       "'2.2.3'"
      ]
     },
     "execution_count": 1,
     "metadata": {},
     "output_type": "execute_result"
    }
   ],
   "source": [
    "# matplotlib imports\n",
    "import matplotlib\n",
    "import matplotlib.pyplot as plt\n",
    "matplotlib.__version__"
   ]
  },
  {
   "cell_type": "code",
   "execution_count": 2,
   "metadata": {},
   "outputs": [
    {
     "data": {
      "text/plain": [
       "'3.2.0rc1'"
      ]
     },
     "execution_count": 2,
     "metadata": {},
     "output_type": "execute_result"
    }
   ],
   "source": [
    "# plotly\n",
    "import plotly\n",
    "import plotly.graph_objs as go\n",
    "import plotly.io as pio\n",
    "plotly.__version__"
   ]
  },
  {
   "cell_type": "code",
   "execution_count": 3,
   "metadata": {},
   "outputs": [
    {
     "data": {
      "text/plain": [
       "'0.13.0'"
      ]
     },
     "execution_count": 3,
     "metadata": {},
     "output_type": "execute_result"
    }
   ],
   "source": [
    "# bokeh\n",
    "import bokeh\n",
    "import bokeh.plotting as bkplt\n",
    "import bokeh.io as bkio\n",
    "bokeh.__version__"
   ]
  },
  {
   "cell_type": "code",
   "execution_count": 4,
   "metadata": {},
   "outputs": [
    {
     "data": {
      "text/plain": [
       "'2.2.2'"
      ]
     },
     "execution_count": 4,
     "metadata": {},
     "output_type": "execute_result"
    }
   ],
   "source": [
    "# altair\n",
    "import altair as alt\n",
    "alt.renderers.enable('notebook')\n",
    "alt.__version__"
   ]
  },
  {
   "cell_type": "code",
   "execution_count": 5,
   "metadata": {},
   "outputs": [],
   "source": [
    "# IPython\n",
    "from IPython.display import Image, SVG\n",
    "\n",
    "# pandas\n",
    "import pandas as pd\n",
    "\n",
    "# Built-in\n",
    "import shutil\n",
    "import os\n",
    "import pickle"
   ]
  },
  {
   "cell_type": "markdown",
   "metadata": {},
   "source": [
    "## Generate test data\n",
    "Generate data for 1000-point scatter plot with varying colors and sizes"
   ]
  },
  {
   "cell_type": "code",
   "execution_count": 6,
   "metadata": {},
   "outputs": [],
   "source": [
    "import numpy as np\n",
    "# Fixing random state for reproducibility\n",
    "np.random.seed(19680801)\n",
    "\n",
    "N = 1000\n",
    "x = np.random.rand(N)\n",
    "y = np.random.rand(N)\n",
    "\n",
    "# Colors\n",
    "colors = np.random.rand(N)\n",
    "bkcolors = [\n",
    "    \"#%02x%02x%02x\" % (int(r), int(g), int(b)) \n",
    "    for r, g, b, _ in 255*matplotlib.cm.viridis(matplotlib.colors.Normalize()(colors))\n",
    "]\n",
    "\n",
    "# Sizes\n",
    "sz = np.random.rand(N)\n",
    "area = (30 * sz)**2\n",
    "\n",
    "# DataFrame version\n",
    "df = pd.DataFrame({'x': x, 'y': y, 'colors': colors, 'sz': sz})\n",
    "\n",
    "# Figure dimensions\n",
    "dpi=76\n",
    "figwidth = 500\n",
    "figheight = 500\n",
    "\n",
    "# Format\n",
    "format = 'png'"
   ]
  },
  {
   "cell_type": "markdown",
   "metadata": {},
   "source": [
    "## Create output directory"
   ]
  },
  {
   "cell_type": "code",
   "execution_count": 7,
   "metadata": {},
   "outputs": [],
   "source": [
    "shutil.rmtree('./benchmarking/', ignore_errors=True)\n",
    "os.makedirs('./benchmarking/', exist_ok=True)"
   ]
  },
  {
   "cell_type": "markdown",
   "metadata": {},
   "source": [
    "If you are running this notebook live, click to [open the output directory](./benchmarking) so you can examine the images as they're written."
   ]
  },
  {
   "cell_type": "markdown",
   "metadata": {},
   "source": [
    "## Matplotlib (2.2.3) PNG"
   ]
  },
  {
   "cell_type": "code",
   "execution_count": 8,
   "metadata": {},
   "outputs": [],
   "source": [
    "def save_matplotlib(fmt):\n",
    "    plt.figure(figsize=(figwidth/dpi, figheight/dpi))\n",
    "    plt.scatter(x, y, s=area, c=colors, alpha=0.5)\n",
    "    plt.savefig('benchmarking/matplotlib_fig.' + fmt)\n",
    "    plt.close()"
   ]
  },
  {
   "cell_type": "code",
   "execution_count": 9,
   "metadata": {},
   "outputs": [
    {
     "name": "stdout",
     "output_type": "stream",
     "text": [
      "222 ms ± 2.96 ms per loop (mean ± std. dev. of 7 runs, 1 loop each)\n",
      "317 ms ± 12.7 ms per loop (mean ± std. dev. of 7 runs, 1 loop each)\n"
     ]
    }
   ],
   "source": [
    "matplotlib_png_timeit = %timeit -o save_matplotlib(fmt='png')\n",
    "matplotlib_svg_timeit = %timeit -o save_matplotlib(fmt='svg')"
   ]
  },
  {
   "cell_type": "markdown",
   "metadata": {},
   "source": [
    "## plotly.py (3.2.0) PNG"
   ]
  },
  {
   "cell_type": "code",
   "execution_count": 10,
   "metadata": {},
   "outputs": [
    {
     "name": "stdout",
     "output_type": "stream",
     "text": [
      "CPU times: user 3.47 ms, sys: 13.4 ms, total: 16.9 ms\n",
      "Wall time: 377 ms\n"
     ]
    }
   ],
   "source": [
    "%%time\n",
    "# Warmstart server for benchmarking (done automatically on first use)\n",
    "pio.orca.ensure_server()"
   ]
  },
  {
   "cell_type": "code",
   "execution_count": 11,
   "metadata": {},
   "outputs": [],
   "source": [
    "def save_plotly(fmt):\n",
    "    fig = go.Figure(data=[\n",
    "        dict(type='scatter', x=x, y=y, marker={'color': colors,\n",
    "                                               'opacity': 0.5,\n",
    "                                               'size': sz*30,\n",
    "                                               'colorscale': 'Viridis',\n",
    "                                               'line': {'width': 0},\n",
    "                                              }, mode='markers')], \n",
    "                    layout={'width': figwidth, 'height': figheight,\n",
    "                           'margin': {'l': 40, 'r': 40, 't': 40, 'b': 40}})\n",
    "    pio.write_image(fig, 'benchmarking/plotly_fig.' + fmt)"
   ]
  },
  {
   "cell_type": "code",
   "execution_count": 12,
   "metadata": {},
   "outputs": [
    {
     "name": "stdout",
     "output_type": "stream",
     "text": [
      "211 ms ± 16.8 ms per loop (mean ± std. dev. of 7 runs, 1 loop each)\n",
      "162 ms ± 5.81 ms per loop (mean ± std. dev. of 7 runs, 10 loops each)\n"
     ]
    }
   ],
   "source": [
    "plotly_png_timeit = %timeit -o save_plotly(fmt='png')\n",
    "plotly_svg_timeit = %timeit -o save_plotly(fmt='svg')"
   ]
  },
  {
   "cell_type": "markdown",
   "metadata": {},
   "source": [
    "## Bokeh (0.13.0) PNG"
   ]
  },
  {
   "cell_type": "code",
   "execution_count": 13,
   "metadata": {},
   "outputs": [],
   "source": [
    "def save_bokeh_png():\n",
    "    p = bkplt.figure(toolbar_location=None, plot_width=figwidth, plot_height=figheight)\n",
    "\n",
    "    p.scatter(x, y, \n",
    "              size=sz*30,\n",
    "              fill_color=bkcolors,\n",
    "              fill_alpha=0.5,\n",
    "              line_color=None)\n",
    "    bkio.export_png(p, filename=\"benchmarking/bokeh_fig.png\")\n",
    "\n",
    "def save_bokeh_svg():\n",
    "    p = bkplt.figure(toolbar_location=None, plot_width=figwidth, plot_height=figheight, output_backend=\"svg\")\n",
    "    \n",
    "    p.scatter(x, y, \n",
    "              size=sz*30,\n",
    "              fill_color=bkcolors,\n",
    "              fill_alpha=0.5,\n",
    "              line_color=None)\n",
    "    \n",
    "    bkio.export_svgs(p, filename=\"benchmarking/bokeh_fig.svg\")"
   ]
  },
  {
   "cell_type": "code",
   "execution_count": 14,
   "metadata": {},
   "outputs": [
    {
     "name": "stdout",
     "output_type": "stream",
     "text": [
      "1.75 s ± 9.13 ms per loop (mean ± std. dev. of 7 runs, 1 loop each)\n",
      "1.64 s ± 355 ms per loop (mean ± std. dev. of 7 runs, 1 loop each)\n"
     ]
    }
   ],
   "source": [
    "bokeh_png_timeit = %timeit -o save_bokeh_png()\n",
    "bokeh_svg_timeit = %timeit -o save_bokeh_svg()"
   ]
  },
  {
   "cell_type": "code",
   "execution_count": 15,
   "metadata": {},
   "outputs": [],
   "source": [
    "def save_altair(fmt):\n",
    "    alt_chart = alt.Chart(df, width=figwidth, height=figheight).mark_circle(opacity=0.5).encode(\n",
    "        x='x',\n",
    "        y='y',\n",
    "        color=alt.Color('colors', scale=alt.Scale(scheme='viridis'), legend=None),\n",
    "        size=alt.Column('sz', legend=None))\n",
    "\n",
    "    alt_chart.save('benchmarking/altair_fig.' + fmt)"
   ]
  },
  {
   "cell_type": "code",
   "execution_count": null,
   "metadata": {},
   "outputs": [
    {
     "name": "stdout",
     "output_type": "stream",
     "text": [
      "1.85 s ± 14.3 ms per loop (mean ± std. dev. of 7 runs, 1 loop each)\n"
     ]
    }
   ],
   "source": [
    "altair_png_timeit = %timeit -o save_altair('png')\n",
    "altair_svg_timeit = %timeit -o save_altair('svg')"
   ]
  },
  {
   "cell_type": "markdown",
   "metadata": {},
   "source": [
    "## Show matplotlib images"
   ]
  },
  {
   "cell_type": "code",
   "execution_count": null,
   "metadata": {},
   "outputs": [],
   "source": [
    "# PNG\n",
    "Image(filename='benchmarking/matplotlib_fig.png')"
   ]
  },
  {
   "cell_type": "code",
   "execution_count": null,
   "metadata": {},
   "outputs": [],
   "source": [
    "# SVG\n",
    "SVG(filename='benchmarking/matplotlib_fig.svg')"
   ]
  },
  {
   "cell_type": "markdown",
   "metadata": {},
   "source": [
    "## Show plotly.py images"
   ]
  },
  {
   "cell_type": "code",
   "execution_count": null,
   "metadata": {},
   "outputs": [],
   "source": [
    "# PNG\n",
    "Image(filename='benchmarking/plotly_fig.png')"
   ]
  },
  {
   "cell_type": "code",
   "execution_count": null,
   "metadata": {},
   "outputs": [],
   "source": [
    "# SVG\n",
    "SVG(filename='benchmarking/plotly_fig.svg')"
   ]
  },
  {
   "cell_type": "markdown",
   "metadata": {},
   "source": [
    "## Show bokeh images"
   ]
  },
  {
   "cell_type": "code",
   "execution_count": null,
   "metadata": {},
   "outputs": [],
   "source": [
    "# PNG\n",
    "Image(filename='benchmarking/bokeh_fig.png')"
   ]
  },
  {
   "cell_type": "code",
   "execution_count": null,
   "metadata": {},
   "outputs": [],
   "source": [
    "# SVG\n",
    "SVG(filename='benchmarking/bokeh_fig.svg')"
   ]
  },
  {
   "cell_type": "markdown",
   "metadata": {},
   "source": [
    "## Show altair images"
   ]
  },
  {
   "cell_type": "code",
   "execution_count": null,
   "metadata": {},
   "outputs": [],
   "source": [
    "# PNG\n",
    "Image(filename='benchmarking/altair_fig.png')"
   ]
  },
  {
   "cell_type": "code",
   "execution_count": null,
   "metadata": {},
   "outputs": [],
   "source": [
    "# SVG\n",
    "SVG(filename='benchmarking/altair_fig.svg')"
   ]
  },
  {
   "cell_type": "markdown",
   "metadata": {},
   "source": [
    "# Plot timing results"
   ]
  },
  {
   "cell_type": "code",
   "execution_count": null,
   "metadata": {},
   "outputs": [],
   "source": [
    "fig = go.FigureWidget()\n",
    "\n",
    "# Add bar traces\n",
    "formats = ['PNG', 'SVG']\n",
    "text_opts = {'textposition': 'inside', 'textfont': {'color': 'white'}}\n",
    "fig.add_bar(y=[plotly_png_timeit.average, plotly_svg_timeit.average],\n",
    "            x=formats, name='plotly.py', text='plotly.py', **text_opts)\n",
    "\n",
    "fig.add_bar(y=[matplotlib_png_timeit.average, matplotlib_svg_timeit.average],\n",
    "            x=formats, name='matplotlib', text='matplotlib', **text_opts)\n",
    "fig.add_bar(y=[bokeh_png_timeit.average, bokeh_svg_timeit.average],\n",
    "            x=formats, name='bokeh', text='bokeh', **text_opts)\n",
    "fig.add_bar(y=[altair_png_timeit.average, altair_svg_timeit.average],\n",
    "            x=formats, name='altair', text='altair', **text_opts)\n",
    "\n",
    "# Set labels\n",
    "fig.layout.title = 'Image export benchmarks<br>(shorter is better)'\n",
    "fig.layout.xaxis.title = 'Export format'\n",
    "fig.layout.yaxis.title = 'Export time (s)'\n",
    "fig.layout.showlegend = False\n",
    "fig.layout.height = 500\n",
    "fig.layout.width = 900\n",
    "\n",
    "# View figure\n",
    "fig"
   ]
  },
  {
   "cell_type": "code",
   "execution_count": null,
   "metadata": {},
   "outputs": [],
   "source": [
    "pio.write_image(fig, 'benchmark_results.png', scale=2)"
   ]
  },
  {
   "cell_type": "code",
   "execution_count": null,
   "metadata": {},
   "outputs": [],
   "source": [
    "with open('./benchmark_results.pickle', 'wb') as f:\n",
    "    pickle.dump(fig.to_dict(), f)"
   ]
  }
 ],
 "metadata": {
  "kernelspec": {
   "display_name": "Python 3",
   "language": "python",
   "name": "python3"
  },
  "language_info": {
   "codemirror_mode": {
    "name": "ipython",
    "version": 3
   },
   "file_extension": ".py",
   "mimetype": "text/x-python",
   "name": "python",
   "nbconvert_exporter": "python",
   "pygments_lexer": "ipython3",
   "version": "3.7.0"
  },
  "widgets": {
   "application/vnd.jupyter.widget-state+json": {
    "state": {
     "0d9d4b4cf6b24e1e8cfb619502500ee4": {
      "model_module": "plotlywidget",
      "model_module_version": "^0.3.0-rc.1",
      "model_name": "FigureModel",
      "state": {
       "_data": [
        {
         "name": "matplotlib",
         "type": "bar",
         "uid": "f0a23ac8-b092-11e8-aaea-645aede86e5b",
         "x": [
          "png",
          "svg"
         ],
         "y": [
          0.2162782040000001,
          0.3185377107142857
         ]
        },
        {
         "name": "plotly.py",
         "type": "bar",
         "uid": "f0a3a9f8-b092-11e8-aaea-645aede86e5b",
         "x": [
          "png",
          "svg"
         ],
         "y": [
          0.21613061757142812,
          0.1698423163428571
         ]
        },
        {
         "name": "bokeh",
         "type": "bar",
         "uid": "f0a51e96-b092-11e8-aaea-645aede86e5b",
         "x": [
          "png",
          "svg"
         ],
         "y": [
          1.747497648000001,
          1.4923801688571439
         ]
        },
        {
         "name": "altair",
         "type": "bar",
         "uid": "f0a692ee-b092-11e8-aaea-645aede86e5b",
         "x": [
          "png",
          "svg"
         ],
         "y": [
          1.8405786794285715,
          1.8248793431428538
         ]
        }
       ],
       "_js2py_relayout": {},
       "_js2py_restyle": {},
       "_js2py_update": {},
       "_last_layout_edit_id": 4,
       "_last_trace_edit_id": 4,
       "_py2js_animate": {},
       "_py2js_deleteTraces": {},
       "_py2js_moveTraces": {},
       "_py2js_relayout": {},
       "_py2js_removeLayoutProps": {},
       "_py2js_removeTraceProps": {},
       "_py2js_restyle": {},
       "_py2js_update": {},
       "_view_count": 0
      }
     },
     "17b922d4595a4ad3a1d0e22d40b16b3a": {
      "model_module": "plotlywidget",
      "model_module_version": "^0.3.0-rc.1",
      "model_name": "FigureModel",
      "state": {
       "_data": [
        {
         "name": "matplotlib",
         "type": "bar",
         "uid": "cc4cfe1a-b092-11e8-aaea-645aede86e5b",
         "y": [
          0.2162782040000001,
          0.3185377107142857
         ]
        },
        {
         "name": "plotly.py",
         "type": "bar",
         "uid": "cc4e8852-b092-11e8-aaea-645aede86e5b",
         "y": [
          0.21613061757142812,
          0.1698423163428571
         ]
        },
        {
         "name": "bokeh",
         "type": "bar",
         "uid": "cc4fd4fa-b092-11e8-aaea-645aede86e5b",
         "y": [
          1.747497648000001,
          1.4923801688571439
         ]
        },
        {
         "name": "altair",
         "type": "bar",
         "uid": "cc50fd3a-b092-11e8-aaea-645aede86e5b",
         "y": [
          1.8405786794285715,
          1.8248793431428538
         ]
        }
       ],
       "_js2py_relayout": {},
       "_js2py_restyle": {},
       "_js2py_update": {},
       "_last_layout_edit_id": 6,
       "_last_trace_edit_id": 4,
       "_layout": {
        "yaxis": {
         "type": "linear"
        }
       },
       "_py2js_animate": {},
       "_py2js_deleteTraces": {},
       "_py2js_moveTraces": {},
       "_py2js_removeLayoutProps": {},
       "_py2js_removeTraceProps": {},
       "_py2js_restyle": {},
       "_py2js_update": {},
       "_view_count": 0
      }
     },
     "1f48aea492e0401587fef166a4dad646": {
      "model_module": "plotlywidget",
      "model_module_version": "^0.3.0-rc.1",
      "model_name": "FigureModel",
      "state": {
       "_data": [
        {
         "type": "box",
         "uid": "e28a625e-b091-11e8-aaea-645aede86e5b",
         "y": [
          0.22031028600000013,
          0.21954960800000034,
          0.21621445399999972,
          0.21373847300000026,
          0.21972700400000011,
          0.21146359400000003,
          0.2129440090000001
         ]
        },
        {
         "type": "box",
         "uid": "04f389ba-b092-11e8-aaea-645aede86e5b",
         "x": [
          "png"
         ],
         "y": [
          0.22031028600000013,
          0.21954960800000034,
          0.21621445399999972,
          0.21373847300000026,
          0.21972700400000011,
          0.21146359400000003,
          0.2129440090000001
         ]
        }
       ],
       "_js2py_relayout": {},
       "_js2py_restyle": {},
       "_js2py_update": {},
       "_last_layout_edit_id": 2,
       "_last_trace_edit_id": 2,
       "_py2js_animate": {},
       "_py2js_deleteTraces": {},
       "_py2js_moveTraces": {},
       "_py2js_relayout": {},
       "_py2js_removeLayoutProps": {},
       "_py2js_removeTraceProps": {},
       "_py2js_restyle": {},
       "_py2js_update": {},
       "_view_count": 0
      }
     },
     "3fe768ede3454debb0ba89ec4bc4e663": {
      "model_module": "plotlywidget",
      "model_module_version": "^0.3.0-rc.1",
      "model_name": "FigureModel",
      "state": {
       "_data": [
        {
         "name": "matplotlib",
         "type": "bar",
         "uid": "f58a303a-b093-11e8-aaea-645aede86e5b",
         "x": [
          "PNG",
          "SVG",
          "PDF",
          "EPS"
         ],
         "y": [
          0.21606070457141868,
          0.31476959785712616,
          0.37379615000008926
         ]
        },
        {
         "name": "plotly.py",
         "type": "bar",
         "uid": "f58b89d0-b093-11e8-aaea-645aede86e5b",
         "x": [
          "PNG",
          "SVG",
          "PDF",
          "EPS"
         ],
         "y": [
          0.20187973385720528,
          0.15332827640000102,
          0.5013907955714265
         ]
        },
        {
         "name": "bokeh",
         "type": "bar",
         "uid": "f58ced52-b093-11e8-aaea-645aede86e5b",
         "x": [
          "PNG",
          "SVG",
          "PDF",
          "EPS"
         ],
         "y": [
          1.747497648000001,
          1.4923801688571439
         ]
        },
        {
         "name": "altair",
         "type": "bar",
         "uid": "f58e2e7e-b093-11e8-aaea-645aede86e5b",
         "x": [
          "PNG",
          "SVG",
          "PDF",
          "EPS"
         ],
         "y": [
          1.8405786794285715,
          1.8248793431428538
         ]
        }
       ],
       "_js2py_pointsCallback": {},
       "_js2py_relayout": {},
       "_js2py_restyle": {},
       "_js2py_update": {},
       "_last_layout_edit_id": 7,
       "_last_trace_edit_id": 4,
       "_layout": {
        "title": "Image export benchmarks",
        "yaxis": {
         "title": "Export time (s)"
        }
       },
       "_py2js_animate": {},
       "_py2js_deleteTraces": {},
       "_py2js_moveTraces": {},
       "_py2js_removeLayoutProps": {},
       "_py2js_removeTraceProps": {},
       "_py2js_restyle": {},
       "_py2js_update": {},
       "_view_count": 0
      }
     },
     "52b310e48db74584a65cfcd03412630a": {
      "model_module": "plotlywidget",
      "model_module_version": "^0.3.0-rc.1",
      "model_name": "FigureModel",
      "state": {
       "_data": [
        {
         "name": "matplotlib",
         "type": "bar",
         "uid": "b850ca9e-b093-11e8-aaea-645aede86e5b",
         "x": [
          "PNG",
          "SVG",
          "PDF",
          "EPS"
         ],
         "y": [
          0.2162782040000001,
          0.3185377107142857
         ]
        },
        {
         "name": "plotly.py",
         "type": "bar",
         "uid": "b85279ca-b093-11e8-aaea-645aede86e5b",
         "x": [
          "PNG",
          "SVG",
          "PDF",
          "EPS"
         ],
         "y": [
          0.21613061757142812,
          0.1698423163428571
         ]
        },
        {
         "name": "bokeh",
         "type": "bar",
         "uid": "b85397e2-b093-11e8-aaea-645aede86e5b",
         "x": [
          "PNG",
          "SVG",
          "PDF",
          "EPS"
         ],
         "y": [
          1.747497648000001,
          1.4923801688571439
         ]
        },
        {
         "name": "altair",
         "type": "bar",
         "uid": "b854bb7c-b093-11e8-aaea-645aede86e5b",
         "x": [
          "PNG",
          "SVG",
          "PDF",
          "EPS"
         ],
         "y": [
          1.8405786794285715,
          1.8248793431428538
         ]
        }
       ],
       "_js2py_pointsCallback": {},
       "_js2py_relayout": {},
       "_js2py_restyle": {},
       "_js2py_update": {},
       "_last_layout_edit_id": 7,
       "_last_trace_edit_id": 4,
       "_layout": {
        "title": "Image export benchmarks",
        "yaxis": {
         "title": "Export time (s)"
        }
       },
       "_py2js_animate": {},
       "_py2js_deleteTraces": {},
       "_py2js_moveTraces": {},
       "_py2js_removeLayoutProps": {},
       "_py2js_removeTraceProps": {},
       "_py2js_restyle": {},
       "_py2js_update": {},
       "_view_count": 0
      }
     },
     "57f9def222694f00b929831a30c8ad56": {
      "model_module": "plotlywidget",
      "model_module_version": "^0.3.0-rc.1",
      "model_name": "FigureModel",
      "state": {
       "_data": [
        {
         "name": "matplotlib",
         "type": "bar",
         "uid": "00a76c36-b093-11e8-aaea-645aede86e5b",
         "x": [
          "PNG",
          "SVG"
         ],
         "y": [
          0.2162782040000001,
          0.3185377107142857
         ]
        },
        {
         "name": "plotly.py",
         "type": "bar",
         "uid": "00a8f010-b093-11e8-aaea-645aede86e5b",
         "x": [
          "PNG",
          "SVG"
         ],
         "y": [
          0.21613061757142812,
          0.1698423163428571
         ]
        },
        {
         "name": "bokeh",
         "type": "bar",
         "uid": "00aa27dc-b093-11e8-aaea-645aede86e5b",
         "x": [
          "PNG",
          "SVG"
         ],
         "y": [
          1.747497648000001,
          1.4923801688571439
         ]
        },
        {
         "name": "altair",
         "type": "bar",
         "uid": "00ab9112-b093-11e8-aaea-645aede86e5b",
         "x": [
          "PNG",
          "SVG"
         ],
         "y": [
          1.8405786794285715,
          1.8248793431428538
         ]
        }
       ],
       "_js2py_relayout": {},
       "_js2py_restyle": {},
       "_js2py_update": {},
       "_last_layout_edit_id": 5,
       "_last_trace_edit_id": 4,
       "_layout": {
        "yaxis": {
         "title": "Export time (s)"
        }
       },
       "_py2js_animate": {},
       "_py2js_deleteTraces": {},
       "_py2js_moveTraces": {},
       "_py2js_removeLayoutProps": {},
       "_py2js_removeTraceProps": {},
       "_py2js_restyle": {},
       "_py2js_update": {},
       "_view_count": 0
      }
     },
     "68c3b4958f3d42dd8310265d23ce747f": {
      "model_module": "plotlywidget",
      "model_module_version": "^0.3.0-rc.1",
      "model_name": "FigureModel",
      "state": {
       "_data": [
        {
         "name": "matplotlib",
         "type": "bar",
         "uid": "356524a4-b093-11e8-aaea-645aede86e5b",
         "x": [
          "PNG",
          "SVG"
         ],
         "y": [
          0.2162782040000001,
          0.3185377107142857
         ]
        },
        {
         "name": "plotly.py",
         "type": "bar",
         "uid": "35669942-b093-11e8-aaea-645aede86e5b",
         "x": [
          "PNG",
          "SVG"
         ],
         "y": [
          0.21613061757142812,
          0.1698423163428571
         ]
        },
        {
         "name": "bokeh",
         "type": "bar",
         "uid": "356814d4-b093-11e8-aaea-645aede86e5b",
         "x": [
          "PNG",
          "SVG"
         ],
         "y": [
          1.747497648000001,
          1.4923801688571439
         ]
        },
        {
         "name": "altair",
         "type": "bar",
         "uid": "35698260-b093-11e8-aaea-645aede86e5b",
         "x": [
          "PNG",
          "SVG"
         ],
         "y": [
          1.8405786794285715,
          1.8248793431428538
         ]
        }
       ],
       "_js2py_restyle": {},
       "_js2py_update": {},
       "_last_layout_edit_id": 8,
       "_last_trace_edit_id": 4,
       "_layout": {
        "hovermode": "closest",
        "title": "Image export benchmarks",
        "yaxis": {
         "title": "Export time (s)"
        }
       },
       "_py2js_animate": {},
       "_py2js_deleteTraces": {},
       "_py2js_moveTraces": {},
       "_py2js_removeLayoutProps": {},
       "_py2js_removeTraceProps": {},
       "_py2js_restyle": {},
       "_py2js_update": {},
       "_view_count": 0
      }
     },
     "73b4b6a8f9de4b2dbd0ee40b732d35b9": {
      "model_module": "plotlywidget",
      "model_module_version": "^0.3.0-rc.1",
      "model_name": "FigureModel",
      "state": {
       "_data": [
        {
         "type": "box",
         "uid": "07727f0c-b092-11e8-aaea-645aede86e5b",
         "x": [
          "png"
         ],
         "y": [
          0.22031028600000013,
          0.21954960800000034,
          0.21621445399999972,
          0.21373847300000026,
          0.21972700400000011,
          0.21146359400000003,
          0.2129440090000001
         ]
        }
       ],
       "_js2py_relayout": {},
       "_js2py_restyle": {},
       "_js2py_update": {},
       "_last_layout_edit_id": 1,
       "_last_trace_edit_id": 1,
       "_py2js_animate": {},
       "_py2js_deleteTraces": {},
       "_py2js_moveTraces": {},
       "_py2js_relayout": {},
       "_py2js_removeLayoutProps": {},
       "_py2js_removeTraceProps": {},
       "_py2js_restyle": {},
       "_py2js_update": {},
       "_view_count": 0
      }
     },
     "993377cda2124a33ae62c35dadded469": {
      "model_module": "plotlywidget",
      "model_module_version": "^0.3.0-rc.1",
      "model_name": "FigureModel",
      "state": {
       "_data": [
        {
         "name": "matplotlib",
         "type": "bar",
         "uid": "19a034ae-b096-11e8-86de-645aede86e5b",
         "x": [
          "PNG",
          "SVG"
         ],
         "y": [
          0.21462680814285726,
          0.30342831371428564
         ]
        },
        {
         "name": "plotly.py",
         "type": "bar",
         "uid": "19a16f2c-b096-11e8-86de-645aede86e5b",
         "x": [
          "PNG",
          "SVG"
         ],
         "y": [
          0.20637015485714297,
          0.14943759418571428
         ]
        },
        {
         "name": "bokeh",
         "type": "bar",
         "uid": "19a37f60-b096-11e8-86de-645aede86e5b",
         "x": [
          "PNG",
          "SVG"
         ],
         "y": [
          1.7412208102857143,
          1.484169685714286
         ]
        },
        {
         "name": "altair",
         "type": "bar",
         "uid": "19a52162-b096-11e8-86de-645aede86e5b",
         "x": [
          "PNG",
          "SVG"
         ],
         "y": [
          1.8356818681428575,
          1.8179638697142824
         ]
        }
       ],
       "_js2py_pointsCallback": {},
       "_js2py_relayout": {},
       "_js2py_restyle": {},
       "_js2py_update": {},
       "_last_layout_edit_id": 7,
       "_last_trace_edit_id": 4,
       "_layout": {
        "title": "Image export benchmarks",
        "yaxis": {
         "title": "Export time (s)"
        }
       },
       "_py2js_animate": {},
       "_py2js_deleteTraces": {},
       "_py2js_moveTraces": {},
       "_py2js_removeLayoutProps": {},
       "_py2js_removeTraceProps": {},
       "_py2js_restyle": {},
       "_py2js_update": {},
       "_view_count": 1
      }
     },
     "a8970b252f7b42858017c6842c722714": {
      "model_module": "plotlywidget",
      "model_module_version": "^0.3.0-rc.1",
      "model_name": "FigureModel",
      "state": {
       "_data": [
        {
         "name": "plotly.py",
         "type": "bar",
         "uid": "4440dcea-b096-11e8-86de-645aede86e5b",
         "x": [
          "PNG",
          "SVG"
         ],
         "y": [
          0.20637015485714297,
          0.14943759418571428
         ]
        },
        {
         "name": "matplotlib",
         "type": "bar",
         "uid": "44421236-b096-11e8-86de-645aede86e5b",
         "x": [
          "PNG",
          "SVG"
         ],
         "y": [
          0.21462680814285726,
          0.30342831371428564
         ]
        },
        {
         "name": "bokeh",
         "type": "bar",
         "uid": "444372fc-b096-11e8-86de-645aede86e5b",
         "x": [
          "PNG",
          "SVG"
         ],
         "y": [
          1.7412208102857143,
          1.484169685714286
         ]
        },
        {
         "name": "altair",
         "type": "bar",
         "uid": "4444bde2-b096-11e8-86de-645aede86e5b",
         "x": [
          "PNG",
          "SVG"
         ],
         "y": [
          1.8356818681428575,
          1.8179638697142824
         ]
        }
       ],
       "_js2py_pointsCallback": {},
       "_js2py_relayout": {},
       "_js2py_restyle": {},
       "_js2py_update": {},
       "_last_layout_edit_id": 7,
       "_last_trace_edit_id": 4,
       "_layout": {
        "title": "Image export benchmarks",
        "yaxis": {
         "title": "Export time (s)"
        }
       },
       "_py2js_animate": {},
       "_py2js_deleteTraces": {},
       "_py2js_moveTraces": {},
       "_py2js_removeLayoutProps": {},
       "_py2js_removeTraceProps": {},
       "_py2js_restyle": {},
       "_py2js_update": {},
       "_view_count": 1
      }
     },
     "afe6f4059062422a8e7b38eae558b062": {
      "model_module": "plotlywidget",
      "model_module_version": "^0.3.0-rc.1",
      "model_name": "FigureModel",
      "state": {
       "_data": [
        {
         "name": "matplotlib",
         "type": "bar",
         "uid": "194ea276-b094-11e8-aaea-645aede86e5b",
         "x": [
          "PNG",
          "SVG",
          "PDF",
          "EPS"
         ],
         "y": [
          0.21606070457141868,
          0.31476959785712616,
          0.37379615000008926,
          0.20250857757140953
         ]
        },
        {
         "name": "plotly.py",
         "type": "bar",
         "uid": "194fe7da-b094-11e8-aaea-645aede86e5b",
         "x": [
          "PNG",
          "SVG",
          "PDF",
          "EPS"
         ],
         "y": [
          0.20187973385720528,
          0.15332827640000102,
          0.5013907955714265,
          0.9039954415714614
         ]
        },
        {
         "name": "bokeh",
         "type": "bar",
         "uid": "19514954-b094-11e8-aaea-645aede86e5b",
         "x": [
          "PNG",
          "SVG",
          "PDF",
          "EPS"
         ],
         "y": [
          1.747497648000001,
          1.4923801688571439
         ]
        },
        {
         "name": "altair",
         "type": "bar",
         "uid": "19527dce-b094-11e8-aaea-645aede86e5b",
         "x": [
          "PNG",
          "SVG",
          "PDF",
          "EPS"
         ],
         "y": [
          1.8405786794285715,
          1.8248793431428538
         ]
        }
       ],
       "_js2py_relayout": {},
       "_js2py_restyle": {},
       "_js2py_update": {},
       "_last_layout_edit_id": 7,
       "_last_trace_edit_id": 4,
       "_layout": {
        "title": "Image export benchmarks",
        "yaxis": {
         "title": "Export time (s)"
        }
       },
       "_py2js_animate": {},
       "_py2js_deleteTraces": {},
       "_py2js_moveTraces": {},
       "_py2js_removeLayoutProps": {},
       "_py2js_removeTraceProps": {},
       "_py2js_restyle": {},
       "_py2js_update": {},
       "_view_count": 0
      }
     },
     "b6b065c3b64d4512ad15d96f0456a1ad": {
      "model_module": "plotlywidget",
      "model_module_version": "^0.3.0-rc.1",
      "model_name": "FigureModel",
      "state": {
       "_data": [
        {
         "name": "png",
         "type": "box",
         "uid": "26a131e8-b092-11e8-aaea-645aede86e5b",
         "y": [
          0.22031028600000013,
          0.21954960800000034,
          0.21621445399999972,
          0.21373847300000026,
          0.21972700400000011,
          0.21146359400000003,
          0.2129440090000001
         ]
        }
       ],
       "_js2py_relayout": {},
       "_js2py_restyle": {},
       "_js2py_update": {},
       "_last_layout_edit_id": 1,
       "_last_trace_edit_id": 1,
       "_py2js_animate": {},
       "_py2js_deleteTraces": {},
       "_py2js_moveTraces": {},
       "_py2js_relayout": {},
       "_py2js_removeLayoutProps": {},
       "_py2js_removeTraceProps": {},
       "_py2js_restyle": {},
       "_py2js_update": {},
       "_view_count": 0
      }
     },
     "bfc186e35f554a8ba20f3f64c8f45e50": {
      "model_module": "plotlywidget",
      "model_module_version": "^0.3.0-rc.1",
      "model_name": "FigureModel",
      "state": {
       "_data": [
        {
         "name": "matplotlib",
         "type": "bar",
         "uid": "96a836e2-b094-11e8-83b7-645aede86e5b",
         "visible": true,
         "x": [
          "PNG",
          "SVG"
         ],
         "y": [
          0.21460448185714295,
          0.3098891091428574
         ]
        },
        {
         "name": "plotly.py",
         "type": "bar",
         "uid": "96a9ab76-b094-11e8-83b7-645aede86e5b",
         "visible": true,
         "x": [
          "PNG",
          "SVG"
         ],
         "y": [
          0.2086596307142862,
          0.15284796979999996
         ]
        },
        {
         "name": "bokeh",
         "type": "bar",
         "uid": "96ab2a00-b094-11e8-83b7-645aede86e5b",
         "x": [
          "PNG",
          "SVG"
         ],
         "y": [
          2.0353307101428575,
          1.4836387994285718
         ]
        },
        {
         "name": "altair",
         "type": "bar",
         "uid": "96ac8cec-b094-11e8-83b7-645aede86e5b",
         "x": [
          "PNG",
          "SVG"
         ],
         "y": [
          1.8482281321428562,
          1.8227169311428557
         ]
        }
       ],
       "_js2py_relayout": {},
       "_js2py_update": {},
       "_last_layout_edit_id": 11,
       "_last_trace_edit_id": 8,
       "_layout": {
        "title": "Image export benchmarks",
        "yaxis": {
         "title": "Export time (s)"
        }
       },
       "_py2js_animate": {},
       "_py2js_deleteTraces": {},
       "_py2js_moveTraces": {},
       "_py2js_removeLayoutProps": {},
       "_py2js_removeTraceProps": {},
       "_py2js_update": {},
       "_view_count": 0
      }
     },
     "d2373410bb004891ba3986d152d928e2": {
      "model_module": "plotlywidget",
      "model_module_version": "^0.3.0-rc.1",
      "model_name": "FigureModel",
      "state": {
       "_data": [
        {
         "name": "matplotlib",
         "type": "box",
         "uid": "3e2d9630-b092-11e8-aaea-645aede86e5b",
         "y": [
          0.22031028600000013,
          0.21954960800000034,
          0.21621445399999972,
          0.21373847300000026,
          0.21972700400000011,
          0.21146359400000003,
          0.2129440090000001
         ]
        },
        {
         "name": "plotly.py",
         "type": "box",
         "uid": "3e2e6c54-b092-11e8-aaea-645aede86e5b",
         "y": [
          0.22770879499999985,
          0.24152978399999903,
          0.2507059209999998,
          0.1929099609999998,
          0.19978105899999932,
          0.20927618199999998,
          0.1910026209999991
         ]
        },
        {
         "name": "bokeh",
         "type": "box",
         "uid": "3e2f3cd8-b092-11e8-aaea-645aede86e5b",
         "y": [
          1.7666895690000004,
          1.7538117070000006,
          1.7445236850000043,
          1.7426451040000046,
          1.7457715910000005,
          1.7462679239999943,
          1.7327739560000026
         ]
        },
        {
         "name": "altair",
         "type": "box",
         "uid": "3e302e54-b092-11e8-aaea-645aede86e5b",
         "y": [
          1.8455045599999949,
          1.8162607280000032,
          1.8850727940000027,
          1.8254914210000024,
          1.830539238,
          1.842144992999998,
          1.8390370219999994
         ]
        }
       ],
       "_js2py_restyle": {},
       "_js2py_update": {},
       "_last_layout_edit_id": 11,
       "_last_trace_edit_id": 4,
       "_layout": {
        "dragmode": "pan",
        "xaxis": {
         "range": [
          -0.5521512385919165,
          3.4478487614080833
         ]
        },
        "yaxis": {
         "range": [
          -0.01465610370576266,
          1.8676440885164638
         ]
        }
       },
       "_py2js_animate": {},
       "_py2js_deleteTraces": {},
       "_py2js_moveTraces": {},
       "_py2js_removeTraceProps": {},
       "_py2js_restyle": {},
       "_py2js_update": {},
       "_view_count": 0
      }
     },
     "ef3dd6443c0945f590bddfc99813d4cd": {
      "model_module": "plotlywidget",
      "model_module_version": "^0.3.0-rc.1",
      "model_name": "FigureModel",
      "state": {
       "_data": [
        {
         "name": "matplotlib",
         "type": "bar",
         "uid": "b43b427c-b093-11e8-aaea-645aede86e5b",
         "x": [
          "PNG",
          "SVG"
         ],
         "y": [
          0.2162782040000001,
          0.3185377107142857
         ]
        },
        {
         "name": "plotly.py",
         "type": "bar",
         "uid": "b43c982a-b093-11e8-aaea-645aede86e5b",
         "x": [
          "PNG",
          "SVG"
         ],
         "y": [
          0.21613061757142812,
          0.1698423163428571
         ]
        },
        {
         "name": "bokeh",
         "type": "bar",
         "uid": "b43e03d6-b093-11e8-aaea-645aede86e5b",
         "x": [
          "PNG",
          "SVG"
         ],
         "y": [
          1.747497648000001,
          1.4923801688571439
         ]
        },
        {
         "name": "altair",
         "type": "bar",
         "uid": "b43f6a78-b093-11e8-aaea-645aede86e5b",
         "x": [
          "PNG",
          "SVG"
         ],
         "y": [
          1.8405786794285715,
          1.8248793431428538
         ]
        }
       ],
       "_js2py_pointsCallback": {},
       "_js2py_relayout": {},
       "_js2py_restyle": {},
       "_js2py_update": {},
       "_last_layout_edit_id": 7,
       "_last_trace_edit_id": 4,
       "_layout": {
        "title": "Image export benchmarks",
        "yaxis": {
         "title": "Export time (s)"
        }
       },
       "_py2js_animate": {},
       "_py2js_deleteTraces": {},
       "_py2js_moveTraces": {},
       "_py2js_removeLayoutProps": {},
       "_py2js_removeTraceProps": {},
       "_py2js_restyle": {},
       "_py2js_update": {},
       "_view_count": 0
      }
     }
    },
    "version_major": 2,
    "version_minor": 0
   }
  }
 },
 "nbformat": 4,
 "nbformat_minor": 2
}
